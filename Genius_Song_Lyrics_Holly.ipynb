{
  "nbformat": 4,
  "nbformat_minor": 0,
  "metadata": {
    "colab": {
      "name": "Genius Song Lyrics - Holly.ipynb",
      "provenance": [],
      "collapsed_sections": []
    },
    "kernelspec": {
      "name": "python3",
      "display_name": "Python 3"
    }
  },
  "cells": [
    {
      "cell_type": "code",
      "metadata": {
        "id": "pmz6f9W1rDpr",
        "colab_type": "code",
        "outputId": "2b7f3124-d9c8-4771-8907-ad9a65d03819",
        "colab": {
          "base_uri": "https://localhost:8080/",
          "height": 176
        }
      },
      "source": [
        "pip install lyricsgenius"
      ],
      "execution_count": 0,
      "outputs": [
        {
          "output_type": "stream",
          "text": [
            "Requirement already satisfied: lyricsgenius in /Library/Frameworks/Python.framework/Versions/3.7/lib/python3.7/site-packages (1.7.0)\r\n",
            "Requirement already satisfied: beautifulsoup4==4.6.0 in /Library/Frameworks/Python.framework/Versions/3.7/lib/python3.7/site-packages (from lyricsgenius) (4.6.0)\r\n",
            "Requirement already satisfied: requests>=2.20.0 in /Library/Frameworks/Python.framework/Versions/3.7/lib/python3.7/site-packages (from lyricsgenius) (2.22.0)\r\n",
            "Requirement already satisfied: urllib3!=1.25.0,!=1.25.1,<1.26,>=1.21.1 in /Library/Frameworks/Python.framework/Versions/3.7/lib/python3.7/site-packages (from requests>=2.20.0->lyricsgenius) (1.25.6)\r\n",
            "Requirement already satisfied: idna<2.9,>=2.5 in /Library/Frameworks/Python.framework/Versions/3.7/lib/python3.7/site-packages (from requests>=2.20.0->lyricsgenius) (2.8)\r\n",
            "Requirement already satisfied: certifi>=2017.4.17 in /Library/Frameworks/Python.framework/Versions/3.7/lib/python3.7/site-packages (from requests>=2.20.0->lyricsgenius) (2019.3.9)\r\n",
            "Requirement already satisfied: chardet<3.1.0,>=3.0.2 in /Library/Frameworks/Python.framework/Versions/3.7/lib/python3.7/site-packages (from requests>=2.20.0->lyricsgenius) (3.0.4)\r\n",
            "Note: you may need to restart the kernel to use updated packages.\n"
          ],
          "name": "stdout"
        }
      ]
    },
    {
      "cell_type": "code",
      "metadata": {
        "id": "KdqejT9zqUm7",
        "colab_type": "code",
        "colab": {}
      },
      "source": [
        "#Assign your Genius.com credentials and select your artist\n",
        "import lyricsgenius as genius\n",
        "import pandas as pd\n",
        "import numpy as np\n",
        "import json\n",
        "import glob\n",
        "import os\n",
        "geniusCreds = \"<insert key here>\"\n",
        "artist_name = \"Holly Williams\""
      ],
      "execution_count": 0,
      "outputs": []
    },
    {
      "cell_type": "code",
      "metadata": {
        "id": "oGMTH8Zarge4",
        "colab_type": "code",
        "outputId": "119c48c6-8bde-4cdc-c899-ad6b023ff6f4",
        "colab": {
          "base_uri": "https://localhost:8080/",
          "height": 797
        }
      },
      "source": [
        "#Connect your credentials and chosen artist to the genius object\n",
        "api = genius.Genius(geniusCreds)\n",
        "artist = api.search_artist(artist_name,max_songs=40)"
      ],
      "execution_count": 0,
      "outputs": [
        {
          "output_type": "stream",
          "text": [
            "Searching for songs by Holly Williams...\n",
            "\n",
            "Song 1: \"Waiting on June\"\n",
            "Song 2: \"Settle Down\"\n",
            "Song 3: \"Blue Is My Heart\"\n",
            "Song 4: \"The Highway\"\n",
            "Song 5: \"Drinkin’\"\n",
            "Song 6: \"Happy\"\n",
            "Song 7: \"Without You\"\n",
            "Song 8: \"Three Days in Bed\"\n",
            "Song 9: \"Let Her Go\"\n",
            "Song 10: \"A Good Man\"\n",
            "Song 11: \"Railroads\"\n",
            "Song 12: \"A Love I Think Will Last (feat. Chris Janson)\"\n",
            "Song 13: \"Alone\"\n",
            "Song 14: \"A Love I Think Will Last\"\n",
            "Song 15: \"Giving Up\"\n",
            "Song 16: \"I Hold On\"\n",
            "Song 17: \"He’s Making a Fool Out of You\"\n",
            "Song 18: \"’Til It Runs Dry\"\n",
            "Song 19: \"Gone Away from Me\"\n",
            "Song 20: \"Everybody’s Waiting for a Change\"\n",
            "Song 21: \"Mama\"\n",
            "Song 22: \"Sometimes\"\n",
            "Song 23: \"Let You Go\"\n",
            "Song 24: \"Keep the Change\"\n",
            "Song 25: \"How Can You Refuse Him Now\"\n",
            "Song 26: \"Without Jesus Here With Me\"\n",
            "Song 27: \"I’ll Only Break Your Heart\"\n",
            "Song 28: \"Would You Still Have Fallen\"\n",
            "Song 29: \"Between Your Lines\"\n",
            "Song 30: \"Take Me Down\"\n",
            "Song 31: \"Birds\"\n",
            "Song 32: \"Cheap Parades\"\n",
            "Song 33: \"Memory of Me\"\n",
            "Song 34: \"Gone With the Morning Sun\"\n",
            "Song 35: \"Nothing More\"\n",
            "Song 36: \"Rodeo Road\"\n",
            "Song 37: \"Man in the Making\"\n",
            "Song 38: \"All as It Should Be\"\n",
            "Song 39: \"Velvet Sounds\"\n",
            "Song 40: \"No Surrender\"\n",
            "\n",
            "Reached user-specified song limit (40).\n",
            "Done. Found 40 songs.\n"
          ],
          "name": "stdout"
        }
      ]
    },
    {
      "cell_type": "code",
      "metadata": {
        "id": "p6N91ADwuCGB",
        "colab_type": "code",
        "outputId": "2cf74ac4-6d55-4ab9-b2ce-364208e237e5",
        "colab": {
          "base_uri": "https://localhost:8080/",
          "height": 35
        }
      },
      "source": [
        "#import os\n",
        "os.chdir(\"/Users/johnfields\")\n",
        "os.getcwd()"
      ],
      "execution_count": 0,
      "outputs": [
        {
          "output_type": "execute_result",
          "data": {
            "text/plain": [
              "'/Users/johnfields'"
            ]
          },
          "metadata": {
            "tags": []
          },
          "execution_count": 21
        }
      ]
    },
    {
      "cell_type": "code",
      "metadata": {
        "id": "y7ByPNncuJXT",
        "colab_type": "code",
        "outputId": "75806dfc-3f45-4fa2-b217-ad95d0dd5d84",
        "colab": {
          "base_uri": "https://localhost:8080/",
          "height": 731
        }
      },
      "source": [
        "artist.save_lyrics()"
      ],
      "execution_count": 0,
      "outputs": [
        {
          "output_type": "stream",
          "text": [
            "Wrote Waiting on June to lyrics_hollywilliams_waitingonjune.json.\n",
            "Wrote Settle Down to lyrics_hollywilliams_settledown.json.\n",
            "Wrote Blue Is My Heart to lyrics_hollywilliams_blueismyheart.json.\n",
            "Wrote The Highway to lyrics_hollywilliams_thehighway.json.\n",
            "Wrote Drinkin’ to lyrics_hollywilliams_drinkin.json.\n",
            "Wrote Happy to lyrics_hollywilliams_happy.json.\n",
            "Wrote Without You to lyrics_hollywilliams_withoutyou.json.\n",
            "Wrote Three Days in Bed to lyrics_hollywilliams_threedaysinbed.json.\n",
            "Wrote Let Her Go to lyrics_hollywilliams_lethergo.json.\n",
            "Wrote A Good Man to lyrics_hollywilliams_agoodman.json.\n",
            "Wrote Railroads to lyrics_hollywilliams_railroads.json.\n",
            "Wrote A Love I Think Will Last (feat. Chris Janson) to lyrics_hollywilliams_aloveithinkwilllastfeat.chrisjanson.json.\n",
            "Wrote Alone to lyrics_hollywilliams_alone.json.\n",
            "Wrote A Love I Think Will Last to lyrics_hollywilliams_aloveithinkwilllast.json.\n",
            "Wrote Giving Up to lyrics_hollywilliams_givingup.json.\n",
            "Wrote I Hold On to lyrics_hollywilliams_iholdon.json.\n",
            "Wrote He’s Making a Fool Out of You to lyrics_hollywilliams_hesmakingafooloutofyou.json.\n",
            "Wrote ’Til It Runs Dry to lyrics_hollywilliams_tilitrunsdry.json.\n",
            "Wrote Gone Away from Me to lyrics_hollywilliams_goneawayfromme.json.\n",
            "Wrote Everybody’s Waiting for a Change to lyrics_hollywilliams_everybodyswaitingforachange.json.\n",
            "Wrote Mama to lyrics_hollywilliams_mama.json.\n",
            "Wrote Sometimes to lyrics_hollywilliams_sometimes.json.\n",
            "Wrote Let You Go to lyrics_hollywilliams_letyougo.json.\n",
            "Wrote Keep the Change to lyrics_hollywilliams_keepthechange.json.\n",
            "Wrote How Can You Refuse Him Now to lyrics_hollywilliams_howcanyourefusehimnow.json.\n",
            "Wrote Without Jesus Here With Me to lyrics_hollywilliams_withoutjesusherewithme.json.\n",
            "Wrote I’ll Only Break Your Heart to lyrics_hollywilliams_illonlybreakyourheart.json.\n",
            "Wrote Would You Still Have Fallen to lyrics_hollywilliams_wouldyoustillhavefallen.json.\n",
            "Wrote Between Your Lines to lyrics_hollywilliams_betweenyourlines.json.\n",
            "Wrote Take Me Down to lyrics_hollywilliams_takemedown.json.\n",
            "Wrote Birds to lyrics_hollywilliams_birds.json.\n",
            "Wrote Cheap Parades to lyrics_hollywilliams_cheapparades.json.\n",
            "Wrote Memory of Me to lyrics_hollywilliams_memoryofme.json.\n",
            "Wrote Gone With the Morning Sun to lyrics_hollywilliams_gonewiththemorningsun.json.\n",
            "Wrote Nothing More to lyrics_hollywilliams_nothingmore.json.\n",
            "Wrote Rodeo Road to lyrics_hollywilliams_rodeoroad.json.\n",
            "Wrote Man in the Making to lyrics_hollywilliams_maninthemaking.json.\n",
            "Wrote All as It Should Be to lyrics_hollywilliams_allasitshouldbe.json.\n",
            "Wrote Velvet Sounds to lyrics_hollywilliams_velvetsounds.json.\n",
            "Wrote No Surrender to lyrics_hollywilliams_nosurrender.json.\n"
          ],
          "name": "stdout"
        }
      ]
    },
    {
      "cell_type": "code",
      "metadata": {
        "id": "CYIDXrApAz2f",
        "colab_type": "code",
        "outputId": "5ee0a7e4-d218-4d2a-8291-b96b851eff54",
        "colab": {
          "base_uri": "https://localhost:8080/",
          "height": 731
        }
      },
      "source": [
        "EVENT = 'HollyLyrics/'\n",
        "\n",
        "MATCH_LIST = os.listdir(EVENT)\n",
        "\n",
        "dallas = []\n",
        "content = []\n",
        "#info = {}\n",
        "\n",
        "for x in MATCH_LIST:\n",
        "        with open('./{}{}'.format(EVENT, x)) as i:\n",
        "            dallas =  json.load(i)\n",
        "        content.append(dallas) \n",
        "        print(dallas)"
      ],
      "execution_count": 0,
      "outputs": [
        {
          "output_type": "stream",
          "text": [
            "{'songs': [{'title': 'Cheap Parades', 'album': 'The Ones We Never Knew', 'year': None, 'lyrics': \"(Holly Williams)\\n\\nA memory falls down from where it was\\nWith this confession I beg for more\\nI never mean to and it's been awhile\\nSince I found meaning in these desires\\nI know it's wrong to hurt you like this\\nI know it's wrong to lie like a kid\\n\\nFire and blankets, a cheap parade\\nOf guilty pleasures, I take the stage\\nBut nothing feels good if it ain't true\\nIt's like trying to cry for someone you never knew\\nI know it's wrong to hurt you like this\\nI know it's wrong to lie like kid\\n\\nI love you with more tears than any pain could ever bring me\\nI fight it most everyday\\nI hurt you with more truth than your own eyes could ever teach you\\nI'm tired of living this way, when I know it's wrong\\n\\nI never told you, you just kinda knew\\nBy the way I'm not when I'm with you\\nYou never take me like you used to\\nAnd nothing heals the scars of all the ones we never knew\\n\\nI love you with more tears than any pain could ever bring me\\nI fight it most everyday\\nI hurt you with more truth than your own eyes could ever teach you\\nI'm tired of living this way, when I know it's wrong\\n\\nI know it's wrong to hurt you again\", 'image': 'https://assets.genius.com/images/default_cover_image.png?1570807223'}], 'artist': 'Holly Williams'}\n",
            "{'songs': [{'title': '’Til It Runs Dry', 'album': 'The Highway', 'year': None, 'lyrics': 'Shoot the moon, hit the stars\\nSend my love running down the boulevard\\nHang my heart up on that line\\nLet it beat til it runs dry til it runs dry\\nHot as hell, cold as ice\\nThis Ferris Wheel that we call life\\nWith a past I could erase, but I’ll serve it up on a silver plate\\nOn a silver plate\\nHang my heart up on that line\\nLet it beat til it runs dry\\nIn this world we all fall down\\nLike a pack of wolves in a dusty town\\nAnd we draw fast when the killings done\\nAlways too late, better on the run\\nBetter on the run\\nHang my heart up on that line, let it beat til it runs dry\\nHang my heart up on that line, let it beat til it runs dry\\nTil it runs dry', 'image': 'https://images.genius.com/a7bf9bac01110c83cee729ca116b4588.844x751x1.jpg'}], 'artist': 'Holly Williams'}\n",
            "{'songs': [{'title': 'I’ll Only Break Your Heart', 'album': 'The Ones We Never Knew', 'year': None, 'lyrics': \"(Holly Williams)\\n\\nI used to call you mystery\\nI wanted to play all the parts\\nBeware the one who calls for me\\nI'll only break your heart\\n\\nThe beginning's always beautiful\\nLike every brand new start\\nBut in the end, when there's nothing left of you\\nI'll only break your heart\\n\\nI want you with a harsh desire\\nI crave you in the night\\nBut I'm here to warn you\\nYou're not safe with me\\nI'll only break your heart\\n\\nIt scares me like my deepest confession\\nIt haunts me like their pain\\nWhile everyone's looking for someone to love\\nI'll only break your heart\\n\\nI fade like every summer leaf\\nI drift like the mind of a child\\nI never was meant to stay in one place\\nI only broke their hearts\\n\\nI used to call you mystery\\nI wanted to play all the parts\\nBeware the one who calls for me\", 'image': 'https://assets.genius.com/images/default_cover_image.png?1570807223'}], 'artist': 'Holly Williams'}\n",
            "{'songs': [{'title': 'Let You Go', 'album': 'The Highway', 'year': None, 'lyrics': \"Let You Go ~ Holly Williams / Chris Coleman\\n\\nDays go by and I'm trying to let you go\\nNight bears down and I'm trying to let you go\\nThese seasons change and the ground will turn to snow\\nNew blood old heart still trying to let you go\\nTime creeps by while I'm trying to let you go\\nThis wind blows wild and I'm trying to let you go\\nRivers run and the Mississippi flows\\nMy hearts on fire still trying to let you go\\nYears I've spent still trying to let you go\\nPlaces I've been just trying to let you go\\nThem bells will ring and the tears will start to flow\\nThey'll bury me still trying to let you go\\n\\nChris Coleman – acoustic guitar, drum, mandolin, background vocal\\nDan Dugmore - lap steel\", 'image': 'https://images.genius.com/a7bf9bac01110c83cee729ca116b4588.844x751x1.jpg'}], 'artist': 'Holly Williams'}\n",
            "{'songs': [{'title': 'Alone', 'album': 'Here With Me', 'year': None, 'lyrics': \"Written by Holly Williams\\n\\nMaybe I give up too easy, maybe I don't fight enough\\nMaybe my heart is afraid of falling in love\\nMaybe I'm too scared to find out what it feels like to hurt\\nMaybe I worry I'll land with my face in the dirt\\n\\nIf I don't try I won't know\\nThese walls that surround me they're strong and they're tall\\nI could slip and fall with noone to catch me at all\\nAnd end up alone\\n\\nAm honest heart tried to love me\\nBut I had nothing to give\\nI just wanted to see how much I could get\\nWe're all guilty of wanting the very thing we can't have\\nThe more that we take the sooner that we crash\\n\\nBut if I don't try I won't know\\nThese walls that surround me they're strong and they're tall\\nI could slip and fall with noone to catch me at all\\nAnd end up alone\\n\\nSomething's changing inside me, something here wants to break free\\nI thought love was a blind spot, I believe\\nI don't want to end up alone\\n\\nMaybe I give up too easy\\nMaybe I don't fight enough\\nMaybe my heart is afraid of falling in love\", 'image': 'https://images.genius.com/d104eef3a56c46cc30cdfaacd634a9b8.1000x1000x1.jpg'}], 'artist': 'Holly Williams'}\n",
            "{'songs': [{'title': 'A Love I Think Will Last', 'album': None, 'year': None, 'lyrics': \"Holly Williams and Chris Janson\\n\\nThis skinny country boy he caught my eye\\nI never could have guessed what I would find\\nHe laughs about the boys I used to kiss\\nAnd I love him, yes I love him\\n\\nThat lanky city girl I could have died\\nI wanted her real bad but I was shy\\nThen she got me drunk and I gave up\\nAnd I love her, yes I love her\\n\\nI finally found a love I think could last\\nHe don't give a damn about my past\\nI found a boy who treats me like a queen\\nI don't wana wake up from this dream\\nI love you, yes I love you\\n\\nHe lives the way I look when I wake up\\nEven if my hair ain't found a brush\\nShe hates it when I'm talking in my sleep\\nEven though I was asking her to marry me\\n\\nI finally found a love I think could last\\nHe don't give a damn about my past\\nI've got a boy who treats me like a queen\\nI don't want to wake up from this dream\\nI love you, yes I love you\\n\\nRepeat\", 'image': 'https://assets.genius.com/images/default_cover_image.png?1570807223'}], 'artist': 'Holly Williams'}\n",
            "{'songs': [{'title': 'Man in the Making', 'album': 'The Ones We Never Knew', 'year': None, 'lyrics': \"(Holly Williams)\\n\\nHe's a man in the making, afraid like a child\\nWho clings to all his fear\\nAnd I am his safety, the one with the love\\nTrying to see things clear, and block his shadows\\n\\nWhat do you want from me\\nI have been everything that I could be\\nYou're just a man in the making\\nWhat do you need from me\\nAfter everything I've given you for free\\nYou're just a man in the making\\nHey, don't lose your patience\\n\\nMy joy in the morning, my pain in the night\\nScattered he defines\\nAnd I'd like to help him discover himself\\nBut after all that I've done, only he is qualified\\n\\nWhat do you want from me\\nI have been everything that I could be\\nYou're just a man in the making\\nWhat do you need from me\\nAfter everything I've given you for free\\nYou're just a man in the making\\nDon't lose your patience\\n\\nYou wrestle with faith, you wrestle with your needs\\nYou claim that I don't understand\\nBut believe me I see it deeper than you\\nAttempting it all too fast, prepare for a crash\\n\\nWhat do you want from me?\\nI have been everything that I could be\", 'image': 'https://assets.genius.com/images/default_cover_image.png?1570807223'}], 'artist': 'Holly Williams'}\n",
            "{'songs': [{'title': 'Would You Still Have Fallen', 'album': 'The Ones We Never Knew', 'year': None, 'lyrics': \"(Holly Williams)\\n\\nIf I could have used my hands to pick you up and make you stand\\nWould you still have fallen\\n\\nIf I could have told you true, would you still be with us in bloom\\nWould you have believed me\\nOr would you still have fallen\\n\\nDays go by like broken years, with nothing felt, not even tears\\nEverything's a lie\\n\\nIf I could have made you see, If I had tried everything I knew\\nJust a little harder...Would you still have fallen\\n\\nWhat's the use in all these words\\nWhere's the heart that I used to love\\nI'm sorry I'm too late\\nRational thinking come undone\\nBut it's not the man, it's the drug\\nEverything's a lie\\nWhere have you fallen??\\n\\nWell I loved you more than you'll ever know\\nAnd I trusted you to never hurt yourself, or anyone else\\nNow were the ones dying\\nYeah were the ones dying\\nYou're not even here\\nBut we're the ones dying\\n\\nSo what's the use in all these words\\nAnd where's the heart that I used to love\\nI'm sorry I'm too late\\nRational thinking come undone\\nBut it's not the man, it's the drug\\nEverything's a lie, Everything's a lie\\nIt's all a lie, It's all a lie\\n\\nIf I could have made you see, If I had tried everything I knew\", 'image': 'https://assets.genius.com/images/default_cover_image.png?1570807223'}], 'artist': 'Holly Williams'}\n",
            "{'songs': [{'title': 'Rodeo Road', 'album': 'Flicka (Motion Picture Soundtrack)', 'year': '2006-10-07', 'lyrics': \"When I reach the end of Rodeo Road\\nDon't shed no tears for me\\nWhen I reach the end of Rodeo Road\\nSet my pony free\\nFrom a stick horse to a quarter horse\\nThe saddle has been my home\\nI’ve always walked in leather boots\\nI've always rode alone\\nWhen I reach the end of Rodeo Road\\nDon't shed no tears for me\\nAnd when I reach the end of Rodeo Road\\nSet my pony free\\nWhen I reach the end of Rodeo Road\\nSet my pony free\", 'image': 'https://images.genius.com/f1a993c0968a8d8ec4e259834dca169e.285x285x1.gif'}], 'artist': 'Holly Williams'}\n",
            "{'songs': [{'title': 'Sometimes', 'album': 'The Ones We Never Knew', 'year': None, 'lyrics': \"(Holly Williams)\\n\\nI wish I were a little girl, in this lie\\nNo one could resist my little girl smile\\nI wish I were a baby, in this love\\nI'd be cradled in your arms day and night\\n\\nI wish I were an old man, a scholar\\nWith the wisdom of a 1,000 men before me\\nWish I were a funny dream that haunted\\nThe people I love every time they were down\\n\\nI wish I was a fine wine\\nI wish I were a good drug\\nHey and if I were Jesus , maybe I could heal all of us\\nJust like a good lover, which one do you prefer?\\nIn a world full of vices, I wish I were a little bird\\nSometimes\\n\\nI wish I were the sunset in Verona\\nI'd make a beautiful picture every time I went to bed\\nOr maybe more the sunrise waking up to a sad man\\nAnd hey if I were the blue skies, I'd never rain on him\\n\\nI wish I was a fine wine\\nI wish I were a good drug\\nYeah and if I were Jesus, maybe I could heal all of us\\nJust like a good lover, which one do you prefer?\\nIn a world full of vices, I wish I were a little bird\\nSometimes\\n\\nI wish I were an angel in 52'\\nIn a blue Cadillac on the eve of the new year\\nAnd there I would have saved him, the man who sang the blues\\nBut maybe he is listening right now\", 'image': 'https://assets.genius.com/images/default_cover_image.png?1570807223'}], 'artist': 'Holly Williams'}\n",
            "{'songs': [{'title': 'Without You', 'album': 'The Highway', 'year': None, 'lyrics': \"Without you ~ Holly Williams / Lori McKenna\\n\\nI'm packing up to sing my songs all these towns blend into one\\nI'm somewhere in Madrid\\nI got here on crowded trains with old guitars and a famous name\\nRunning like a kid, I'm running like a kid\\nI carry 'round this old backpack full of CDs and Kerouac\\nLiving on the road\\nI left my heart on the coast of Wales with the boy I met at the last hotel\\nBut I had to let him go\\nThat's when I was searching, I'm not searching anymore\\nThat's when I was learning about the things worth living for\\nBefore I was open, before I knew I couldn't live a day\\nWithout you\\nI moved out west where the starlets play on the boulevards of west L.A\\nAnd I tried to make a name\\nBut it never felt like home to me so I drove three days back to Tennessee\\nIn a slow and steady rain\\nThat's when I was searching, I'm not searching anymore\\nThat's when I was learning about the things worth living for\\nBefore I was open, before I knew I couldn't live a day\\nWithout you\\nWithout you in the morning, to love me another day\\nWithout you in the evening, when the colors start to fade\\nWithout you on the plane ride to hold my hand and pray\\nWithout you standing here when you could've walked away\\nNow I'm not searching, I'm not searching anymore\\nBut I'm, I'm still learning about the things worth living for\\nI am here, I am open, now I know I couldn't live a day\\nWithout you\\n\\nHolly Williams – piano, vocal\\nJakob Dylan – background vocal\\nSam Ashworth - acoustic guitar, percussion\\nJerry McPherson - electric guitar\\nDoug Lancia - electric guitar\\nMatt Slocum - cello\\nMark Hill - bass\\nCharlie Peacock - keyboards, wurlitzer\", 'image': 'https://images.genius.com/a7bf9bac01110c83cee729ca116b4588.844x751x1.jpg'}], 'artist': 'Holly Williams'}\n",
            "{'songs': [{'title': 'Settle Down', 'album': 'Southern Family', 'year': '2016-03-18', 'lyrics': \"Why are you drinkin' like the night is young?\\nYeah, why are you drinkin' like the night is young?\\nKids are in the bed and the day is long done\\nSo, why are you drinkin' like the night is young?\\n\\nWhy are you screamin' like I don't have ears?\\nYeah, why are you screamin' like I don't have ears?\\nBaby I can hear you loud and clear\\nSo why are you screamin' like I don't have ears?\\n\\nYeah, why are you cheatin' on a woman like this?\\nYeah, why are you cheatin' on a woman like this?\\nI raise your babies and I kiss your ips\\nSo why are you cheatin' on a woman like this?\\n\\n[Instrumental bridge]\\n\\nWell, why are you leavin' like we don't exist?\\nYeah, why are you leavin' like we don't exist?\\nPackin' your bags and I clench my fist\\nSo why are you leavin' like we don't exist?\\n\\nNow I'm here drinkin' like the night is young\\nHey, I'm here drinkin' like the night is young\\nMomma took the kids and the money's all gone\\nSo why am I drinkin' like the night is young?\\n\\nOh, don't die drinkin' like the night is young\", 'image': 'https://images.genius.com/3331f18700f340e118e89c399ba15ad2.512x512x1.png'}], 'artist': 'Holly Williams'}\n",
            "{'songs': [{'title': 'Without Jesus Here With Me', 'album': 'Here With Me', 'year': None, 'lyrics': \"Holly Williams\\n\\nI don't talk to him that much\\nI know I never pray enough\\nOh but I don't know where I would be\\nWithout Jesus here with me\\n\\nI don't know why I'm still here\\nOr why I lived that Wednesday morn\\nThey were raising hands and screaming holy\\nJesus was right there with me\\n\\nI gladly would have died that day to save the child who went away\\nBut you can't trade a life like that, I guess it's part of the master plan\\nMy sister fought, my daddy cried, my mama begged him for our lives\\nAnd I don't know where I would be\\nWithout Jesus here with me\\n\\nThe preacher tried to make me learn\\nI memorized his favorite verse\\nBut Hank's words they taught me everything\\nThank God I saw the light for me\\n\\nI gladly would have died that day to save the child who went away\\nBut you can't trade a life like that, I guess it's part of the master plan\\nMy sister fought my daddy cired my mama begged him for our lives\\nAnd I don't know where I would be\\nWithout Jesus here with me\\n\\nBefore I knew his mercy, before I know his grace\\nI was searching for the answers in a dark and hollow place\\nBefore I felt his presence, before I saw his face I was lost\\nOh I was lost\\n\\nI still don't talk to him that much\\nI know I never pray enough\\nOh but I don't where I would be without Jesus here with me\", 'image': 'https://images.genius.com/d104eef3a56c46cc30cdfaacd634a9b8.1000x1000x1.jpg'}], 'artist': 'Holly Williams'}\n",
            "{'songs': [{'title': 'How Can You Refuse Him Now', 'album': None, 'year': None, 'lyrics': 'How can you refuse Him now, how can you refuse Him now?\\nHow can you turn away from His side?\\nWith tears in His eyes, on the cross there He died\\nHow can you refuse Jesus now?\\n\\nThere\\'s a story old that has often been told\\nOf how our Savior died, as they nailed His hands\\nHe cried, \"They don\\'t understand\"\\nAs the blood flowed from His side\\n\\nHow can you refuse Him now, how can you refuse Him now?\\nHow can you turn away from His side?\\nWith tears in His eyes, on the cross there He died\\nHow can you refuse Jesus now?\\n\\nAs He hung there on the tree, He prayed for you and me\\nThere was no one His pain to ease\\nBefore He died, He faintly cried\\n\"Father, forgive them, please\"\\n\\nHow can you refuse Him now, how can you refuse Him now?\\nHow can you turn away from His side?\\nWith tears in His eyes, on the cross there He died\\nHow can you refuse Jesus now?', 'image': 'https://assets.genius.com/images/default_cover_image.png?1570807223'}], 'artist': 'Holly Williams'}\n",
            "{'songs': [{'title': 'Gone With the Morning Sun', 'album': 'Here With Me', 'year': None, 'lyrics': \"Written by Sarah Buxton, Tom Bukovac and Greg Vorobiov\\n\\nI tell myself lies sometimes\\nYeah, I say he and I are gonna be alright\\nBut he don't know me\\nHe thinks I'm happy here\\nAnd that this big 'ol dark cloud gonna disappear\\nIf he just holds me\\n\\nHe feels the distance grow between us\\nI just can't wait to slip away\\n\\nChorus:\\nEvery night I know where I can find you\\nI just close my eyes and I'm right there beside you\\nEvery time I reach out and touch you\\nYou're gone with the morning\\nGone with the morning sun\\n\\nI wake up from all these dreams\\nI swear they seem so real to me\\nAnd it just kills me\\n\\nTo realize\\nThis life that I'm living\\nIs nothing like the one I could've had\\nI just miss ya so bad\\n\\nRepeat Chorus\\n\\nYou're the only one\\n\\nRepeat Chorus\\n\\nYou're the only one\", 'image': 'https://images.genius.com/d104eef3a56c46cc30cdfaacd634a9b8.1000x1000x1.jpg'}], 'artist': 'Holly Williams'}\n",
            "{'songs': [{'title': 'Railroads', 'album': 'The Highway', 'year': None, 'lyrics': \"Railroads ~ Holly Williams\\n\\nWell I used to pray to Jesus but I done backslid\\nCarrying the burdens of a preacher’s kid\\nDrinking at the pulpit and healing them lame\\nDaddy was a-riding on the old death train\\nI had me a woman but she took my kid\\nWhen I gambled all our money on a moonshine still\\nNow I drink my whiskey from a beat up flask\\nThis train done departed and it's going fast\\nOh the wheels they spin, they're faster than a speeding aeroplane on a sunny day\\nAnd I can't break free cause I can't believe it's me\\nSo I'll take your bets, I'll try me walking down a narrow line with a life like mine\\nYou'll never see any boy as brave as me\\nI hope that this old railroad delivers me\\nI’m still the talk of this town I’m still the roll of their dice\\nI found me a lover in a whorehouse wife\\nShe never knew her mama or the money I've known\\nDon't ever make a judgment if you ain't been shown\\nYou never walked in my shoes you never understood\\nWhy I was escaping anyway that I could\\nNobody knows I’m gonna ride these rails 'til the dark comes over this prison cell\\nOh the wheels they spin, they're faster than a speeding aeroplane on a sunny day\\nAnd I can't break free cause I can't believe it's me\\nSo I'll take your bets, I'll try me walking down a narrow line with a life like mine\\nYou'll never see any boy as brave as me\\nI hope that this old railroad delivers me\\nWell the truth came out and the church burned down\\nDaddy's heart stopped on the edge of this town\\nI'm out here searching for that boy of my own\\nDon't ever make a judgment if you ain't been shown\\nOh the wheels they spin, they're faster than a speeding aeroplane on a sunny day\\nAnd I can't break free cause I can't believe it's me\\nSo I'll take your bets, I'll try me walking down a narrow line with a life like mine\\nYou'll never see any boy as brave as me\\nI hope that this old railroad delivers me\\n\\nChris Coleman – electric guitar, acoustic guitar, drums, background vocal\\nSam Ashworth - acoustic guitar\\nSteve Brewster – drums\\nGlenn Worff - bass\\nDan Dugmore – pedal steel\\nCharlie Peacock - piano\", 'image': 'https://images.genius.com/6072a6f8832bb2d71b042392d2124058.612x612x1.jpg'}], 'artist': 'Holly Williams'}\n",
            "{'songs': [{'title': 'Let Her Go', 'album': 'Here With Me', 'year': None, 'lyrics': \"Written by Holly Williams and Marcus Hummon\\n\\nThese things are always difficult between a father and a daughter\\nIt's always very delicate it makes it so much harder\\nWhen you look into her eyes you'll see you've always been her world\\nEven though she's growing now she's still your baby girl\\nI know it's hard\\n\\nTo ler her go, ler her go\\nLet her fall let her fly\\nShe wants to touch the world with her own hands\\n\\nLet her go, ler her go\\nLet her fall, let her fly\\nShe wants to touch the world with her own hands\\n\\nLet her go, let her go\\nLet her love and let her cry\\nIf you trust her soon you both will understand\\n\\nShe'll come back home if you let her go\\n\\nI know you want the best for her I know you're still afraid\\nOne day she's gonna leave you for a boy who is the same as\\nYou were in the 60's careless as the wind\\nShe's beautiful like her mama we know where that could end\\nI know it's hard\\n\\nTo ler her go, let her go\\nLet her fall, let her fly\\nShe wants to touch the world with her own hands\\n\\nLet her go, let her go\\nLet her love and let her cry\\nIf you trust her soon you both will understand\\nShe'll come back home if you let her go\\n\\nJust like the way you let me years ago\\nAnd I'm still coming home\\n\\nOh let her go, let her go, let her fall let her fly\\nShe wants to touch the world with her own hands\", 'image': 'https://images.genius.com/d104eef3a56c46cc30cdfaacd634a9b8.1000x1000x1.jpg'}], 'artist': 'Holly Williams'}\n",
            "{'songs': [{'title': 'The Highway', 'album': 'The Highway', 'year': None, 'lyrics': \"The Highway ~ Holly Williams\\n\\nI've been sitting here wondering if I'll ever get\\nBack to those wheels will I ever be\\nChanging those strings out before nine\\nI am wishing for the life that I used to live\\nGiving everything that I had to give\\nIn a brand new city 'bout every night\\nMissing those nights, missing that sky I been missing home\\nMissing their smiles, missing those miles I been missing home\\nOut there on the highway out there on the open road\\nOh baby would you roll with me roll with me\\nHead down to New Orleans\\nI should be wearing out the blacktop\\nOut there with the boys I love\\nEverybody would you roll with me, roll with me\\nRunning down this dream\\nGet me out there on the highway\\nI've been sitting here asking him every night\\nFor a brand new song and a peace of mind\\nThe road is all I think about these days\\nAll I need is out there I will be just fine\\nWith a 6 string guitar and a jug of wine\\nWhen the lights go down around that stage\\nMissing their smiles, missing those miles I been missing home\\nYeah I been missing home\\nOut there on the highway out there on the open road\\nOh baby would you roll with me roll with me\\nHead down to New Orleans\\nI should be wearing out the blacktop\\nOut there with the boys I love\\nEverybody would you roll with me, roll with me\\nRunning down this dream\\nGet me out there on the highway\\nWell I miss the sound of rubber rolling out my window\\nAnd that crescendo the highway brings\\nThese wheels are gonna keep me spinning all my days\\nOut here on the highway\\n\\nChris Coleman - drums, background vocal\\nJerry McPherson - acoustic guitar\\nGlenn Worff - bass\\nDan Dugmore - pedal steel\\nPhil Madeira - organ\\nCharlie Peacock - piano, background vocal\", 'image': 'https://images.genius.com/a7bf9bac01110c83cee729ca116b4588.844x751x1.jpg'}], 'artist': 'Holly Williams'}\n",
            "{'songs': [{'title': 'Three Days in Bed', 'album': 'Here With Me', 'year': None, 'lyrics': \"Written by Holly Williams\\n\\nThe clock never stops and I hate this damn phone\\nSomedays I wanna run from the place I call home\\nI guess I'm just needing some danger\\nGive me 3 days in bed with a stranger\\n\\nWe drank all our wine on the champs elysees\\nWe got carried away on the banks of the seine\\nWoke up on old boulevard St. Germain\\nGive me 3 days in bed with a stranger\\n\\nYou take the hard stuff it's menthols for me\\nI don't smoke but I do on occasions like these\\nNow that I've got me a French man to please\\nI'll have one robertino, and you can have me\\n\\nI barely can wait to go back there again\\nWith your body so warm and your face in my hands\\nYou know how I love to meet all your demands\\nGive me 3 days in bed with a stranger\\n\\nYou take the hard stuff it's menthols for me\\nI don't smoke but I do on occasions like these\\nNow that I've got me a French man please\\nI'll have one robertino, and you can have me\\n\\nThe clock never stops and I hate this damn phone\\nSomedays I wanna run from the place I call home\\nI guess I'm just needing some danger\\nGive me 3 days in bed with a stranger\", 'image': 'https://images.genius.com/d104eef3a56c46cc30cdfaacd634a9b8.1000x1000x1.jpg'}], 'artist': 'Holly Williams'}\n",
            "{'songs': [{'title': 'Happy', 'album': 'The Highway', 'year': None, 'lyrics': \"Happy ~ Holly Williams / Chris Coleman\\n\\nEverybody says it will be OK\\nBut I don't know when that day will come\\nWill it come\\nAll my friends they're trying to take me out set me up\\nGet me a little drunk and have some fun\\nBut the truth is I don't really care who these people are or what they have to say\\nAnd the truth is you're all I wanna see, when I get home tonight\\nAnd you're not there with me\\nYou're the only one who makes me, only one who makes me happy\\nI've been sleeping too late with the curtains drawn, the lights ain't on\\nDamn this old heartbreak, I'll give anything\\nTo be by your side and feel alive again, remember where we've been\\nAt the riverbanks, throwing stones against the wind\\nWell the truth is, I loved you all the same\\nThat night I broke your heart and the day you cursed my name\\nYeah and the truth is, I never really knew\\nYou were everything to me, until it was much too late\\nYou're the only one who makes me, only one who makes me happy\\nWell I threw it all away and I can’t go back\\nYeah I built these fires and left ashes in my path\\nAnd I know you'll never come 'round here no more\\nBut what I’d give to have you back again\\nOh to have you back again\\nEverybody says it’ll be OK but I don't know when that day will come\\nWill it come\\n\\nHolly Williams - acoustic guitar, vocal\\nChris Coleman – acoustic guitar, background vocal\\nMark Hill - bass\\nSteve Brewster - drums, percussion\\nMatt Slocum - cello\\nCharlie Peacock - keyboards\\nJerry McPherson – electric guitar\", 'image': 'https://images.genius.com/a7bf9bac01110c83cee729ca116b4588.844x751x1.jpg'}], 'artist': 'Holly Williams'}\n",
            "{'songs': [{'title': 'Drinkin’', 'album': 'The Highway', 'year': None, 'lyrics': \"Drinkin’ ~ Holly Williams\\n\\nWhy are you drinkin' like the night is young\\nWhy are you drinkin' like the night is young\\nThe kids are in the bed and the day is long done\\nSo why are you drinkin' like the night is young\\nWhy are you screamin' like I don't have ears\\nYeah why are you screamin' like I don't have ears\\nBaby I can hear you loud and clear\\nSo why are you screamin' like I don't have ears\\nWhy are you cheatin' on a woman like this\\nHey why are you cheatin' on a woman like this\\nI raise your babies and I kiss your lips\\nSo why are you cheatin' on a woman like this\\nWhy are you leavin' like we don't exist\\nYeah why are you leavin' like we don't exist\\nYou're packing your bags and I clench my fist\\nSo why are you leavin' like we don't exist\\nNow I'm here drinkin' like the night is young\\nYeah I'm here drinkin' like the night is young\\nMama took the kids and the money's all gone\\nAnd I'm here drinkin' like the night is young\\nHope we don't die drinkin' like the night is young\\n\\nHolly Williams - acoustic guitar, vocal\\nChris Coleman - drums, electric guitar, acoustic guitar, percussion\\nGlenn Warff - upright bass\\nAndy Leftwich - fiddle\\nDan Dugmore - lap steel\\nKen Lewis - percussion\\nCharlie Peacock - percussion\\nDoug Lancia - electric guitar\", 'image': 'https://images.genius.com/6072a6f8832bb2d71b042392d2124058.612x612x1.jpg'}], 'artist': 'Holly Williams'}\n",
            "{'songs': [{'title': 'I Hold On', 'album': 'Here With Me', 'year': None, 'lyrics': \"Written by Holly Williams and Chris Janson\\n\\nLike a flame that never dies, I hold on for you\\nI flicker in the wind but I still burn for you\\nI used to move on easy I was strong\\nLike a widow to her lover I hold on\\n\\nLike a leaf in mid October I still change for you\\nI'd fall on the cold hard ground in the pouring rain for you\\nI used to move on easy I was strong\\nI know I shouldn't linger but I hold on\\n\\nPaint a picture of my memory to hold on to\\nJust remember I was the one that you belonged to\\nMy heart is pouring out here in this song, like a song without an ending I hold on\\nMy heart is pouring out here in this song, like a widow to her lover I hold on\", 'image': 'https://images.genius.com/d104eef3a56c46cc30cdfaacd634a9b8.1000x1000x1.jpg'}], 'artist': 'Holly Williams'}\n",
            "{'songs': [{'title': 'Keep the Change', 'album': 'Here With Me', 'year': '1979-01-01', 'lyrics': \"Bust open the window, rip down the blinds\\nI'm sick of hiding from the sweet sunshine\\nCause it ain't, ain't getting me nowhere\\n\\nI've been locked up in this house for way too long, yeah\\nI'm sitting around singing sad, sad songs\\nAnd it ain't, ain't getting me nowhere\\n\\nChorus:\\nIt's been a long time coming\\nI'm jumping off this reckless pity train\\nI'm all cashed out on your lovin'\\nI've paid my dues honey, you can keep the change\\n\\nI know how to nurse a bad heartache and\\nI can make it worse when I want to feel the pain\\nBut it ain't, ain't getting me nowhere\\n\\nI know how to cry a river, I know how to drown\\nPut that anchor 'round my ankles and let it take me down\\nBut it ain't, ain't getting me nowhere\\n\\nRepeat Chorus\\n\\nKeep the change, keep the change\\nKeep the change, keep the change\\n\\nRepeat Chorus\\n\\nI've paid my dues honey, you can keep the change\", 'image': 'https://images.genius.com/d104eef3a56c46cc30cdfaacd634a9b8.1000x1000x1.jpg'}], 'artist': 'Holly Williams'}\n",
            "{'songs': [{'title': 'Between Your Lines', 'album': 'The Ones We Never Knew', 'year': None, 'lyrics': \"We are all a little crazy, we are all a little weak\\nAnd we all are very fragile when there's nothing left to speak\\nWhen there's no one left to talk to, no more tears are left to cry\\nWill you stand up for the right thing or continue in denial-\\nI don't know\\n\\nWell you know I'd love to help you, you know I'd love to heal\\nBut without the hands of God you will never be revealed\\nSo take off your mask of happiness, take off your mask of fame\\nWe all know that you've got problems just like everybody's name\\n\\nI don't know why you fold in the arms of reality\\nWhy do you break with every wave in your stormy sea\\nYou know I'd love to think you were doing fine but I'd be lying\\n\\nSo don't tell me everything is good, don't walk on bitter ground\\nI have seen you at your worst and I still love you when you're down\\nBut I hate to see you live like this, I hate to see you crying\\nAnd I hate to see you tangled in her web of sex and lies\\nDo you have a god you pray to, Do you have a god you love\\nDo you have some twisted fear about the will from up above\\nDo you wait for him in silence, Do you wait for him in vain\\nDo you think some crazy fool is gonna preach away your pain\\n\\nI don't know why you fold in the arms of reality\\nWhy do you break with every wave in your stormy sea\\nWhy do you cringe at the wake of every godly dream\\nWhile I watch you laughing on the brink of insecurity\\nYou know I'd love to say you were doing fine but I'd be lying\\n\\nSo why must you walk with burdens much too big for you to bear\\nWhen you know it's not your fault\\nThere are saints and sinners everywhere\\nYou don't have to smile, I can read between your lines\\nI read guilt and I read mercy, I read glory to the father\\nI read bitterness and suffering and love for all your children\\nI read brokenness inside your heart and scars too deep to see\\nI read pain from a young boy who's father left too early\\nWho's mother tried to mold him into what she'd love to be...\\n\\nI don't know why you fold in the arms of reality\\nWhy do you break with every wave in your stormy sea\\nAnd why do you cringe at the wake of every godly dream while\\nI watch you laughin on the brink of insecurity\\nYou know we'd love to help, yeah you know we'd love to heal\\nBut without the hands of God you will never be revealed\\nYou know we'd all love to say you were doing fine but we'd be\", 'image': 'https://assets.genius.com/images/default_cover_image.png?1570807223'}], 'artist': 'Holly Williams'}\n",
            "{'songs': [{'title': 'Velvet Sounds', 'album': None, 'year': None, 'lyrics': \"(Holly Williams)\\n\\nVelvet sounds you made\\nSleeping symphony as I would lie awake\\nIn the crevice of your shoulder soft and warm\\nThat's where I miss your breathing\\n\\nBlack and pink and white\\nThese are colors that remind me of the night\\nWe fell on your steps and wished for all our lives\\nTo be filled with such freedom\\n\\nPicture perfect place\\nPainting shadows on the canvas of your face\\nGraceful rhythms in the frantic love we made\\nMoving underneath moonlight\\n\\nNow, looking at my mirror\\nThe one you gave to me from the shop across the street\\nWhere everything is rare\\nJust like your blue eyes\\nJust like your sad goodbyes\\nJust like the heartfelt letter that your mother mailed to you\\nEverything made me cry\\n\\nSo here they come again\\nHaunting memories of you they always win\\nBegging for a place to come alive again\\nI swear I will not hurt you again\\n\\nVelvet sounds you made\\nSleeping symphony as I would lie awake\\nIn the crevice of your shoulder soft and warm\", 'image': 'https://assets.genius.com/images/default_cover_image.png?1570807223'}], 'artist': 'Holly Williams'}\n",
            "{'songs': [{'title': 'Birds', 'album': 'Here With Me', 'year': None, 'lyrics': \"Neil Young\\n\\nLover, there will be another one\\nWho'll hover over you beneath the sun\\nTomorrow see the things that never come\\nToday\\n\\nWhen you see me\\nFly away without you\\nShadow on the things you know\\nFeathers fall around you\\nAnd show you the way to go\\nIt's over, it's over\\n\\nNestled in your wings my little one\\nThis special morning brings another sun\\nTomorrow see the things that never come\\nToday\\n\\nWhen you see me\\nFly away without you\\nShadow on the things you know\\nFeathers fall around you\\nAnd show you the way to go\\nIt's over, it's over\", 'image': 'https://images.genius.com/d104eef3a56c46cc30cdfaacd634a9b8.1000x1000x1.jpg'}], 'artist': 'Holly Williams'}\n",
            "{'songs': [{'title': 'No Surrender', 'album': 'Dead Man’s Town: Born in the U.S.A. Revisited', 'year': '2014-09-16', 'lyrics': \"[Verse 1]\\nWell, we busted out of class\\nHad to get away from those fools\\nWe learned more from a three-minute record, baby\\nThan we ever learned in school\\nTonight I hear the neighborhood drummer sound\\nI can feel my heart begin to pound\\nYou say you're tired and you just want to close your eyes\\nAnd follow your dreams down\\n\\n[Chorus]\\nWell we made a promise we swore we’d always remember\\nNo retreat, baby, no surrender\\nLike soldiers in the winter's night with a vow to defend\\nNo retreat, baby, no surrender\\n\\n[Verse 2]\\nNow young faces grow sad and old\\nAnd hearts of fire grow cold\\nWe swore blood brothers against the wind\\nI am ready to grow young again\\nAnd hear your sister's voice calling us home\\nAcross the open yards\\nWell maybe we could cut someplace of our own\\nWith these drums and these guitars\\n\\n[Chorus]\\nOh we made a promise we swore we’d always remember\\nNo retreat, baby, no surrender\\nBlood brothers in the stormy night with a vow to defend\\nNo retreat, baby, no surrender\\n\\n[Verse 3]\\nNow on the street tonight the lights grow dim\\nThe walls of my room are closing in\\nThere's a war outside still raging\\nYou say it ain't ours anymore to win\\nI want to sleep beneath peaceful skies\\nIn my lover's bed\\nWith the wide open country in my eyes\\nAnd these romantic dreams in my head\\n\\n[Chorus]\\nOh we made a promise we swore we'd always remember\\nNo retreat, baby, no surrender\\nBlood brothers in the stormy night with a vow to defend\\nNo retreat, baby, no surrender\\nNo retreat, baby, no surrender\", 'image': 'https://images.genius.com/ac14dd3bb15eb93969ad5a64b0bca733.640x640x1.png'}], 'artist': 'Holly Williams'}\n",
            "{'songs': [{'title': 'Memory of Me', 'album': 'The Ones We Never Knew', 'year': None, 'lyrics': \"(Holly Williams)\\n\\nLove no more, I have got a prayer\\nI ask forgiveness everywhere\\nDevil unseen, please stop bothering me\\nI've got a broken man to repair\\n\\nBrakes aren't working now\\nI'm trying to stop this train\\nOf desperation, loneliness and pain\\n\\nNothing's up ahead, the lights are supposed to be there\\nAnd you probably think I never cared\\nI hope to God one day you find some peace\\nWith the memory of me\\n\\nNow it's all in your head, and I'm the one at fault\\nMaybe I never loved you at all\\nI'd like to say I did, but I just don't know how\\nMy heart could do the damage I allowed\\nThe victim of my youth, the soldier of my dread\\nAnd I left all those tears in your bed\\nI hope to God one day you'll find some peace\\nWith the memory me\\n\\nMy potential is improving, my reckless days more calm\\nI know you won't believe me when I'm singing you this song\\nDamn I wanted to please you, I just didn't have the will\\nI was never looking for someone to keep me still...\\nNow I see\\n\\nSo if you pass this way again, if you feel the need\\nI'd love to hear the words that wait for me\\nBut you don't need my sympathy, you're stronger than I think\", 'image': 'https://assets.genius.com/images/default_cover_image.png?1570807223'}], 'artist': 'Holly Williams'}\n",
            "{'songs': [{'title': 'Mama', 'album': 'Here With Me', 'year': None, 'lyrics': \"Written by Holly Williams\\n\\nYou could've been bitter, you could've hated him\\nYou could've talked about the whiskey and the women\\nHe couldn've done better, but you loved him anyhow\\nThen you taught us all the power of forgiveness\\n\\nMama, you were smiling when you could've been crying all night\\nMama, you made me believe everything was alright\\nMama, you never wore your pain too thick\\nI'd like to thank you for this\\n\\nYou could've fought, you could've cut him down to shame\\nYou could've told us that our daddy didn't want us\\nBut that wasn't true, and you knew it all along\\nIt was a struggle between the road and loving you\\n\\nMama, you were smiling when you could've been crying all night\\nMama, you made me believe everything was alright\\nMama, you never wore your pain too thick\\nI'd like to thank you for this\\n\\nYou did more good for me than you will ever know\\nI've seen mothers fill their childrens hearts with hate\\nBut you knew better than to drag me down with you\\nYou let me love my daddy just the same\\n\\nMama, you were smiling when you could've been crying all night\\nMama, you made me believe everything was alright\\nMama, you never wore your pain too thick\\nI'd like to thank you for this\\nOh I'd like to thank you for this\", 'image': 'https://images.genius.com/d104eef3a56c46cc30cdfaacd634a9b8.1000x1000x1.jpg'}], 'artist': 'Holly Williams'}\n",
            "{'songs': [{'title': 'Take Me Down', 'album': 'The Ones We Never Knew', 'year': None, 'lyrics': \"(Holly Williams)\\n\\nIt's a dead end road and I'm fully aware\\nYou got me there, It got me to you\\nBaby I could do better but I don't care\\nIt's all the same when it's killing you\\n\\nPlease don't leave me, though my heart is black and blue\\nMy love, deceive me\\nI'll believe you\\nTake Me Down\\n\\nIt's a naive world who loves the pain\\nThe more it hurts, the more we gain\\nAnd I talk to God but I got no prayers\\nI don't wanna rise out of this hell\\n\\nPlease don't leave me, though my heart is black and blue\\nMy love, deceive me\\nI'll believe you, I'll believe you\\nTake Me Down\\n\\nI'll please you in the morning light\\nWhen you're done, you leave my bed\\nAnd I've known all along that this ain't right\\nI give, I give, I give\\nYou only take\", 'image': 'https://assets.genius.com/images/default_cover_image.png?1570807223'}], 'artist': 'Holly Williams'}\n",
            "{'songs': [{'title': 'A Love I Think Will Last (feat. Chris Janson)', 'album': 'Here With Me', 'year': None, 'lyrics': \"Holly Williams and Chris Janson\\n\\nThis skinny country boy he caught my eye\\nI never could have guessed what I would find\\nHe laughs about the boys I used to kiss\\nAnd I love him, yes I love him\\n\\nThat lanky city girl I could have died\\nI wanted her real bad but I was shy\\nThen she got me drunk and I gave up\\nAnd I love her, yes I love her\\n\\nI finally found a love I think could last\\nHe don't give a damn about my past\\nI found a boy who treats me like a queen\\nI don't wana wake up from this dream\\nI love you, yes I love you\\n\\nHe lives the way I look when I wake up\\nEven if my hair ain't found a brush\\nShe hates it when I'm talking in my sleep\\nEven though I was asking her to marry me\\n\\nI finally found a love I think could last\\nHe don't give a damn about my past\\nI've got a boy who treats me like a queen\\nI don't want to wake up from this dream\\nI love you, yes I love you\\n\\nRepeat\", 'image': 'https://images.genius.com/d104eef3a56c46cc30cdfaacd634a9b8.1000x1000x1.jpg'}], 'artist': 'Holly Williams'}\n",
            "{'songs': [{'title': 'Giving Up', 'album': 'The Highway', 'year': None, 'lyrics': \"Giving Up ~ Holly Williams\\n\\n17 years with a wedding ring\\nThe saddest damn story you ever seen\\n2 little kids and a good-hearted man\\nTrying to save her if they can\\nI tried myself I cried with her\\nI held her hand, we talked to the lord\\nBut we’re only human and we can't change\\nSomebody's will to leave their ways\\nThe doctor said you'd die\\nIf you had another drink\\nWell I wonder if it scares you, I wonder if you think\\nAbout the daughter that you're leaving, the man you used to love\\nAnd the son that cries for you, oh yes that child that cries for you\\nWell I guess this is it, you must be giving up\\nYou put us all through a living hell\\nA thousand excuses for your liquor trail\\nBut my compassion is fading fast\\nAnother rehab and you break another glass\\nBottles in dryers, bottles in shoes\\nThere were even bottles in the baby's room\\nYou're losing everything that you ever had\\nYour life is one thing all that money can’t buy back\\nThe doctor said you'd die\\nIf you had another drink\\nWell I wonder if it scares you, I wonder if you think\\nAbout the daughter that you're leaving, the man you used to love\\nAnd the son that cries for you, oh yes that child that cries for you\\nWell I guess this is it you must be giving up\\nI7 years with a wedding ring\\nThe saddest damn story you ever seen\\n2 little kids and a good-hearted man\\nTrying to save her if they can\\n\\nHolly Williams – acoustic guitar and vocal\\nChris Coleman - drums\\nGlenn Worff - bass\\nTammy Rogers King - fiddle\\nCharlie Peacock - wurlitzer, background vocals\\nSam Ashworth – acoustic guitar\\nBruce Bouton - pedal steel\\nDoug Lancia - electric guitar\\nJerry McPherson - electric guitar\", 'image': 'https://images.genius.com/a7bf9bac01110c83cee729ca116b4588.844x751x1.jpg'}], 'artist': 'Holly Williams'}\n",
            "{'songs': [{'title': 'Nothing More', 'album': 'The Ones We Never Knew', 'year': None, 'lyrics': \"(Holly Williams)\\n\\nUnderneath this age is the heart of a child\\nIt only wants to love, it begs to come alive\\nI want your desire and I long for your hands\\nTo grace me with their presence and touch me again\\nNothing More\\n\\nI don't want your nice gifts\\nI'm so tired of your words\\nI'd really like a feeling from the place that you love\\nNothing more\\n\\nIt's a long way we've come just to simply exist like this\\n\\nTell me something true, even if it hurts\\nI'm waiting on a sign, do you remember love\\nDo you remember love?\\nNothing More\\n\\nAll that I want is you in the end\\nAll that I want is you in the end\\nAll that I want is you in the end\\nAll that I want is you\", 'image': 'https://assets.genius.com/images/default_cover_image.png?1570807223'}], 'artist': 'Holly Williams'}\n",
            "{'songs': [{'title': 'Gone Away from Me', 'album': 'Folkadelphia Session 4/21/2013', 'year': None, 'lyrics': \"Gone Away From Me ~ Holly Williams\\n\\nI grew up in a town with one red light\\nHow that train would rattle me in the middle of the night\\nBut I slept like a baby in that bed\\nCuz' mama kept me warm and kept me fed\\nJuly 3rd was a dreaded friend of mine\\nWe'd all go down to the family plot in the Louisiana pines\\nStaring at that little baby's grave\\nStella was as young as she was brave\\nAnd what I'd give to go there again\\nKiss my daddy's face, hold my mama's hand\\nLittle did I know soon they would be lying right beside her\\nGone away from me\\nThey always made us kneel by grandpa's grave\\nMama started wailing asking god if he was saved\\nI never liked to see my daddy cry\\nI guess I'll never know how grandpa died\\nAnd what I'd give to go there again\\nKiss my daddy's face, hold my mama's hand\\nLittle did I know soon they would be lying right beside him\\nGone away from me\\nYou barely even see the tombstones now\\nThe trees are grown up everywhere and no one keeps the grounds\\nStrangers live inside my childhood home\\nAnd I can't believe that daddy's really gone\\nWhat I'd give to go there again\\nKiss his withered face, hold her gentle hand\\nBut there ain't no way that will ever be\\nThey're lying 'neath that oak tree gone away from me\\nWell I grew up in a town with one red light\\n\\nHolly Williams – acoustic guitar, vocal\\nJackson Browne - background vocal\\nChris Coleman – acoustic guitar, background vocal\\nMark Hill - bass\\nSteve Brewster - drums\\nKen Lewis – percussion\\nMatt Slocum - cello\\nDan Dugmore - pedal steel\\nCharlie Peacock - keyboards, piano, trumpet\\nAndy Leftwich - fiddle\\nJerry McPherson - electric guitar\", 'image': 'https://images.genius.com/6072a6f8832bb2d71b042392d2124058.612x612x1.jpg'}], 'artist': 'Holly Williams'}\n",
            "{'songs': [{'title': 'Blue Is My Heart', 'album': 'The Lost Notebooks of Hank Williams', 'year': None, 'lyrics': \"Blue is my heart blue as the sky\\nMemories of you they're making me cry\\nLonging for you in days all gone by\\nBlue is my heart blue as the sky\\n\\nLife is so bare since you said goodbye\\nThere's no tomorrow so why should I try\\nJoys of this life they're passing me by\\nBlue is my heart blue as the sky\\n\\nThe flowers stop blooming\\nField used to be green\\nYour love's just a memory gone like the spring\\nLord come and take me away I'm so blue everyday\\n\\nOh my love it ain't nothing to you anymore\\nSweet darling I'm praying you'll knock at my door\\nUntil that day comes and tears in my eyes\\nBlue is my heart blue as sky\\nBlue is my heart blue as sky\", 'image': 'https://images.genius.com/8e1c2aa168f3792c8316271133ba2497.562x559x1.jpg'}], 'artist': 'Holly Williams'}\n",
            "{'songs': [{'title': 'He’s Making a Fool Out of You', 'album': 'Here With Me', 'year': None, 'lyrics': \"Written by Holly Williams and Chuck Jones\\n\\nI see clearly, I'm on the outside\\nI've been watching you fall from the start\\nI can't believe it, how'd you get here\\nI remember you when you were smart\\nIt's not that you've lost all that now\\nBut blind is the love that leaves no room for doubt\\n\\nHe's making a fool out of you\\nHe's making a fool out of you\\nHe's making a fool out of you\\nButt you're still smiling\\n\\nHave you forgotten, all that you taught me\\nNever lay down your heart for a lie\\nIt's gonna hurt you when your eyes open\\nAnd you shed all those tears you've denied\\nEveryone needs someone else\\nBut love only grows when you don't lose yourself\\n\\nHe's making a fool out of you\\nHe's making a fool out of you\\nHe's making a fool out of you\\nBut you're still smiling\\n\\nSo have you forgotten all that you taught me\\nNever lay down your heart for a lie\", 'image': 'https://images.genius.com/d104eef3a56c46cc30cdfaacd634a9b8.1000x1000x1.jpg'}], 'artist': 'Holly Williams'}\n",
            "{'songs': [{'title': 'Everybody’s Waiting for a Change', 'album': 'The Ones We Never Knew', 'year': None, 'lyrics': \"(Holly Williams)\\n\\nI think it's time you look at your own face\\nCan't you see your speaking out of place\\nThere's nothing to keep you down\\nYou're reaching for the sky while you drown\\nI'm aware that I've been lost and I've been unkind\\nBut at least I got the courage to admit the crime\\nSo don't come down on me\\nI'm still young I'm trying to believe\\n\\nWait, I'll be fine\\nJust give me a couple years to say my prayers\\nI'm alive, you should keep that mirror for yourself\\nYou've got problems you never saw\\nAnd I'm the bearer of them all\\n\\nEverybody's waiting for me to fall\\nYou criticize my walk as I watch you crawl\\nNothing's ever fair\\nBut I believe in reality everywhere\\n\\nWait, I'll be fine\\nJust give me a couple years to say my prayers\\nI'm alive, you should keep that mirror for yourself\\nEverybody's fighting hard\\nBut there's no leader in the dark\\n\\nEverybody's waiting for a change\\nEverybody's waiting for...\\n\\nEverybody's waiting for something better\\nEverybody's peeking behind that door\\nIf you try too hard you will never find it\\nEverybody's waiting for something more\", 'image': 'https://assets.genius.com/images/default_cover_image.png?1570807223'}], 'artist': 'Holly Williams'}\n",
            "{'songs': [{'title': 'A Good Man', 'album': 'The Highway', 'year': None, 'lyrics': \"A Good Man ~ Holly Williams / Sarah Buxton\\n\\nIf I never saw you once again\\nIf suddenly you met your bitter end\\nI'm not sure I'd ever understand\\nBut I could say I loved a good man\\nIf I couldn't hold you anymore\\nOr leave the world to lie at our front door\\nAnd crawl inside this hiding place with you\\nI'm not sure I'd ever make it through\\nOh your tender heart\\nTaught me the hardest part that I could never learn\\nEverything you do promises I love you\\nIf you ever slip out of my hands\\nI could say I loved a good man\\nLooking at your face across the room\\nEverything else fades but me and you\\nLove is not as simple as it seems\\nBut I have learned to trust the space between\\nOh your tender heart\\nTaught me the hardest part that I could never learn\\nEverything you do promises I love you\\nIf you ever slip out of my hands\\nI could say I loved a good man\\nWhen we look back on our years together\\nThe only one I gave my whole heart to\\nI hope that we’re still counting on forever like\\nIt’s something new\\nOh your tender heart taught me the hardest part\\nIs having to let go\\nEverything you do promises I love you\\nIf you ever slip out of my hands\\nI could say I held, I could say I knew\\nI could say I loved a good man\\n\\nHolly Williams - piano and vocal\\nMatt Slocum – cello\\nGlen Worff – upright bass\\nCharlie Peacock – keyboards\\nJerry McPherson – electric guitar\\nDon Dugmore – pedal steel\\nAndy Leftwich – fiddle\\nSam Ashworth - acoustic\", 'image': 'https://images.genius.com/a7bf9bac01110c83cee729ca116b4588.844x751x1.jpg'}], 'artist': 'Holly Williams'}\n",
            "{'songs': [{'title': 'Waiting on June', 'album': 'The Highway', 'year': None, 'lyrics': \"Waiting On June ~ Holly Williams\\n\\nShe was from north Louisiana in the town of Mer Rouge\\nI fell in love in a week or two it didn't take long to love a girl like that\\nWe were barely ten in the cotton fields playing horseshoe with the colored kids\\nI tried to kiss her she grabbed a baseball bat\\nWaiting on June, I hope she comes to see me\\nWaiting on June, I can't take this feeling\\nWaiting on June, I pray to god she'll love me one of these days\\nI hope I find my way waiting on June\\nI went off in ‘42 to fight those boys and pay my dues\\nHer wallet picture kept my spirits high\\nCharley boy died in my arms, he saw Jesus I saw blood\\nIt soaked her wallet picture that cold night\\nI told my best friend charley I would kiss his girl goodbye\\nHe made me promise I’d go home and make miss June my wife\\nShaking like a drunk old fool I hopped off of that plane\\nAnd I ran home to ask her in the rain\\nWaiting on June, I hope that she says yes\\nWaiting on June, in her faded summer dress\\nWaiting on June, her daddy shook my hand\\nAnd she lit up the moment I pulled out that silver band\\nWaiting on June\\nWell we married at the Methodist church\\nFound a big white cow and a piece of dirt with pecan trees to build our homestead on\\nJolynn, Becky then Donna then Shelby our tiny house was a sanctuary\\nLaughter filled those rooms all day long\\nWaiting on June, she's putting on her makeup\\nWaiting on June, she's trying to get her hair curled\\nWaiting on June, kids listen to me\\nYou walk on down to Sunday school I'll be there in 15\\nWaiting on June\\nThe time flew by like they said it would\\nThe kids grew fast and the farm did good\\nMrs. Bertha made our supper everyday\\nAt noon that silver bell would ring\\nWe'd all say grace and dig on in we always ate together in those days\\nOh one by one those kids went off and found a love their own\\nThere’s nothing like the joy I knew when they brought their babies home\\nWe'd play all day in the cotton fields with the dogs I raised up right\\nAnd end in grandma's kitchen every night\\nWaiting on June, honey don't burn the bacon\\nWaiting on June, our bellies are a' achin\\nWaiting on June, she turns that fork so slow\\nAnd we all had to sit there til the last bite was no more\\n\\nHolly Williams – acoustic guitar, vocal\\nGwyneth Paltrow – background vocal\\nChris Coleman – acoustic guitar, background vocal, lap steel\", 'image': 'https://images.genius.com/6072a6f8832bb2d71b042392d2124058.612x612x1.jpg'}], 'artist': 'Holly Williams'}\n",
            "{'songs': [{'title': 'All as It Should Be', 'album': 'The Ones We Never Knew', 'year': None, 'lyrics': \"Did your lover leave you stranded\\nDid your heart endure the truth\\nWill you fight to find the healing or will time heal all your wounds\\nDo you drown in your desire for a time you used to know\\nMemories can't touch you they are just a picture show\\nDont let go, oh honey can't you see\\nEverythings a circle in itself\\nAll as it should be\\n\\nHave you stood inside a nightmare\\nDid it slap you in the face\\nWere you left to lose control\\nDid you ever find a way\\nWas it somebody that loved you or a face you've never seen\\nSo final, so quick are the hands of destiny\\nDon't let go, honey can't you see\\nEverythings a circle in itself\\nAll as it should be\\n\\nYou philosophize each second then you live as if you're dead\\nAlways aching for the beauty of the visions in your head\\nWas it something that you wanted only never had the guts\\nNow you stand ashamed and regret your giving up\\nWhere would you be, if you had tried\\nIf you had given all you could...\\nTo the passion of your life\\n\\nThere is someone out there watching every step you take today\\nEvery struggle, all confusion, endless questions in your head\\nBut he's got you where he wants you\\nThere are reasons we can't see\\nWe all stand where we belong\\nEvery moment meant to be\\nSo don't let go, honey can't you see\\nEverythings a circle in itself\\nAll as it should be\\nAll as it should be\\nAll as it should be\\nAll as it should be\\n\\nI hope there's something in these words to reveal you before everything you hide\\nAnd if you never have believed maybe you will find the willingness to try\\n\\nSee everything lies in its place\\nThrough doubt, through love, through fear, through change\", 'image': 'https://assets.genius.com/images/default_cover_image.png?1570807223'}], 'artist': 'Holly Williams'}\n"
          ],
          "name": "stdout"
        }
      ]
    },
    {
      "cell_type": "code",
      "metadata": {
        "id": "nauHyhRFMHWm",
        "colab_type": "code",
        "outputId": "aed3440c-7a3f-4636-996e-f76a36c13ba0",
        "colab": {
          "base_uri": "https://localhost:8080/",
          "height": 35
        }
      },
      "source": [
        "len(content)"
      ],
      "execution_count": 0,
      "outputs": [
        {
          "output_type": "execute_result",
          "data": {
            "text/plain": [
              "40"
            ]
          },
          "metadata": {
            "tags": []
          },
          "execution_count": 24
        }
      ]
    },
    {
      "cell_type": "code",
      "metadata": {
        "id": "zhRJXQqsgz3s",
        "colab_type": "code",
        "colab": {}
      },
      "source": [
        "def extract_element_from_json(obj, path):\n",
        "    '''\n",
        "    Extracts an element from a nested dictionary or\n",
        "    a list of nested dictionaries along a specified path.\n",
        "    If the input is a dictionary, a list is returned.\n",
        "    If the input is a list of dictionary, a list of lists is returned.\n",
        "    obj - list or dict - input dictionary or list of dictionaries\n",
        "    path - list - list of strings that form the path to the desired element\n",
        "    '''\n",
        "    def extract(obj, path, ind, arr):\n",
        "        '''\n",
        "            Extracts an element from a nested dictionary\n",
        "            along a specified path and returns a list.\n",
        "            obj - dict - input dictionary\n",
        "            path - list - list of strings that form the JSON path\n",
        "            ind - int - starting index\n",
        "            arr - list - output list\n",
        "        '''\n",
        "        key = path[ind]\n",
        "        if ind + 1 < len(path):\n",
        "            if isinstance(obj, dict):\n",
        "                if key in obj.keys():\n",
        "                    extract(obj.get(key), path, ind + 1, arr)\n",
        "                else:\n",
        "                    arr.append(None)\n",
        "            elif isinstance(obj, list):\n",
        "                if not obj:\n",
        "                    arr.append(None)\n",
        "                else:\n",
        "                    for item in obj:\n",
        "                        extract(item, path, ind, arr)\n",
        "            else:\n",
        "                arr.append(None)\n",
        "        if ind + 1 == len(path):\n",
        "            if isinstance(obj, list):\n",
        "                if not obj:\n",
        "                    arr.append(None)\n",
        "                else:\n",
        "                    for item in obj:\n",
        "                        arr.append(item.get(key, None))\n",
        "            elif isinstance(obj, dict):\n",
        "                arr.append(obj.get(key, None))\n",
        "            else:\n",
        "                arr.append(None)\n",
        "        return arr\n",
        "    if isinstance(obj, dict):\n",
        "        return extract(obj, path, 0, [])\n",
        "    elif isinstance(obj, list):\n",
        "        outer_arr = []\n",
        "        for item in obj:\n",
        "            outer_arr.append(extract(item, path, 0, []))\n",
        "        return outer_arr"
      ],
      "execution_count": 0,
      "outputs": []
    },
    {
      "cell_type": "code",
      "metadata": {
        "id": "vw8cy4zvN1Y_",
        "colab_type": "code",
        "colab": {}
      },
      "source": [
        "lyrics = extract_element_from_json(content, [\"songs\",\"lyrics\"])\n",
        "#lyrics = extract_element_from_json(content, [\"songs\"])"
      ],
      "execution_count": 0,
      "outputs": []
    },
    {
      "cell_type": "code",
      "metadata": {
        "id": "fF0uVw0LXA58",
        "colab_type": "code",
        "outputId": "2d44ce02-2336-4fda-ed40-921d41ed70de",
        "colab": {
          "base_uri": "https://localhost:8080/",
          "height": 72
        }
      },
      "source": [
        "print(lyrics)\n",
        "len(lyrics)"
      ],
      "execution_count": 0,
      "outputs": [
        {
          "output_type": "stream",
          "text": [
            "[[\"(Holly Williams)\\n\\nA memory falls down from where it was\\nWith this confession I beg for more\\nI never mean to and it's been awhile\\nSince I found meaning in these desires\\nI know it's wrong to hurt you like this\\nI know it's wrong to lie like a kid\\n\\nFire and blankets, a cheap parade\\nOf guilty pleasures, I take the stage\\nBut nothing feels good if it ain't true\\nIt's like trying to cry for someone you never knew\\nI know it's wrong to hurt you like this\\nI know it's wrong to lie like kid\\n\\nI love you with more tears than any pain could ever bring me\\nI fight it most everyday\\nI hurt you with more truth than your own eyes could ever teach you\\nI'm tired of living this way, when I know it's wrong\\n\\nI never told you, you just kinda knew\\nBy the way I'm not when I'm with you\\nYou never take me like you used to\\nAnd nothing heals the scars of all the ones we never knew\\n\\nI love you with more tears than any pain could ever bring me\\nI fight it most everyday\\nI hurt you with more truth than your own eyes could ever teach you\\nI'm tired of living this way, when I know it's wrong\\n\\nI know it's wrong to hurt you again\"], ['Shoot the moon, hit the stars\\nSend my love running down the boulevard\\nHang my heart up on that line\\nLet it beat til it runs dry til it runs dry\\nHot as hell, cold as ice\\nThis Ferris Wheel that we call life\\nWith a past I could erase, but I’ll serve it up on a silver plate\\nOn a silver plate\\nHang my heart up on that line\\nLet it beat til it runs dry\\nIn this world we all fall down\\nLike a pack of wolves in a dusty town\\nAnd we draw fast when the killings done\\nAlways too late, better on the run\\nBetter on the run\\nHang my heart up on that line, let it beat til it runs dry\\nHang my heart up on that line, let it beat til it runs dry\\nTil it runs dry'], [\"(Holly Williams)\\n\\nI used to call you mystery\\nI wanted to play all the parts\\nBeware the one who calls for me\\nI'll only break your heart\\n\\nThe beginning's always beautiful\\nLike every brand new start\\nBut in the end, when there's nothing left of you\\nI'll only break your heart\\n\\nI want you with a harsh desire\\nI crave you in the night\\nBut I'm here to warn you\\nYou're not safe with me\\nI'll only break your heart\\n\\nIt scares me like my deepest confession\\nIt haunts me like their pain\\nWhile everyone's looking for someone to love\\nI'll only break your heart\\n\\nI fade like every summer leaf\\nI drift like the mind of a child\\nI never was meant to stay in one place\\nI only broke their hearts\\n\\nI used to call you mystery\\nI wanted to play all the parts\\nBeware the one who calls for me\"], [\"Let You Go ~ Holly Williams / Chris Coleman\\n\\nDays go by and I'm trying to let you go\\nNight bears down and I'm trying to let you go\\nThese seasons change and the ground will turn to snow\\nNew blood old heart still trying to let you go\\nTime creeps by while I'm trying to let you go\\nThis wind blows wild and I'm trying to let you go\\nRivers run and the Mississippi flows\\nMy hearts on fire still trying to let you go\\nYears I've spent still trying to let you go\\nPlaces I've been just trying to let you go\\nThem bells will ring and the tears will start to flow\\nThey'll bury me still trying to let you go\\n\\nChris Coleman – acoustic guitar, drum, mandolin, background vocal\\nDan Dugmore - lap steel\"], [\"Written by Holly Williams\\n\\nMaybe I give up too easy, maybe I don't fight enough\\nMaybe my heart is afraid of falling in love\\nMaybe I'm too scared to find out what it feels like to hurt\\nMaybe I worry I'll land with my face in the dirt\\n\\nIf I don't try I won't know\\nThese walls that surround me they're strong and they're tall\\nI could slip and fall with noone to catch me at all\\nAnd end up alone\\n\\nAm honest heart tried to love me\\nBut I had nothing to give\\nI just wanted to see how much I could get\\nWe're all guilty of wanting the very thing we can't have\\nThe more that we take the sooner that we crash\\n\\nBut if I don't try I won't know\\nThese walls that surround me they're strong and they're tall\\nI could slip and fall with noone to catch me at all\\nAnd end up alone\\n\\nSomething's changing inside me, something here wants to break free\\nI thought love was a blind spot, I believe\\nI don't want to end up alone\\n\\nMaybe I give up too easy\\nMaybe I don't fight enough\\nMaybe my heart is afraid of falling in love\"], [\"Holly Williams and Chris Janson\\n\\nThis skinny country boy he caught my eye\\nI never could have guessed what I would find\\nHe laughs about the boys I used to kiss\\nAnd I love him, yes I love him\\n\\nThat lanky city girl I could have died\\nI wanted her real bad but I was shy\\nThen she got me drunk and I gave up\\nAnd I love her, yes I love her\\n\\nI finally found a love I think could last\\nHe don't give a damn about my past\\nI found a boy who treats me like a queen\\nI don't wana wake up from this dream\\nI love you, yes I love you\\n\\nHe lives the way I look when I wake up\\nEven if my hair ain't found a brush\\nShe hates it when I'm talking in my sleep\\nEven though I was asking her to marry me\\n\\nI finally found a love I think could last\\nHe don't give a damn about my past\\nI've got a boy who treats me like a queen\\nI don't want to wake up from this dream\\nI love you, yes I love you\\n\\nRepeat\"], [\"(Holly Williams)\\n\\nHe's a man in the making, afraid like a child\\nWho clings to all his fear\\nAnd I am his safety, the one with the love\\nTrying to see things clear, and block his shadows\\n\\nWhat do you want from me\\nI have been everything that I could be\\nYou're just a man in the making\\nWhat do you need from me\\nAfter everything I've given you for free\\nYou're just a man in the making\\nHey, don't lose your patience\\n\\nMy joy in the morning, my pain in the night\\nScattered he defines\\nAnd I'd like to help him discover himself\\nBut after all that I've done, only he is qualified\\n\\nWhat do you want from me\\nI have been everything that I could be\\nYou're just a man in the making\\nWhat do you need from me\\nAfter everything I've given you for free\\nYou're just a man in the making\\nDon't lose your patience\\n\\nYou wrestle with faith, you wrestle with your needs\\nYou claim that I don't understand\\nBut believe me I see it deeper than you\\nAttempting it all too fast, prepare for a crash\\n\\nWhat do you want from me?\\nI have been everything that I could be\"], [\"(Holly Williams)\\n\\nIf I could have used my hands to pick you up and make you stand\\nWould you still have fallen\\n\\nIf I could have told you true, would you still be with us in bloom\\nWould you have believed me\\nOr would you still have fallen\\n\\nDays go by like broken years, with nothing felt, not even tears\\nEverything's a lie\\n\\nIf I could have made you see, If I had tried everything I knew\\nJust a little harder...Would you still have fallen\\n\\nWhat's the use in all these words\\nWhere's the heart that I used to love\\nI'm sorry I'm too late\\nRational thinking come undone\\nBut it's not the man, it's the drug\\nEverything's a lie\\nWhere have you fallen??\\n\\nWell I loved you more than you'll ever know\\nAnd I trusted you to never hurt yourself, or anyone else\\nNow were the ones dying\\nYeah were the ones dying\\nYou're not even here\\nBut we're the ones dying\\n\\nSo what's the use in all these words\\nAnd where's the heart that I used to love\\nI'm sorry I'm too late\\nRational thinking come undone\\nBut it's not the man, it's the drug\\nEverything's a lie, Everything's a lie\\nIt's all a lie, It's all a lie\\n\\nIf I could have made you see, If I had tried everything I knew\"], [\"When I reach the end of Rodeo Road\\nDon't shed no tears for me\\nWhen I reach the end of Rodeo Road\\nSet my pony free\\nFrom a stick horse to a quarter horse\\nThe saddle has been my home\\nI’ve always walked in leather boots\\nI've always rode alone\\nWhen I reach the end of Rodeo Road\\nDon't shed no tears for me\\nAnd when I reach the end of Rodeo Road\\nSet my pony free\\nWhen I reach the end of Rodeo Road\\nSet my pony free\"], [\"(Holly Williams)\\n\\nI wish I were a little girl, in this lie\\nNo one could resist my little girl smile\\nI wish I were a baby, in this love\\nI'd be cradled in your arms day and night\\n\\nI wish I were an old man, a scholar\\nWith the wisdom of a 1,000 men before me\\nWish I were a funny dream that haunted\\nThe people I love every time they were down\\n\\nI wish I was a fine wine\\nI wish I were a good drug\\nHey and if I were Jesus , maybe I could heal all of us\\nJust like a good lover, which one do you prefer?\\nIn a world full of vices, I wish I were a little bird\\nSometimes\\n\\nI wish I were the sunset in Verona\\nI'd make a beautiful picture every time I went to bed\\nOr maybe more the sunrise waking up to a sad man\\nAnd hey if I were the blue skies, I'd never rain on him\\n\\nI wish I was a fine wine\\nI wish I were a good drug\\nYeah and if I were Jesus, maybe I could heal all of us\\nJust like a good lover, which one do you prefer?\\nIn a world full of vices, I wish I were a little bird\\nSometimes\\n\\nI wish I were an angel in 52'\\nIn a blue Cadillac on the eve of the new year\\nAnd there I would have saved him, the man who sang the blues\\nBut maybe he is listening right now\"], [\"Without you ~ Holly Williams / Lori McKenna\\n\\nI'm packing up to sing my songs all these towns blend into one\\nI'm somewhere in Madrid\\nI got here on crowded trains with old guitars and a famous name\\nRunning like a kid, I'm running like a kid\\nI carry 'round this old backpack full of CDs and Kerouac\\nLiving on the road\\nI left my heart on the coast of Wales with the boy I met at the last hotel\\nBut I had to let him go\\nThat's when I was searching, I'm not searching anymore\\nThat's when I was learning about the things worth living for\\nBefore I was open, before I knew I couldn't live a day\\nWithout you\\nI moved out west where the starlets play on the boulevards of west L.A\\nAnd I tried to make a name\\nBut it never felt like home to me so I drove three days back to Tennessee\\nIn a slow and steady rain\\nThat's when I was searching, I'm not searching anymore\\nThat's when I was learning about the things worth living for\\nBefore I was open, before I knew I couldn't live a day\\nWithout you\\nWithout you in the morning, to love me another day\\nWithout you in the evening, when the colors start to fade\\nWithout you on the plane ride to hold my hand and pray\\nWithout you standing here when you could've walked away\\nNow I'm not searching, I'm not searching anymore\\nBut I'm, I'm still learning about the things worth living for\\nI am here, I am open, now I know I couldn't live a day\\nWithout you\\n\\nHolly Williams – piano, vocal\\nJakob Dylan – background vocal\\nSam Ashworth - acoustic guitar, percussion\\nJerry McPherson - electric guitar\\nDoug Lancia - electric guitar\\nMatt Slocum - cello\\nMark Hill - bass\\nCharlie Peacock - keyboards, wurlitzer\"], [\"Why are you drinkin' like the night is young?\\nYeah, why are you drinkin' like the night is young?\\nKids are in the bed and the day is long done\\nSo, why are you drinkin' like the night is young?\\n\\nWhy are you screamin' like I don't have ears?\\nYeah, why are you screamin' like I don't have ears?\\nBaby I can hear you loud and clear\\nSo why are you screamin' like I don't have ears?\\n\\nYeah, why are you cheatin' on a woman like this?\\nYeah, why are you cheatin' on a woman like this?\\nI raise your babies and I kiss your ips\\nSo why are you cheatin' on a woman like this?\\n\\n[Instrumental bridge]\\n\\nWell, why are you leavin' like we don't exist?\\nYeah, why are you leavin' like we don't exist?\\nPackin' your bags and I clench my fist\\nSo why are you leavin' like we don't exist?\\n\\nNow I'm here drinkin' like the night is young\\nHey, I'm here drinkin' like the night is young\\nMomma took the kids and the money's all gone\\nSo why am I drinkin' like the night is young?\\n\\nOh, don't die drinkin' like the night is young\"], [\"Holly Williams\\n\\nI don't talk to him that much\\nI know I never pray enough\\nOh but I don't know where I would be\\nWithout Jesus here with me\\n\\nI don't know why I'm still here\\nOr why I lived that Wednesday morn\\nThey were raising hands and screaming holy\\nJesus was right there with me\\n\\nI gladly would have died that day to save the child who went away\\nBut you can't trade a life like that, I guess it's part of the master plan\\nMy sister fought, my daddy cried, my mama begged him for our lives\\nAnd I don't know where I would be\\nWithout Jesus here with me\\n\\nThe preacher tried to make me learn\\nI memorized his favorite verse\\nBut Hank's words they taught me everything\\nThank God I saw the light for me\\n\\nI gladly would have died that day to save the child who went away\\nBut you can't trade a life like that, I guess it's part of the master plan\\nMy sister fought my daddy cired my mama begged him for our lives\\nAnd I don't know where I would be\\nWithout Jesus here with me\\n\\nBefore I knew his mercy, before I know his grace\\nI was searching for the answers in a dark and hollow place\\nBefore I felt his presence, before I saw his face I was lost\\nOh I was lost\\n\\nI still don't talk to him that much\\nI know I never pray enough\\nOh but I don't where I would be without Jesus here with me\"], ['How can you refuse Him now, how can you refuse Him now?\\nHow can you turn away from His side?\\nWith tears in His eyes, on the cross there He died\\nHow can you refuse Jesus now?\\n\\nThere\\'s a story old that has often been told\\nOf how our Savior died, as they nailed His hands\\nHe cried, \"They don\\'t understand\"\\nAs the blood flowed from His side\\n\\nHow can you refuse Him now, how can you refuse Him now?\\nHow can you turn away from His side?\\nWith tears in His eyes, on the cross there He died\\nHow can you refuse Jesus now?\\n\\nAs He hung there on the tree, He prayed for you and me\\nThere was no one His pain to ease\\nBefore He died, He faintly cried\\n\"Father, forgive them, please\"\\n\\nHow can you refuse Him now, how can you refuse Him now?\\nHow can you turn away from His side?\\nWith tears in His eyes, on the cross there He died\\nHow can you refuse Jesus now?'], [\"Written by Sarah Buxton, Tom Bukovac and Greg Vorobiov\\n\\nI tell myself lies sometimes\\nYeah, I say he and I are gonna be alright\\nBut he don't know me\\nHe thinks I'm happy here\\nAnd that this big 'ol dark cloud gonna disappear\\nIf he just holds me\\n\\nHe feels the distance grow between us\\nI just can't wait to slip away\\n\\nChorus:\\nEvery night I know where I can find you\\nI just close my eyes and I'm right there beside you\\nEvery time I reach out and touch you\\nYou're gone with the morning\\nGone with the morning sun\\n\\nI wake up from all these dreams\\nI swear they seem so real to me\\nAnd it just kills me\\n\\nTo realize\\nThis life that I'm living\\nIs nothing like the one I could've had\\nI just miss ya so bad\\n\\nRepeat Chorus\\n\\nYou're the only one\\n\\nRepeat Chorus\\n\\nYou're the only one\"], [\"Railroads ~ Holly Williams\\n\\nWell I used to pray to Jesus but I done backslid\\nCarrying the burdens of a preacher’s kid\\nDrinking at the pulpit and healing them lame\\nDaddy was a-riding on the old death train\\nI had me a woman but she took my kid\\nWhen I gambled all our money on a moonshine still\\nNow I drink my whiskey from a beat up flask\\nThis train done departed and it's going fast\\nOh the wheels they spin, they're faster than a speeding aeroplane on a sunny day\\nAnd I can't break free cause I can't believe it's me\\nSo I'll take your bets, I'll try me walking down a narrow line with a life like mine\\nYou'll never see any boy as brave as me\\nI hope that this old railroad delivers me\\nI’m still the talk of this town I’m still the roll of their dice\\nI found me a lover in a whorehouse wife\\nShe never knew her mama or the money I've known\\nDon't ever make a judgment if you ain't been shown\\nYou never walked in my shoes you never understood\\nWhy I was escaping anyway that I could\\nNobody knows I’m gonna ride these rails 'til the dark comes over this prison cell\\nOh the wheels they spin, they're faster than a speeding aeroplane on a sunny day\\nAnd I can't break free cause I can't believe it's me\\nSo I'll take your bets, I'll try me walking down a narrow line with a life like mine\\nYou'll never see any boy as brave as me\\nI hope that this old railroad delivers me\\nWell the truth came out and the church burned down\\nDaddy's heart stopped on the edge of this town\\nI'm out here searching for that boy of my own\\nDon't ever make a judgment if you ain't been shown\\nOh the wheels they spin, they're faster than a speeding aeroplane on a sunny day\\nAnd I can't break free cause I can't believe it's me\\nSo I'll take your bets, I'll try me walking down a narrow line with a life like mine\\nYou'll never see any boy as brave as me\\nI hope that this old railroad delivers me\\n\\nChris Coleman – electric guitar, acoustic guitar, drums, background vocal\\nSam Ashworth - acoustic guitar\\nSteve Brewster – drums\\nGlenn Worff - bass\\nDan Dugmore – pedal steel\\nCharlie Peacock - piano\"], [\"Written by Holly Williams and Marcus Hummon\\n\\nThese things are always difficult between a father and a daughter\\nIt's always very delicate it makes it so much harder\\nWhen you look into her eyes you'll see you've always been her world\\nEven though she's growing now she's still your baby girl\\nI know it's hard\\n\\nTo ler her go, ler her go\\nLet her fall let her fly\\nShe wants to touch the world with her own hands\\n\\nLet her go, ler her go\\nLet her fall, let her fly\\nShe wants to touch the world with her own hands\\n\\nLet her go, let her go\\nLet her love and let her cry\\nIf you trust her soon you both will understand\\n\\nShe'll come back home if you let her go\\n\\nI know you want the best for her I know you're still afraid\\nOne day she's gonna leave you for a boy who is the same as\\nYou were in the 60's careless as the wind\\nShe's beautiful like her mama we know where that could end\\nI know it's hard\\n\\nTo ler her go, let her go\\nLet her fall, let her fly\\nShe wants to touch the world with her own hands\\n\\nLet her go, let her go\\nLet her love and let her cry\\nIf you trust her soon you both will understand\\nShe'll come back home if you let her go\\n\\nJust like the way you let me years ago\\nAnd I'm still coming home\\n\\nOh let her go, let her go, let her fall let her fly\\nShe wants to touch the world with her own hands\"], [\"The Highway ~ Holly Williams\\n\\nI've been sitting here wondering if I'll ever get\\nBack to those wheels will I ever be\\nChanging those strings out before nine\\nI am wishing for the life that I used to live\\nGiving everything that I had to give\\nIn a brand new city 'bout every night\\nMissing those nights, missing that sky I been missing home\\nMissing their smiles, missing those miles I been missing home\\nOut there on the highway out there on the open road\\nOh baby would you roll with me roll with me\\nHead down to New Orleans\\nI should be wearing out the blacktop\\nOut there with the boys I love\\nEverybody would you roll with me, roll with me\\nRunning down this dream\\nGet me out there on the highway\\nI've been sitting here asking him every night\\nFor a brand new song and a peace of mind\\nThe road is all I think about these days\\nAll I need is out there I will be just fine\\nWith a 6 string guitar and a jug of wine\\nWhen the lights go down around that stage\\nMissing their smiles, missing those miles I been missing home\\nYeah I been missing home\\nOut there on the highway out there on the open road\\nOh baby would you roll with me roll with me\\nHead down to New Orleans\\nI should be wearing out the blacktop\\nOut there with the boys I love\\nEverybody would you roll with me, roll with me\\nRunning down this dream\\nGet me out there on the highway\\nWell I miss the sound of rubber rolling out my window\\nAnd that crescendo the highway brings\\nThese wheels are gonna keep me spinning all my days\\nOut here on the highway\\n\\nChris Coleman - drums, background vocal\\nJerry McPherson - acoustic guitar\\nGlenn Worff - bass\\nDan Dugmore - pedal steel\\nPhil Madeira - organ\\nCharlie Peacock - piano, background vocal\"], [\"Written by Holly Williams\\n\\nThe clock never stops and I hate this damn phone\\nSomedays I wanna run from the place I call home\\nI guess I'm just needing some danger\\nGive me 3 days in bed with a stranger\\n\\nWe drank all our wine on the champs elysees\\nWe got carried away on the banks of the seine\\nWoke up on old boulevard St. Germain\\nGive me 3 days in bed with a stranger\\n\\nYou take the hard stuff it's menthols for me\\nI don't smoke but I do on occasions like these\\nNow that I've got me a French man to please\\nI'll have one robertino, and you can have me\\n\\nI barely can wait to go back there again\\nWith your body so warm and your face in my hands\\nYou know how I love to meet all your demands\\nGive me 3 days in bed with a stranger\\n\\nYou take the hard stuff it's menthols for me\\nI don't smoke but I do on occasions like these\\nNow that I've got me a French man please\\nI'll have one robertino, and you can have me\\n\\nThe clock never stops and I hate this damn phone\\nSomedays I wanna run from the place I call home\\nI guess I'm just needing some danger\\nGive me 3 days in bed with a stranger\"], [\"Happy ~ Holly Williams / Chris Coleman\\n\\nEverybody says it will be OK\\nBut I don't know when that day will come\\nWill it come\\nAll my friends they're trying to take me out set me up\\nGet me a little drunk and have some fun\\nBut the truth is I don't really care who these people are or what they have to say\\nAnd the truth is you're all I wanna see, when I get home tonight\\nAnd you're not there with me\\nYou're the only one who makes me, only one who makes me happy\\nI've been sleeping too late with the curtains drawn, the lights ain't on\\nDamn this old heartbreak, I'll give anything\\nTo be by your side and feel alive again, remember where we've been\\nAt the riverbanks, throwing stones against the wind\\nWell the truth is, I loved you all the same\\nThat night I broke your heart and the day you cursed my name\\nYeah and the truth is, I never really knew\\nYou were everything to me, until it was much too late\\nYou're the only one who makes me, only one who makes me happy\\nWell I threw it all away and I can’t go back\\nYeah I built these fires and left ashes in my path\\nAnd I know you'll never come 'round here no more\\nBut what I’d give to have you back again\\nOh to have you back again\\nEverybody says it’ll be OK but I don't know when that day will come\\nWill it come\\n\\nHolly Williams - acoustic guitar, vocal\\nChris Coleman – acoustic guitar, background vocal\\nMark Hill - bass\\nSteve Brewster - drums, percussion\\nMatt Slocum - cello\\nCharlie Peacock - keyboards\\nJerry McPherson – electric guitar\"], [\"Drinkin’ ~ Holly Williams\\n\\nWhy are you drinkin' like the night is young\\nWhy are you drinkin' like the night is young\\nThe kids are in the bed and the day is long done\\nSo why are you drinkin' like the night is young\\nWhy are you screamin' like I don't have ears\\nYeah why are you screamin' like I don't have ears\\nBaby I can hear you loud and clear\\nSo why are you screamin' like I don't have ears\\nWhy are you cheatin' on a woman like this\\nHey why are you cheatin' on a woman like this\\nI raise your babies and I kiss your lips\\nSo why are you cheatin' on a woman like this\\nWhy are you leavin' like we don't exist\\nYeah why are you leavin' like we don't exist\\nYou're packing your bags and I clench my fist\\nSo why are you leavin' like we don't exist\\nNow I'm here drinkin' like the night is young\\nYeah I'm here drinkin' like the night is young\\nMama took the kids and the money's all gone\\nAnd I'm here drinkin' like the night is young\\nHope we don't die drinkin' like the night is young\\n\\nHolly Williams - acoustic guitar, vocal\\nChris Coleman - drums, electric guitar, acoustic guitar, percussion\\nGlenn Warff - upright bass\\nAndy Leftwich - fiddle\\nDan Dugmore - lap steel\\nKen Lewis - percussion\\nCharlie Peacock - percussion\\nDoug Lancia - electric guitar\"], [\"Written by Holly Williams and Chris Janson\\n\\nLike a flame that never dies, I hold on for you\\nI flicker in the wind but I still burn for you\\nI used to move on easy I was strong\\nLike a widow to her lover I hold on\\n\\nLike a leaf in mid October I still change for you\\nI'd fall on the cold hard ground in the pouring rain for you\\nI used to move on easy I was strong\\nI know I shouldn't linger but I hold on\\n\\nPaint a picture of my memory to hold on to\\nJust remember I was the one that you belonged to\\nMy heart is pouring out here in this song, like a song without an ending I hold on\\nMy heart is pouring out here in this song, like a widow to her lover I hold on\"], [\"Bust open the window, rip down the blinds\\nI'm sick of hiding from the sweet sunshine\\nCause it ain't, ain't getting me nowhere\\n\\nI've been locked up in this house for way too long, yeah\\nI'm sitting around singing sad, sad songs\\nAnd it ain't, ain't getting me nowhere\\n\\nChorus:\\nIt's been a long time coming\\nI'm jumping off this reckless pity train\\nI'm all cashed out on your lovin'\\nI've paid my dues honey, you can keep the change\\n\\nI know how to nurse a bad heartache and\\nI can make it worse when I want to feel the pain\\nBut it ain't, ain't getting me nowhere\\n\\nI know how to cry a river, I know how to drown\\nPut that anchor 'round my ankles and let it take me down\\nBut it ain't, ain't getting me nowhere\\n\\nRepeat Chorus\\n\\nKeep the change, keep the change\\nKeep the change, keep the change\\n\\nRepeat Chorus\\n\\nI've paid my dues honey, you can keep the change\"], [\"We are all a little crazy, we are all a little weak\\nAnd we all are very fragile when there's nothing left to speak\\nWhen there's no one left to talk to, no more tears are left to cry\\nWill you stand up for the right thing or continue in denial-\\nI don't know\\n\\nWell you know I'd love to help you, you know I'd love to heal\\nBut without the hands of God you will never be revealed\\nSo take off your mask of happiness, take off your mask of fame\\nWe all know that you've got problems just like everybody's name\\n\\nI don't know why you fold in the arms of reality\\nWhy do you break with every wave in your stormy sea\\nYou know I'd love to think you were doing fine but I'd be lying\\n\\nSo don't tell me everything is good, don't walk on bitter ground\\nI have seen you at your worst and I still love you when you're down\\nBut I hate to see you live like this, I hate to see you crying\\nAnd I hate to see you tangled in her web of sex and lies\\nDo you have a god you pray to, Do you have a god you love\\nDo you have some twisted fear about the will from up above\\nDo you wait for him in silence, Do you wait for him in vain\\nDo you think some crazy fool is gonna preach away your pain\\n\\nI don't know why you fold in the arms of reality\\nWhy do you break with every wave in your stormy sea\\nWhy do you cringe at the wake of every godly dream\\nWhile I watch you laughing on the brink of insecurity\\nYou know I'd love to say you were doing fine but I'd be lying\\n\\nSo why must you walk with burdens much too big for you to bear\\nWhen you know it's not your fault\\nThere are saints and sinners everywhere\\nYou don't have to smile, I can read between your lines\\nI read guilt and I read mercy, I read glory to the father\\nI read bitterness and suffering and love for all your children\\nI read brokenness inside your heart and scars too deep to see\\nI read pain from a young boy who's father left too early\\nWho's mother tried to mold him into what she'd love to be...\\n\\nI don't know why you fold in the arms of reality\\nWhy do you break with every wave in your stormy sea\\nAnd why do you cringe at the wake of every godly dream while\\nI watch you laughin on the brink of insecurity\\nYou know we'd love to help, yeah you know we'd love to heal\\nBut without the hands of God you will never be revealed\\nYou know we'd all love to say you were doing fine but we'd be\"], [\"(Holly Williams)\\n\\nVelvet sounds you made\\nSleeping symphony as I would lie awake\\nIn the crevice of your shoulder soft and warm\\nThat's where I miss your breathing\\n\\nBlack and pink and white\\nThese are colors that remind me of the night\\nWe fell on your steps and wished for all our lives\\nTo be filled with such freedom\\n\\nPicture perfect place\\nPainting shadows on the canvas of your face\\nGraceful rhythms in the frantic love we made\\nMoving underneath moonlight\\n\\nNow, looking at my mirror\\nThe one you gave to me from the shop across the street\\nWhere everything is rare\\nJust like your blue eyes\\nJust like your sad goodbyes\\nJust like the heartfelt letter that your mother mailed to you\\nEverything made me cry\\n\\nSo here they come again\\nHaunting memories of you they always win\\nBegging for a place to come alive again\\nI swear I will not hurt you again\\n\\nVelvet sounds you made\\nSleeping symphony as I would lie awake\\nIn the crevice of your shoulder soft and warm\"], [\"Neil Young\\n\\nLover, there will be another one\\nWho'll hover over you beneath the sun\\nTomorrow see the things that never come\\nToday\\n\\nWhen you see me\\nFly away without you\\nShadow on the things you know\\nFeathers fall around you\\nAnd show you the way to go\\nIt's over, it's over\\n\\nNestled in your wings my little one\\nThis special morning brings another sun\\nTomorrow see the things that never come\\nToday\\n\\nWhen you see me\\nFly away without you\\nShadow on the things you know\\nFeathers fall around you\\nAnd show you the way to go\\nIt's over, it's over\"], [\"[Verse 1]\\nWell, we busted out of class\\nHad to get away from those fools\\nWe learned more from a three-minute record, baby\\nThan we ever learned in school\\nTonight I hear the neighborhood drummer sound\\nI can feel my heart begin to pound\\nYou say you're tired and you just want to close your eyes\\nAnd follow your dreams down\\n\\n[Chorus]\\nWell we made a promise we swore we’d always remember\\nNo retreat, baby, no surrender\\nLike soldiers in the winter's night with a vow to defend\\nNo retreat, baby, no surrender\\n\\n[Verse 2]\\nNow young faces grow sad and old\\nAnd hearts of fire grow cold\\nWe swore blood brothers against the wind\\nI am ready to grow young again\\nAnd hear your sister's voice calling us home\\nAcross the open yards\\nWell maybe we could cut someplace of our own\\nWith these drums and these guitars\\n\\n[Chorus]\\nOh we made a promise we swore we’d always remember\\nNo retreat, baby, no surrender\\nBlood brothers in the stormy night with a vow to defend\\nNo retreat, baby, no surrender\\n\\n[Verse 3]\\nNow on the street tonight the lights grow dim\\nThe walls of my room are closing in\\nThere's a war outside still raging\\nYou say it ain't ours anymore to win\\nI want to sleep beneath peaceful skies\\nIn my lover's bed\\nWith the wide open country in my eyes\\nAnd these romantic dreams in my head\\n\\n[Chorus]\\nOh we made a promise we swore we'd always remember\\nNo retreat, baby, no surrender\\nBlood brothers in the stormy night with a vow to defend\\nNo retreat, baby, no surrender\\nNo retreat, baby, no surrender\"], [\"(Holly Williams)\\n\\nLove no more, I have got a prayer\\nI ask forgiveness everywhere\\nDevil unseen, please stop bothering me\\nI've got a broken man to repair\\n\\nBrakes aren't working now\\nI'm trying to stop this train\\nOf desperation, loneliness and pain\\n\\nNothing's up ahead, the lights are supposed to be there\\nAnd you probably think I never cared\\nI hope to God one day you find some peace\\nWith the memory of me\\n\\nNow it's all in your head, and I'm the one at fault\\nMaybe I never loved you at all\\nI'd like to say I did, but I just don't know how\\nMy heart could do the damage I allowed\\nThe victim of my youth, the soldier of my dread\\nAnd I left all those tears in your bed\\nI hope to God one day you'll find some peace\\nWith the memory me\\n\\nMy potential is improving, my reckless days more calm\\nI know you won't believe me when I'm singing you this song\\nDamn I wanted to please you, I just didn't have the will\\nI was never looking for someone to keep me still...\\nNow I see\\n\\nSo if you pass this way again, if you feel the need\\nI'd love to hear the words that wait for me\\nBut you don't need my sympathy, you're stronger than I think\"], [\"Written by Holly Williams\\n\\nYou could've been bitter, you could've hated him\\nYou could've talked about the whiskey and the women\\nHe couldn've done better, but you loved him anyhow\\nThen you taught us all the power of forgiveness\\n\\nMama, you were smiling when you could've been crying all night\\nMama, you made me believe everything was alright\\nMama, you never wore your pain too thick\\nI'd like to thank you for this\\n\\nYou could've fought, you could've cut him down to shame\\nYou could've told us that our daddy didn't want us\\nBut that wasn't true, and you knew it all along\\nIt was a struggle between the road and loving you\\n\\nMama, you were smiling when you could've been crying all night\\nMama, you made me believe everything was alright\\nMama, you never wore your pain too thick\\nI'd like to thank you for this\\n\\nYou did more good for me than you will ever know\\nI've seen mothers fill their childrens hearts with hate\\nBut you knew better than to drag me down with you\\nYou let me love my daddy just the same\\n\\nMama, you were smiling when you could've been crying all night\\nMama, you made me believe everything was alright\\nMama, you never wore your pain too thick\\nI'd like to thank you for this\\nOh I'd like to thank you for this\"], [\"(Holly Williams)\\n\\nIt's a dead end road and I'm fully aware\\nYou got me there, It got me to you\\nBaby I could do better but I don't care\\nIt's all the same when it's killing you\\n\\nPlease don't leave me, though my heart is black and blue\\nMy love, deceive me\\nI'll believe you\\nTake Me Down\\n\\nIt's a naive world who loves the pain\\nThe more it hurts, the more we gain\\nAnd I talk to God but I got no prayers\\nI don't wanna rise out of this hell\\n\\nPlease don't leave me, though my heart is black and blue\\nMy love, deceive me\\nI'll believe you, I'll believe you\\nTake Me Down\\n\\nI'll please you in the morning light\\nWhen you're done, you leave my bed\\nAnd I've known all along that this ain't right\\nI give, I give, I give\\nYou only take\"], [\"Holly Williams and Chris Janson\\n\\nThis skinny country boy he caught my eye\\nI never could have guessed what I would find\\nHe laughs about the boys I used to kiss\\nAnd I love him, yes I love him\\n\\nThat lanky city girl I could have died\\nI wanted her real bad but I was shy\\nThen she got me drunk and I gave up\\nAnd I love her, yes I love her\\n\\nI finally found a love I think could last\\nHe don't give a damn about my past\\nI found a boy who treats me like a queen\\nI don't wana wake up from this dream\\nI love you, yes I love you\\n\\nHe lives the way I look when I wake up\\nEven if my hair ain't found a brush\\nShe hates it when I'm talking in my sleep\\nEven though I was asking her to marry me\\n\\nI finally found a love I think could last\\nHe don't give a damn about my past\\nI've got a boy who treats me like a queen\\nI don't want to wake up from this dream\\nI love you, yes I love you\\n\\nRepeat\"], [\"Giving Up ~ Holly Williams\\n\\n17 years with a wedding ring\\nThe saddest damn story you ever seen\\n2 little kids and a good-hearted man\\nTrying to save her if they can\\nI tried myself I cried with her\\nI held her hand, we talked to the lord\\nBut we’re only human and we can't change\\nSomebody's will to leave their ways\\nThe doctor said you'd die\\nIf you had another drink\\nWell I wonder if it scares you, I wonder if you think\\nAbout the daughter that you're leaving, the man you used to love\\nAnd the son that cries for you, oh yes that child that cries for you\\nWell I guess this is it, you must be giving up\\nYou put us all through a living hell\\nA thousand excuses for your liquor trail\\nBut my compassion is fading fast\\nAnother rehab and you break another glass\\nBottles in dryers, bottles in shoes\\nThere were even bottles in the baby's room\\nYou're losing everything that you ever had\\nYour life is one thing all that money can’t buy back\\nThe doctor said you'd die\\nIf you had another drink\\nWell I wonder if it scares you, I wonder if you think\\nAbout the daughter that you're leaving, the man you used to love\\nAnd the son that cries for you, oh yes that child that cries for you\\nWell I guess this is it you must be giving up\\nI7 years with a wedding ring\\nThe saddest damn story you ever seen\\n2 little kids and a good-hearted man\\nTrying to save her if they can\\n\\nHolly Williams – acoustic guitar and vocal\\nChris Coleman - drums\\nGlenn Worff - bass\\nTammy Rogers King - fiddle\\nCharlie Peacock - wurlitzer, background vocals\\nSam Ashworth – acoustic guitar\\nBruce Bouton - pedal steel\\nDoug Lancia - electric guitar\\nJerry McPherson - electric guitar\"], [\"(Holly Williams)\\n\\nUnderneath this age is the heart of a child\\nIt only wants to love, it begs to come alive\\nI want your desire and I long for your hands\\nTo grace me with their presence and touch me again\\nNothing More\\n\\nI don't want your nice gifts\\nI'm so tired of your words\\nI'd really like a feeling from the place that you love\\nNothing more\\n\\nIt's a long way we've come just to simply exist like this\\n\\nTell me something true, even if it hurts\\nI'm waiting on a sign, do you remember love\\nDo you remember love?\\nNothing More\\n\\nAll that I want is you in the end\\nAll that I want is you in the end\\nAll that I want is you in the end\\nAll that I want is you\"], [\"Gone Away From Me ~ Holly Williams\\n\\nI grew up in a town with one red light\\nHow that train would rattle me in the middle of the night\\nBut I slept like a baby in that bed\\nCuz' mama kept me warm and kept me fed\\nJuly 3rd was a dreaded friend of mine\\nWe'd all go down to the family plot in the Louisiana pines\\nStaring at that little baby's grave\\nStella was as young as she was brave\\nAnd what I'd give to go there again\\nKiss my daddy's face, hold my mama's hand\\nLittle did I know soon they would be lying right beside her\\nGone away from me\\nThey always made us kneel by grandpa's grave\\nMama started wailing asking god if he was saved\\nI never liked to see my daddy cry\\nI guess I'll never know how grandpa died\\nAnd what I'd give to go there again\\nKiss my daddy's face, hold my mama's hand\\nLittle did I know soon they would be lying right beside him\\nGone away from me\\nYou barely even see the tombstones now\\nThe trees are grown up everywhere and no one keeps the grounds\\nStrangers live inside my childhood home\\nAnd I can't believe that daddy's really gone\\nWhat I'd give to go there again\\nKiss his withered face, hold her gentle hand\\nBut there ain't no way that will ever be\\nThey're lying 'neath that oak tree gone away from me\\nWell I grew up in a town with one red light\\n\\nHolly Williams – acoustic guitar, vocal\\nJackson Browne - background vocal\\nChris Coleman – acoustic guitar, background vocal\\nMark Hill - bass\\nSteve Brewster - drums\\nKen Lewis – percussion\\nMatt Slocum - cello\\nDan Dugmore - pedal steel\\nCharlie Peacock - keyboards, piano, trumpet\\nAndy Leftwich - fiddle\\nJerry McPherson - electric guitar\"], [\"Blue is my heart blue as the sky\\nMemories of you they're making me cry\\nLonging for you in days all gone by\\nBlue is my heart blue as the sky\\n\\nLife is so bare since you said goodbye\\nThere's no tomorrow so why should I try\\nJoys of this life they're passing me by\\nBlue is my heart blue as the sky\\n\\nThe flowers stop blooming\\nField used to be green\\nYour love's just a memory gone like the spring\\nLord come and take me away I'm so blue everyday\\n\\nOh my love it ain't nothing to you anymore\\nSweet darling I'm praying you'll knock at my door\\nUntil that day comes and tears in my eyes\\nBlue is my heart blue as sky\\nBlue is my heart blue as sky\"], [\"Written by Holly Williams and Chuck Jones\\n\\nI see clearly, I'm on the outside\\nI've been watching you fall from the start\\nI can't believe it, how'd you get here\\nI remember you when you were smart\\nIt's not that you've lost all that now\\nBut blind is the love that leaves no room for doubt\\n\\nHe's making a fool out of you\\nHe's making a fool out of you\\nHe's making a fool out of you\\nButt you're still smiling\\n\\nHave you forgotten, all that you taught me\\nNever lay down your heart for a lie\\nIt's gonna hurt you when your eyes open\\nAnd you shed all those tears you've denied\\nEveryone needs someone else\\nBut love only grows when you don't lose yourself\\n\\nHe's making a fool out of you\\nHe's making a fool out of you\\nHe's making a fool out of you\\nBut you're still smiling\\n\\nSo have you forgotten all that you taught me\\nNever lay down your heart for a lie\"], [\"(Holly Williams)\\n\\nI think it's time you look at your own face\\nCan't you see your speaking out of place\\nThere's nothing to keep you down\\nYou're reaching for the sky while you drown\\nI'm aware that I've been lost and I've been unkind\\nBut at least I got the courage to admit the crime\\nSo don't come down on me\\nI'm still young I'm trying to believe\\n\\nWait, I'll be fine\\nJust give me a couple years to say my prayers\\nI'm alive, you should keep that mirror for yourself\\nYou've got problems you never saw\\nAnd I'm the bearer of them all\\n\\nEverybody's waiting for me to fall\\nYou criticize my walk as I watch you crawl\\nNothing's ever fair\\nBut I believe in reality everywhere\\n\\nWait, I'll be fine\\nJust give me a couple years to say my prayers\\nI'm alive, you should keep that mirror for yourself\\nEverybody's fighting hard\\nBut there's no leader in the dark\\n\\nEverybody's waiting for a change\\nEverybody's waiting for...\\n\\nEverybody's waiting for something better\\nEverybody's peeking behind that door\\nIf you try too hard you will never find it\\nEverybody's waiting for something more\"], [\"A Good Man ~ Holly Williams / Sarah Buxton\\n\\nIf I never saw you once again\\nIf suddenly you met your bitter end\\nI'm not sure I'd ever understand\\nBut I could say I loved a good man\\nIf I couldn't hold you anymore\\nOr leave the world to lie at our front door\\nAnd crawl inside this hiding place with you\\nI'm not sure I'd ever make it through\\nOh your tender heart\\nTaught me the hardest part that I could never learn\\nEverything you do promises I love you\\nIf you ever slip out of my hands\\nI could say I loved a good man\\nLooking at your face across the room\\nEverything else fades but me and you\\nLove is not as simple as it seems\\nBut I have learned to trust the space between\\nOh your tender heart\\nTaught me the hardest part that I could never learn\\nEverything you do promises I love you\\nIf you ever slip out of my hands\\nI could say I loved a good man\\nWhen we look back on our years together\\nThe only one I gave my whole heart to\\nI hope that we’re still counting on forever like\\nIt’s something new\\nOh your tender heart taught me the hardest part\\nIs having to let go\\nEverything you do promises I love you\\nIf you ever slip out of my hands\\nI could say I held, I could say I knew\\nI could say I loved a good man\\n\\nHolly Williams - piano and vocal\\nMatt Slocum – cello\\nGlen Worff – upright bass\\nCharlie Peacock – keyboards\\nJerry McPherson – electric guitar\\nDon Dugmore – pedal steel\\nAndy Leftwich – fiddle\\nSam Ashworth - acoustic\"], [\"Waiting On June ~ Holly Williams\\n\\nShe was from north Louisiana in the town of Mer Rouge\\nI fell in love in a week or two it didn't take long to love a girl like that\\nWe were barely ten in the cotton fields playing horseshoe with the colored kids\\nI tried to kiss her she grabbed a baseball bat\\nWaiting on June, I hope she comes to see me\\nWaiting on June, I can't take this feeling\\nWaiting on June, I pray to god she'll love me one of these days\\nI hope I find my way waiting on June\\nI went off in ‘42 to fight those boys and pay my dues\\nHer wallet picture kept my spirits high\\nCharley boy died in my arms, he saw Jesus I saw blood\\nIt soaked her wallet picture that cold night\\nI told my best friend charley I would kiss his girl goodbye\\nHe made me promise I’d go home and make miss June my wife\\nShaking like a drunk old fool I hopped off of that plane\\nAnd I ran home to ask her in the rain\\nWaiting on June, I hope that she says yes\\nWaiting on June, in her faded summer dress\\nWaiting on June, her daddy shook my hand\\nAnd she lit up the moment I pulled out that silver band\\nWaiting on June\\nWell we married at the Methodist church\\nFound a big white cow and a piece of dirt with pecan trees to build our homestead on\\nJolynn, Becky then Donna then Shelby our tiny house was a sanctuary\\nLaughter filled those rooms all day long\\nWaiting on June, she's putting on her makeup\\nWaiting on June, she's trying to get her hair curled\\nWaiting on June, kids listen to me\\nYou walk on down to Sunday school I'll be there in 15\\nWaiting on June\\nThe time flew by like they said it would\\nThe kids grew fast and the farm did good\\nMrs. Bertha made our supper everyday\\nAt noon that silver bell would ring\\nWe'd all say grace and dig on in we always ate together in those days\\nOh one by one those kids went off and found a love their own\\nThere’s nothing like the joy I knew when they brought their babies home\\nWe'd play all day in the cotton fields with the dogs I raised up right\\nAnd end in grandma's kitchen every night\\nWaiting on June, honey don't burn the bacon\\nWaiting on June, our bellies are a' achin\\nWaiting on June, she turns that fork so slow\\nAnd we all had to sit there til the last bite was no more\\n\\nHolly Williams – acoustic guitar, vocal\\nGwyneth Paltrow – background vocal\\nChris Coleman – acoustic guitar, background vocal, lap steel\"], [\"Did your lover leave you stranded\\nDid your heart endure the truth\\nWill you fight to find the healing or will time heal all your wounds\\nDo you drown in your desire for a time you used to know\\nMemories can't touch you they are just a picture show\\nDont let go, oh honey can't you see\\nEverythings a circle in itself\\nAll as it should be\\n\\nHave you stood inside a nightmare\\nDid it slap you in the face\\nWere you left to lose control\\nDid you ever find a way\\nWas it somebody that loved you or a face you've never seen\\nSo final, so quick are the hands of destiny\\nDon't let go, honey can't you see\\nEverythings a circle in itself\\nAll as it should be\\n\\nYou philosophize each second then you live as if you're dead\\nAlways aching for the beauty of the visions in your head\\nWas it something that you wanted only never had the guts\\nNow you stand ashamed and regret your giving up\\nWhere would you be, if you had tried\\nIf you had given all you could...\\nTo the passion of your life\\n\\nThere is someone out there watching every step you take today\\nEvery struggle, all confusion, endless questions in your head\\nBut he's got you where he wants you\\nThere are reasons we can't see\\nWe all stand where we belong\\nEvery moment meant to be\\nSo don't let go, honey can't you see\\nEverythings a circle in itself\\nAll as it should be\\nAll as it should be\\nAll as it should be\\nAll as it should be\\n\\nI hope there's something in these words to reveal you before everything you hide\\nAnd if you never have believed maybe you will find the willingness to try\\n\\nSee everything lies in its place\\nThrough doubt, through love, through fear, through change\"]]\n"
          ],
          "name": "stdout"
        },
        {
          "output_type": "execute_result",
          "data": {
            "text/plain": [
              "40"
            ]
          },
          "metadata": {
            "tags": []
          },
          "execution_count": 27
        }
      ]
    },
    {
      "cell_type": "code",
      "metadata": {
        "id": "KTEmKadzYM8W",
        "colab_type": "code",
        "outputId": "9040bc17-810f-4732-9821-a13de3d481de",
        "colab": {
          "base_uri": "https://localhost:8080/",
          "height": 35
        }
      },
      "source": [
        "# Creating a dataframe object from list\n",
        "dfLyrics = pd.DataFrame(lyrics)\n",
        "len(dfLyrics)"
      ],
      "execution_count": 0,
      "outputs": [
        {
          "output_type": "execute_result",
          "data": {
            "text/plain": [
              "40"
            ]
          },
          "metadata": {
            "tags": []
          },
          "execution_count": 28
        }
      ]
    },
    {
      "cell_type": "code",
      "metadata": {
        "id": "QihXRaH-Od7B",
        "colab_type": "code",
        "outputId": "329fbf0b-79a9-4a8c-c2bd-2815475c80b4",
        "colab": {
          "base_uri": "https://localhost:8080/",
          "height": 202
        }
      },
      "source": [
        "dfLyrics.head()"
      ],
      "execution_count": 0,
      "outputs": [
        {
          "output_type": "execute_result",
          "data": {
            "text/plain": [
              "                                                   0\n",
              "0  (Holly Williams)\\n\\nA memory falls down from w...\n",
              "1  Shoot the moon, hit the stars\\nSend my love ru...\n",
              "2  (Holly Williams)\\n\\nI used to call you mystery...\n",
              "3  Let You Go ~ Holly Williams / Chris Coleman\\n\\...\n",
              "4  Written by Holly Williams\\n\\nMaybe I give up t..."
            ],
            "text/html": [
              "<div>\n",
              "<style scoped>\n",
              "    .dataframe tbody tr th:only-of-type {\n",
              "        vertical-align: middle;\n",
              "    }\n",
              "\n",
              "    .dataframe tbody tr th {\n",
              "        vertical-align: top;\n",
              "    }\n",
              "\n",
              "    .dataframe thead th {\n",
              "        text-align: right;\n",
              "    }\n",
              "</style>\n",
              "<table border=\"1\" class=\"dataframe\">\n",
              "  <thead>\n",
              "    <tr style=\"text-align: right;\">\n",
              "      <th></th>\n",
              "      <th>0</th>\n",
              "    </tr>\n",
              "  </thead>\n",
              "  <tbody>\n",
              "    <tr>\n",
              "      <td>0</td>\n",
              "      <td>(Holly Williams)\\n\\nA memory falls down from w...</td>\n",
              "    </tr>\n",
              "    <tr>\n",
              "      <td>1</td>\n",
              "      <td>Shoot the moon, hit the stars\\nSend my love ru...</td>\n",
              "    </tr>\n",
              "    <tr>\n",
              "      <td>2</td>\n",
              "      <td>(Holly Williams)\\n\\nI used to call you mystery...</td>\n",
              "    </tr>\n",
              "    <tr>\n",
              "      <td>3</td>\n",
              "      <td>Let You Go ~ Holly Williams / Chris Coleman\\n\\...</td>\n",
              "    </tr>\n",
              "    <tr>\n",
              "      <td>4</td>\n",
              "      <td>Written by Holly Williams\\n\\nMaybe I give up t...</td>\n",
              "    </tr>\n",
              "  </tbody>\n",
              "</table>\n",
              "</div>"
            ]
          },
          "metadata": {
            "tags": []
          },
          "execution_count": 29
        }
      ]
    },
    {
      "cell_type": "code",
      "metadata": {
        "id": "zeZhfRosuRzq",
        "colab_type": "code",
        "colab": {}
      },
      "source": [
        "dfLyrics.to_csv(r'/Users/johnfields/holly.txt', header=None, index=None, sep=' ', mode='a')"
      ],
      "execution_count": 0,
      "outputs": []
    },
    {
      "cell_type": "code",
      "metadata": {
        "id": "BgFa61T95l1R",
        "colab_type": "code",
        "colab": {}
      },
      "source": [
        ""
      ],
      "execution_count": 0,
      "outputs": []
    },
    {
      "cell_type": "code",
      "metadata": {
        "id": "e6haFwBtuUkr",
        "colab_type": "code",
        "colab": {}
      },
      "source": [
        ""
      ],
      "execution_count": 0,
      "outputs": []
    },
    {
      "cell_type": "code",
      "metadata": {
        "id": "yYt6piEaub1-",
        "colab_type": "code",
        "colab": {}
      },
      "source": [
        ""
      ],
      "execution_count": 0,
      "outputs": []
    },
    {
      "cell_type": "code",
      "metadata": {
        "id": "Pk2Jjz-XueiE",
        "colab_type": "code",
        "colab": {}
      },
      "source": [
        ""
      ],
      "execution_count": 0,
      "outputs": []
    }
  ]
}
