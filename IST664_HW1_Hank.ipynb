{
  "nbformat": 4,
  "nbformat_minor": 0,
  "metadata": {
    "colab": {
      "name": "IST664-HW1-Hank.ipynb",
      "provenance": [],
      "collapsed_sections": []
    },
    "kernelspec": {
      "name": "python3",
      "display_name": "Python 3"
    }
  },
  "cells": [
    {
      "cell_type": "code",
      "metadata": {
        "id": "TwCcd92lxlzV",
        "colab_type": "code",
        "colab": {}
      },
      "source": [
        "# Week 2:  Bigram Frequencies and Mutual Information\n",
        "# This file has small examples that are meant to be run individually\n",
        "# in the Python interpreter or jupyter notebook cells"
      ],
      "execution_count": 0,
      "outputs": []
    },
    {
      "cell_type": "code",
      "metadata": {
        "id": "J-l_9rHbGrMH",
        "colab_type": "code",
        "colab": {}
      },
      "source": [
        "import pandas as pd\n",
        "import io"
      ],
      "execution_count": 0,
      "outputs": []
    },
    {
      "cell_type": "code",
      "metadata": {
        "id": "ztELZ6inx9Wq",
        "colab_type": "code",
        "outputId": "3cb8a6a0-6fc4-4220-978d-ce2b379918c9",
        "colab": {
          "base_uri": "https://localhost:8080/",
          "height": 104
        }
      },
      "source": [
        "# Getting started to process a text example\n",
        "import nltk\n",
        "from nltk import FreqDist\n",
        "nltk.download('punkt')\n",
        "nltk.download('stopwords')"
      ],
      "execution_count": 0,
      "outputs": [
        {
          "output_type": "stream",
          "text": [
            "[nltk_data] Downloading package punkt to /root/nltk_data...\n",
            "[nltk_data]   Package punkt is already up-to-date!\n",
            "[nltk_data] Downloading package stopwords to /root/nltk_data...\n",
            "[nltk_data]   Package stopwords is already up-to-date!\n"
          ],
          "name": "stdout"
        },
        {
          "output_type": "execute_result",
          "data": {
            "text/plain": [
              "True"
            ]
          },
          "metadata": {
            "tags": []
          },
          "execution_count": 18
        }
      ]
    },
    {
      "cell_type": "code",
      "metadata": {
        "id": "VdDA_CuByADY",
        "colab_type": "code",
        "outputId": "55f48e72-6a4a-42d8-e1aa-eafefd02527d",
        "colab": {
          "base_uri": "https://localhost:8080/",
          "height": 72
        }
      },
      "source": [
        "# get the text of the lyrics, tokenize it,\n",
        "#   and reduce the tokens to lowercase.\n",
        "#file0 = nltk.corpus.gutenberg.fileids( ) [3]\n",
        "#hanktext = nltk.corpus.gutenberg.raw(file0)\n",
        "f = open('hankedit.txt')\n",
        "raw = f.read()\n",
        "hanktokens = nltk.word_tokenize(raw) \n",
        "hankwords = [w.lower( ) for w in hanktokens] \n",
        "# show some of thv words\n",
        "print(len(hankwords))\n",
        "print(hankwords[ :110])"
      ],
      "execution_count": 0,
      "outputs": [
        {
          "output_type": "stream",
          "text": [
            "8050\n",
            "['if', 'the', 'wife', 'and', 'i', 'are', 'fussin', \"'\", ',', 'brother', ',', 'that', \"'s\", 'our', 'right', \"'cause\", 'me', 'and', 'that', 'sweet', 'woman', \"'s\", 'got', 'a', 'license', 'to', 'fight', 'why', 'do', \"n't\", 'you', 'mind', 'your', 'own', 'business', '?', 'mind', 'your', 'own', 'business', \"'cause\", 'if', 'you', 'mind', 'your', 'business', ',', 'then', 'you', 'wo', \"n't\", 'be', 'mindin', \"'\", 'mine', 'oh', ',', 'the', 'woman', 'on', 'our', 'party', 'line', \"'s\", 'the', 'nosiest', 'thing', 'she', 'picks', 'up', 'her', 'receiver', 'when', 'she', 'knows', 'it', \"'s\", 'my', 'ring', 'why', 'do', \"n't\", 'you', 'mind', 'your', 'own', 'business', '?', 'mind', 'your', 'own', 'business', \"'cause\", 'if', 'you', 'mind', 'your', 'business', ',', 'then', 'you', 'wo', \"n't\", 'be', 'mindin', \"'\", 'mine', 'i', 'got', 'a']\n"
          ],
          "name": "stdout"
        }
      ]
    },
    {
      "cell_type": "code",
      "metadata": {
        "id": "gj_3iCE9yEH8",
        "colab_type": "code",
        "colab": {}
      },
      "source": [
        "# Creating a frequency distribution of words\n",
        "ndist = FreqDist(hankwords)"
      ],
      "execution_count": 0,
      "outputs": []
    },
    {
      "cell_type": "code",
      "metadata": {
        "id": "98JgMj83yGmG",
        "colab_type": "code",
        "outputId": "d25aac3e-1324-4620-97c0-623ecdd5ce8e",
        "colab": {
          "base_uri": "https://localhost:8080/",
          "height": 884
        }
      },
      "source": [
        "# print the top 50 tokens by frequency\n",
        "nitems = ndist.most_common(50)\n",
        "for item in nitems:\n",
        "    print (item[0], '\\t', item[1])"
      ],
      "execution_count": 0,
      "outputs": [
        {
          "output_type": "stream",
          "text": [
            "i \t 327\n",
            "the \t 308\n",
            ", \t 234\n",
            "and \t 215\n",
            "a \t 190\n",
            "you \t 184\n",
            "my \t 143\n",
            "me \t 133\n",
            "to \t 124\n",
            "in \t 116\n",
            "'s \t 115\n",
            "on \t 110\n",
            "' \t 104\n",
            "'' \t 104\n",
            "'ll \t 100\n",
            "it \t 90\n",
            "of \t 83\n",
            "that \t 74\n",
            "your \t 74\n",
            "n't \t 71\n",
            "got \t 56\n",
            "he \t 56\n",
            "do \t 53\n",
            "'m \t 52\n",
            "lord \t 48\n",
            "when \t 47\n",
            "she \t 45\n",
            "we \t 45\n",
            "love \t 44\n",
            "but \t 44\n",
            "no \t 44\n",
            "have \t 44\n",
            "be \t 43\n",
            "all \t 43\n",
            "for \t 42\n",
            "over \t 42\n",
            "so \t 40\n",
            "is \t 40\n",
            "heart \t 36\n",
            "was \t 36\n",
            "with \t 35\n",
            "there \t 32\n",
            "oh \t 30\n",
            "like \t 30\n",
            "- \t 29\n",
            "just \t 28\n",
            "down \t 28\n",
            "will \t 27\n",
            "if \t 26\n",
            "new \t 26\n"
          ],
          "name": "stdout"
        }
      ]
    },
    {
      "cell_type": "code",
      "metadata": {
        "id": "V3cIL9_pviW7",
        "colab_type": "code",
        "outputId": "b3511a81-6a9c-4d43-8e03-423f6f3187b1",
        "colab": {
          "base_uri": "https://localhost:8080/",
          "height": 300
        }
      },
      "source": [
        "ndist.plot(30,cumulative=False)"
      ],
      "execution_count": 0,
      "outputs": [
        {
          "output_type": "display_data",
          "data": {
            "image/png": "[encoded data removed]",
            "text/plain": [
              "<Figure size 432x288 with 1 Axes>"
            ]
          },
          "metadata": {
            "tags": []
          }
        }
      ]
    },
    {
      "cell_type": "code",
      "metadata": {
        "id": "3hnK8NpmyNnQ",
        "colab_type": "code",
        "outputId": "1d364d4c-c51a-42c2-8da9-0e5562e6003e",
        "colab": {
          "base_uri": "https://localhost:8080/",
          "height": 55
        }
      },
      "source": [
        "print(hankwords[:160])\n",
        "#print(hankwords2lowercase[:160])"
      ],
      "execution_count": 0,
      "outputs": [
        {
          "output_type": "stream",
          "text": [
            "['if', 'the', 'wife', 'and', 'i', 'are', 'fussin', \"'\", ',', 'brother', ',', 'that', \"'s\", 'our', 'right', \"'cause\", 'me', 'and', 'that', 'sweet', 'woman', \"'s\", 'got', 'a', 'license', 'to', 'fight', 'why', 'do', \"n't\", 'you', 'mind', 'your', 'own', 'business', '?', 'mind', 'your', 'own', 'business', \"'cause\", 'if', 'you', 'mind', 'your', 'business', ',', 'then', 'you', 'wo', \"n't\", 'be', 'mindin', \"'\", 'mine', 'oh', ',', 'the', 'woman', 'on', 'our', 'party', 'line', \"'s\", 'the', 'nosiest', 'thing', 'she', 'picks', 'up', 'her', 'receiver', 'when', 'she', 'knows', 'it', \"'s\", 'my', 'ring', 'why', 'do', \"n't\", 'you', 'mind', 'your', 'own', 'business', '?', 'mind', 'your', 'own', 'business', \"'cause\", 'if', 'you', 'mind', 'your', 'business', ',', 'then', 'you', 'wo', \"n't\", 'be', 'mindin', \"'\", 'mine', 'i', 'got', 'a', 'little', 'gal', 'that', 'wears', 'her', 'hair', 'up', 'high', 'the', 'boys', 'all', 'whistle', 'when', 'she', 'walks', 'by', 'why', 'do', \"n't\", 'you', 'mind', 'your', 'own', 'business', '?', 'mind', 'your', 'own', 'business', 'well', ',', 'if', 'you', 'mind', 'your', 'business', ',', 'then', 'you', 'sure', 'wo', \"n't\", 'be', 'mindin', \"'\", 'mine', 'if', 'i', 'want', 'to']\n"
          ],
          "name": "stdout"
        }
      ]
    },
    {
      "cell_type": "code",
      "metadata": {
        "id": "p2VB4RlJytxN",
        "colab_type": "code",
        "colab": {}
      },
      "source": [
        "# this function takes a string and a list of words as parameters.\n",
        "#   It will return all the words in the list that contain the string as a substring\n",
        "def searchstring (substring, wordlist):\n",
        "    # initialize the result\n",
        "    result = [ ]\n",
        "    #  loop over all the words\n",
        "    for word in wordlist:\n",
        "        # test each word if it contains the substring\n",
        "        if substring in word:\n",
        "            # add it to the result\n",
        "            result.append(word)\n",
        "    return result"
      ],
      "execution_count": 0,
      "outputs": []
    },
    {
      "cell_type": "code",
      "metadata": {
        "id": "8R1q0NEMyxuM",
        "colab_type": "code",
        "outputId": "2a997f9f-67bd-4a95-b1bc-f4708451da29",
        "colab": {
          "base_uri": "https://localhost:8080/",
          "height": 35
        }
      },
      "source": [
        "searchstring('z', hankwords)"
      ],
      "execution_count": 0,
      "outputs": [
        {
          "output_type": "execute_result",
          "data": {
            "text/plain": [
              "['lazarus', \"buzzin'\", 'dozen', 'magazines', 'magazines', 'crazy']"
            ]
          },
          "metadata": {
            "tags": []
          },
          "execution_count": 26
        }
      ]
    },
    {
      "cell_type": "code",
      "metadata": {
        "id": "8-HFIRWuy1_x",
        "colab_type": "code",
        "colab": {}
      },
      "source": [
        "##  Regular Expression to match non-alphabetic characters\n",
        "import re"
      ],
      "execution_count": 0,
      "outputs": []
    },
    {
      "cell_type": "code",
      "metadata": {
        "id": "PFIpVbe74lC1",
        "colab_type": "code",
        "colab": {}
      },
      "source": [
        "# this regular expression pattern matches any word that contains all non-alphabetical\n",
        "#   lower-case characters [^a-z]+\n",
        "# the beginning ^ and ending $ require the match to begin and end on a word boundary \n",
        "pattern = re.compile('^[^a-z]+$')"
      ],
      "execution_count": 0,
      "outputs": []
    },
    {
      "cell_type": "code",
      "metadata": {
        "id": "6Gh9VzRIy4PO",
        "colab_type": "code",
        "outputId": "a96af771-1c98-4340-d229-ab4f271c5e47",
        "colab": {
          "base_uri": "https://localhost:8080/",
          "height": 35
        }
      },
      "source": [
        "nonAlphaMatch = pattern.match('**')\n",
        "#  if it matched, print a message\n",
        "if nonAlphaMatch: print ('matched non-alphabetical')"
      ],
      "execution_count": 0,
      "outputs": [
        {
          "output_type": "stream",
          "text": [
            "matched non-alphabetical\n"
          ],
          "name": "stdout"
        }
      ]
    },
    {
      "cell_type": "code",
      "metadata": {
        "id": "nPAthzWoy6xO",
        "colab_type": "code",
        "colab": {}
      },
      "source": [
        "# function that takes a word and returns true if it consists only\n",
        "#   of non-alphabetic characters  (assumes import re)\n",
        "def alpha_filter(w):\n",
        "  # pattern to match word of non-alphabetical characters\n",
        "  pattern = re.compile('^[^a-z]+$')\n",
        "  if (pattern.match(w)):\n",
        "    return True\n",
        "  else:\n",
        "    return False"
      ],
      "execution_count": 0,
      "outputs": []
    },
    {
      "cell_type": "code",
      "metadata": {
        "id": "sTzzhH8ky9LN",
        "colab_type": "code",
        "outputId": "06aa4d10-0e93-4583-a27c-9f3619d38cc4",
        "colab": {
          "base_uri": "https://localhost:8080/",
          "height": 72
        }
      },
      "source": [
        "# apply the function to hankwords\n",
        "alphahankwords = [w for w in hankwords if not alpha_filter(w)]\n",
        "print(alphahankwords[:100])\n",
        "print(len(alphahankwords))"
      ],
      "execution_count": 0,
      "outputs": [
        {
          "output_type": "stream",
          "text": [
            "['if', 'the', 'wife', 'and', 'i', 'are', 'fussin', 'brother', 'that', \"'s\", 'our', 'right', \"'cause\", 'me', 'and', 'that', 'sweet', 'woman', \"'s\", 'got', 'a', 'license', 'to', 'fight', 'why', 'do', \"n't\", 'you', 'mind', 'your', 'own', 'business', 'mind', 'your', 'own', 'business', \"'cause\", 'if', 'you', 'mind', 'your', 'business', 'then', 'you', 'wo', \"n't\", 'be', 'mindin', 'mine', 'oh', 'the', 'woman', 'on', 'our', 'party', 'line', \"'s\", 'the', 'nosiest', 'thing', 'she', 'picks', 'up', 'her', 'receiver', 'when', 'she', 'knows', 'it', \"'s\", 'my', 'ring', 'why', 'do', \"n't\", 'you', 'mind', 'your', 'own', 'business', 'mind', 'your', 'own', 'business', \"'cause\", 'if', 'you', 'mind', 'your', 'business', 'then', 'you', 'wo', \"n't\", 'be', 'mindin', 'mine', 'i', 'got', 'a']\n",
            "7473\n"
          ],
          "name": "stdout"
        }
      ]
    },
    {
      "cell_type": "code",
      "metadata": {
        "id": "4yZo62cmy_ic",
        "colab_type": "code",
        "outputId": "87588585-8543-4aa5-d5e3-eafb5ed13d4b",
        "colab": {
          "base_uri": "https://localhost:8080/",
          "height": 72
        }
      },
      "source": [
        "# get a list of stopwords from nltk\n",
        "nltkstopwords = nltk.corpus.stopwords.words('english')\n",
        "print(len(nltkstopwords))\n",
        "print(nltkstopwords)"
      ],
      "execution_count": 0,
      "outputs": [
        {
          "output_type": "stream",
          "text": [
            "179\n",
            "['i', 'me', 'my', 'myself', 'we', 'our', 'ours', 'ourselves', 'you', \"you're\", \"you've\", \"you'll\", \"you'd\", 'your', 'yours', 'yourself', 'yourselves', 'he', 'him', 'his', 'himself', 'she', \"she's\", 'her', 'hers', 'herself', 'it', \"it's\", 'its', 'itself', 'they', 'them', 'their', 'theirs', 'themselves', 'what', 'which', 'who', 'whom', 'this', 'that', \"that'll\", 'these', 'those', 'am', 'is', 'are', 'was', 'were', 'be', 'been', 'being', 'have', 'has', 'had', 'having', 'do', 'does', 'did', 'doing', 'a', 'an', 'the', 'and', 'but', 'if', 'or', 'because', 'as', 'until', 'while', 'of', 'at', 'by', 'for', 'with', 'about', 'against', 'between', 'into', 'through', 'during', 'before', 'after', 'above', 'below', 'to', 'from', 'up', 'down', 'in', 'out', 'on', 'off', 'over', 'under', 'again', 'further', 'then', 'once', 'here', 'there', 'when', 'where', 'why', 'how', 'all', 'any', 'both', 'each', 'few', 'more', 'most', 'other', 'some', 'such', 'no', 'nor', 'not', 'only', 'own', 'same', 'so', 'than', 'too', 'very', 's', 't', 'can', 'will', 'just', 'don', \"don't\", 'should', \"should've\", 'now', 'd', 'll', 'm', 'o', 're', 've', 'y', 'ain', 'aren', \"aren't\", 'couldn', \"couldn't\", 'didn', \"didn't\", 'doesn', \"doesn't\", 'hadn', \"hadn't\", 'hasn', \"hasn't\", 'haven', \"haven't\", 'isn', \"isn't\", 'ma', 'mightn', \"mightn't\", 'mustn', \"mustn't\", 'needn', \"needn't\", 'shan', \"shan't\", 'shouldn', \"shouldn't\", 'wasn', \"wasn't\", 'weren', \"weren't\", 'won', \"won't\", 'wouldn', \"wouldn't\"]\n"
          ],
          "name": "stdout"
        }
      ]
    },
    {
      "cell_type": "code",
      "metadata": {
        "id": "mUnfy9htzCN4",
        "colab_type": "code",
        "outputId": "3c307b94-96cf-4d08-dac9-0f60625efcae",
        "colab": {
          "base_uri": "https://localhost:8080/",
          "height": 72
        }
      },
      "source": [
        "# check tokenization in hankwords\n",
        "print(hankwords[:100])\n",
        "print(hankwords[15300:15310])"
      ],
      "execution_count": 0,
      "outputs": [
        {
          "output_type": "stream",
          "text": [
            "['if', 'the', 'wife', 'and', 'i', 'are', 'fussin', \"'\", ',', 'brother', ',', 'that', \"'s\", 'our', 'right', \"'cause\", 'me', 'and', 'that', 'sweet', 'woman', \"'s\", 'got', 'a', 'license', 'to', 'fight', 'why', 'do', \"n't\", 'you', 'mind', 'your', 'own', 'business', '?', 'mind', 'your', 'own', 'business', \"'cause\", 'if', 'you', 'mind', 'your', 'business', ',', 'then', 'you', 'wo', \"n't\", 'be', 'mindin', \"'\", 'mine', 'oh', ',', 'the', 'woman', 'on', 'our', 'party', 'line', \"'s\", 'the', 'nosiest', 'thing', 'she', 'picks', 'up', 'her', 'receiver', 'when', 'she', 'knows', 'it', \"'s\", 'my', 'ring', 'why', 'do', \"n't\", 'you', 'mind', 'your', 'own', 'business', '?', 'mind', 'your', 'own', 'business', \"'cause\", 'if', 'you', 'mind', 'your', 'business', ',', 'then']\n",
            "[]\n"
          ],
          "name": "stdout"
        }
      ]
    },
    {
      "cell_type": "code",
      "metadata": {
        "id": "f8NdlU2o0CiS",
        "colab_type": "code",
        "colab": {}
      },
      "source": [
        "morestopwords = ['hank','williams','could','would','might','must','need','sha','wo','y',\"'s\",\"'d\",\"'ll\",\"'t\",\"'m\",\"'re\",\"'ve\", \"n't\", 'repeat','chorus','verse']"
      ],
      "execution_count": 0,
      "outputs": []
    },
    {
      "cell_type": "code",
      "metadata": {
        "id": "NXyhpiObzE_q",
        "colab_type": "code",
        "outputId": "88e4b0b3-d08a-4fff-cc03-13b4b1bad4bc",
        "colab": {
          "base_uri": "https://localhost:8080/",
          "height": 72
        }
      },
      "source": [
        "stopwords = nltkstopwords + morestopwords\n",
        "print(len(stopwords))\n",
        "print(stopwords)"
      ],
      "execution_count": 0,
      "outputs": [
        {
          "output_type": "stream",
          "text": [
            "200\n",
            "['i', 'me', 'my', 'myself', 'we', 'our', 'ours', 'ourselves', 'you', \"you're\", \"you've\", \"you'll\", \"you'd\", 'your', 'yours', 'yourself', 'yourselves', 'he', 'him', 'his', 'himself', 'she', \"she's\", 'her', 'hers', 'herself', 'it', \"it's\", 'its', 'itself', 'they', 'them', 'their', 'theirs', 'themselves', 'what', 'which', 'who', 'whom', 'this', 'that', \"that'll\", 'these', 'those', 'am', 'is', 'are', 'was', 'were', 'be', 'been', 'being', 'have', 'has', 'had', 'having', 'do', 'does', 'did', 'doing', 'a', 'an', 'the', 'and', 'but', 'if', 'or', 'because', 'as', 'until', 'while', 'of', 'at', 'by', 'for', 'with', 'about', 'against', 'between', 'into', 'through', 'during', 'before', 'after', 'above', 'below', 'to', 'from', 'up', 'down', 'in', 'out', 'on', 'off', 'over', 'under', 'again', 'further', 'then', 'once', 'here', 'there', 'when', 'where', 'why', 'how', 'all', 'any', 'both', 'each', 'few', 'more', 'most', 'other', 'some', 'such', 'no', 'nor', 'not', 'only', 'own', 'same', 'so', 'than', 'too', 'very', 's', 't', 'can', 'will', 'just', 'don', \"don't\", 'should', \"should've\", 'now', 'd', 'll', 'm', 'o', 're', 've', 'y', 'ain', 'aren', \"aren't\", 'couldn', \"couldn't\", 'didn', \"didn't\", 'doesn', \"doesn't\", 'hadn', \"hadn't\", 'hasn', \"hasn't\", 'haven', \"haven't\", 'isn', \"isn't\", 'ma', 'mightn', \"mightn't\", 'mustn', \"mustn't\", 'needn', \"needn't\", 'shan', \"shan't\", 'shouldn', \"shouldn't\", 'wasn', \"wasn't\", 'weren', \"weren't\", 'won', \"won't\", 'wouldn', \"wouldn't\", 'hank', 'williams', 'could', 'would', 'might', 'must', 'need', 'sha', 'wo', 'y', \"'s\", \"'d\", \"'ll\", \"'t\", \"'m\", \"'re\", \"'ve\", \"n't\", 'repeat', 'chorus', 'verse']\n"
          ],
          "name": "stdout"
        }
      ]
    },
    {
      "cell_type": "code",
      "metadata": {
        "id": "b99MiqcgzHWH",
        "colab_type": "code",
        "outputId": "e8d42c49-3dd2-458f-aab6-e88373e75a1a",
        "colab": {
          "base_uri": "https://localhost:8080/",
          "height": 35
        }
      },
      "source": [
        "stoppedhankwords = [w for w in alphahankwords if not w in stopwords]\n",
        "print(len(stoppedhankwords))"
      ],
      "execution_count": 0,
      "outputs": [
        {
          "output_type": "stream",
          "text": [
            "3435\n"
          ],
          "name": "stdout"
        }
      ]
    },
    {
      "cell_type": "code",
      "metadata": {
        "id": "6od5xTQ2zJiK",
        "colab_type": "code",
        "outputId": "2086fbe6-1143-4037-a337-289a31001933",
        "colab": {
          "base_uri": "https://localhost:8080/",
          "height": 884
        }
      },
      "source": [
        "# use this list for a better frequency distribution\n",
        "hankdist = FreqDist(stoppedhankwords)\n",
        "hankitems = hankdist.most_common(50)\n",
        "for item in hankitems:\n",
        "  print(item)"
      ],
      "execution_count": 0,
      "outputs": [
        {
          "output_type": "stream",
          "text": [
            "('got', 56)\n",
            "('lord', 48)\n",
            "('love', 44)\n",
            "('heart', 36)\n",
            "('oh', 30)\n",
            "('like', 30)\n",
            "('new', 26)\n",
            "('old', 25)\n",
            "('life', 25)\n",
            "('never', 25)\n",
            "('move', 23)\n",
            "('honky', 22)\n",
            "('mind', 21)\n",
            "('say', 21)\n",
            "('day', 21)\n",
            "('know', 21)\n",
            "('water', 20)\n",
            "('well', 19)\n",
            "('praise', 19)\n",
            "('take', 19)\n",
            "('free', 18)\n",
            "('go', 17)\n",
            "('blues', 17)\n",
            "('ca', 17)\n",
            "('light', 17)\n",
            "('away', 17)\n",
            "('business', 16)\n",
            "('man', 16)\n",
            "('see', 16)\n",
            "('bucket', 16)\n",
            "('soul', 16)\n",
            "('dog', 16)\n",
            "('let', 15)\n",
            "('lost', 15)\n",
            "('yea', 15)\n",
            "('hole', 15)\n",
            "('home', 14)\n",
            "('made', 14)\n",
            "('long', 14)\n",
            "('cry', 14)\n",
            "('cold', 14)\n",
            "('tonk', 13)\n",
            "('god', 13)\n",
            "('gone', 13)\n",
            "('come', 13)\n",
            "('used', 13)\n",
            "('lonesome', 13)\n",
            "('one', 13)\n",
            "('kaw-liga', 13)\n",
            "('mine', 12)\n"
          ],
          "name": "stdout"
        }
      ]
    },
    {
      "cell_type": "code",
      "metadata": {
        "id": "5ortWpq70RNx",
        "colab_type": "code",
        "outputId": "d00864d3-f245-4496-e17b-e91220feb4b5",
        "colab": {
          "base_uri": "https://localhost:8080/",
          "height": 317
        }
      },
      "source": [
        "hankdist.plot(30,cumulative=False)"
      ],
      "execution_count": 0,
      "outputs": [
        {
          "output_type": "display_data",
          "data": {
            "image/png": "[encoded data removed]",
            "text/plain": [
              "<Figure size 432x288 with 1 Axes>"
            ]
          },
          "metadata": {
            "tags": []
          }
        }
      ]
    },
    {
      "cell_type": "code",
      "metadata": {
        "id": "06XQvRMHzLz6",
        "colab_type": "code",
        "outputId": "c8ffbdd3-fc97-4a09-9efd-2a6cadf3c74c",
        "colab": {
          "base_uri": "https://localhost:8080/",
          "height": 72
        }
      },
      "source": [
        "# Bigrams and Bigram frequency distribution\n",
        "hankbigrams = list(nltk.bigrams(hankwords))\n",
        "print(hankwords[:21])\n",
        "print(hankbigrams[:20])"
      ],
      "execution_count": 0,
      "outputs": [
        {
          "output_type": "stream",
          "text": [
            "['if', 'the', 'wife', 'and', 'i', 'are', 'fussin', \"'\", ',', 'brother', ',', 'that', \"'s\", 'our', 'right', \"'cause\", 'me', 'and', 'that', 'sweet', 'woman']\n",
            "[('if', 'the'), ('the', 'wife'), ('wife', 'and'), ('and', 'i'), ('i', 'are'), ('are', 'fussin'), ('fussin', \"'\"), (\"'\", ','), (',', 'brother'), ('brother', ','), (',', 'that'), ('that', \"'s\"), (\"'s\", 'our'), ('our', 'right'), ('right', \"'cause\"), (\"'cause\", 'me'), ('me', 'and'), ('and', 'that'), ('that', 'sweet'), ('sweet', 'woman')]\n"
          ],
          "name": "stdout"
        }
      ]
    },
    {
      "cell_type": "code",
      "metadata": {
        "id": "0iBGN8DszNwm",
        "colab_type": "code",
        "colab": {}
      },
      "source": [
        "# setup for bigrams and bigram measures\n",
        "from nltk.collocations import *\n",
        "bigram_measures = nltk.collocations.BigramAssocMeasures()"
      ],
      "execution_count": 0,
      "outputs": []
    },
    {
      "cell_type": "code",
      "metadata": {
        "id": "v-gl_-AozP06",
        "colab_type": "code",
        "colab": {}
      },
      "source": [
        "# create the bigram finder and score the bigrams by frequency\n",
        "# BIGRAMS MUST BE APPLIED TO COMPLETE WORD LIST WITHOUT REMOVED STOP WORDS -- LOWER CASE OK\n",
        "finder = BigramCollocationFinder.from_words(hankwords)\n",
        "scored = finder.score_ngrams(bigram_measures.raw_freq)"
      ],
      "execution_count": 0,
      "outputs": []
    },
    {
      "cell_type": "code",
      "metadata": {
        "id": "29pIS-JjzSIS",
        "colab_type": "code",
        "outputId": "e55ad452-a8fa-48c9-e06a-2255ce30363b",
        "colab": {
          "base_uri": "https://localhost:8080/",
          "height": 69
        }
      },
      "source": [
        "# scored is a list of bigram pairs with their score\n",
        "print(type(scored))\n",
        "first = scored[0]\n",
        "print(type(first))\n",
        "print(first)"
      ],
      "execution_count": 0,
      "outputs": [
        {
          "output_type": "stream",
          "text": [
            "<class 'list'>\n",
            "<class 'tuple'>\n",
            "(('i', \"'m\"), 0.006459627329192546)\n"
          ],
          "name": "stdout"
        }
      ]
    },
    {
      "cell_type": "code",
      "metadata": {
        "id": "iZe3zhCNzUYe",
        "colab_type": "code",
        "outputId": "7faf20d3-e9b6-40ec-e2fc-b9e3a52149fa",
        "colab": {
          "base_uri": "https://localhost:8080/",
          "height": 884
        }
      },
      "source": [
        "# scores are sorted in decreasing frequency\n",
        "for bscore in scored[:50]:\n",
        "    print (bscore)"
      ],
      "execution_count": 0,
      "outputs": [
        {
          "output_type": "stream",
          "text": [
            "(('i', \"'m\"), 0.006459627329192546)\n",
            "((\"''\", \"''\"), 0.005714285714285714)\n",
            "(('i', \"'ll\"), 0.0055900621118012426)\n",
            "((',', 'i'), 0.004720496894409938)\n",
            "(('on', 'the'), 0.003975155279503106)\n",
            "((\"'ll\", 'have'), 0.0036024844720496892)\n",
            "(('it', 'on'), 0.0036024844720496892)\n",
            "(('do', \"n't\"), 0.0034782608695652175)\n",
            "(('on', 'over'), 0.0034782608695652175)\n",
            "(('in', 'the'), 0.0033540372670807454)\n",
            "(('have', 'a'), 0.0029813664596273293)\n",
            "(('a', 'new'), 0.002857142857142857)\n",
            "(('got', 'a'), 0.002857142857142857)\n",
            "(('lord', ','), 0.002857142857142857)\n",
            "(('we', \"'ll\"), 0.002732919254658385)\n",
            "(('i', 'got'), 0.002484472049689441)\n",
            "((\"'s\", 'got'), 0.002360248447204969)\n",
            "(('and', 'i'), 0.0022360248447204968)\n",
            "(('ca', \"n't\"), 0.002111801242236025)\n",
            "(('the', 'lord'), 0.002111801242236025)\n",
            "(('in', 'it'), 0.001987577639751553)\n",
            "(('move', 'it'), 0.001987577639751553)\n",
            "(('my', 'heart'), 0.001987577639751553)\n",
            "((\"n't\", 'you'), 0.001987577639751553)\n",
            "(('you', \"'ll\"), 0.001987577639751553)\n",
            "(('!', 'my'), 0.0018633540372670807)\n",
            "((',', 'he'), 0.0018633540372670807)\n",
            "(('a', 'hole'), 0.0018633540372670807)\n",
            "(('bucket', \"'s\"), 0.0018633540372670807)\n",
            "(('hole', 'in'), 0.0018633540372670807)\n",
            "(('mind', 'your'), 0.0018633540372670807)\n",
            "(('my', 'bucket'), 0.0018633540372670807)\n",
            "(('no', 'more'), 0.0018633540372670807)\n",
            "(('praise', 'the'), 0.0018633540372670807)\n",
            "(('the', 'light'), 0.0018633540372670807)\n",
            "(('yea', '!'), 0.0018633540372670807)\n",
            "((\"'ll\", 'be'), 0.0017391304347826088)\n",
            "(('(', 'move'), 0.0017391304347826088)\n",
            "(('all', 'the'), 0.0017391304347826088)\n",
            "(('oh', ','), 0.0017391304347826088)\n",
            "(('over', '('), 0.0017391304347826088)\n",
            "(('over', ')'), 0.0017391304347826088)\n",
            "(('that', 'you'), 0.0017391304347826088)\n",
            "(('you', \"'re\"), 0.0017391304347826088)\n",
            "(('it', \"'s\"), 0.0016149068322981366)\n",
            "(('lord', 'i'), 0.0016149068322981366)\n",
            "(('used', 'to'), 0.0016149068322981366)\n",
            "(('why', 'do'), 0.0016149068322981366)\n",
            "(('i', 'saw'), 0.0014906832298136647)\n",
            "(('if', 'you'), 0.0014906832298136647)\n"
          ],
          "name": "stdout"
        }
      ]
    },
    {
      "cell_type": "code",
      "metadata": {
        "id": "DcEFunUzzWf4",
        "colab_type": "code",
        "outputId": "1dd79b8c-a19c-4587-da80-f6c3196f6443",
        "colab": {
          "base_uri": "https://localhost:8080/",
          "height": 537
        }
      },
      "source": [
        "# apply a filter to remove non-alphabetical tokens from the hank bigram finder\n",
        "finder.apply_word_filter(alpha_filter)\n",
        "scored = finder.score_ngrams(bigram_measures.raw_freq)\n",
        "for bscore in scored[:30]:\n",
        "    print (bscore)"
      ],
      "execution_count": 0,
      "outputs": [
        {
          "output_type": "stream",
          "text": [
            "(('i', \"'m\"), 0.006459627329192546)\n",
            "(('i', \"'ll\"), 0.0055900621118012426)\n",
            "(('on', 'the'), 0.003975155279503106)\n",
            "((\"'ll\", 'have'), 0.0036024844720496892)\n",
            "(('it', 'on'), 0.0036024844720496892)\n",
            "(('do', \"n't\"), 0.0034782608695652175)\n",
            "(('on', 'over'), 0.0034782608695652175)\n",
            "(('in', 'the'), 0.0033540372670807454)\n",
            "(('have', 'a'), 0.0029813664596273293)\n",
            "(('a', 'new'), 0.002857142857142857)\n",
            "(('got', 'a'), 0.002857142857142857)\n",
            "(('we', \"'ll\"), 0.002732919254658385)\n",
            "(('i', 'got'), 0.002484472049689441)\n",
            "((\"'s\", 'got'), 0.002360248447204969)\n",
            "(('and', 'i'), 0.0022360248447204968)\n",
            "(('ca', \"n't\"), 0.002111801242236025)\n",
            "(('the', 'lord'), 0.002111801242236025)\n",
            "(('in', 'it'), 0.001987577639751553)\n",
            "(('move', 'it'), 0.001987577639751553)\n",
            "(('my', 'heart'), 0.001987577639751553)\n",
            "((\"n't\", 'you'), 0.001987577639751553)\n",
            "(('you', \"'ll\"), 0.001987577639751553)\n",
            "(('a', 'hole'), 0.0018633540372670807)\n",
            "(('bucket', \"'s\"), 0.0018633540372670807)\n",
            "(('hole', 'in'), 0.0018633540372670807)\n",
            "(('mind', 'your'), 0.0018633540372670807)\n",
            "(('my', 'bucket'), 0.0018633540372670807)\n",
            "(('no', 'more'), 0.0018633540372670807)\n",
            "(('praise', 'the'), 0.0018633540372670807)\n",
            "(('the', 'light'), 0.0018633540372670807)\n"
          ],
          "name": "stdout"
        }
      ]
    },
    {
      "cell_type": "code",
      "metadata": {
        "id": "OivXykKgzYrS",
        "colab_type": "code",
        "outputId": "f4a7e8ca-1d07-4552-bef4-d90e572cef66",
        "colab": {
          "base_uri": "https://localhost:8080/",
          "height": 884
        }
      },
      "source": [
        "# apply a filter to remove stop words\n",
        "# lambda is a function definition 'on the fly'\n",
        "finder.apply_word_filter(lambda w: w in stopwords)\n",
        "scored = finder.score_ngrams(bigram_measures.raw_freq)\n",
        "for bscore in scored[:50]:\n",
        "    print (bscore)"
      ],
      "execution_count": 0,
      "outputs": [
        {
          "output_type": "stream",
          "text": [
            "(('tonk', 'blues'), 0.0014906832298136647)\n",
            "(('body', 'praise'), 0.0011180124223602484)\n",
            "(('gon', 'na'), 0.0011180124223602484)\n",
            "(('honky', 'tonk'), 0.0011180124223602484)\n",
            "(('honky', 'tonkin'), 0.0011180124223602484)\n",
            "(('new', 'body'), 0.0011180124223602484)\n",
            "(('new', 'life'), 0.0011180124223602484)\n",
            "(('clear', 'water'), 0.0009937888198757764)\n",
            "(('big', 'fun'), 0.0008695652173913044)\n",
            "(('blues', 'well'), 0.0008695652173913044)\n",
            "(('dog', 'cause'), 0.0008695652173913044)\n",
            "(('precious', 'lord'), 0.0008695652173913044)\n",
            "(('country', 'church'), 0.0007453416149068323)\n",
            "(('go', 'honky'), 0.0007453416149068323)\n",
            "(('oh', 'lord'), 0.0007453416149068323)\n",
            "(('old', 'country'), 0.0007453416149068323)\n",
            "(('poor', 'old'), 0.0007453416149068323)\n",
            "(('fly', 'away'), 0.0006211180124223603)\n",
            "(('got', 'ta'), 0.0006211180124223603)\n",
            "(('never', 'let'), 0.0006211180124223603)\n",
            "(('old', 'kaw-liga'), 0.0006211180124223603)\n",
            "(('poor', 'soul'), 0.0006211180124223603)\n",
            "(('wedding', 'bells'), 0.0006211180124223603)\n",
            "(('bayou', 'jambalaya'), 0.0004968944099378882)\n",
            "(('beer', 'well'), 0.0004968944099378882)\n",
            "(('blues', 'yeah'), 0.0004968944099378882)\n",
            "(('cold', 'heart'), 0.0004968944099378882)\n",
            "(('crawfish', 'pie'), 0.0004968944099378882)\n",
            "(('doubtful', 'mind'), 0.0004968944099378882)\n",
            "(('god', 'dips'), 0.0004968944099378882)\n",
            "(('hand', 'precious'), 0.0004968944099378882)\n",
            "(('ho-on-ky', 'tonk'), 0.0004968944099378882)\n",
            "(('honey', 'baby'), 0.0004968944099378882)\n",
            "(('lonesome', 'blue'), 0.0004968944099378882)\n",
            "(('long', 'gone'), 0.0004968944099378882)\n",
            "(('lost', 'highway'), 0.0004968944099378882)\n",
            "(('said', 'goodbye'), 0.0004968944099378882)\n",
            "(('saviour', 'call'), 0.0004968944099378882)\n",
            "(('sight', 'praise'), 0.0004968944099378882)\n",
            "(('well', 'lord'), 0.0004968944099378882)\n",
            "((\"'cause\", 'tonight'), 0.00037267080745341616)\n",
            "(('amio', 'pick'), 0.00037267080745341616)\n",
            "(('bad', 'news'), 0.00037267080745341616)\n",
            "(('carry', 'bad'), 0.00037267080745341616)\n",
            "(('cher', 'amio'), 0.00037267080745341616)\n",
            "(('die', 'like'), 0.00037267080745341616)\n",
            "(('dying', 'breath'), 0.00037267080745341616)\n",
            "(('fall', 'praise'), 0.00037267080745341616)\n",
            "(('filled', 'fruit'), 0.00037267080745341616)\n",
            "(('filé', 'gumbo'), 0.00037267080745341616)\n"
          ],
          "name": "stdout"
        }
      ]
    },
    {
      "cell_type": "code",
      "metadata": {
        "id": "6gooeeoczbTE",
        "colab_type": "code",
        "outputId": "6e7c4b1b-e869-4684-c8aa-22fdbb801d4c",
        "colab": {
          "base_uri": "https://localhost:8080/",
          "height": 364
        }
      },
      "source": [
        "# apply a filter (on a new finder) to remove low frequency words\n",
        "finder2 = BigramCollocationFinder.from_words(hankwords)\n",
        "finder2.apply_freq_filter(2)\n",
        "scored = finder2.score_ngrams(bigram_measures.raw_freq)\n",
        "for bscore in scored[:20]:\n",
        "    print (bscore)"
      ],
      "execution_count": 0,
      "outputs": [
        {
          "output_type": "stream",
          "text": [
            "(('i', \"'m\"), 0.006459627329192546)\n",
            "((\"''\", \"''\"), 0.005714285714285714)\n",
            "(('i', \"'ll\"), 0.0055900621118012426)\n",
            "((',', 'i'), 0.004720496894409938)\n",
            "(('on', 'the'), 0.003975155279503106)\n",
            "((\"'ll\", 'have'), 0.0036024844720496892)\n",
            "(('it', 'on'), 0.0036024844720496892)\n",
            "(('do', \"n't\"), 0.0034782608695652175)\n",
            "(('on', 'over'), 0.0034782608695652175)\n",
            "(('in', 'the'), 0.0033540372670807454)\n",
            "(('have', 'a'), 0.0029813664596273293)\n",
            "(('a', 'new'), 0.002857142857142857)\n",
            "(('got', 'a'), 0.002857142857142857)\n",
            "(('lord', ','), 0.002857142857142857)\n",
            "(('we', \"'ll\"), 0.002732919254658385)\n",
            "(('i', 'got'), 0.002484472049689441)\n",
            "((\"'s\", 'got'), 0.002360248447204969)\n",
            "(('and', 'i'), 0.0022360248447204968)\n",
            "(('ca', \"n't\"), 0.002111801242236025)\n",
            "(('the', 'lord'), 0.002111801242236025)\n"
          ],
          "name": "stdout"
        }
      ]
    },
    {
      "cell_type": "code",
      "metadata": {
        "id": "z0sf5CRfzdnm",
        "colab_type": "code",
        "outputId": "0cca9ae7-b008-4e5c-b63d-8f6d7d5a1643",
        "colab": {
          "base_uri": "https://localhost:8080/",
          "height": 364
        }
      },
      "source": [
        "# apply a filter on both words of the ngram\n",
        "finder2.apply_ngram_filter(lambda w1, w2: len(w1) < 2)\n",
        "scored = finder2.score_ngrams(bigram_measures.raw_freq)\n",
        "for bscore in scored[:20]:\n",
        "    print (bscore)"
      ],
      "execution_count": 0,
      "outputs": [
        {
          "output_type": "stream",
          "text": [
            "((\"''\", \"''\"), 0.005714285714285714)\n",
            "(('on', 'the'), 0.003975155279503106)\n",
            "((\"'ll\", 'have'), 0.0036024844720496892)\n",
            "(('it', 'on'), 0.0036024844720496892)\n",
            "(('do', \"n't\"), 0.0034782608695652175)\n",
            "(('on', 'over'), 0.0034782608695652175)\n",
            "(('in', 'the'), 0.0033540372670807454)\n",
            "(('have', 'a'), 0.0029813664596273293)\n",
            "(('got', 'a'), 0.002857142857142857)\n",
            "(('lord', ','), 0.002857142857142857)\n",
            "(('we', \"'ll\"), 0.002732919254658385)\n",
            "((\"'s\", 'got'), 0.002360248447204969)\n",
            "(('and', 'i'), 0.0022360248447204968)\n",
            "(('ca', \"n't\"), 0.002111801242236025)\n",
            "(('the', 'lord'), 0.002111801242236025)\n",
            "(('in', 'it'), 0.001987577639751553)\n",
            "(('move', 'it'), 0.001987577639751553)\n",
            "(('my', 'heart'), 0.001987577639751553)\n",
            "((\"n't\", 'you'), 0.001987577639751553)\n",
            "(('you', \"'ll\"), 0.001987577639751553)\n"
          ],
          "name": "stdout"
        }
      ]
    },
    {
      "cell_type": "code",
      "metadata": {
        "id": "vSihyFp_zfvA",
        "colab_type": "code",
        "outputId": "4ba19995-34d9-43eb-c195-5839e27b8fe6",
        "colab": {
          "base_uri": "https://localhost:8080/",
          "height": 884
        }
      },
      "source": [
        "### pointwise mutual information\n",
        "### THIS IS THE WRONG WAY TO DO THIS -- ONLY SCORES THINGS THAT OCCUR TOGETHER SUCH AS COMMON WORDS\n",
        "### APPLY A FREQUENCY FILTER OF ABOUT 5 AS SHOWN BELOW\n",
        "finder3 = BigramCollocationFinder.from_words(hankwords)\n",
        "scored = finder3.score_ngrams(bigram_measures.pmi)\n",
        "for bscore in scored[:50]:\n",
        "    print (bscore)"
      ],
      "execution_count": 0,
      "outputs": [
        {
          "output_type": "stream",
          "text": [
            "((\"allowin'\", 'tomorrow'), 12.974773067889343)\n",
            "(('alright', 'no-how'), 12.974773067889343)\n",
            "(('awful', 'shape'), 12.974773067889343)\n",
            "(('barren', 'waste'), 12.974773067889343)\n",
            "(('blossoms', 'unfold'), 12.974773067889343)\n",
            "(('bursting', 'saints'), 12.974773067889343)\n",
            "((\"buzzin'\", 'kinfolk'), 12.974773067889343)\n",
            "(('car', 'speeded'), 12.974773067889343)\n",
            "(('children', 'laughing'), 12.974773067889343)\n",
            "(('coal', 'black'), 12.974773067889343)\n",
            "(('crushed', 'broken'), 12.974773067889343)\n",
            "(('distant', 'uncle'), 12.974773067889343)\n",
            "(('divine', 'fills'), 12.974773067889343)\n",
            "(('doggish', 'ways'), 12.974773067889343)\n",
            "(('dollar', 'bill'), 12.974773067889343)\n",
            "(('dozen', 'dressed'), 12.974773067889343)\n",
            "(('evil', 'scheme'), 12.974773067889343)\n",
            "(('feller', 'dress'), 12.974773067889343)\n",
            "(('future', 'looks'), 12.974773067889343)\n",
            "(('gabriel', 'blows'), 12.974773067889343)\n",
            "(('goes', 'crawling'), 12.974773067889343)\n",
            "(('grow', 'dim'), 12.974773067889343)\n",
            "(('grows', 'drear'), 12.974773067889343)\n",
            "(('hog', 'wild'), 12.974773067889343)\n",
            "(('hollered', 'whoa'), 12.974773067889343)\n",
            "(('laid', 'beneath'), 12.974773067889343)\n",
            "(('lawyer', 'proved'), 12.974773067889343)\n",
            "(('many', 'faults'), 12.974773067889343)\n",
            "(('might', 'sa-ay'), 12.974773067889343)\n",
            "(('mighty', 'small'), 12.974773067889343)\n",
            "(('monkey', 'wrench'), 12.974773067889343)\n",
            "(('mornin', 'wishin'), 12.974773067889343)\n",
            "(('nearly', 'twenty-two'), 12.974773067889343)\n",
            "(('open', 'ro-oad'), 12.974773067889343)\n",
            "(('organ', 'plays'), 12.974773067889343)\n",
            "(('probably', 'drown'), 12.974773067889343)\n",
            "(('rails', \"'neath\"), 12.974773067889343)\n",
            "(('remember', 'pup'), 12.974773067889343)\n",
            "(('ro-oad', 'starts'), 12.974773067889343)\n",
            "(('rolling', 'stone'), 12.974773067889343)\n",
            "(('running', 'board'), 12.974773067889343)\n",
            "(('rural', 'route'), 12.974773067889343)\n",
            "(('sign', 'because'), 12.974773067889343)\n",
            "(('slowly', \"stealin'\"), 12.974773067889343)\n",
            "(('soda', 'pop'), 12.974773067889343)\n",
            "(('spin', 'to-day'), 12.974773067889343)\n",
            "(('summer', 'grew'), 12.974773067889343)\n",
            "(('thibodaux', 'fontaineaux'), 12.974773067889343)\n",
            "(('throats', 'burned'), 12.974773067889343)\n",
            "((\"tookin'\", 'hows'), 12.974773067889343)\n"
          ],
          "name": "stdout"
        }
      ]
    },
    {
      "cell_type": "code",
      "metadata": {
        "id": "Jz_RNEgWzhym",
        "colab_type": "code",
        "outputId": "4b915b84-3190-44db-e2f2-396ab15f76e0",
        "colab": {
          "base_uri": "https://localhost:8080/",
          "height": 416
        }
      },
      "source": [
        "# to get good results, must first apply frequency filter\n",
        "finder.apply_freq_filter(5)\n",
        "scored = finder.score_ngrams(bigram_measures.pmi)\n",
        "for bscore in scored[:50]:\n",
        "    print (bscore)"
      ],
      "execution_count": 0,
      "outputs": [
        {
          "output_type": "stream",
          "text": [
            "(('wedding', 'bells'), 10.389810567168187)\n",
            "(('country', 'church'), 9.974773067889341)\n",
            "(('gon', 'na'), 9.65284497300198)\n",
            "(('big', 'fun'), 9.290274893617273)\n",
            "(('tonk', 'blues'), 8.771833009219067)\n",
            "(('clear', 'water'), 8.652844973001981)\n",
            "(('fly', 'away'), 8.62427582080521)\n",
            "(('body', 'praise'), 8.574842461000706)\n",
            "(('honky', 'tonkin'), 8.515341449252045)\n",
            "(('dog', 'cause'), 8.32269637130965)\n",
            "(('new', 'body'), 8.122330256303199)\n",
            "(('honky', 'tonk'), 7.984826732553264)\n",
            "(('old', 'country'), 7.915879378835775)\n",
            "(('poor', 'soul'), 7.837269544139407)\n",
            "(('poor', 'old'), 7.4564477601984755)\n",
            "(('blues', 'well'), 7.446737635253022)\n",
            "(('got', 'ta'), 7.167418145831739)\n",
            "(('precious', 'lord'), 7.027240487783477)\n",
            "(('go', 'honky'), 7.012841108722862)\n",
            "(('old', 'kaw-liga'), 6.952405254860889)\n",
            "(('new', 'life'), 6.800402161415835)\n",
            "(('never', 'let'), 6.745954377393462)\n",
            "(('oh', 'lord'), 5.067882472280823)\n"
          ],
          "name": "stdout"
        }
      ]
    }
  ]
}