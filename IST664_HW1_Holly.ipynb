{
  "nbformat": 4,
  "nbformat_minor": 0,
  "metadata": {
    "colab": {
      "name": "IST664-HW1-Holly.ipynb",
      "provenance": [],
      "collapsed_sections": []
    },
    "kernelspec": {
      "name": "python3",
      "display_name": "Python 3"
    }
  },
  "cells": [
    {
      "cell_type": "code",
      "metadata": {
        "id": "TwCcd92lxlzV",
        "colab_type": "code",
        "colab": {}
      },
      "source": [
        "# Week 2:  Bigram Frequencies and Mutual Information\n",
        "# This file has small examples that are meant to be run individually\n",
        "# in the Python interpreter or jupyter notebook cells"
      ],
      "execution_count": 0,
      "outputs": []
    },
    {
      "cell_type": "code",
      "metadata": {
        "id": "J-l_9rHbGrMH",
        "colab_type": "code",
        "colab": {}
      },
      "source": [
        "import pandas as pd\n",
        "import io"
      ],
      "execution_count": 0,
      "outputs": []
    },
    {
      "cell_type": "code",
      "metadata": {
        "id": "ztELZ6inx9Wq",
        "colab_type": "code",
        "outputId": "c07b0944-f43e-4cc8-89c5-f52e3bc50a64",
        "colab": {
          "base_uri": "https://localhost:8080/",
          "height": 139
        }
      },
      "source": [
        "# Getting started to process a text example\n",
        "import nltk\n",
        "from nltk import FreqDist\n",
        "nltk.download('punkt')\n",
        "nltk.download('stopwords')\n",
        "nltk.download('wordnet')"
      ],
      "execution_count": 0,
      "outputs": [
        {
          "output_type": "stream",
          "text": [
            "[nltk_data] Downloading package punkt to /root/nltk_data...\n",
            "[nltk_data]   Package punkt is already up-to-date!\n",
            "[nltk_data] Downloading package stopwords to /root/nltk_data...\n",
            "[nltk_data]   Package stopwords is already up-to-date!\n",
            "[nltk_data] Downloading package wordnet to /root/nltk_data...\n",
            "[nltk_data]   Unzipping corpora/wordnet.zip.\n"
          ],
          "name": "stdout"
        },
        {
          "output_type": "execute_result",
          "data": {
            "text/plain": [
              "True"
            ]
          },
          "metadata": {
            "tags": []
          },
          "execution_count": 10
        }
      ]
    },
    {
      "cell_type": "code",
      "metadata": {
        "id": "VdDA_CuByADY",
        "colab_type": "code",
        "outputId": "09c6f9cf-e7fc-431d-edde-980f228c8570",
        "colab": {
          "base_uri": "https://localhost:8080/",
          "height": 72
        }
      },
      "source": [
        "# get the text of the lyrics, tokenize it,\n",
        "#   and reduce the tokens to lowercase.\n",
        "#file0 = nltk.corpus.gutenberg.fileids( ) [3]\n",
        "#hollytext = nltk.corpus.gutenberg.raw(file0)\n",
        "f = open('hollyedit.txt')\n",
        "raw = f.read()\n",
        "hollytokens = nltk.word_tokenize(raw) \n",
        "hollywords = [w.lower( ) for w in hollytokens] \n",
        "# show some of thv words\n",
        "print(len(hollywords))\n",
        "print(hollywords[ :110])"
      ],
      "execution_count": 0,
      "outputs": [
        {
          "output_type": "stream",
          "text": [
            "9588\n",
            "['``', 'a', 'memory', 'falls', 'down', 'from', 'where', 'it', 'was', 'with', 'this', 'confession', 'i', 'beg', 'for', 'more', 'i', 'never', 'mean', 'to', 'and', 'it', \"'s\", 'been', 'awhile', 'since', 'i', 'found', 'meaning', 'in', 'these', 'desires', 'i', 'know', 'it', \"'s\", 'wrong', 'to', 'hurt', 'you', 'like', 'this', 'i', 'know', 'it', \"'s\", 'wrong', 'to', 'lie', 'like', 'a', 'kid', 'fire', 'and', 'blankets', ',', 'a', 'cheap', 'parade', 'of', 'guilty', 'pleasures', ',', 'i', 'take', 'the', 'stage', 'but', 'nothing', 'feels', 'good', 'if', 'it', 'ai', \"n't\", 'true', 'it', \"'s\", 'like', 'trying', 'to', 'cry', 'for', 'someone', 'you', 'never', 'knew', 'i', 'know', 'it', \"'s\", 'wrong', 'to', 'hurt', 'you', 'like', 'this', 'i', 'know', 'it', \"'s\", 'wrong', 'to', 'lie', 'like', 'kid', 'i', 'love', 'you', 'with']\n"
          ],
          "name": "stdout"
        }
      ]
    },
    {
      "cell_type": "code",
      "metadata": {
        "id": "8-J9H8Cm04wR",
        "colab_type": "code",
        "colab": {}
      },
      "source": [
        "#use NLTK's stemmers (section 3.6 in NLTK book)\n",
        "porter = nltk.PorterStemmer()\n",
        "lancaster = nltk.LancasterStemmer()"
      ],
      "execution_count": 0,
      "outputs": []
    },
    {
      "cell_type": "code",
      "metadata": {
        "id": "pHRY6-xu08op",
        "colab_type": "code",
        "outputId": "98d681bd-2acc-40ee-cea5-406bd444a50b",
        "colab": {
          "base_uri": "https://localhost:8080/",
          "height": 55
        }
      },
      "source": [
        "#compare Porter stemmers on the tokens\n",
        "hollyPstem = [porter.stem(t) for t in hollytokens]\n",
        "print(hollyPstem[:120])"
      ],
      "execution_count": 0,
      "outputs": [
        {
          "output_type": "stream",
          "text": [
            "['``', 'A', 'memori', 'fall', 'down', 'from', 'where', 'it', 'wa', 'with', 'thi', 'confess', 'I', 'beg', 'for', 'more', 'I', 'never', 'mean', 'to', 'and', 'it', \"'s\", 'been', 'awhil', 'sinc', 'I', 'found', 'mean', 'in', 'these', 'desir', 'I', 'know', 'it', \"'s\", 'wrong', 'to', 'hurt', 'you', 'like', 'thi', 'I', 'know', 'it', \"'s\", 'wrong', 'to', 'lie', 'like', 'a', 'kid', 'fire', 'and', 'blanket', ',', 'a', 'cheap', 'parad', 'Of', 'guilti', 'pleasur', ',', 'I', 'take', 'the', 'stage', 'but', 'noth', 'feel', 'good', 'if', 'it', 'ai', \"n't\", 'true', 'It', \"'s\", 'like', 'tri', 'to', 'cri', 'for', 'someon', 'you', 'never', 'knew', 'I', 'know', 'it', \"'s\", 'wrong', 'to', 'hurt', 'you', 'like', 'thi', 'I', 'know', 'it', \"'s\", 'wrong', 'to', 'lie', 'like', 'kid', 'I', 'love', 'you', 'with', 'more', 'tear', 'than', 'ani', 'pain', 'could', 'ever', 'bring', 'me', 'I']\n"
          ],
          "name": "stdout"
        }
      ]
    },
    {
      "cell_type": "code",
      "metadata": {
        "id": "386u5AAG4mbc",
        "colab_type": "code",
        "outputId": "8fd79fdf-f6ee-4694-b6f1-d3c8ab1d2b74",
        "colab": {
          "base_uri": "https://localhost:8080/",
          "height": 55
        }
      },
      "source": [
        "#NLTK has a lemmatizer that uses WordNet as a dictionary\n",
        "wnl = nltk.WordNetLemmatizer()\n",
        "HollyLemma = [wnl.lemmatize(t) for t in hollytokens]\n",
        "print(HollyLemma[:200])"
      ],
      "execution_count": 0,
      "outputs": [
        {
          "output_type": "stream",
          "text": [
            "['``', 'A', 'memory', 'fall', 'down', 'from', 'where', 'it', 'wa', 'With', 'this', 'confession', 'I', 'beg', 'for', 'more', 'I', 'never', 'mean', 'to', 'and', 'it', \"'s\", 'been', 'awhile', 'Since', 'I', 'found', 'meaning', 'in', 'these', 'desire', 'I', 'know', 'it', \"'s\", 'wrong', 'to', 'hurt', 'you', 'like', 'this', 'I', 'know', 'it', \"'s\", 'wrong', 'to', 'lie', 'like', 'a', 'kid', 'Fire', 'and', 'blanket', ',', 'a', 'cheap', 'parade', 'Of', 'guilty', 'pleasure', ',', 'I', 'take', 'the', 'stage', 'But', 'nothing', 'feel', 'good', 'if', 'it', 'ai', \"n't\", 'true', 'It', \"'s\", 'like', 'trying', 'to', 'cry', 'for', 'someone', 'you', 'never', 'knew', 'I', 'know', 'it', \"'s\", 'wrong', 'to', 'hurt', 'you', 'like', 'this', 'I', 'know', 'it', \"'s\", 'wrong', 'to', 'lie', 'like', 'kid', 'I', 'love', 'you', 'with', 'more', 'tear', 'than', 'any', 'pain', 'could', 'ever', 'bring', 'me', 'I', 'fight', 'it', 'most', 'everyday', 'I', 'hurt', 'you', 'with', 'more', 'truth', 'than', 'your', 'own', 'eye', 'could', 'ever', 'teach', 'you', 'I', \"'m\", 'tired', 'of', 'living', 'this', 'way', ',', 'when', 'I', 'know', 'it', \"'s\", 'wrong', 'I', 'never', 'told', 'you', ',', 'you', 'just', 'kinda', 'knew', 'By', 'the', 'way', 'I', \"'m\", 'not', 'when', 'I', \"'m\", 'with', 'you', 'You', 'never', 'take', 'me', 'like', 'you', 'used', 'to', 'And', 'nothing', 'heals', 'the', 'scar', 'of', 'all', 'the', 'one', 'we', 'never', 'knew', 'I', 'love', 'you', 'with', 'more', 'tear', 'than', 'any']\n"
          ],
          "name": "stdout"
        }
      ]
    },
    {
      "cell_type": "code",
      "metadata": {
        "id": "gj_3iCE9yEH8",
        "colab_type": "code",
        "colab": {}
      },
      "source": [
        "# Creating a frequency distribution of words\n",
        "ndist = FreqDist(hollywords)"
      ],
      "execution_count": 0,
      "outputs": []
    },
    {
      "cell_type": "code",
      "metadata": {
        "id": "98JgMj83yGmG",
        "colab_type": "code",
        "outputId": "723ccd4c-69d7-4590-c152-b695a23e7d70",
        "colab": {
          "base_uri": "https://localhost:8080/",
          "height": 884
        }
      },
      "source": [
        "# print the top 50 tokens by frequency\n",
        "nitems = ndist.most_common(50)\n",
        "for item in nitems:\n",
        "    print (item[0], '\\t', item[1])"
      ],
      "execution_count": 0,
      "outputs": [
        {
          "output_type": "stream",
          "text": [
            "i \t 572\n",
            "you \t 408\n",
            "the \t 317\n",
            ", \t 251\n",
            "to \t 199\n",
            "a \t 192\n",
            "and \t 160\n",
            "me \t 151\n",
            "in \t 118\n",
            "n't \t 118\n",
            "'s \t 111\n",
            "it \t 109\n",
            "that \t 105\n",
            "my \t 104\n",
            "do \t 95\n",
            "like \t 92\n",
            "of \t 89\n",
            "on \t 88\n",
            "with \t 79\n",
            "your \t 79\n",
            "love \t 75\n",
            "all \t 75\n",
            "for \t 64\n",
            "but \t 62\n",
            "her \t 62\n",
            "we \t 61\n",
            "this \t 59\n",
            "'m \t 59\n",
            "'' \t 57\n",
            "know \t 55\n",
            "could \t 55\n",
            "is \t 55\n",
            "never \t 46\n",
            "have \t 46\n",
            "if \t 45\n",
            "when \t 44\n",
            "let \t 44\n",
            "are \t 44\n",
            "there \t 43\n",
            "'ve \t 43\n",
            "be \t 43\n",
            "was \t 41\n",
            "go \t 41\n",
            "'re \t 39\n",
            "he \t 39\n",
            "up \t 38\n",
            "why \t 38\n",
            "heart \t 37\n",
            "out \t 37\n",
            "'ll \t 36\n"
          ],
          "name": "stdout"
        }
      ]
    },
    {
      "cell_type": "code",
      "metadata": {
        "id": "CLxyr3NAyJRu",
        "colab_type": "code",
        "outputId": "e051703a-95fa-4a38-c1fe-cb39cd82d6b8",
        "colab": {
          "base_uri": "https://localhost:8080/",
          "height": 299
        }
      },
      "source": [
        "ndist.plot(30,cumulative=False)"
      ],
      "execution_count": 0,
      "outputs": [
        {
          "output_type": "display_data",
          "data": {
            "image/png": "[encoded data removed]",
            "text/plain": [
              "<Figure size 432x288 with 1 Axes>"
            ]
          },
          "metadata": {
            "tags": []
          }
        }
      ]
    },
    {
      "cell_type": "code",
      "metadata": {
        "id": "3hnK8NpmyNnQ",
        "colab_type": "code",
        "outputId": "45f8b5a1-fb89-48a5-9ab9-c630110f6fc6",
        "colab": {
          "base_uri": "https://localhost:8080/",
          "height": 55
        }
      },
      "source": [
        "print(hollywords[:160])\n",
        "#print(hollywords2lowercase[:160])"
      ],
      "execution_count": 0,
      "outputs": [
        {
          "output_type": "stream",
          "text": [
            "['``', 'a', 'memory', 'falls', 'down', 'from', 'where', 'it', 'was', 'with', 'this', 'confession', 'i', 'beg', 'for', 'more', 'i', 'never', 'mean', 'to', 'and', 'it', \"'s\", 'been', 'awhile', 'since', 'i', 'found', 'meaning', 'in', 'these', 'desires', 'i', 'know', 'it', \"'s\", 'wrong', 'to', 'hurt', 'you', 'like', 'this', 'i', 'know', 'it', \"'s\", 'wrong', 'to', 'lie', 'like', 'a', 'kid', 'fire', 'and', 'blankets', ',', 'a', 'cheap', 'parade', 'of', 'guilty', 'pleasures', ',', 'i', 'take', 'the', 'stage', 'but', 'nothing', 'feels', 'good', 'if', 'it', 'ai', \"n't\", 'true', 'it', \"'s\", 'like', 'trying', 'to', 'cry', 'for', 'someone', 'you', 'never', 'knew', 'i', 'know', 'it', \"'s\", 'wrong', 'to', 'hurt', 'you', 'like', 'this', 'i', 'know', 'it', \"'s\", 'wrong', 'to', 'lie', 'like', 'kid', 'i', 'love', 'you', 'with', 'more', 'tears', 'than', 'any', 'pain', 'could', 'ever', 'bring', 'me', 'i', 'fight', 'it', 'most', 'everyday', 'i', 'hurt', 'you', 'with', 'more', 'truth', 'than', 'your', 'own', 'eyes', 'could', 'ever', 'teach', 'you', 'i', \"'m\", 'tired', 'of', 'living', 'this', 'way', ',', 'when', 'i', 'know', 'it', \"'s\", 'wrong', 'i', 'never', 'told', 'you', ',', 'you', 'just', 'kinda']\n"
          ],
          "name": "stdout"
        }
      ]
    },
    {
      "cell_type": "code",
      "metadata": {
        "id": "p2VB4RlJytxN",
        "colab_type": "code",
        "colab": {}
      },
      "source": [
        "# this function takes a string and a list of words as parameters.\n",
        "#   It will return all the words in the list that contain the string as a substring\n",
        "def searchstring (substring, wordlist):\n",
        "    # initialize the result\n",
        "    result = [ ]\n",
        "    #  loop over all the words\n",
        "    for word in wordlist:\n",
        "        # test each word if it contains the substring\n",
        "        if substring in word:\n",
        "            # add it to the result\n",
        "            result.append(word)\n",
        "    return result"
      ],
      "execution_count": 0,
      "outputs": []
    },
    {
      "cell_type": "code",
      "metadata": {
        "id": "8R1q0NEMyxuM",
        "colab_type": "code",
        "outputId": "e7e88c15-8c1e-4446-e5b9-c7e87386e392",
        "colab": {
          "base_uri": "https://localhost:8080/",
          "height": 35
        }
      },
      "source": [
        "searchstring('z', hollywords)"
      ],
      "execution_count": 0,
      "outputs": [
        {
          "output_type": "execute_result",
          "data": {
            "text/plain": [
              "['memorized', 'realize', 'crazy', 'crazy', 'cuz', 'criticize', 'philosophize']"
            ]
          },
          "metadata": {
            "tags": []
          },
          "execution_count": 12
        }
      ]
    },
    {
      "cell_type": "code",
      "metadata": {
        "id": "8-HFIRWuy1_x",
        "colab_type": "code",
        "colab": {}
      },
      "source": [
        "##  Regular Expression to match non-alphabetic characters\n",
        "import re"
      ],
      "execution_count": 0,
      "outputs": []
    },
    {
      "cell_type": "code",
      "metadata": {
        "id": "PFIpVbe74lC1",
        "colab_type": "code",
        "colab": {}
      },
      "source": [
        "# this regular expression pattern matches any word that contains all non-alphabetical\n",
        "#   lower-case characters [^a-z]+\n",
        "# the beginning ^ and ending $ require the match to begin and end on a word boundary \n",
        "pattern = re.compile('^[^a-z]+$')"
      ],
      "execution_count": 0,
      "outputs": []
    },
    {
      "cell_type": "code",
      "metadata": {
        "id": "6Gh9VzRIy4PO",
        "colab_type": "code",
        "outputId": "8f27117c-6f60-4882-fe4b-c561e6bbad3b",
        "colab": {
          "base_uri": "https://localhost:8080/",
          "height": 35
        }
      },
      "source": [
        "nonAlphaMatch = pattern.match('**')\n",
        "#  if it matched, print a message\n",
        "if nonAlphaMatch: print ('matched non-alphabetical')"
      ],
      "execution_count": 0,
      "outputs": [
        {
          "output_type": "stream",
          "text": [
            "matched non-alphabetical\n"
          ],
          "name": "stdout"
        }
      ]
    },
    {
      "cell_type": "code",
      "metadata": {
        "id": "nPAthzWoy6xO",
        "colab_type": "code",
        "colab": {}
      },
      "source": [
        "# function that takes a word and returns true if it consists only\n",
        "#   of non-alphabetic characters  (assumes import re)\n",
        "def alpha_filter(w):\n",
        "  # pattern to match word of non-alphabetical characters\n",
        "  pattern = re.compile('^[^a-z]+$')\n",
        "  if (pattern.match(w)):\n",
        "    return True\n",
        "  else:\n",
        "    return False"
      ],
      "execution_count": 0,
      "outputs": []
    },
    {
      "cell_type": "code",
      "metadata": {
        "id": "sTzzhH8ky9LN",
        "colab_type": "code",
        "outputId": "f6c18b36-a681-4200-91a7-257774a63ec2",
        "colab": {
          "base_uri": "https://localhost:8080/",
          "height": 72
        }
      },
      "source": [
        "# apply the function to hollywords\n",
        "alphahollywords = [w for w in hollywords if not alpha_filter(w)]\n",
        "print(alphahollywords[:100])\n",
        "print(len(alphahollywords))"
      ],
      "execution_count": 0,
      "outputs": [
        {
          "output_type": "stream",
          "text": [
            "['a', 'memory', 'falls', 'down', 'from', 'where', 'it', 'was', 'with', 'this', 'confession', 'i', 'beg', 'for', 'more', 'i', 'never', 'mean', 'to', 'and', 'it', \"'s\", 'been', 'awhile', 'since', 'i', 'found', 'meaning', 'in', 'these', 'desires', 'i', 'know', 'it', \"'s\", 'wrong', 'to', 'hurt', 'you', 'like', 'this', 'i', 'know', 'it', \"'s\", 'wrong', 'to', 'lie', 'like', 'a', 'kid', 'fire', 'and', 'blankets', 'a', 'cheap', 'parade', 'of', 'guilty', 'pleasures', 'i', 'take', 'the', 'stage', 'but', 'nothing', 'feels', 'good', 'if', 'it', 'ai', \"n't\", 'true', 'it', \"'s\", 'like', 'trying', 'to', 'cry', 'for', 'someone', 'you', 'never', 'knew', 'i', 'know', 'it', \"'s\", 'wrong', 'to', 'hurt', 'you', 'like', 'this', 'i', 'know', 'it', \"'s\", 'wrong', 'to']\n",
            "9171\n"
          ],
          "name": "stdout"
        }
      ]
    },
    {
      "cell_type": "code",
      "metadata": {
        "id": "4yZo62cmy_ic",
        "colab_type": "code",
        "outputId": "b322000b-f1c2-4bb2-d7fa-41cc340d460a",
        "colab": {
          "base_uri": "https://localhost:8080/",
          "height": 72
        }
      },
      "source": [
        "# get a list of stopwords from nltk\n",
        "nltkstopwords = nltk.corpus.stopwords.words('english')\n",
        "print(len(nltkstopwords))\n",
        "print(nltkstopwords)"
      ],
      "execution_count": 0,
      "outputs": [
        {
          "output_type": "stream",
          "text": [
            "179\n",
            "['i', 'me', 'my', 'myself', 'we', 'our', 'ours', 'ourselves', 'you', \"you're\", \"you've\", \"you'll\", \"you'd\", 'your', 'yours', 'yourself', 'yourselves', 'he', 'him', 'his', 'himself', 'she', \"she's\", 'her', 'hers', 'herself', 'it', \"it's\", 'its', 'itself', 'they', 'them', 'their', 'theirs', 'themselves', 'what', 'which', 'who', 'whom', 'this', 'that', \"that'll\", 'these', 'those', 'am', 'is', 'are', 'was', 'were', 'be', 'been', 'being', 'have', 'has', 'had', 'having', 'do', 'does', 'did', 'doing', 'a', 'an', 'the', 'and', 'but', 'if', 'or', 'because', 'as', 'until', 'while', 'of', 'at', 'by', 'for', 'with', 'about', 'against', 'between', 'into', 'through', 'during', 'before', 'after', 'above', 'below', 'to', 'from', 'up', 'down', 'in', 'out', 'on', 'off', 'over', 'under', 'again', 'further', 'then', 'once', 'here', 'there', 'when', 'where', 'why', 'how', 'all', 'any', 'both', 'each', 'few', 'more', 'most', 'other', 'some', 'such', 'no', 'nor', 'not', 'only', 'own', 'same', 'so', 'than', 'too', 'very', 's', 't', 'can', 'will', 'just', 'don', \"don't\", 'should', \"should've\", 'now', 'd', 'll', 'm', 'o', 're', 've', 'y', 'ain', 'aren', \"aren't\", 'couldn', \"couldn't\", 'didn', \"didn't\", 'doesn', \"doesn't\", 'hadn', \"hadn't\", 'hasn', \"hasn't\", 'haven', \"haven't\", 'isn', \"isn't\", 'ma', 'mightn', \"mightn't\", 'mustn', \"mustn't\", 'needn', \"needn't\", 'shan', \"shan't\", 'shouldn', \"shouldn't\", 'wasn', \"wasn't\", 'weren', \"weren't\", 'won', \"won't\", 'wouldn', \"wouldn't\"]\n"
          ],
          "name": "stdout"
        }
      ]
    },
    {
      "cell_type": "code",
      "metadata": {
        "id": "mUnfy9htzCN4",
        "colab_type": "code",
        "outputId": "ba1a3a7b-5956-42d2-944b-02b365e8f14b",
        "colab": {
          "base_uri": "https://localhost:8080/",
          "height": 72
        }
      },
      "source": [
        "# check tokenization in hollywords\n",
        "print(hollywords[:100])\n",
        "print(hollywords[15300:15310])"
      ],
      "execution_count": 0,
      "outputs": [
        {
          "output_type": "stream",
          "text": [
            "['``', 'a', 'memory', 'falls', 'down', 'from', 'where', 'it', 'was', 'with', 'this', 'confession', 'i', 'beg', 'for', 'more', 'i', 'never', 'mean', 'to', 'and', 'it', \"'s\", 'been', 'awhile', 'since', 'i', 'found', 'meaning', 'in', 'these', 'desires', 'i', 'know', 'it', \"'s\", 'wrong', 'to', 'hurt', 'you', 'like', 'this', 'i', 'know', 'it', \"'s\", 'wrong', 'to', 'lie', 'like', 'a', 'kid', 'fire', 'and', 'blankets', ',', 'a', 'cheap', 'parade', 'of', 'guilty', 'pleasures', ',', 'i', 'take', 'the', 'stage', 'but', 'nothing', 'feels', 'good', 'if', 'it', 'ai', \"n't\", 'true', 'it', \"'s\", 'like', 'trying', 'to', 'cry', 'for', 'someone', 'you', 'never', 'knew', 'i', 'know', 'it', \"'s\", 'wrong', 'to', 'hurt', 'you', 'like', 'this', 'i', 'know', 'it']\n",
            "[]\n"
          ],
          "name": "stdout"
        }
      ]
    },
    {
      "cell_type": "code",
      "metadata": {
        "id": "f8NdlU2o0CiS",
        "colab_type": "code",
        "colab": {}
      },
      "source": [
        "morestopwords = ['holly','williams','could','would','might','must','need','sha','wo','y',\"'s\",\"'d\",\"'ll\",\"'t\",\"'m\",\"'re\",\"'ve\", \"n't\", 'repeat','chorus','verse']"
      ],
      "execution_count": 0,
      "outputs": []
    },
    {
      "cell_type": "code",
      "metadata": {
        "id": "NXyhpiObzE_q",
        "colab_type": "code",
        "outputId": "85045f15-9511-4a37-8c40-32510358dcd5",
        "colab": {
          "base_uri": "https://localhost:8080/",
          "height": 72
        }
      },
      "source": [
        "stopwords = nltkstopwords + morestopwords\n",
        "print(len(stopwords))\n",
        "print(stopwords)"
      ],
      "execution_count": 0,
      "outputs": [
        {
          "output_type": "stream",
          "text": [
            "200\n",
            "['i', 'me', 'my', 'myself', 'we', 'our', 'ours', 'ourselves', 'you', \"you're\", \"you've\", \"you'll\", \"you'd\", 'your', 'yours', 'yourself', 'yourselves', 'he', 'him', 'his', 'himself', 'she', \"she's\", 'her', 'hers', 'herself', 'it', \"it's\", 'its', 'itself', 'they', 'them', 'their', 'theirs', 'themselves', 'what', 'which', 'who', 'whom', 'this', 'that', \"that'll\", 'these', 'those', 'am', 'is', 'are', 'was', 'were', 'be', 'been', 'being', 'have', 'has', 'had', 'having', 'do', 'does', 'did', 'doing', 'a', 'an', 'the', 'and', 'but', 'if', 'or', 'because', 'as', 'until', 'while', 'of', 'at', 'by', 'for', 'with', 'about', 'against', 'between', 'into', 'through', 'during', 'before', 'after', 'above', 'below', 'to', 'from', 'up', 'down', 'in', 'out', 'on', 'off', 'over', 'under', 'again', 'further', 'then', 'once', 'here', 'there', 'when', 'where', 'why', 'how', 'all', 'any', 'both', 'each', 'few', 'more', 'most', 'other', 'some', 'such', 'no', 'nor', 'not', 'only', 'own', 'same', 'so', 'than', 'too', 'very', 's', 't', 'can', 'will', 'just', 'don', \"don't\", 'should', \"should've\", 'now', 'd', 'll', 'm', 'o', 're', 've', 'y', 'ain', 'aren', \"aren't\", 'couldn', \"couldn't\", 'didn', \"didn't\", 'doesn', \"doesn't\", 'hadn', \"hadn't\", 'hasn', \"hasn't\", 'haven', \"haven't\", 'isn', \"isn't\", 'ma', 'mightn', \"mightn't\", 'mustn', \"mustn't\", 'needn', \"needn't\", 'shan', \"shan't\", 'shouldn', \"shouldn't\", 'wasn', \"wasn't\", 'weren', \"weren't\", 'won', \"won't\", 'wouldn', \"wouldn't\", 'holly', 'williams', 'could', 'would', 'might', 'must', 'need', 'sha', 'wo', 'y', \"'s\", \"'d\", \"'ll\", \"'t\", \"'m\", \"'re\", \"'ve\", \"n't\", 'repeat', 'chorus', 'verse']\n"
          ],
          "name": "stdout"
        }
      ]
    },
    {
      "cell_type": "code",
      "metadata": {
        "id": "b99MiqcgzHWH",
        "colab_type": "code",
        "outputId": "fd13ab17-4bee-4435-d72e-a063a8fd93d7",
        "colab": {
          "base_uri": "https://localhost:8080/",
          "height": 35
        }
      },
      "source": [
        "stoppedhollywords = [w for w in alphahollywords if not w in stopwords]\n",
        "print(len(stoppedhollywords))"
      ],
      "execution_count": 0,
      "outputs": [
        {
          "output_type": "stream",
          "text": [
            "3934\n"
          ],
          "name": "stdout"
        }
      ]
    },
    {
      "cell_type": "code",
      "metadata": {
        "id": "6od5xTQ2zJiK",
        "colab_type": "code",
        "outputId": "d1d24e39-ef15-499e-b129-84cbbb988f0b",
        "colab": {
          "base_uri": "https://localhost:8080/",
          "height": 884
        }
      },
      "source": [
        "# use this list for a better frequency distribution\n",
        "hollydist = FreqDist(stoppedhollywords)\n",
        "hollyitems = hollydist.most_common(50)\n",
        "for item in hollyitems:\n",
        "  print(item)"
      ],
      "execution_count": 0,
      "outputs": [
        {
          "output_type": "stream",
          "text": [
            "('like', 92)\n",
            "('love', 75)\n",
            "('know', 55)\n",
            "('never', 46)\n",
            "('let', 44)\n",
            "('go', 41)\n",
            "('heart', 37)\n",
            "('one', 35)\n",
            "('night', 32)\n",
            "('see', 29)\n",
            "('everything', 27)\n",
            "('still', 26)\n",
            "('ever', 22)\n",
            "('give', 22)\n",
            "('man', 22)\n",
            "('oh', 22)\n",
            "('waiting', 22)\n",
            "('day', 21)\n",
            "('ca', 20)\n",
            "('take', 19)\n",
            "('young', 19)\n",
            "('ai', 18)\n",
            "('want', 18)\n",
            "('baby', 18)\n",
            "('away', 18)\n",
            "('mama', 18)\n",
            "('trying', 17)\n",
            "('every', 17)\n",
            "('got', 17)\n",
            "('come', 17)\n",
            "('well', 17)\n",
            "('home', 17)\n",
            "('without', 17)\n",
            "('june', 17)\n",
            "('used', 16)\n",
            "('end', 16)\n",
            "('believe', 16)\n",
            "('yeah', 16)\n",
            "('blue', 16)\n",
            "('say', 16)\n",
            "('nothing', 15)\n",
            "('maybe', 15)\n",
            "('hands', 15)\n",
            "('made', 15)\n",
            "('lie', 14)\n",
            "('knew', 14)\n",
            "('way', 14)\n",
            "('always', 14)\n",
            "('boy', 14)\n",
            "('little', 14)\n"
          ],
          "name": "stdout"
        }
      ]
    },
    {
      "cell_type": "code",
      "metadata": {
        "id": "sM0ZvQ0G0x4i",
        "colab_type": "code",
        "outputId": "18adddc7-0b5d-4458-baf7-64d8bd0d032c",
        "colab": {
          "base_uri": "https://localhost:8080/",
          "height": 327
        }
      },
      "source": [
        "hollydist.plot(30,cumulative=False)"
      ],
      "execution_count": 0,
      "outputs": [
        {
          "output_type": "display_data",
          "data": {
            "image/png": "[encoded data removed]",
            "text/plain": [
              "<Figure size 432x288 with 1 Axes>"
            ]
          },
          "metadata": {
            "tags": []
          }
        }
      ]
    },
    {
      "cell_type": "code",
      "metadata": {
        "id": "06XQvRMHzLz6",
        "colab_type": "code",
        "outputId": "cd5f87df-69dc-4399-e7b9-19882d9bb295",
        "colab": {
          "base_uri": "https://localhost:8080/",
          "height": 72
        }
      },
      "source": [
        "# Bigrams and Bigram frequency distribution\n",
        "hollybigrams = list(nltk.bigrams(hollywords))\n",
        "print(hollywords[:21])\n",
        "print(hollybigrams[:20])"
      ],
      "execution_count": 0,
      "outputs": [
        {
          "output_type": "stream",
          "text": [
            "['``', 'a', 'memory', 'falls', 'down', 'from', 'where', 'it', 'was', 'with', 'this', 'confession', 'i', 'beg', 'for', 'more', 'i', 'never', 'mean', 'to', 'and']\n",
            "[('``', 'a'), ('a', 'memory'), ('memory', 'falls'), ('falls', 'down'), ('down', 'from'), ('from', 'where'), ('where', 'it'), ('it', 'was'), ('was', 'with'), ('with', 'this'), ('this', 'confession'), ('confession', 'i'), ('i', 'beg'), ('beg', 'for'), ('for', 'more'), ('more', 'i'), ('i', 'never'), ('never', 'mean'), ('mean', 'to'), ('to', 'and')]\n"
          ],
          "name": "stdout"
        }
      ]
    },
    {
      "cell_type": "code",
      "metadata": {
        "id": "0iBGN8DszNwm",
        "colab_type": "code",
        "colab": {}
      },
      "source": [
        "# setup for bigrams and bigram measures\n",
        "from nltk.collocations import *\n",
        "bigram_measures = nltk.collocations.BigramAssocMeasures()"
      ],
      "execution_count": 0,
      "outputs": []
    },
    {
      "cell_type": "code",
      "metadata": {
        "id": "v-gl_-AozP06",
        "colab_type": "code",
        "colab": {}
      },
      "source": [
        "# create the bigram finder and score the bigrams by frequency\n",
        "# BIGRAMS MUST BE APPLIED TO COMPLETE WORD LIST WITHOUT REMOVED STOP WORDS -- LOWER CASE OK\n",
        "finder = BigramCollocationFinder.from_words(hollywords)\n",
        "scored = finder.score_ngrams(bigram_measures.raw_freq)"
      ],
      "execution_count": 0,
      "outputs": []
    },
    {
      "cell_type": "code",
      "metadata": {
        "id": "29pIS-JjzSIS",
        "colab_type": "code",
        "outputId": "1c304679-5d7b-4c5c-d6e3-d90dc136e909",
        "colab": {
          "base_uri": "https://localhost:8080/",
          "height": 69
        }
      },
      "source": [
        "# scored is a list of bigram pairs with their score\n",
        "print(type(scored))\n",
        "first = scored[0]\n",
        "print(type(first))\n",
        "print(first)"
      ],
      "execution_count": 0,
      "outputs": [
        {
          "output_type": "stream",
          "text": [
            "<class 'list'>\n",
            "<class 'tuple'>\n",
            "(('do', \"n't\"), 0.0069879015435961615)\n"
          ],
          "name": "stdout"
        }
      ]
    },
    {
      "cell_type": "code",
      "metadata": {
        "id": "iZe3zhCNzUYe",
        "colab_type": "code",
        "outputId": "a64c2c28-87ac-4407-91d0-d99ff937086f",
        "colab": {
          "base_uri": "https://localhost:8080/",
          "height": 884
        }
      },
      "source": [
        "# scores are sorted in decreasing frequency\n",
        "for bscore in scored[:50]:\n",
        "    print (bscore)"
      ],
      "execution_count": 0,
      "outputs": [
        {
          "output_type": "stream",
          "text": [
            "(('do', \"n't\"), 0.0069879015435961615)\n",
            "(('i', \"'m\"), 0.006153525239883187)\n",
            "(('and', 'i'), 0.00458906967042136)\n",
            "(('it', \"'s\"), 0.004276178556528994)\n",
            "(('in', 'the'), 0.004067584480600751)\n",
            "(('i', 'do'), 0.0037546933667083854)\n",
            "(('i', 'could'), 0.0031289111389236545)\n",
            "(('on', 'the'), 0.0031289111389236545)\n",
            "(('but', 'i'), 0.0027117229870671673)\n",
            "(('you', \"'re\"), 0.0027117229870671673)\n",
            "(('i', 'love'), 0.0026074259491030453)\n",
            "(('are', 'you'), 0.0025031289111389237)\n",
            "(('i', 'know'), 0.0025031289111389237)\n",
            "(('me', 'i'), 0.0025031289111389237)\n",
            "(('why', 'are'), 0.0025031289111389237)\n",
            "(('i', \"'d\"), 0.0023988318731748017)\n",
            "(('i', \"'ll\"), 0.0023988318731748017)\n",
            "(('i', \"'ve\"), 0.0023988318731748017)\n",
            "(('let', 'her'), 0.00229453483521068)\n",
            "(('do', 'you'), 0.002190237797246558)\n",
            "(('ca', \"n't\"), 0.0020859407592824365)\n",
            "(('i', 'was'), 0.0020859407592824365)\n",
            "(('if', 'you'), 0.0020859407592824365)\n",
            "(('like', 'the'), 0.0020859407592824365)\n",
            "(('that', 'i'), 0.0020859407592824365)\n",
            "(('when', 'i'), 0.0020859407592824365)\n",
            "(('like', 'a'), 0.0019816437213183145)\n",
            "(('ai', \"n't\"), 0.0018773466833541927)\n",
            "(('my', 'heart'), 0.0018773466833541927)\n",
            "(('the', 'night'), 0.0018773466833541927)\n",
            "(('trying', 'to'), 0.0017730496453900709)\n",
            "(('waiting', 'on'), 0.0017730496453900709)\n",
            "(('on', 'june'), 0.001668752607425949)\n",
            "(('and', 'the'), 0.0015644555694618273)\n",
            "(('used', 'to'), 0.0015644555694618273)\n",
            "(('with', 'a'), 0.0015644555694618273)\n",
            "(('with', 'me'), 0.0015644555694618273)\n",
            "(('her', 'go'), 0.0014601585314977055)\n",
            "(('if', 'i'), 0.0014601585314977055)\n",
            "(('is', 'young'), 0.0014601585314977055)\n",
            "(('love', 'you'), 0.0014601585314977055)\n",
            "((\"n't\", 'know'), 0.0014601585314977055)\n",
            "(('night', 'is'), 0.0014601585314977055)\n",
            "((\"'ve\", 'been'), 0.0013558614935335837)\n",
            "(('i', 'were'), 0.0013558614935335837)\n",
            "(('on', 'a'), 0.0013558614935335837)\n",
            "(('with', 'the'), 0.0013558614935335837)\n",
            "(('can', 'you'), 0.0012515644555694619)\n",
            "(('how', 'can'), 0.0012515644555694619)\n",
            "(('i', 'never'), 0.0012515644555694619)\n"
          ],
          "name": "stdout"
        }
      ]
    },
    {
      "cell_type": "code",
      "metadata": {
        "id": "DcEFunUzzWf4",
        "colab_type": "code",
        "outputId": "b026a8ea-28c7-4bc7-983b-c8534f6f35a9",
        "colab": {
          "base_uri": "https://localhost:8080/",
          "height": 884
        }
      },
      "source": [
        "# apply a filter to remove non-alphabetical tokens from the holly bigram finder\n",
        "finder.apply_word_filter(alpha_filter)\n",
        "scored = finder.score_ngrams(bigram_measures.raw_freq)\n",
        "for bscore in scored[:50]:\n",
        "    print (bscore)"
      ],
      "execution_count": 0,
      "outputs": [
        {
          "output_type": "stream",
          "text": [
            "(('do', \"n't\"), 0.0069879015435961615)\n",
            "(('i', \"'m\"), 0.006153525239883187)\n",
            "(('and', 'i'), 0.00458906967042136)\n",
            "(('it', \"'s\"), 0.004276178556528994)\n",
            "(('in', 'the'), 0.004067584480600751)\n",
            "(('i', 'do'), 0.0037546933667083854)\n",
            "(('i', 'could'), 0.0031289111389236545)\n",
            "(('on', 'the'), 0.0031289111389236545)\n",
            "(('but', 'i'), 0.0027117229870671673)\n",
            "(('you', \"'re\"), 0.0027117229870671673)\n",
            "(('i', 'love'), 0.0026074259491030453)\n",
            "(('are', 'you'), 0.0025031289111389237)\n",
            "(('i', 'know'), 0.0025031289111389237)\n",
            "(('me', 'i'), 0.0025031289111389237)\n",
            "(('why', 'are'), 0.0025031289111389237)\n",
            "(('i', \"'d\"), 0.0023988318731748017)\n",
            "(('i', \"'ll\"), 0.0023988318731748017)\n",
            "(('i', \"'ve\"), 0.0023988318731748017)\n",
            "(('let', 'her'), 0.00229453483521068)\n",
            "(('do', 'you'), 0.002190237797246558)\n",
            "(('ca', \"n't\"), 0.0020859407592824365)\n",
            "(('i', 'was'), 0.0020859407592824365)\n",
            "(('if', 'you'), 0.0020859407592824365)\n",
            "(('like', 'the'), 0.0020859407592824365)\n",
            "(('that', 'i'), 0.0020859407592824365)\n",
            "(('when', 'i'), 0.0020859407592824365)\n",
            "(('like', 'a'), 0.0019816437213183145)\n",
            "(('ai', \"n't\"), 0.0018773466833541927)\n",
            "(('my', 'heart'), 0.0018773466833541927)\n",
            "(('the', 'night'), 0.0018773466833541927)\n",
            "(('trying', 'to'), 0.0017730496453900709)\n",
            "(('waiting', 'on'), 0.0017730496453900709)\n",
            "(('on', 'june'), 0.001668752607425949)\n",
            "(('and', 'the'), 0.0015644555694618273)\n",
            "(('used', 'to'), 0.0015644555694618273)\n",
            "(('with', 'a'), 0.0015644555694618273)\n",
            "(('with', 'me'), 0.0015644555694618273)\n",
            "(('her', 'go'), 0.0014601585314977055)\n",
            "(('if', 'i'), 0.0014601585314977055)\n",
            "(('is', 'young'), 0.0014601585314977055)\n",
            "(('love', 'you'), 0.0014601585314977055)\n",
            "((\"n't\", 'know'), 0.0014601585314977055)\n",
            "(('night', 'is'), 0.0014601585314977055)\n",
            "((\"'ve\", 'been'), 0.0013558614935335837)\n",
            "(('i', 'were'), 0.0013558614935335837)\n",
            "(('on', 'a'), 0.0013558614935335837)\n",
            "(('with', 'the'), 0.0013558614935335837)\n",
            "(('can', 'you'), 0.0012515644555694619)\n",
            "(('how', 'can'), 0.0012515644555694619)\n",
            "(('i', 'never'), 0.0012515644555694619)\n"
          ],
          "name": "stdout"
        }
      ]
    },
    {
      "cell_type": "code",
      "metadata": {
        "id": "OivXykKgzYrS",
        "colab_type": "code",
        "outputId": "ebbfa38d-a1dd-4d10-e2ab-1582ee59a17c",
        "colab": {
          "base_uri": "https://localhost:8080/",
          "height": 884
        }
      },
      "source": [
        "# apply a filter to remove stop words\n",
        "# lambda is a function definition 'on the fly'\n",
        "finder.apply_word_filter(lambda w: w in stopwords)\n",
        "scored = finder.score_ngrams(bigram_measures.raw_freq)\n",
        "for bscore in scored[:50]:\n",
        "    print (bscore)"
      ],
      "execution_count": 0,
      "outputs": [
        {
          "output_type": "stream",
          "text": [
            "(('gon', 'na'), 0.0007300792657488527)\n",
            "(('runs', 'dry'), 0.0006257822277847309)\n",
            "(('woman', 'like'), 0.0006257822277847309)\n",
            "(('go', 'let'), 0.0005214851898206091)\n",
            "(('good', 'man'), 0.0005214851898206091)\n",
            "(('heart', 'blue'), 0.0005214851898206091)\n",
            "(('life', 'like'), 0.0005214851898206091)\n",
            "(('rodeo', 'road'), 0.0005214851898206091)\n",
            "(('beat', 'til'), 0.00041718815185648727)\n",
            "(('break', 'free'), 0.00041718815185648727)\n",
            "(('day', 'without'), 0.00041718815185648727)\n",
            "(('every', 'night'), 0.00041718815185648727)\n",
            "(('finally', 'found'), 0.00041718815185648727)\n",
            "(('gone', 'away'), 0.00041718815185648727)\n",
            "(('let', 'go'), 0.00041718815185648727)\n",
            "(('missing', 'home'), 0.00041718815185648727)\n",
            "(('still', 'trying'), 0.00041718815185648727)\n",
            "(('wan', 'na'), 0.00041718815185648727)\n",
            "(('without', 'jesus'), 0.00041718815185648727)\n",
            "(('alright', 'mama'), 0.00031289111389236547)\n",
            "(('always', 'remember'), 0.00031289111389236547)\n",
            "(('believe', 'everything'), 0.00031289111389236547)\n",
            "(('blood', 'brothers'), 0.00031289111389236547)\n",
            "(('brand', 'new'), 0.00031289111389236547)\n",
            "(('even', 'though'), 0.00031289111389236547)\n",
            "(('ever', 'make'), 0.00031289111389236547)\n",
            "(('ever', 'slip'), 0.00031289111389236547)\n",
            "(('every', 'time'), 0.00031289111389236547)\n",
            "(('every', 'wave'), 0.00031289111389236547)\n",
            "(('free', 'cause'), 0.00031289111389236547)\n",
            "(('hands', 'let'), 0.00031289111389236547)\n",
            "(('hardest', 'part'), 0.00031289111389236547)\n",
            "(('heart', 'taught'), 0.00031289111389236547)\n",
            "(('honey', 'ca'), 0.00031289111389236547)\n",
            "(('like', 'mine'), 0.00031289111389236547)\n",
            "(('narrow', 'line'), 0.00031289111389236547)\n",
            "(('never', 'come'), 0.00031289111389236547)\n",
            "(('never', 'knew'), 0.00031289111389236547)\n",
            "(('never', 'see'), 0.00031289111389236547)\n",
            "(('never', 'wore'), 0.00031289111389236547)\n",
            "(('night', 'mama'), 0.00031289111389236547)\n",
            "(('old', 'railroad'), 0.00031289111389236547)\n",
            "(('one', 'day'), 0.00031289111389236547)\n",
            "(('ones', 'dying'), 0.00031289111389236547)\n",
            "(('pony', 'free'), 0.00031289111389236547)\n",
            "(('railroad', 'delivers'), 0.00031289111389236547)\n",
            "(('refuse', 'jesus'), 0.00031289111389236547)\n",
            "(('road', 'set'), 0.00031289111389236547)\n",
            "(('searching', 'anymore'), 0.00031289111389236547)\n",
            "(('see', 'everythings'), 0.00031289111389236547)\n"
          ],
          "name": "stdout"
        }
      ]
    },
    {
      "cell_type": "code",
      "metadata": {
        "id": "6gooeeoczbTE",
        "colab_type": "code",
        "outputId": "e1fd8f09-53bf-445a-96c3-879bc67a8eb6",
        "colab": {
          "base_uri": "https://localhost:8080/",
          "height": 884
        }
      },
      "source": [
        "# apply a filter (on a new finder) to remove low frequency words\n",
        "finder2 = BigramCollocationFinder.from_words(hollywords)\n",
        "finder2.apply_freq_filter(2)\n",
        "scored = finder2.score_ngrams(bigram_measures.raw_freq)\n",
        "for bscore in scored[:50]:\n",
        "    print (bscore)"
      ],
      "execution_count": 0,
      "outputs": [
        {
          "output_type": "stream",
          "text": [
            "(('do', \"n't\"), 0.0069879015435961615)\n",
            "(('i', \"'m\"), 0.006153525239883187)\n",
            "(('and', 'i'), 0.00458906967042136)\n",
            "((',', 'i'), 0.004276178556528994)\n",
            "(('it', \"'s\"), 0.004276178556528994)\n",
            "(('in', 'the'), 0.004067584480600751)\n",
            "(('i', 'do'), 0.0037546933667083854)\n",
            "(('i', 'could'), 0.0031289111389236545)\n",
            "(('on', 'the'), 0.0031289111389236545)\n",
            "((\"'\", 'like'), 0.0027117229870671673)\n",
            "(('but', 'i'), 0.0027117229870671673)\n",
            "(('you', \"'re\"), 0.0027117229870671673)\n",
            "(('i', 'love'), 0.0026074259491030453)\n",
            "(('are', 'you'), 0.0025031289111389237)\n",
            "(('i', 'know'), 0.0025031289111389237)\n",
            "(('me', 'i'), 0.0025031289111389237)\n",
            "(('why', 'are'), 0.0025031289111389237)\n",
            "(('i', \"'d\"), 0.0023988318731748017)\n",
            "(('i', \"'ll\"), 0.0023988318731748017)\n",
            "(('i', \"'ve\"), 0.0023988318731748017)\n",
            "(('let', 'her'), 0.00229453483521068)\n",
            "((',', 'you'), 0.002190237797246558)\n",
            "(('do', 'you'), 0.002190237797246558)\n",
            "((\"''\", \"''\"), 0.0020859407592824365)\n",
            "(('ca', \"n't\"), 0.0020859407592824365)\n",
            "(('i', 'was'), 0.0020859407592824365)\n",
            "(('if', 'you'), 0.0020859407592824365)\n",
            "(('like', 'the'), 0.0020859407592824365)\n",
            "(('that', 'i'), 0.0020859407592824365)\n",
            "(('when', 'i'), 0.0020859407592824365)\n",
            "(('like', 'a'), 0.0019816437213183145)\n",
            "(('ai', \"n't\"), 0.0018773466833541927)\n",
            "(('my', 'heart'), 0.0018773466833541927)\n",
            "(('the', 'night'), 0.0018773466833541927)\n",
            "(('trying', 'to'), 0.0017730496453900709)\n",
            "(('waiting', 'on'), 0.0017730496453900709)\n",
            "(('on', 'june'), 0.001668752607425949)\n",
            "(('and', 'the'), 0.0015644555694618273)\n",
            "(('used', 'to'), 0.0015644555694618273)\n",
            "(('with', 'a'), 0.0015644555694618273)\n",
            "(('with', 'me'), 0.0015644555694618273)\n",
            "(('drinkin', \"'\"), 0.0014601585314977055)\n",
            "(('her', 'go'), 0.0014601585314977055)\n",
            "(('if', 'i'), 0.0014601585314977055)\n",
            "(('is', 'young'), 0.0014601585314977055)\n",
            "(('love', 'you'), 0.0014601585314977055)\n",
            "((\"n't\", 'know'), 0.0014601585314977055)\n",
            "(('night', 'is'), 0.0014601585314977055)\n",
            "((\"'ve\", 'been'), 0.0013558614935335837)\n",
            "(('i', 'were'), 0.0013558614935335837)\n"
          ],
          "name": "stdout"
        }
      ]
    },
    {
      "cell_type": "code",
      "metadata": {
        "id": "z0sf5CRfzdnm",
        "colab_type": "code",
        "outputId": "12ee33bb-17cd-463a-9fe2-44b33a9fb898",
        "colab": {
          "base_uri": "https://localhost:8080/",
          "height": 884
        }
      },
      "source": [
        "# apply a filter on both words of the ngram\n",
        "finder2.apply_ngram_filter(lambda w1, w2: len(w1) < 2)\n",
        "scored = finder2.score_ngrams(bigram_measures.raw_freq)\n",
        "for bscore in scored[:50]:\n",
        "    print (bscore)"
      ],
      "execution_count": 0,
      "outputs": [
        {
          "output_type": "stream",
          "text": [
            "(('do', \"n't\"), 0.0069879015435961615)\n",
            "(('and', 'i'), 0.00458906967042136)\n",
            "(('it', \"'s\"), 0.004276178556528994)\n",
            "(('in', 'the'), 0.004067584480600751)\n",
            "(('on', 'the'), 0.0031289111389236545)\n",
            "(('but', 'i'), 0.0027117229870671673)\n",
            "(('you', \"'re\"), 0.0027117229870671673)\n",
            "(('are', 'you'), 0.0025031289111389237)\n",
            "(('me', 'i'), 0.0025031289111389237)\n",
            "(('why', 'are'), 0.0025031289111389237)\n",
            "(('let', 'her'), 0.00229453483521068)\n",
            "(('do', 'you'), 0.002190237797246558)\n",
            "((\"''\", \"''\"), 0.0020859407592824365)\n",
            "(('ca', \"n't\"), 0.0020859407592824365)\n",
            "(('if', 'you'), 0.0020859407592824365)\n",
            "(('like', 'the'), 0.0020859407592824365)\n",
            "(('that', 'i'), 0.0020859407592824365)\n",
            "(('when', 'i'), 0.0020859407592824365)\n",
            "(('like', 'a'), 0.0019816437213183145)\n",
            "(('ai', \"n't\"), 0.0018773466833541927)\n",
            "(('my', 'heart'), 0.0018773466833541927)\n",
            "(('the', 'night'), 0.0018773466833541927)\n",
            "(('trying', 'to'), 0.0017730496453900709)\n",
            "(('waiting', 'on'), 0.0017730496453900709)\n",
            "(('on', 'june'), 0.001668752607425949)\n",
            "(('and', 'the'), 0.0015644555694618273)\n",
            "(('used', 'to'), 0.0015644555694618273)\n",
            "(('with', 'a'), 0.0015644555694618273)\n",
            "(('with', 'me'), 0.0015644555694618273)\n",
            "(('drinkin', \"'\"), 0.0014601585314977055)\n",
            "(('her', 'go'), 0.0014601585314977055)\n",
            "(('if', 'i'), 0.0014601585314977055)\n",
            "(('is', 'young'), 0.0014601585314977055)\n",
            "(('love', 'you'), 0.0014601585314977055)\n",
            "((\"n't\", 'know'), 0.0014601585314977055)\n",
            "(('night', 'is'), 0.0014601585314977055)\n",
            "((\"'ve\", 'been'), 0.0013558614935335837)\n",
            "(('on', 'a'), 0.0013558614935335837)\n",
            "(('with', 'the'), 0.0013558614935335837)\n",
            "(('can', 'you'), 0.0012515644555694619)\n",
            "(('how', 'can'), 0.0012515644555694619)\n",
            "(('june', ','), 0.0012515644555694619)\n",
            "(('out', 'of'), 0.0012515644555694619)\n",
            "(('when', 'you'), 0.0012515644555694619)\n",
            "(('wish', 'i'), 0.0012515644555694619)\n",
            "(('you', ','), 0.0012515644555694619)\n",
            "(('could', \"'ve\"), 0.00114726741760534)\n",
            "(('for', 'you'), 0.00114726741760534)\n",
            "(('in', 'a'), 0.00114726741760534)\n",
            "(('they', \"'re\"), 0.00114726741760534)\n"
          ],
          "name": "stdout"
        }
      ]
    },
    {
      "cell_type": "code",
      "metadata": {
        "id": "vSihyFp_zfvA",
        "colab_type": "code",
        "outputId": "166e4e61-6cb2-4a80-d4da-dc23bd8db816",
        "colab": {
          "base_uri": "https://localhost:8080/",
          "height": 884
        }
      },
      "source": [
        "### pointwise mutual information\n",
        "### THIS IS THE WRONG WAY TO DO THIS -- ONLY SCORES THINGS THAT OCCUR TOGETHER SUCH AS COMMON WORDS\n",
        "### APPLY A FREQUENCY FILTER OF ABOUT 5 AS SHOWN BELOW\n",
        "finder3 = BigramCollocationFinder.from_words(hollywords)\n",
        "scored = finder3.score_ngrams(bigram_measures.pmi)\n",
        "for bscore in scored[:50]:\n",
        "    print (bscore)"
      ],
      "execution_count": 0,
      "outputs": [
        {
          "output_type": "stream",
          "text": [
            "(('/', 'chris'), 13.227014193649133)\n",
            "(('1,000', 'men'), 13.227014193649133)\n",
            "(('6', 'string'), 13.227014193649133)\n",
            "(('backslid', 'carrying'), 13.227014193649133)\n",
            "(('baseball', 'bat'), 13.227014193649133)\n",
            "(('blooming', 'field'), 13.227014193649133)\n",
            "(('blows', 'wild'), 13.227014193649133)\n",
            "(('champs', 'elysees'), 13.227014193649133)\n",
            "(('cheap', 'parade'), 13.227014193649133)\n",
            "(('chris', 'coleman'), 13.227014193649133)\n",
            "(('chuck', 'jones'), 13.227014193649133)\n",
            "(('crowded', 'trains'), 13.227014193649133)\n",
            "(('curtains', 'drawn'), 13.227014193649133)\n",
            "(('devil', 'unseen'), 13.227014193649133)\n",
            "(('discover', 'himself'), 13.227014193649133)\n",
            "(('drove', 'three'), 13.227014193649133)\n",
            "(('each', 'second'), 13.227014193649133)\n",
            "(('endless', 'questions'), 13.227014193649133)\n",
            "(('escaping', 'anyway'), 13.227014193649133)\n",
            "(('family', 'plot'), 13.227014193649133)\n",
            "(('favorite', 'verse'), 13.227014193649133)\n",
            "(('fed', 'july'), 13.227014193649133)\n",
            "(('ferris', 'wheel'), 13.227014193649133)\n",
            "(('graceful', 'rhythms'), 13.227014193649133)\n",
            "(('greg', 'vorobiov'), 13.227014193649133)\n",
            "(('grounds', 'strangers'), 13.227014193649133)\n",
            "(('heartfelt', 'letter'), 13.227014193649133)\n",
            "(('july', '3rd'), 13.227014193649133)\n",
            "(('leather', 'boots'), 13.227014193649133)\n",
            "(('liquor', 'trail'), 13.227014193649133)\n",
            "(('mer', 'rouge'), 13.227014193649133)\n",
            "(('mid', 'october'), 13.227014193649133)\n",
            "(('mississippi', 'flows'), 13.227014193649133)\n",
            "(('mothers', 'fill'), 13.227014193649133)\n",
            "(('mrs.', 'bertha'), 13.227014193649133)\n",
            "(('neighborhood', 'drummer'), 13.227014193649133)\n",
            "(('nice', 'gifts'), 13.227014193649133)\n",
            "(('nobody', 'knows'), 13.227014193649133)\n",
            "(('peeking', 'behind'), 13.227014193649133)\n",
            "(('philosophize', 'each'), 13.227014193649133)\n",
            "(('pines', 'staring'), 13.227014193649133)\n",
            "(('playing', 'horseshoe'), 13.227014193649133)\n",
            "(('prison', 'cell'), 13.227014193649133)\n",
            "(('rails', \"'til\"), 13.227014193649133)\n",
            "(('repair', 'brakes'), 13.227014193649133)\n",
            "(('rubber', 'rolling'), 13.227014193649133)\n",
            "(('sanctuary', 'laughter'), 13.227014193649133)\n",
            "(('sarah', 'buxton'), 13.227014193649133)\n",
            "(('screaming', 'holy'), 13.227014193649133)\n",
            "(('seine', 'woke'), 13.227014193649133)\n"
          ],
          "name": "stdout"
        }
      ]
    },
    {
      "cell_type": "code",
      "metadata": {
        "id": "Jz_RNEgWzhym",
        "colab_type": "code",
        "outputId": "bff85ede-6da9-4cdf-d37c-ae10f94e30ac",
        "colab": {
          "base_uri": "https://localhost:8080/",
          "height": 156
        }
      },
      "source": [
        "# to get good results, must first apply frequency filter\n",
        "finder.apply_freq_filter(5)\n",
        "scored = finder.score_ngrams(bigram_measures.pmi)\n",
        "for bscore in scored[:50]:\n",
        "    print (bscore)"
      ],
      "execution_count": 0,
      "outputs": [
        {
          "output_type": "stream",
          "text": [
            "(('runs', 'dry'), 10.642051692927978)\n",
            "(('gon', 'na'), 9.767582575011836)\n",
            "(('rodeo', 'road'), 9.767582575011836)\n",
            "(('good', 'man'), 7.389070951758107)\n",
            "(('woman', 'like'), 6.481059816255673)\n",
            "(('heart', 'blue'), 6.339488922907547)\n",
            "(('life', 'like'), 5.440417831758328)\n",
            "(('go', 'let'), 4.731958665281116)\n"
          ],
          "name": "stdout"
        }
      ]
    }
  ]
}