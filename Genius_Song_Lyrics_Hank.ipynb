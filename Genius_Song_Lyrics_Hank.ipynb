{
  "nbformat": 4,
  "nbformat_minor": 0,
  "metadata": {
    "colab": {
      "name": "Genius Song Lyrics - Hank.ipynb",
      "provenance": [],
      "collapsed_sections": []
    },
    "kernelspec": {
      "name": "python3",
      "display_name": "Python 3"
    }
  },
  "cells": [
    {
      "cell_type": "code",
      "metadata": {
        "id": "pmz6f9W1rDpr",
        "colab_type": "code",
        "outputId": "1a21fe76-9881-4fc6-fbd0-22b3479ade2d",
        "colab": {
          "base_uri": "https://localhost:8080/",
          "height": 176
        }
      },
      "source": [
        "pip install lyricsgenius\n"
      ],
      "execution_count": 0,
      "outputs": [
        {
          "output_type": "stream",
          "text": [
            "Requirement already satisfied: lyricsgenius in /Library/Frameworks/Python.framework/Versions/3.7/lib/python3.7/site-packages (1.7.0)\r\n",
            "Requirement already satisfied: beautifulsoup4==4.6.0 in /Library/Frameworks/Python.framework/Versions/3.7/lib/python3.7/site-packages (from lyricsgenius) (4.6.0)\r\n",
            "Requirement already satisfied: requests>=2.20.0 in /Library/Frameworks/Python.framework/Versions/3.7/lib/python3.7/site-packages (from lyricsgenius) (2.22.0)\n",
            "Requirement already satisfied: chardet<3.1.0,>=3.0.2 in /Library/Frameworks/Python.framework/Versions/3.7/lib/python3.7/site-packages (from requests>=2.20.0->lyricsgenius) (3.0.4)\n",
            "Requirement already satisfied: idna<2.9,>=2.5 in /Library/Frameworks/Python.framework/Versions/3.7/lib/python3.7/site-packages (from requests>=2.20.0->lyricsgenius) (2.8)\n",
            "Requirement already satisfied: urllib3!=1.25.0,!=1.25.1,<1.26,>=1.21.1 in /Library/Frameworks/Python.framework/Versions/3.7/lib/python3.7/site-packages (from requests>=2.20.0->lyricsgenius) (1.25.6)\n",
            "Requirement already satisfied: certifi>=2017.4.17 in /Library/Frameworks/Python.framework/Versions/3.7/lib/python3.7/site-packages (from requests>=2.20.0->lyricsgenius) (2019.3.9)\n",
            "Note: you may need to restart the kernel to use updated packages.\n"
          ],
          "name": "stdout"
        }
      ]
    },
    {
      "cell_type": "code",
      "metadata": {
        "id": "gcpexOHKi9bf",
        "colab_type": "code",
        "outputId": "3928ccb4-6856-4e55-b4a2-106c82e406e6",
        "colab": {
          "base_uri": "https://localhost:8080/",
          "height": 141
        }
      },
      "source": [
        "pip install pandas"
      ],
      "execution_count": 0,
      "outputs": [
        {
          "output_type": "stream",
          "text": [
            "Requirement already satisfied: pandas in /Library/Frameworks/Python.framework/Versions/3.7/lib/python3.7/site-packages (0.25.1)\r\n",
            "Requirement already satisfied: python-dateutil>=2.6.1 in /Library/Frameworks/Python.framework/Versions/3.7/lib/python3.7/site-packages (from pandas) (2.8.0)\r\n",
            "Requirement already satisfied: numpy>=1.13.3 in /Library/Frameworks/Python.framework/Versions/3.7/lib/python3.7/site-packages (from pandas) (1.17.0)\r\n",
            "Requirement already satisfied: pytz>=2017.2 in /Library/Frameworks/Python.framework/Versions/3.7/lib/python3.7/site-packages (from pandas) (2019.3)\r\n",
            "Requirement already satisfied: six>=1.5 in ./Library/Python/3.7/lib/python/site-packages (from python-dateutil>=2.6.1->pandas) (1.12.0)\r\n",
            "Note: you may need to restart the kernel to use updated packages.\n"
          ],
          "name": "stdout"
        }
      ]
    },
    {
      "cell_type": "code",
      "metadata": {
        "id": "KdqejT9zqUm7",
        "colab_type": "code",
        "colab": {}
      },
      "source": [
        "#Assign your Genius.com credentials and select your artist\n",
        "import lyricsgenius as genius\n",
        "import pandas as pd\n",
        "import numpy as np\n",
        "import json\n",
        "import glob\n",
        "import os\n",
        "import json\n",
        "geniusCreds = \"g3u73ZleSvX709kggXxYNRFtDOmMg-D5ZJhJUlDhQ7POoNzOw6HVUvM1r2MbuUEl\"\n",
        "artist_name = \"Hank Williams\""
      ],
      "execution_count": 0,
      "outputs": []
    },
    {
      "cell_type": "code",
      "metadata": {
        "id": "oGMTH8Zarge4",
        "colab_type": "code",
        "outputId": "120945bf-8376-47a3-8266-746a568c5948",
        "colab": {
          "base_uri": "https://localhost:8080/",
          "height": 797
        }
      },
      "source": [
        "#Connect your credentials and chosen artist to the genius object then test the first 5 songs\n",
        "api = genius.Genius(geniusCreds)\n",
        "artist = api.search_artist(artist_name, max_songs=40)"
      ],
      "execution_count": 0,
      "outputs": [
        {
          "output_type": "stream",
          "text": [
            "Searching for songs by Hank Williams...\n",
            "\n",
            "Song 1: \"Lovesick Blues\"\n",
            "Song 2: \"I Saw the Light\"\n",
            "Song 3: \"I’m So Lonesome I Could Cry\"\n",
            "Song 4: \"Hey, Good Lookin’\"\n",
            "Song 5: \"Jambalaya (On the Bayou)\"\n",
            "Song 6: \"Precious Lord, Take My Hand\"\n",
            "Song 7: \"Your Cheatin’ Heart\"\n",
            "Song 8: \"Lost Highway\"\n",
            "Song 9: \"Kaw-Liga\"\n",
            "Song 10: \"Settin’ the Woods on Fire\"\n",
            "Song 11: \"Long Gone Lonesome Blues\"\n",
            "Song 12: \"Cold, Cold Heart\"\n",
            "Song 13: \"Ramblin’ Man\"\n",
            "Song 14: \"The Old Country Church\"\n",
            "Song 15: \"Cool Water\"\n",
            "Song 16: \"I’ll Never Get Out of This World Alive\"\n",
            "Song 17: \"My Bucket’s Got a Hole in it\"\n",
            "Song 18: \"Honky Tonk Blues\"\n",
            "Song 19: \"Move It On Over\"\n",
            "Song 20: \"Mind Your Own Business\"\n",
            "Song 21: \"A House Of Gold\"\n",
            "Song 22: \"Alone and Forsaken\"\n",
            "Song 23: \"You Win Again\"\n",
            "Song 24: \"I Can’t Help It (If I’m Still in Love With You)\"\n",
            "Song 25: \"Gathering Flowers for the Master’s Bouquet\"\n",
            "Song 26: \"Honky Tonkin’\"\n",
            "Song 27: \"Wedding Bells\"\n",
            "Song 28: \"A Mansion on the Hill\"\n",
            "Song 29: \"Howlin’ at the Moon\"\n",
            "Song 30: \"Dust On The bible\"\n",
            "Song 31: \"I’ll Fly Away\"\n",
            "Song 32: \"Tramp On The Street\"\n",
            "Song 33: \"When God Dips His Love in My Heart\"\n",
            "Song 34: \"Why Don’t You Love Me (Like You Used to Do)\"\n",
            "Song 35: \"On Top Of Old Smokey\"\n",
            "Song 36: \"I Heard My Savior Calling Me\"\n",
            "Song 37: \"I’ll Have A New Body (I’ll Have A New Life)\"\n",
            "Song 38: \"Take These Chains From My Heart\"\n",
            "Song 39: \"The Angel Of Death\"\n",
            "Song 40: \"Be Careful Of Stones That You Throw\"\n",
            "\n",
            "Reached user-specified song limit (40).\n",
            "Done. Found 40 songs.\n"
          ],
          "name": "stdout"
        }
      ]
    },
    {
      "cell_type": "code",
      "metadata": {
        "id": "p6N91ADwuCGB",
        "colab_type": "code",
        "outputId": "ddc57418-3ca0-47a2-cad8-53e93939c60e",
        "colab": {
          "base_uri": "https://localhost:8080/",
          "height": 35
        }
      },
      "source": [
        "#os.chdir(\"/Users/johnfields/HankLyrics\")\n",
        "os.getcwd()"
      ],
      "execution_count": 0,
      "outputs": [
        {
          "output_type": "execute_result",
          "data": {
            "text/plain": [
              "'/Users/johnfields'"
            ]
          },
          "metadata": {
            "tags": []
          },
          "execution_count": 5
        }
      ]
    },
    {
      "cell_type": "code",
      "metadata": {
        "id": "y7ByPNncuJXT",
        "colab_type": "code",
        "outputId": "76cae2d4-ee8d-4c0b-ebe0-6fd42fa038a8",
        "colab": {
          "base_uri": "https://localhost:8080/",
          "height": 731
        }
      },
      "source": [
        "artist.save_lyrics()"
      ],
      "execution_count": 0,
      "outputs": [
        {
          "output_type": "stream",
          "text": [
            "Wrote Lovesick Blues to lyrics_hankwilliams_lovesickblues.json.\n",
            "Wrote I Saw the Light to lyrics_hankwilliams_isawthelight.json.\n",
            "Wrote I’m So Lonesome I Could Cry to lyrics_hankwilliams_imsolonesomeicouldcry.json.\n",
            "Wrote Hey, Good Lookin’ to lyrics_hankwilliams_heygoodlookin.json.\n",
            "Wrote Jambalaya (On the Bayou) to lyrics_hankwilliams_jambalayaonthebayou.json.\n",
            "Wrote Precious Lord, Take My Hand to lyrics_hankwilliams_preciouslordtakemyhand.json.\n",
            "Wrote Your Cheatin’ Heart to lyrics_hankwilliams_yourcheatinheart.json.\n",
            "Wrote Lost Highway to lyrics_hankwilliams_losthighway.json.\n",
            "Wrote Kaw-Liga to lyrics_hankwilliams_kawliga.json.\n",
            "Wrote Settin’ the Woods on Fire to lyrics_hankwilliams_settinthewoodsonfire.json.\n",
            "Wrote Long Gone Lonesome Blues to lyrics_hankwilliams_longgonelonesomeblues.json.\n",
            "Wrote Cold, Cold Heart to lyrics_hankwilliams_coldcoldheart.json.\n",
            "Wrote Ramblin’ Man to lyrics_hankwilliams_ramblinman.json.\n",
            "Wrote The Old Country Church to lyrics_hankwilliams_theoldcountrychurch.json.\n",
            "Wrote Cool Water to lyrics_hankwilliams_coolwater.json.\n",
            "Wrote I’ll Never Get Out of This World Alive to lyrics_hankwilliams_illnevergetoutofthisworldalive.json.\n",
            "Wrote My Bucket’s Got a Hole in it to lyrics_hankwilliams_mybucketsgotaholeinit.json.\n",
            "Wrote Honky Tonk Blues to lyrics_hankwilliams_honkytonkblues.json.\n",
            "Wrote Move It On Over to lyrics_hankwilliams_moveitonover.json.\n",
            "Wrote Mind Your Own Business to lyrics_hankwilliams_mindyourownbusiness.json.\n",
            "Wrote A House Of Gold to lyrics_hankwilliams_ahouseofgold.json.\n",
            "Wrote Alone and Forsaken to lyrics_hankwilliams_aloneandforsaken.json.\n",
            "Wrote You Win Again to lyrics_hankwilliams_youwinagain.json.\n",
            "Wrote I Can’t Help It (If I’m Still in Love With You) to lyrics_hankwilliams_icanthelpitifimstillinlovewithyou.json.\n",
            "Wrote Gathering Flowers for the Master’s Bouquet to lyrics_hankwilliams_gatheringflowersforthemastersbouquet.json.\n",
            "Wrote Honky Tonkin’ to lyrics_hankwilliams_honkytonkin.json.\n",
            "Wrote Wedding Bells to lyrics_hankwilliams_weddingbells.json.\n",
            "Wrote A Mansion on the Hill to lyrics_hankwilliams_amansiononthehill.json.\n",
            "Wrote Howlin’ at the Moon to lyrics_hankwilliams_howlinatthemoon.json.\n",
            "Wrote Dust On The bible to lyrics_hankwilliams_dustonthebible.json.\n",
            "Wrote I’ll Fly Away to lyrics_hankwilliams_illflyaway.json.\n",
            "Wrote Tramp On The Street to lyrics_hankwilliams_tramponthestreet.json.\n",
            "Wrote When God Dips His Love in My Heart to lyrics_hankwilliams_whengoddipshisloveinmyheart.json.\n",
            "Wrote Why Don’t You Love Me (Like You Used to Do) to lyrics_hankwilliams_whydontyoulovemelikeyouusedtodo.json.\n",
            "Wrote On Top Of Old Smokey to lyrics_hankwilliams_ontopofoldsmokey.json.\n",
            "Wrote I Heard My Savior Calling Me to lyrics_hankwilliams_iheardmysaviorcallingme.json.\n",
            "Wrote I’ll Have A New Body (I’ll Have A New Life) to lyrics_hankwilliams_illhaveanewbodyillhaveanewlife.json.\n",
            "Wrote Take These Chains From My Heart to lyrics_hankwilliams_takethesechainsfrommyheart.json.\n",
            "Wrote The Angel Of Death to lyrics_hankwilliams_theangelofdeath.json.\n",
            "Wrote Be Careful Of Stones That You Throw to lyrics_hankwilliams_becarefulofstonesthatyouthrow.json.\n"
          ],
          "name": "stdout"
        }
      ]
    },
    {
      "cell_type": "code",
      "metadata": {
        "id": "CYIDXrApAz2f",
        "colab_type": "code",
        "colab": {}
      },
      "source": [
        "EVENT = 'HankLyrics/'\n",
        "\n",
        "MATCH_LIST = os.listdir(EVENT)\n",
        "\n",
        "dallas2 = []\n",
        "#info = {}\n",
        "content = []\n",
        "\n",
        "for x in MATCH_LIST:\n",
        "        with open('./{}{}'.format(EVENT, x)) as i:\n",
        "            dallas2 =  json.load(i)\n",
        "        content.append(dallas2)     "
      ],
      "execution_count": 0,
      "outputs": []
    },
    {
      "cell_type": "code",
      "metadata": {
        "id": "MwwzypKpg8Dr",
        "colab_type": "code",
        "outputId": "192b7981-8aaf-4fa8-96a6-24962b825adb",
        "colab": {
          "base_uri": "https://localhost:8080/",
          "height": 55
        }
      },
      "source": [
        "print(content)"
      ],
      "execution_count": 0,
      "outputs": [
        {
          "output_type": "stream",
          "text": [
            "[{'songs': [{'title': 'Mind Your Own Business', 'album': 'Honky Tonkin’ ', 'year': '1949-07-01', 'lyrics': \"[Verse 1]\\nIf the wife and I are fussin', brother, that's our right\\n'Cause me and that sweet woman's got a license to fight\\n\\n[Chorus]\\nWhy don't you mind your own business?\\nMind your own business\\n'Cause if you mind your business, then you won't be mindin' mine\\n\\n[Verse 2]\\nOh, the woman on our party line's the nosiest thing\\nShe picks up her receiver when she knows it's my ring\\n\\n[Chorus]\\nWhy don't you mind your own business?\\nMind your own business\\n'Cause if you mind your business, then you won't be mindin' mine\\n\\n[Guitar Solo]\\n\\n[Verse 3]\\nI got a little gal that wears her hair up high\\nThe boys all whistle when she walks by\\n\\n[Chorus]\\nWhy don't you mind your own business?\\nMind your own business\\nWell, if you mind your business, then you sure won't be mindin' mine\\n\\n[Fiddle Solo]\\n\\n[Verse 4]\\nIf I want to honky tonk around 'til two or three\\nNow, brother that's my headache, don't you worry 'bout me\\n\\n[Chorus]\\nJust mind your own business\\nMind your own business\\nIf you mind your business, then you won't be mindin' mine\\n\\n[Pedal Steel Solo]\\n\\n[Verse 5]\\nMindin' other people's business seems to be high-toned\\nI got all that I can do just to mind my own\\n\\n[Chorus]\\nWhy don't you mind your own business?\\nMind your own business\\nIf you mind your own business, you'll stay busy all the time\", 'image': 'https://images.genius.com/3f7b717546eda10d16fda87f02c3ebb5.600x600x1.jpg'}], 'artist': 'Hank Williams'}, {'songs': [{'title': 'Ramblin’ Man', 'album': 'Ramblin’ Man', 'year': '1954-01-01', 'lyrics': \"I can settle down and be doin' just fine\\nTil' I hear an old train rollin' down the line\\nThen I hurry straight home and pack\\nAnd if I didn't go, I believe I'd blow my stack\\n\\nI love you baby, but you gotta understand\\nWhen the Lord made me, he made a Ramblin' Man\\n\\nSome folks might sa-ay that I'm no good\\nThat I wouldn't settle down if I could\\nBut when that open ro-oad starts to callin' me\\nThere's somethin' o'er the hill that I gotta see\\n\\nSometimes it's har-rd but you gotta understand\\nWhen the Lord made me, He made a Ra-amblin' Man\\n\\nI love to see the towns a-passin' by\\nAnd to ride these rails 'neath God's blue sky\\nLet me travel this land from the mountains to the sea\\nCause that's the life I believe, He meant for me\\nAnd when I'm gone and at my grave, you stand\\nJust say God's called home your Ramblin' Man\", 'image': 'https://images.genius.com/3f7b717546eda10d16fda87f02c3ebb5.600x600x1.jpg'}], 'artist': 'Hank Williams'}, {'songs': [{'title': 'I’ll Have A New Body (I’ll Have A New Life)', 'album': 'Famous Country Music Makers', 'year': None, 'lyrics': \"On that resurrection morning\\nWhen all dead in Christ shall rise\\nI'll have a new body\\nPraise the Lord, I'll have a new life\\n\\nWon't it be so bright and fair\\nWhen we meet our love ones there\\nI'll have a new body\\nPraise the Lord, I'll have a new life\\n\\nI'll have a new home of glory eternal\\nWhere the redeemed of God shall stand\\nThere'll be no more sorrow\\nThere'll be no more strife\\n\\nRaised in the likeness of my Savior\\nReady to live in Paradise\\nI'll have a new body\\nPraise the Lord, I'll have a new life\\n\\nWhen old Gabriel blows his trumpet\\nAnd we walk the streets of gold\\nI'll have a new body\\nPraise the Lord, I'll have a new life\\n\\nNo more pain worry sorrow\\nIn this wicked world of sin\\nI'll have a new body\\nPraise the Lord, I'll have a new life\\n\\nI'll have a new home of glory eternal\\nWhere the redeemed of God shall stand\\nThere'll be no more sorrow\\nThere'll be no more strife\\n\\nRaised in the likeness of my Savior\\nReady to live in Paradise\\nI'll have a new body\\nPraise the Lord, I'll have a new life\\n\\nOh dear brother are you living\\nFor that day when Christ shall come\\nI'll have a new body\\nPraise the Lord, I'll have a new life\\n\\nGraves all bursting Saints a shouting\\nHeavenly beauty all around\\nI'll have a new body\\nPraise the Lord, I'll have a new life\\n\\nI'll have a new home of glory eternal\\nWhere the redeemed of God shall stand\\nThere'll be no more sorrow\\nThere'll be no more strife\\n\\nRaised in the likeness of my Savior\\nReady to live in Paradise\\nI'll have a new body\\nPraise the Lord, I'll have a new life\", 'image': 'https://images.genius.com/9c7e45e45a534580c7b6f4aab2fcffcd.170x170x1.jpg'}], 'artist': 'Hank Williams'}, {'songs': [{'title': 'The Old Country Church', 'album': 'The Gold Collection', 'year': None, 'lyrics': \"There's a place near to me, where I'm longing to be\\nWith my friends at the old country church\\nThere with mother we went and our Sundays we spent\\nWith our friends at the old country church\\n\\nPrecious years of memories\\nOh, what joy they bring to me\\nHow I long once more to be\\nWith my friends at the old country church\\n\\nHow I wish that today all the people would pray\\nLike we prayed in that old country church\\nIf they'd only confess, Jesus surely would bless\\nAs He did in that old country church\\n\\nPrecious years of memories\\nOh, what joy they bring to me\\nHow I long once more to be\\nWith my friends at the old country church\", 'image': 'https://images.genius.com/98a75f1a00f436a89b7454db2e429747.500x500x1.jpg'}], 'artist': 'Hank Williams'}, {'songs': [{'title': 'Lovesick Blues', 'album': 'Moanin’ The Blues', 'year': None, 'lyrics': '[Chorus]\\nI got a feeling called the blues, oh Lord\\nSince my baby said goodbye\\nLord, I don\\'t know what I\\'ll do\\nAll I do is sat and sigh, \"Oh Lord\"\\nThe last long day she said goodbye\\nWell, Lord, I thought I would cry\\nShe\\'ll do me, she\\'ll do you, she\\'s got that kind of loving\\nLord, I love to hear her when she calls me sweet daddy\\nSuch a beautiful dream\\nI hate to think it\\'s all over; I\\'ve lost my heart it seems\\nI\\'ve grown so used to you somehow\\nBut I\\'m nobody\\'s sugar daddy now\\nAnd I\\'m lonesome, I got the lovesick blues\\n\\n[Verse]\\nWell I\\'m in love, I\\'m in love with a beautiful gal\\nThat\\'s what\\'s the matter with me\\nWell I\\'m in love, I\\'m in love with a beautiful gal\\nBut she don\\'t care about me\\nLord, I tried and I tried to keep her satisfied\\nBut she just wouldn\\'t stay\\nSo now that she is leaving this is all I can say\\n\\n[Chorus]\\nI got a feeling called the blues oh Lord\\nSince my baby said goodbye\\nLord, I don\\'t know what I\\'ll do\\nAll I do is sat and sigh, \"Oh Lord\"\\nThe last long day she said goodbye\\nWell, Lord, I thought I would cry\\nShe\\'ll do me, she\\'ll do you, she\\'s got that kind of loving\\nLord, I love to hear her when she calls me sweet daddy\\nSuch a beautiful dream\\nI hate to think it\\'s all over; I\\'ve lost my heart it seems\\nI\\'ve grown so used to you somehow\\nBut I\\'m nobody\\'s sugar daddy now\\nAnd I\\'m lonesome, I got the lovesick blues', 'image': 'https://images.genius.com/a8f1d20411af5e3e74c68de83c2b6a32.699x700x1.png'}], 'artist': 'Hank Williams'}, {'songs': [{'title': 'My Bucket’s Got a Hole in it', 'album': 'Honky Tonkin’ ', 'year': '1954-01-01', 'lyrics': \"Yea! My bucket's got a hole in it\\nYea! My bucket's got a hole in it\\nYea! My bucket's got a hole in it\\nI can't buy no beer\\n\\nWell I'm standin' on a corner - With a bucket in my hand\\nI'm waitin' for a woman - That ain't got no man\\n\\nYea! My bucket's got a hole in it\\nYea! My bucket's got a hole in it\\nYea! My bucket's got a hole in it\\nI can't buy no beer\\n\\nWell, I went upon the mountain - I looked down in the sea\\nI seen the crabs and the fishes - Doin' the be-bop-bee\\n\\nYea! My bucket's got a hole in it\\nYea! My bucket's got a hole in it\\nYea! My bucket's got a hole in it\\nI can't buy no beer\\n\\nWell, there ain't no use - of me workin' so hard\\nWhen I got a woman - in the boss man's yard\\n\\nYea! My bucket's got a hole in it\\nYea! My bucket's got a hole in it\\nYea! My bucket's got a hole in it\\nI can't buy no beer\\n\\nWell, me and my baby - we just bought a Ford\\nAnd now we sit together - on the running board\\n\\nYea! My bucket's got a hole in it\\nYea! My bucket's got a hole in it\\nYea! My bucket's got a hole in it\\nI can't buy no beer\", 'image': 'https://images.genius.com/3f7b717546eda10d16fda87f02c3ebb5.600x600x1.jpg'}], 'artist': 'Hank Williams'}, {'songs': [{'title': 'On Top Of Old Smokey', 'album': 'The Unreleased Recordings', 'year': None, 'lyrics': \"On top of old Smokey, all covered in snow\\nI lost my true lover, by courtin' too slow\\nOn top of old Smokey, I went there to weep\\nFor a false hearted lover, is worse than a thief\\n\\nA thief he will rob you, and take what you save\\nBut a false hearted lover, will put you in your grave\\nOn top of old Smokey, all covered in snow\\nI lost my true lover, by courtin' too slow\\n\\nThey'll hug you and kiss you, then tell you more lies\\nThan the crossties on the railroad, or the stars in the skies\\nOn top of old Smoke, all covered in snow\\nI lost my true lover, by courtin' too slow\", 'image': 'https://images.genius.com/98a75f1a00f436a89b7454db2e429747.500x500x1.jpg'}], 'artist': 'Hank Williams'}, {'songs': [{'title': 'Precious Lord, Take My Hand', 'album': 'The Unreleased Recordings', 'year': None, 'lyrics': \"Precious Lord, take my hand\\nLead me on\\nLet me stand\\nI'm tired, I am weak I am worn\\nThrough the storm, through the night\\nLead me on to the light\\nTake my hand precious Lord, lead me home\\n\\nWhen my way grows drear precious Lord linger near\\nWhen my life is almost gone\\nHear my cry\\nHear my call\\nHold my hand lest I fall\\nTake my hand precious Lord, lead me home\\n\\nWhen the darkness appears and the night draws near\\nAnd the day is past and gone\\nAt the river I stand\\nGuide my feet\\nHold my hand\\nTake my hand precious Lord, lead me home\\n\\nPrecious Lord, take my hand\\nLead me on\\nLet me stand\\nI am tired, I am weak, I am worn\\nThrough the storm, through the night\\nLead me on to the light\\nTake my hand precious Lord, lead me home\", 'image': 'https://images.genius.com/98a75f1a00f436a89b7454db2e429747.500x500x1.jpg'}], 'artist': 'Hank Williams'}, {'songs': [{'title': 'Honky Tonkin’', 'album': 'Honky Tonkin’ ', 'year': '1954-01-01', 'lyrics': \"When you are sad and lonely and have no place to go\\nCall me up, sweet baby, and bring along some dough\\nAnd we'll go Honky Tonkin', Honky Tonkin'\\nHonky Tonkin', Honey Baby\\nWe'll go Honky Tonkin' 'round this town\\n\\nWhen you and your baby have a fallin' out\\nJust call me up sweet mama and we'll go steppin' out\\nAnd we'll go Honky Tonkin', Honky Tonkin'\\nHonky Tonkin', Honey Baby\\nWe'll go Honky Tonkin' 'round this town\\nWe're goin' to the city - to the city fair\\n\\nIf you go to the city then you will find me there\\nAnd we'll go Honky Tonkin', Honky Tonkin'\\nHonky Tonkin', Honey Baby\\nWe'll go Honky Tonkin' 'round this town\", 'image': 'https://images.genius.com/14edb9a9307f974376ea74048e9b25d9.600x594x1.jpg'}], 'artist': 'Hank Williams'}, {'songs': [{'title': 'Tramp On The Street', 'album': 'Famous Country Music Makers', 'year': None, 'lyrics': \"Only a tramp was Lazarus sad fate\\nHe who lay down at the rich man's gate\\nHe begged for the crumbs from the rich man to eat\\nHe was only a tramp found dead on the street\\nHe was some mother's darlin', he was some mother's son\\nOnce he was fair and once he was young\\nAnd some mother rocked him, her darlin' to sleep\\nBut they left him to die like a tramp on the street\\nJesus, he died on Calvary's tree\\nHe shed his life's blood for you and for me\\nThey pierced his side and then his feet\\nAnd they left him to die like a tramp on the street\\nHe was Mary's own darlin', he was god's chosen son\\nOnce he was fair and once he was young\\nMary, she rocked him, her darlin' to sleep\\nBut they left him to die like a tramp on the street\\nIf Jesus should come and knock on your door\\nFor a place to come in, or bread from your store\\nWould you welcome him in, or turn him away\\nThen the god's would deny you on the great judgment day\", 'image': 'https://images.genius.com/9c7e45e45a534580c7b6f4aab2fcffcd.170x170x1.jpg'}], 'artist': 'Hank Williams'}, {'songs': [{'title': 'Lost Highway', 'album': 'Hank Williams Sings', 'year': None, 'lyrics': 'I\\'m a rolling stone, all alone and lost\\nFor a life of sin, I have paid the cost\\nWhen I pass by, all the people say\\n\"Just another guy on the lost highway\"\\n\\nJust a deck of cards and a jug of wine\\nAnd a woman\\'s lies make a life like mine\\nOh, the day we met, I went astray\\nI started rollin\\' down that lost highway\\n\\nI was just a lad, nearly twenty-two\\nNeither good nor bad, just a kid like you\\nAnd now I\\'m lost, too late to pray\\nLord, I\\'ve paid the cost on the lost highway\\n\\nNow, boys, don\\'t start your ramblin\\' round\\nOn this road of sin or you\\'re sorrow bound\\nTake my advice or you\\'ll curse the day\\nYou started rollin\\' down that lost highway', 'image': 'https://images.genius.com/3f7b717546eda10d16fda87f02c3ebb5.600x600x1.jpg'}], 'artist': 'Hank Williams'}, {'songs': [{'title': 'Jambalaya (On the Bayou)', 'album': 'Honky Tonkin’ ', 'year': '1954-01-01', 'lyrics': \"[Verse 1]\\nGoodbye Joe me gotta go me oh my oh\\nMe gotta go pole the pirogue down the bayou\\nMy Yvonne the sweetest one me oh my oh\\nSon of me gun we'll have big fun on the bayou\\nJambalaya and a crawfish pie on a filé gumbo\\n'Cause tonight I'm gonna see my ma cher amio\\nPick guitar, filled fruit jar and be gay-o\\nSon of me gun we'll have big fun on the bayou\\n\\n[Verse 2]\\nThibodaux Fontaineaux the place is buzzin'\\nKinfolk come to see Yvonne by the dozen\\nDressed in style, go hog wild, oh me oh my oh\\nSon of me gun we'll have big fun on the bayou\\nSettle down far from town get me a pirogue\\nAnd I'll catch all the fish in the bayou\\n\\n[Chorus]\\nJambalaya and a crawfish pie on a filé gumbo\\n'Cause tonight I'm gonna see my ma cher amio\\nPick guitar, filled fruit jar and be gay-o\\nSon of me gun we'll have big fun on the bayou\\nJambalaya and a crawfish pie on a filé gumbo\\n'Cause tonight I'm gonna see my ma cher amio\\nPick guitar, filled fruit jar and be gay-o\\nSon of me gun we'll have big fun on the bayou\\nSon of me gun we'll have big fun on the bayou\\n\\n[Verse 3]\\nLater on, swap my mon, get me a pirogue\\nAnd I'll catch all the fish on the bayou\\nSwap my mon, to buy Yvonne what she need-oh\\nSon of a gun we'll have big fun on the bayou\\nJambalaya and a crawfish pie...\", 'image': 'https://images.genius.com/64418abf2708700f23303b2ba792aab9.700x700x1.jpg'}], 'artist': 'Hank Williams'}, {'songs': [{'title': 'I Saw the Light', 'album': 'Hank Williams Sings', 'year': '1948-09-21', 'lyrics': \"[Verse 1]\\nI wandered so aimless life filled with sin\\nI wouldn't let my dear savior in\\nThen Jesus came like a stranger in the night\\nPraise the Lord I saw the light\\n\\n[Chorus]\\nI saw the light I saw the light\\nNo more darkness no more night\\nNow I'm so happy no sorrow in sight\\nPraise the Lord I saw the light\\n\\n[Verse 2]\\nJust like a blind man I wandered along\\nWorries and fears I claimed for my own\\nThen like the blind man that God gave back his sight\\nPraise the Lord I saw the light\\n\\n[Chorus]\\nI saw the light I saw the light\\nNo more darkness no more night\\nNow I'm so happy no sorrow in sight\\nPraise the Lord I saw the light\\n\\n[Verse 3]\\nI was a fool to wander and a-stray\\nStraight is the gate and narrow the way\\nNow I have traded the wrong for the right\\nPraise the Lord I saw the light\\n\\n[Chorus]\\nI saw the light I saw the light\\nNo more darkness no more night\\nNow I'm so happy no sorrow in sight\\nPraise the Lord I saw the light\", 'image': 'https://images.genius.com/3f7b717546eda10d16fda87f02c3ebb5.600x600x1.jpg'}], 'artist': 'Hank Williams'}, {'songs': [{'title': 'Gathering Flowers for the Master’s Bouquet', 'album': 'The Unreleased Recordings', 'year': None, 'lyrics': \"Death is an angel sent down from above sent for the buds of the flowers we love\\nBut every bud and each blossom some day\\nWill bloom as a flower in the Master's bouquet\\n\\nGathering flowers for the Master's bouquet beautiful flowers that will never decay\\nGathered by angels then carried away forever to bloom in the Master's bouquet\\n\\nLoved ones are passing each day and each hour passing away as the life of a flower\\nTaken and cared for in heaven's own way forever to bloom in the Master's bouquet\\n\\nGathering flowers for the Master's bouquet...beautiful flowers that will never decay\\nGathered by angels then carried away forever to bloom in the Master's bouquet\", 'image': 'https://images.genius.com/98a75f1a00f436a89b7454db2e429747.500x500x1.jpg'}], 'artist': 'Hank Williams'}, {'songs': [{'title': 'The Angel Of Death', 'album': 'I Saw The Light', 'year': '1954-01-01', 'lyrics': \"In the great book of John\\nYou're warned of the day\\nWhen you'll be laid\\nBeneath the cold clay\\n\\nThe Angel of Death\\nWill come from the sky\\nAnd claim up your soul\\nWhen the time comes to die\\n\\nWhen the Angel of Death\\nComes down after you\\nCan you smile and say\\nThat you have been true\\n\\nCan you truthfully say\\nWith your dying breath\\nThat you're ready to meet\\nThe Angel of Death\\n\\nWhen the lights all grow dim\\nAnd the dark shadows creep\\nAnd then your lived ones\\nAre gathered to weep\\n\\nCan you face them and say\\nWith your dying breath\\nThat you're ready to meet\\nThe Angel of Death\\n\\nWhen the Angel of Death\\nComes down after you\\nCan you smile and say\\nThat you have been true\\n\\nCan you truthfully say\\nWith your dying breath\\nThat you're ready to meet\\nThe Angel of Death\", 'image': 'https://images.genius.com/d1dcbca7511ef406de907b7b54bdf926.450x450x1.jpg'}], 'artist': 'Hank Williams'}, {'songs': [{'title': 'Move It On Over', 'album': 'Memorial Album', 'year': '1947-06-06', 'lyrics': \"Came in last night at a half past ten\\nThat baby of mine wouldn't let me in\\nSo move it on over (move it on over)\\nMove it on over (move it on over)\\nMove over little dog cause a big dog's movin in\\n\\nShe's changed the lock on our front door\\nMy door key, don't fit no more\\nSo get it on over (move it on over)\\nScoot it on over (move it on over)\\nMove over skinny dog cause a fat dog's moving in\\n\\nThis dog house here is mighty small\\nBut it's sure better than no house at all\\nSo ease it on over (move it on over)\\nDrag it on over (move it on over)\\nMove over old dog cause a new dog's moving in\\n\\nShe told me not to play around\\nBut I done let the deal go down\\nSo pack it on over (move it on over)\\nTote it on over (move it on over)\\nMove over nice dog cause a mad dog's moving in\\n\\nShe warned me once, she warned me twice\\nBut I don't take no one's advice\\nSo scratch it on over (move it on over)\\nShake it on over (move it on over)\\nMove over short dog cause a tall dog's moving in\\n\\nShe'll crawl back to me on her knees\\nI'll be busy scratching fleas\\nSo slide it on over (move it on over)\\nSneak it on over (move it on over)\\nMove over good dog cause a mad dog's moving in\\n\\nRemember pup, before you whine\\nThat side's yours and this side's mine\\nSo shove it on over (move it on over)\\nSweep it on over (move it on over)\\nMove over cold dog cause a hot dog's moving in\", 'image': 'https://images.genius.com/41ddf2939435cd7d330056c73574239a.591x595x1.png'}], 'artist': 'Hank Williams'}, {'songs': [{'title': 'I Can’t Help It (If I’m Still in Love With You)', 'album': 'Ramblin’ Man', 'year': None, 'lyrics': \"Today I passed you on the street\\nAnd my heart fell at your feet\\nI can't help it if I'm still in love with you\\nSomebody else stood by your side\\nAnd he looked so satisfied\\nI can't help it if I'm still in love with you\\nA picture from the past came slowly stealin'\\nAs I brushed your arm and walked so close to you\\nThen suddenly I got that old time feelin'\\nI can't help it if I'm still in love with you\\nIt's hard to know another's lips will kiss you\\nAnd hold you just the way I used to do\\nOh, Heaven only knows how much I miss you\\nI can't help it if I'm still in love with you\", 'image': 'https://images.genius.com/9e3eaaf948e7a415eac4c7f3397f63b6.683x684x1.jpg'}], 'artist': 'Hank Williams'}, {'songs': [{'title': 'I’ll Fly Away', 'album': 'The Unreleased Recordings', 'year': None, 'lyrics': \"Some glad morning when this life is over\\nI'll fly away\\nTo a land where joy shall never end\\nI'll, I'll fly away\\n\\nI'll fly away, oh, glory\\nI'll fly away\\nWhen I die, Hallelujah, bye and bye\\nI'll fly away\", 'image': 'https://images.genius.com/98a75f1a00f436a89b7454db2e429747.500x500x1.jpg'}], 'artist': 'Hank Williams'}, {'songs': [{'title': 'Cold, Cold Heart', 'album': 'Memorial Album', 'year': '1951-02-02', 'lyrics': \"I tried so hard, my dear, to show that you're my every dream\\nYet you're afraid each thing I do is just some evil scheme\\nA memory from your lonesome past keeps us so far apart\\nWhy can't I free your doubtful mind and melt your cold, cold heart?\\n\\nAnother love before my time made your heart sad and blue\\nAnd so my heart is paying now for things I didn't do\\nIn anger, unkind words are said that make the teardrops start\\nWhy can't I free your doubtful mind and melt your cold, cold heart?\\n\\nYou'll never know how much it hurts to see you sit and cry\\nYou know you need and want my love, yet you're afraid to try\\nWhy do you run and hide from life, to try it just ain't smart\\nWhy can't I free your doubtful mind and melt your cold, cold heart?\\n\\nThere was a time when I believed that you belonged to me\\nBut now I know your heart is shackled to a memory\\nThe more I learn to care for you, the more we drift apart\\nWhy can't I free your doubtful mind and melt your cold, cold heart?\", 'image': 'https://images.genius.com/f63fb3e29d6fbeeb6c980ac1ddaa7a91.700x700x1.jpg'}], 'artist': 'Hank Williams'}, {'songs': [{'title': 'I Heard My Savior Calling Me', 'album': 'The Unreleased Recordings', 'year': None, 'lyrics': \"I heard my Saviour calling me\\nHe saved my soul, He set me free\\nI know He'll never let me fall\\nPraise out, I heard my Saviour call\\n\\nI was a sinner, traveling on a weary road\\nSo far from home\\nBut now sweet heaven is my all\\nPraise out, I heard my Saviour call\\n\\nI heard my Saviour calling me\\nHe saved my soul, He set me free\\nI know He'll never let me fall\\nPraise out, I heard my Saviour call\\n\\nI'm on my way to better land\\nAnd there I'll join that heavenly band\\nAll through the ages I will sing\\nHosanna is my heavenly King\\n\\nI heard my Saviour calling me\\nHe saved my soul, He set me free\\nI know He'll never let me fall\\nPraise out, I heard my Saviour call\", 'image': 'https://images.genius.com/98a75f1a00f436a89b7454db2e429747.500x500x1.jpg'}], 'artist': 'Hank Williams'}, {'songs': [{'title': 'Hey, Good Lookin’', 'album': 'Memorial Album', 'year': None, 'lyrics': \"[Chorus 1]\\nSay hey, good lookin' - what ya got cookin'?\\nHow's about cookin' somethin' up with me?\\nHey, sweet baby - don't you think maybe\\nWe can find us a brand new recipe?\\n\\n[Verse 1]\\nI got a hot rod Ford, and a two dollar bill\\nAnd I know a spot right over the hill\\nThere's soda pop and the dancing's free\\nSo if you wanna have fun, come along with me\\n\\n[Chorus 1]\\nSay hey, good lookin' - what ya got cookin'?\\nHow's about cooking somethin' up with me?\\n\\n[Steel Guitar Solo]\\n[Fiddle Solo]\\n[Steel Guitar Solo]\\n\\n[Chorus 2]\\nI'm free and ready, so we can go steady\\nHow's about savin' all your time for me?\\nNo more lookin', I know I been tookin'\\nHows about keepin' steady company?\\n\\n[Verse 2]\\nI'm gonna throw my date book over the fence\\nAnd buy me one for five or ten cents\\nI'll keep it till it's covered with age\\nCause I'm writin' your name down on ever' page\\n\\n[Chorus 1]\\nSay hey, good lookin' - what ya got cookin'?\\nHow's about cookin' somethin' up with me?\", 'image': 'https://images.genius.com/2adce1642f038e1805710173708e1fc8.800x800x1.jpg'}], 'artist': 'Hank Williams'}, {'songs': [{'title': 'I’m So Lonesome I Could Cry', 'album': 'Moanin’ The Blues', 'year': '1949-11-08', 'lyrics': \"Hear that lonesome whippoorwill\\nHe sounds too blue to fly\\nThe midnight train is whining low\\nI'm so lonesome I could cry\\n\\nI've never seen a night so long\\nWhen time goes crawling by\\nThe moon just went behind the clouds\\nTo hide its face and cry\\n\\nDid you ever see a robin weep\\nWhen leaves begin to die?\\nLike me, he's lost the will to live\\nI'm so lonesome I could cry\\n\\nThe silence of a falling star\\nLights up a purple sky\\nAnd as I wonder where you are\\nI'm so lonesome I could cry\", 'image': 'https://images.genius.com/3f7b717546eda10d16fda87f02c3ebb5.600x600x1.jpg'}], 'artist': 'Hank Williams'}, {'songs': [{'title': 'Long Gone Lonesome Blues', 'album': 'Moanin’ The Blues', 'year': None, 'lyrics': \"I went down to the river to watch the fish swim by\\nBut I got to the river so lonesome I wanted to die, oh Lord\\nAnd then I jumped in the river, but the doggone river was dry\\nShe's long gone, and now I'm lonesome blue\\n\\nI had me a woman who couldn't be true\\nShe made me for my money and she made me blue\\nA man needs a woman that he can lean on\\nBut my leanin' post is done left and gone\\nShe's long gone, and now I'm lonesome blue\\n\\nI'm gonna find me a river, one that's cold as ice\\nAnd when I find me that river, Lord I'm gonna pay the price, oh Lord\\nI'm goin' down in it three times, but Lord I'm only comin' up twice\\nShe's long gone, and now I'm lonesome blue\\n\\nShe told me on Sunday she was checkin' me out\\nLong about Monday she was nowhere about\\nAnd here it is Tuesday, ain't had no news\\nI got them gone but not forgotten blues\\nShe's long gone, and now I'm lonesome blue\", 'image': 'https://images.genius.com/232dcc039606911252accf8c9bc67b26.723x723x1.jpg'}], 'artist': 'Hank Williams'}, {'songs': [{'title': 'Alone and Forsaken', 'album': None, 'year': '1952-01-01', 'lyrics': \"[Verse 1]\\nWe met in the springtime\\nWhen blossoms unfold\\nThe pastures were green\\nAnd the meadows were gold\\n\\n[Verse 2]\\nOur love was in flower\\nAs summer grew on\\nHer love, like the leaves\\nNow has withered and gone\\n\\n[Verse 3]\\nThe roses have faded\\nThere's frost at my door\\nThe birds in the morning\\nDon't sing anymore\\n\\n[Verse 4]\\nThe grass in the valley\\nIs starting to die\\nAnd out in the darkness\\nThe whip-poor-wills cry\\n\\n[Chorus]\\nAlone and forsaken\\nBy fate and by man\\nOh, lord if you hear me\\nPlease hold my hand\\nOh, please understand\\n\\n[Verse 5]\\nOh, where has she gone to\\nOh, where can she be?\\nShe may have forsaken\\nSome other like me\\n\\n[Verse 6]\\nShe promised to honor\\nTo love and obey\\nEach vow was a plaything\\nThat she threw away\\n\\n[Verse 7]\\nThe darkness is falling\\nThe sky has turned gray\\nA hound in the distance\\nIs starting to bay\\n\\n[Verse 8]\\nI wonder, I wonder\\nWhat she's thinking of?\\nForsaken, forgotten\\nWithout any love\\n\\n[Chorus]\", 'image': 'https://images.genius.com/db8fe1cbf446cb96196fb1b174ddd5bd.1000x563x1.jpg'}], 'artist': 'Hank Williams'}, {'songs': [{'title': 'A Mansion on the Hill', 'album': 'Hank Williams Sings', 'year': '1948-12-01', 'lyrics': \"[Verse 1]\\nTonight down here in the valley\\nI'm lonesome, and oh, how I feel\\nAs I sit here alone in my cabin\\nI can see your mansion on the hill\\n\\n[Steel Guitar Solo]\\n\\n[Verse 2]\\nDo you recall when we parted?\\nThe story to me you revealed\\nYou said you could live without love, dear\\nIn your loveless mansion on the hill\\n\\n[Fiddle Solo]\\n\\n[Verse 3]\\nI've waited all through the years, love\\nTo give you a heart true and real\\n'Cause I know you're living in sorrow\\nIn your loveless mansion on the hill\\n\\n[Verse 4]\\nThe light shine bright from your window\\nThe trees stand so silent and still\\nI know you're alone with your pride, dear\\nIn your loveless mansion on the hill\", 'image': 'https://images.genius.com/3f7b717546eda10d16fda87f02c3ebb5.600x600x1.jpg'}], 'artist': 'Hank Williams'}, {'songs': [{'title': 'Why Don’t You Love Me (Like You Used to Do)', 'album': '40 Greatest Hits', 'year': None, 'lyrics': \"[Verse 1]\\nWell, why don't you love me like you used to do\\nHow come you treat me like a worn out shoe\\nMy hair's still curly and my eyes are still blue\\nWhy don't you love me like you used to do\\n\\n[Bridge]\\nAin't had no lovin' like a huggin' and a kissin'\\nIn a long, long while\\nWe don't get nearer or further or closer\\nThan a country mile\\n\\n[Verse 2]\\nWhy don't you spark me like you used to do\\nAnd say sweet nothin's like you used to coo\\nI'm the same old trouble that you've always been through\\nSo, why don't you love me like you used to do\\n\\n[Verse 3]\\nWell, why don't you be just like you used to be\\nHow come you find so many faults with me\\nSomebody's changed so let me give you a clue\\nWhy don't you love me like you used to do\\n\\n[Bridge]\\nAin't had no lovin' like a huggin' and a kissin'\\nIn a long, long while\\nWe don't get nearer or further or closer\\nThan a country mile\\n\\n[Verse 4]\\nWhy don't you say the things you used to say\\nWhat makes you treat me like a piece of clay\\nMy hair's still curly and my eyes are still blue\\nWhy don't you love me like you used to do\", 'image': 'https://images.genius.com/3f7b717546eda10d16fda87f02c3ebb5.600x600x1.jpg'}], 'artist': 'Hank Williams'}, {'songs': [{'title': 'Kaw-Liga', 'album': 'Memorial Album', 'year': None, 'lyrics': '[Verse 1]\\nKaw-Liga was a wooden Indian standing by the door\\nHe fell in love with an Indian maid over in the antique store\\nKaw-Liga\\nJust stood there and never let it show\\nSo she could never answer \"yes\" or \"no\"\\nHe always wore his Sunday feathers and held a tomahawk\\nThe maiden wore her beads and braids and hoped someday he\\'d talk\\n\\n[Pre-Chorus 1]\\nKaw-Liga\\nToo stubborn to ever show a sign\\nBecause his heart is made of knotty pine\\n\\n[Chorus]\\nPoor old Kaw-Liga, he never got a kiss\\nPoor old Kaw-Liga, he don\\'t know what he missed\\nIs it any wonder, that his face is red?\\nKaw-Liga, that poor old wooden head\\n\\n[Verse 2]\\nKaw-Liga was a lonely Indian never went nowhere\\nHis heart was set on the Indian maiden with the coal black hair\\nKaw-Liga\\nJust stood there and never let it show\\nSo she could never answer \"yes\" or \"no\"\\nAnd then one day, a wealthy customer bought the Indian maid\\nAnd took her, oh, so far away but old Kaw-Liga stayed\\n\\n[Pre-Chorus 2]\\nKaw-Liga\\nJust stands there as lonely as can be\\nAnd wishes he was still an old pine tree\\n\\n[Chorus]\\nPoor old Kaw-Liga, he never got a kiss\\nPoor old Kaw-Liga, he don\\'t know what he missed\\nIs it any wonder, that his face is red?\\nKaw-Liga, that poor old wooden head', 'image': 'https://images.genius.com/7adc91c51df3d56121a35095711fc67c.700x700x1.jpg'}], 'artist': 'Hank Williams'}, {'songs': [{'title': 'I’ll Never Get Out of This World Alive', 'album': 'Honky Tonkin’ ', 'year': '1952-11-01', 'lyrics': \"[Verse 1]\\nNow you're lookin' at a man that's gettin' kind-a mad\\nI had lots of luck but it's all been bad\\n\\n[Chorus]\\nNo matter how I struggle and strive\\nI'll never get out of this world alive\\n\\n[Verse 2]\\nMy fishin' pole's broke the creek is full of sand\\nMy woman run away with another man\\n\\n[Chorus]\\n\\n[Verse 3]\\nA distant uncle passed away and left me quite a batch\\nAnd I was living high until that fatal day\\nA lawyer proved I wasn't born\\nI was only hatched\\nEvery thing's against me and it's got me down\\nIf I jumped in the river I would probably drown\\n\\n[Chorus]\\n\\n[Verse 4]\\nThese shabby shoes I'm wearin' all the time\\nIs full of holes and nails\\nAnd brother if I stepped on a worn out dime\\nI bet a nickel I could tell you if it was heads or tails\\nI'm not gonna worry wrinkles in my brow\\nCause nothin's ever gonna be alright no-how\\n\\n[Chorus]\", 'image': 'https://images.genius.com/087236debaca7f43bce8cb3429a88ae5.795x800x1.jpg'}], 'artist': 'Hank Williams'}, {'songs': [{'title': 'Settin’ the Woods on Fire', 'album': 'Memorial Album', 'year': None, 'lyrics': \"Comb your hair and paint and powder\\nYou act proud and I'll act prouder\\nYou sing loud and I'll sing louder; tonight we're settin' the woods on fire\\nYou're my gal and I'm your feller\\nDress up in your frock of yeller\\nI'll look swell but you'll look sweller; settin' the woods on fire\\nWe'll take in all the honky tonks, tonight we're having fun\\nWe'll show the folks a brand new dance, that never has been done\\nI don't care who thinks we're silly\\nYou'll be daffy I'll be dilly\\nWe'll order up two bowls of chili; settin' the woods on fire\\n\\nI'll gas up my hot rod stoker\\nWe'll get hotter than a poker\\nYou'll be broke but I'll be broker; tonight we're settin' the woods on fire\\nWe'll sit close to one another\\nUp one street and down the other\\nWe'll have a time, oh brother; settin' the woods on fire\\nWe'll put aside a little time to fix a flat or two\\nMy tires and tubes are doin' fine but the air is showin' through\\nYou clap hands and I'll start bowin'\\nWe'll do all the law's allowin'\\nTomorrow I'll be right back plowin'; settin' the woods on fire\", 'image': 'https://images.genius.com/5857e8eb474947c18d29a7a1b817f151.800x800x1.jpg'}], 'artist': 'Hank Williams'}, {'songs': [{'title': 'Honky Tonk Blues', 'album': 'Moanin’ The Blues', 'year': '1952-02-02', 'lyrics': \"Well I left my home down on the rural route\\nI told my paw I'm going steppin out and get the\\nHonky tonk blues\\nYeah the honky tonk blues\\nWell Lord I got 'em\\nI got the ho-on-ky tonk blues\\n\\nWell I went to a dance and I wore out my shoes\\nWoke up this mornin wishin I could lose\\nThem jumpin honky tonk blues\\nYeah the honky tonk blues\\nWell Lord I got 'em\\nI got the ho-on-ky tonk blues\\n\\nWell I stopped into every place in town\\nThis city life has really got me down\\nI got the honky tonk blues\\nYeah the honky tonk blues\\nWell Lord I got em\\nGot the ho-on-ky tonk blues\\n\\nI'm gonna tuck my worries underneath my arm\\nAnd scat right back to my pappy's farm\\nAnd leave these honky tonk blues\\nYeah the honky tonk blues\\nWell Lord I got 'em\\nI got the ho-on-ky tonk blues\", 'image': 'https://images.genius.com/f4bcd224c71b49c658741457db926906.800x796x1.jpg'}], 'artist': 'Hank Williams'}, {'songs': [{'title': 'Your Cheatin’ Heart', 'album': 'Memorial Album', 'year': None, 'lyrics': \"Your cheatin' heart\\nWill make you weep\\nYou'll cry and cry\\nAnd try to sleep\\n\\nBut sleep won't come\\nThe whole night through\\nYour cheatin' heart\\nWill tell on you\\n\\nWhen tears come down\\nLike falling rain\\nYou'll toss around\\nAnd call my name\\n\\nYou'll walk the floor\\nThe way I do\\nYour cheatin' heart\\nWill tell on you\\n\\nYour cheatin' heart\\nWill pine some day\\nAnd crave the love\\nYou threw away\\n\\nThe time will come\\nWhen you'll be blue\\nYour cheatin' heart\\nWill tell on you\\n\\nWhen tears come down\\nLike falling rain\\nYou'll toss around\\nAnd call my name\\n\\nYou'll walk the floor\\nThe way I do\\nYour cheatin' heart\\nWill tell on you\\n\\nSongwriter:  Hank Williams Sr\", 'image': 'https://images.genius.com/87feb77620d4744dc7fa6dfd5b3922f8.700x699x1.jpg'}], 'artist': 'Hank Williams'}, {'songs': [{'title': 'Take These Chains From My Heart', 'album': 'Ramblin’ Man', 'year': None, 'lyrics': \"Take these chains from my heart and set me free\\nYou've grown cold and no longer care for me\\nAll my faith in you is gone but the heartaches linger on\\nTake these chains from my heart and set me free\\n\\nTake these tears from my eyes and let me see\\nJust a spark of the love that used to be\\nIf you love somebody new let me find a new love too\\nTake these chains from my heart and set me free\\n\\nGive my heart just a word of sympathy\\nBe as fair to my heart as you can be\\nThen if you no longer care\\nFor the love that's beating there\\nTake these chains from my heart and set me free\\n\\nTake these chains from my heart and set me free\\nYou've grown cold and no longer care for me\\nAll my faith in you is gone but the heartaches linger on\\nTake these chains from my heart and set me free\", 'image': 'https://images.genius.com/1ceb8a6d18e67c46570d0b5caad4a917.439x439x1.jpg'}], 'artist': 'Hank Williams'}, {'songs': [{'title': 'Dust On The bible', 'album': 'The Unreleased Recordings', 'year': None, 'lyrics': \"I went into a home one day just to see some friends of mine\\nOf all their books and magazines, not a Bible could I find\\nI asked them for the Bible when they brought it, what a shame\\nFor the dust was covered o'er it, not a fingerprint was plain\\n\\nDust on the Bible, dust on the Holy Word\\nThe words of all the prophets and the sayings of our Lord\\nOf all the other books you'll find, there's none salvation holds\\nGet the dust off the Bible and redeem your poor soul\\n\\nOh, you can read your magazines of love and tragic things\\nBut not one word of Bible verse, not a scripture do you know\\nWhen it is the very truth and it's contents good for you\\nBut it's dust is covered o'er it\\nAnd it's sure to doom your poor soul\\n\\nDust on the Bible, dust on the Holy Word\\nThe word of all the prophets, and the sayings of our Lord\\nOf all the other books you'll find, there's none salvation holds\\nGet the dust off the Bible and redeem your poor soul\\n\\nOh, if you have a friend you'd like to help along life's way\\nJust tell him that the Good Book shows a mortal how to pray\\nThe best advice to give him that will make his burdens light\\nIs to dust the family bible trades the wrong way for the right\\n\\nDust on the Bible, dust on the Holy Word\\nThe word of all the prophets, and the sayings of our Lord\\nOf all the other books you'll find, there's none salvation holds\\nGet the dust off the Bible and redeem your poor soul\", 'image': 'https://images.genius.com/98a75f1a00f436a89b7454db2e429747.500x500x1.jpg'}], 'artist': 'Hank Williams'}, {'songs': [{'title': 'When God Dips His Love in My Heart', 'album': 'The Unreleased Recordings', 'year': None, 'lyrics': \"When God dips His pen of love in my heart\\nAnd writes my soul the message He wants me to know\\nHis spirit all divine fills this sinful soul of mine\\nWhen God dips His love in my heart\\n\\nI said I wouldn't tell it to a living soul\\nHow He brought salvation when He made me whole\\nBut I found I couldn't hide\\nSuch love as Jesus did impart\\n\\nIt makes me laugh and it makes me cry\\nSets my sinful soul on fire\\nWhen God dips His love in my heart\\n\\nHe walked every step up Calvary's ragged way\\nAnd He gave His life completely to bring a better day\\nMy life was lost in sinned but in love He took me in\\nHis blood washed all my sins away\\n\\nI said I wouldn't tell it to a living soul\\nHow He brought salvation when He made me whole\\nBut I found I couldn't hide\\nSuch love as Jesus did impart\\n\\nIt makes me laugh and it makes me cry\\nSets my sinful soul on fire\\nWhen God dips His love in my heart\", 'image': 'https://images.genius.com/98a75f1a00f436a89b7454db2e429747.500x500x1.jpg'}], 'artist': 'Hank Williams'}, {'songs': [{'title': 'Wedding Bells', 'album': 'Hank Williams Sings', 'year': '1949-03-20', 'lyrics': \"I have the invitation that you sent me\\nYou wanted me to see you change your name\\nI couldn't stand to see you wed another\\nBut dear I hope you're happy just the same\\n\\nWedding bells are ringing in the chapel\\nThat should be ringing out for you and me\\nDown the aisle with someone else you're walking\\nThose wedding bell will never ring for me\\n\\nI planned a little cottage in the valley\\nI even bought a little band of gold\\nI thought some day I'd place it on your finger\\nBut now the future looks so dark and cold\\n\\nWedding bells are ringing in the chapel\\nI hear the children laughing out with glee\\nAt home alone I hang my head in sorrow\\nThose wedding bells will never ring for me\\n\\nI fancy that I see a bunch of roses\\nA blossom from an orange tree in your hair\\nAnd while the organ plays I love you truly\\nPlease let me pretend that I am there\\n\\nWedding bells are ringing in the chapel\\nEver since the day you set me free\\nI knew someday that you would wed another\\nBut wedding bells will never ring for me\", 'image': 'https://images.genius.com/3f7b717546eda10d16fda87f02c3ebb5.600x600x1.jpg'}], 'artist': 'Hank Williams'}, {'songs': [{'title': 'Be Careful Of Stones That You Throw', 'album': 'Hank Williams as Luke the Drifter', 'year': '1953-01-01', 'lyrics': 'A tongue can accuse and carry bad news\\nThe seeds of distrust it will sow\\nBut unless you\\'ve made no mistakes in your life\\nBe careful of stones that you throw\\n\\nA neighbor was passing my garden\\nOne time, she stopped and I knew right away\\nThat it was gossip not flowers she had on her mind\\nAnd this is what I heard my neighbor say\\n\\n\"That bad girl down the street should be run from our midst\\nShe drinks and she talks quite a lot\\nShe knows not to speak to me or my child\"\\nMy neighbor then smiled and I thought\\n\\nA tongue can accuse and carry bad news\\nThe seeds of distrust it will sow\\nBut unless you\\'ve made no mistakes in your life\\nBe careful of stones that you throw\\n\\nA car speeded by and the screaming of brakes\\nA sound that made my blood chill\\nFor my neighbor\\'s one child had been pulled from the path\\nAnd saved by a girl lying still\\n\\nThe child was unhurt and my neighbor cried out\\n\"Oh who was that brave girl so sweet?\"\\nI covered the crushed broken body and sad\\nThe bad girl who lived down the street\\n\\nA tongue can accuse and carry bad news\\nThe seeds of distrust it will sow\\nBut unless you\\'ve made no mistakes in your life\\nBe careful of stones that you throw', 'image': 'https://images.rapgenius.com/3a70cb8caf0fb19182a522d6fedf8fda.280x210x1.jpg'}], 'artist': 'Hank Williams'}, {'songs': [{'title': 'Howlin’ at the Moon', 'album': 'Honky Tonkin’ ', 'year': None, 'lyrics': \"I know there's never been a man in the awful shape I'm in\\nI can't even spell my name, my heads in such a spin\\nTo-day I tried to eat a steak with a big old table-spoon\\nYou got me chasin' Rabbits, walkin' on my hands\\n...And Howlin' At The Moon\\n\\nWell, I took one look at you and it almost drove me mad\\nAnd then I even went and lost what little sense I had\\nNow I can't tell the day from night, I'm crazy as a loon\\nYou got me chasin' Rabbits, pullin' out my hair and Howlin' At The Moon\\n\\nSome friends of mine asked me to go out on a huntin' spree\\nCause there ain't a hound dog in this state that can hold a light to me\\nI eat three bones for dinner today, then tried to tree a 'Coon\\nYou got me chasin' Rabbits, scratchin' fleas and Howlin' At The Moon\\n\\nI rode my horse to town to day and a gas pump we did pass\\nI pulled 'im up and I hollered WHOA!, said fill 'im up with gas\\nThe man picked up a monkey wrench and WHAM!, he changed my tune\\nYou got me chasin' Rabbits, spittin' out teeth and Howlin' At The Moon\\n\\nI never thought in this old world a fool could fall so hard\\nBut honey baby, when I fell the whole world must have jarred\\nI think I'd quit my doggish ways if you'd take me for your groom\\nYou got me chasin Rabbits, pickin' out rings and Howlin' At The Moon\", 'image': 'https://images.genius.com/0788fd77d022c03181678d760257c92a.728x728x1.jpg'}], 'artist': 'Hank Williams'}, {'songs': [{'title': 'You Win Again', 'album': 'Memorial Album', 'year': None, 'lyrics': \"The news is out - all over town\\nThat you've been seen - a-runnin' 'round\\nI know that I - should leave, but then\\nI just can't go - you win again\\n\\nThis heart of mine - could never see\\nWhat ev'rybod - y knew but me\\nJust trusting you - was my great sin\\nWhat can I do - you win again\\n\\nI'm sorry for - your victim now\\n'Cause soon his head - like mine will bow\\nHe'll give his heart - but all in vain\\nAnd someday say - you win again\\n\\nYou have no heart - you have no shame\\nYou take true love - and give the blame\\nI guess that I - should not complain\\nI love you still - you win again\", 'image': 'https://images.genius.com/6b797473f7eceb0efb60599961493cb2.800x801x1.jpg'}], 'artist': 'Hank Williams'}, {'songs': [{'title': 'Cool Water', 'album': 'The Lonesome Sound of Hank Williams', 'year': '1960-01-01', 'lyrics': \"All day I've faced the barren waste\\nWith out the taste of water... cool, water\\nOle Dan and I, with throats burned dry\\nAnd souls that cry\\nFor water... cool, clear water\\n\\nThe nights are cool and I'm a fool\\nEach star's a pool of water... cool, clear water\\nAnd with the dawn I'll wake and yawn\\nAnd carry on\\nTo water... cool, clear water\\n\\nThe shadows sway and seem to say\\nTonight we pray for water.... cool, clear water\\nAnd way up there He'll hear our prayer\\nAnd show us where\\nThere's water... cool, clear water\\n\\nKeep a-movin' Dan. Don't you listen to him Dan\\nHe's the devil, not a man\\nHe spreads the burnin' sand with water\\nSay Dan can't you see that big green tree\\nWhere the water's runnin' free\\nIt's waiting there for you and me\\nAnd water.... cool, clear water\\n\\nDan's feet are sore he's yearnin' for\\nJust one thing more than water.... cool, clear water\\nLike me I guess he'd like to rest\\nWhere there's no quest\\nFor water... cool, clear water\", 'image': 'https://images.genius.com/34ec94f7a5477b1c35dda2169a9476d3.590x600x1.jpg'}], 'artist': 'Hank Williams'}, {'songs': [{'title': 'A House Of Gold', 'album': 'I Saw The Light', 'year': '1954-01-01', 'lyrics': \"People steal, they cheat and lie\\nFor wealth and what it will buy\\nDon't they know on the judgement day\\nThat their gold and silver will melt away\\n\\nI'd rather be in a deep, dark grave\\nAnd know that my poor soul was saved\\nThan to live in this world in a house of gold\\nAnd deny my God and doon my soul\\n\\nJesus said ,come on to me\\nI'll break sin's chains and set you free\\nI´ll carry you to a home on high\\nWhere you´ll never, never die\\n\\nWhat good is gold and silver, too\\nWhen your heart's not good and true\\nSinner hear me when I say\\nFall down on your knees and pray\\n\\nJesus died there on the cross\\nSo this world would not be lost\\nSinner hear now what I say\\nFor someday you ´ll have to pay\\n\\nWhat good is gold and silver too\\nIf your heart's not good and true\\nSinner, hear me when I say\\nFall down on your knees and pray\", 'image': 'https://images.genius.com/d1dcbca7511ef406de907b7b54bdf926.450x450x1.jpg'}], 'artist': 'Hank Williams'}]\n"
          ],
          "name": "stdout"
        }
      ]
    },
    {
      "cell_type": "code",
      "metadata": {
        "id": "zhRJXQqsgz3s",
        "colab_type": "code",
        "colab": {}
      },
      "source": [
        "def extract_element_from_json(obj, path):\n",
        "    '''\n",
        "    Extracts an element from a nested dictionary or\n",
        "    a list of nested dictionaries along a specified path.\n",
        "    If the input is a dictionary, a list is returned.\n",
        "    If the input is a list of dictionary, a list of lists is returned.\n",
        "    obj - list or dict - input dictionary or list of dictionaries\n",
        "    path - list - list of strings that form the path to the desired element\n",
        "    '''\n",
        "    def extract(obj, path, ind, arr):\n",
        "        '''\n",
        "            Extracts an element from a nested dictionary\n",
        "            along a specified path and returns a list.\n",
        "            obj - dict - input dictionary\n",
        "            path - list - list of strings that form the JSON path\n",
        "            ind - int - starting index\n",
        "            arr - list - output list\n",
        "        '''\n",
        "        key = path[ind]\n",
        "        if ind + 1 < len(path):\n",
        "            if isinstance(obj, dict):\n",
        "                if key in obj.keys():\n",
        "                    extract(obj.get(key), path, ind + 1, arr)\n",
        "                else:\n",
        "                    arr.append(None)\n",
        "            elif isinstance(obj, list):\n",
        "                if not obj:\n",
        "                    arr.append(None)\n",
        "                else:\n",
        "                    for item in obj:\n",
        "                        extract(item, path, ind, arr)\n",
        "            else:\n",
        "                arr.append(None)\n",
        "        if ind + 1 == len(path):\n",
        "            if isinstance(obj, list):\n",
        "                if not obj:\n",
        "                    arr.append(None)\n",
        "                else:\n",
        "                    for item in obj:\n",
        "                        arr.append(item.get(key, None))\n",
        "            elif isinstance(obj, dict):\n",
        "                arr.append(obj.get(key, None))\n",
        "            else:\n",
        "                arr.append(None)\n",
        "        return arr\n",
        "    if isinstance(obj, dict):\n",
        "        return extract(obj, path, 0, [])\n",
        "    elif isinstance(obj, list):\n",
        "        outer_arr = []\n",
        "        for item in obj:\n",
        "            outer_arr.append(extract(item, path, 0, []))\n",
        "        return outer_arr"
      ],
      "execution_count": 0,
      "outputs": []
    },
    {
      "cell_type": "code",
      "metadata": {
        "id": "vw8cy4zvN1Y_",
        "colab_type": "code",
        "colab": {}
      },
      "source": [
        "lyrics = extract_element_from_json(content, [\"songs\",\"lyrics\"])"
      ],
      "execution_count": 0,
      "outputs": []
    },
    {
      "cell_type": "code",
      "metadata": {
        "id": "fF0uVw0LXA58",
        "colab_type": "code",
        "outputId": "56fc5aa4-2d19-4965-ff7d-31020c190061",
        "colab": {
          "base_uri": "https://localhost:8080/",
          "height": 55
        }
      },
      "source": [
        "print(lyrics)"
      ],
      "execution_count": 0,
      "outputs": [
        {
          "output_type": "stream",
          "text": [
            "[[\"[Verse 1]\\nIf the wife and I are fussin', brother, that's our right\\n'Cause me and that sweet woman's got a license to fight\\n\\n[Chorus]\\nWhy don't you mind your own business?\\nMind your own business\\n'Cause if you mind your business, then you won't be mindin' mine\\n\\n[Verse 2]\\nOh, the woman on our party line's the nosiest thing\\nShe picks up her receiver when she knows it's my ring\\n\\n[Chorus]\\nWhy don't you mind your own business?\\nMind your own business\\n'Cause if you mind your business, then you won't be mindin' mine\\n\\n[Guitar Solo]\\n\\n[Verse 3]\\nI got a little gal that wears her hair up high\\nThe boys all whistle when she walks by\\n\\n[Chorus]\\nWhy don't you mind your own business?\\nMind your own business\\nWell, if you mind your business, then you sure won't be mindin' mine\\n\\n[Fiddle Solo]\\n\\n[Verse 4]\\nIf I want to honky tonk around 'til two or three\\nNow, brother that's my headache, don't you worry 'bout me\\n\\n[Chorus]\\nJust mind your own business\\nMind your own business\\nIf you mind your business, then you won't be mindin' mine\\n\\n[Pedal Steel Solo]\\n\\n[Verse 5]\\nMindin' other people's business seems to be high-toned\\nI got all that I can do just to mind my own\\n\\n[Chorus]\\nWhy don't you mind your own business?\\nMind your own business\\nIf you mind your own business, you'll stay busy all the time\"], [\"I can settle down and be doin' just fine\\nTil' I hear an old train rollin' down the line\\nThen I hurry straight home and pack\\nAnd if I didn't go, I believe I'd blow my stack\\n\\nI love you baby, but you gotta understand\\nWhen the Lord made me, he made a Ramblin' Man\\n\\nSome folks might sa-ay that I'm no good\\nThat I wouldn't settle down if I could\\nBut when that open ro-oad starts to callin' me\\nThere's somethin' o'er the hill that I gotta see\\n\\nSometimes it's har-rd but you gotta understand\\nWhen the Lord made me, He made a Ra-amblin' Man\\n\\nI love to see the towns a-passin' by\\nAnd to ride these rails 'neath God's blue sky\\nLet me travel this land from the mountains to the sea\\nCause that's the life I believe, He meant for me\\nAnd when I'm gone and at my grave, you stand\\nJust say God's called home your Ramblin' Man\"], [\"On that resurrection morning\\nWhen all dead in Christ shall rise\\nI'll have a new body\\nPraise the Lord, I'll have a new life\\n\\nWon't it be so bright and fair\\nWhen we meet our love ones there\\nI'll have a new body\\nPraise the Lord, I'll have a new life\\n\\nI'll have a new home of glory eternal\\nWhere the redeemed of God shall stand\\nThere'll be no more sorrow\\nThere'll be no more strife\\n\\nRaised in the likeness of my Savior\\nReady to live in Paradise\\nI'll have a new body\\nPraise the Lord, I'll have a new life\\n\\nWhen old Gabriel blows his trumpet\\nAnd we walk the streets of gold\\nI'll have a new body\\nPraise the Lord, I'll have a new life\\n\\nNo more pain worry sorrow\\nIn this wicked world of sin\\nI'll have a new body\\nPraise the Lord, I'll have a new life\\n\\nI'll have a new home of glory eternal\\nWhere the redeemed of God shall stand\\nThere'll be no more sorrow\\nThere'll be no more strife\\n\\nRaised in the likeness of my Savior\\nReady to live in Paradise\\nI'll have a new body\\nPraise the Lord, I'll have a new life\\n\\nOh dear brother are you living\\nFor that day when Christ shall come\\nI'll have a new body\\nPraise the Lord, I'll have a new life\\n\\nGraves all bursting Saints a shouting\\nHeavenly beauty all around\\nI'll have a new body\\nPraise the Lord, I'll have a new life\\n\\nI'll have a new home of glory eternal\\nWhere the redeemed of God shall stand\\nThere'll be no more sorrow\\nThere'll be no more strife\\n\\nRaised in the likeness of my Savior\\nReady to live in Paradise\\nI'll have a new body\\nPraise the Lord, I'll have a new life\"], [\"There's a place near to me, where I'm longing to be\\nWith my friends at the old country church\\nThere with mother we went and our Sundays we spent\\nWith our friends at the old country church\\n\\nPrecious years of memories\\nOh, what joy they bring to me\\nHow I long once more to be\\nWith my friends at the old country church\\n\\nHow I wish that today all the people would pray\\nLike we prayed in that old country church\\nIf they'd only confess, Jesus surely would bless\\nAs He did in that old country church\\n\\nPrecious years of memories\\nOh, what joy they bring to me\\nHow I long once more to be\\nWith my friends at the old country church\"], ['[Chorus]\\nI got a feeling called the blues, oh Lord\\nSince my baby said goodbye\\nLord, I don\\'t know what I\\'ll do\\nAll I do is sat and sigh, \"Oh Lord\"\\nThe last long day she said goodbye\\nWell, Lord, I thought I would cry\\nShe\\'ll do me, she\\'ll do you, she\\'s got that kind of loving\\nLord, I love to hear her when she calls me sweet daddy\\nSuch a beautiful dream\\nI hate to think it\\'s all over; I\\'ve lost my heart it seems\\nI\\'ve grown so used to you somehow\\nBut I\\'m nobody\\'s sugar daddy now\\nAnd I\\'m lonesome, I got the lovesick blues\\n\\n[Verse]\\nWell I\\'m in love, I\\'m in love with a beautiful gal\\nThat\\'s what\\'s the matter with me\\nWell I\\'m in love, I\\'m in love with a beautiful gal\\nBut she don\\'t care about me\\nLord, I tried and I tried to keep her satisfied\\nBut she just wouldn\\'t stay\\nSo now that she is leaving this is all I can say\\n\\n[Chorus]\\nI got a feeling called the blues oh Lord\\nSince my baby said goodbye\\nLord, I don\\'t know what I\\'ll do\\nAll I do is sat and sigh, \"Oh Lord\"\\nThe last long day she said goodbye\\nWell, Lord, I thought I would cry\\nShe\\'ll do me, she\\'ll do you, she\\'s got that kind of loving\\nLord, I love to hear her when she calls me sweet daddy\\nSuch a beautiful dream\\nI hate to think it\\'s all over; I\\'ve lost my heart it seems\\nI\\'ve grown so used to you somehow\\nBut I\\'m nobody\\'s sugar daddy now\\nAnd I\\'m lonesome, I got the lovesick blues'], [\"Yea! My bucket's got a hole in it\\nYea! My bucket's got a hole in it\\nYea! My bucket's got a hole in it\\nI can't buy no beer\\n\\nWell I'm standin' on a corner - With a bucket in my hand\\nI'm waitin' for a woman - That ain't got no man\\n\\nYea! My bucket's got a hole in it\\nYea! My bucket's got a hole in it\\nYea! My bucket's got a hole in it\\nI can't buy no beer\\n\\nWell, I went upon the mountain - I looked down in the sea\\nI seen the crabs and the fishes - Doin' the be-bop-bee\\n\\nYea! My bucket's got a hole in it\\nYea! My bucket's got a hole in it\\nYea! My bucket's got a hole in it\\nI can't buy no beer\\n\\nWell, there ain't no use - of me workin' so hard\\nWhen I got a woman - in the boss man's yard\\n\\nYea! My bucket's got a hole in it\\nYea! My bucket's got a hole in it\\nYea! My bucket's got a hole in it\\nI can't buy no beer\\n\\nWell, me and my baby - we just bought a Ford\\nAnd now we sit together - on the running board\\n\\nYea! My bucket's got a hole in it\\nYea! My bucket's got a hole in it\\nYea! My bucket's got a hole in it\\nI can't buy no beer\"], [\"On top of old Smokey, all covered in snow\\nI lost my true lover, by courtin' too slow\\nOn top of old Smokey, I went there to weep\\nFor a false hearted lover, is worse than a thief\\n\\nA thief he will rob you, and take what you save\\nBut a false hearted lover, will put you in your grave\\nOn top of old Smokey, all covered in snow\\nI lost my true lover, by courtin' too slow\\n\\nThey'll hug you and kiss you, then tell you more lies\\nThan the crossties on the railroad, or the stars in the skies\\nOn top of old Smoke, all covered in snow\\nI lost my true lover, by courtin' too slow\"], [\"Precious Lord, take my hand\\nLead me on\\nLet me stand\\nI'm tired, I am weak I am worn\\nThrough the storm, through the night\\nLead me on to the light\\nTake my hand precious Lord, lead me home\\n\\nWhen my way grows drear precious Lord linger near\\nWhen my life is almost gone\\nHear my cry\\nHear my call\\nHold my hand lest I fall\\nTake my hand precious Lord, lead me home\\n\\nWhen the darkness appears and the night draws near\\nAnd the day is past and gone\\nAt the river I stand\\nGuide my feet\\nHold my hand\\nTake my hand precious Lord, lead me home\\n\\nPrecious Lord, take my hand\\nLead me on\\nLet me stand\\nI am tired, I am weak, I am worn\\nThrough the storm, through the night\\nLead me on to the light\\nTake my hand precious Lord, lead me home\"], [\"When you are sad and lonely and have no place to go\\nCall me up, sweet baby, and bring along some dough\\nAnd we'll go Honky Tonkin', Honky Tonkin'\\nHonky Tonkin', Honey Baby\\nWe'll go Honky Tonkin' 'round this town\\n\\nWhen you and your baby have a fallin' out\\nJust call me up sweet mama and we'll go steppin' out\\nAnd we'll go Honky Tonkin', Honky Tonkin'\\nHonky Tonkin', Honey Baby\\nWe'll go Honky Tonkin' 'round this town\\nWe're goin' to the city - to the city fair\\n\\nIf you go to the city then you will find me there\\nAnd we'll go Honky Tonkin', Honky Tonkin'\\nHonky Tonkin', Honey Baby\\nWe'll go Honky Tonkin' 'round this town\"], [\"Only a tramp was Lazarus sad fate\\nHe who lay down at the rich man's gate\\nHe begged for the crumbs from the rich man to eat\\nHe was only a tramp found dead on the street\\nHe was some mother's darlin', he was some mother's son\\nOnce he was fair and once he was young\\nAnd some mother rocked him, her darlin' to sleep\\nBut they left him to die like a tramp on the street\\nJesus, he died on Calvary's tree\\nHe shed his life's blood for you and for me\\nThey pierced his side and then his feet\\nAnd they left him to die like a tramp on the street\\nHe was Mary's own darlin', he was god's chosen son\\nOnce he was fair and once he was young\\nMary, she rocked him, her darlin' to sleep\\nBut they left him to die like a tramp on the street\\nIf Jesus should come and knock on your door\\nFor a place to come in, or bread from your store\\nWould you welcome him in, or turn him away\\nThen the god's would deny you on the great judgment day\"], ['I\\'m a rolling stone, all alone and lost\\nFor a life of sin, I have paid the cost\\nWhen I pass by, all the people say\\n\"Just another guy on the lost highway\"\\n\\nJust a deck of cards and a jug of wine\\nAnd a woman\\'s lies make a life like mine\\nOh, the day we met, I went astray\\nI started rollin\\' down that lost highway\\n\\nI was just a lad, nearly twenty-two\\nNeither good nor bad, just a kid like you\\nAnd now I\\'m lost, too late to pray\\nLord, I\\'ve paid the cost on the lost highway\\n\\nNow, boys, don\\'t start your ramblin\\' round\\nOn this road of sin or you\\'re sorrow bound\\nTake my advice or you\\'ll curse the day\\nYou started rollin\\' down that lost highway'], [\"[Verse 1]\\nGoodbye Joe me gotta go me oh my oh\\nMe gotta go pole the pirogue down the bayou\\nMy Yvonne the sweetest one me oh my oh\\nSon of me gun we'll have big fun on the bayou\\nJambalaya and a crawfish pie on a filé gumbo\\n'Cause tonight I'm gonna see my ma cher amio\\nPick guitar, filled fruit jar and be gay-o\\nSon of me gun we'll have big fun on the bayou\\n\\n[Verse 2]\\nThibodaux Fontaineaux the place is buzzin'\\nKinfolk come to see Yvonne by the dozen\\nDressed in style, go hog wild, oh me oh my oh\\nSon of me gun we'll have big fun on the bayou\\nSettle down far from town get me a pirogue\\nAnd I'll catch all the fish in the bayou\\n\\n[Chorus]\\nJambalaya and a crawfish pie on a filé gumbo\\n'Cause tonight I'm gonna see my ma cher amio\\nPick guitar, filled fruit jar and be gay-o\\nSon of me gun we'll have big fun on the bayou\\nJambalaya and a crawfish pie on a filé gumbo\\n'Cause tonight I'm gonna see my ma cher amio\\nPick guitar, filled fruit jar and be gay-o\\nSon of me gun we'll have big fun on the bayou\\nSon of me gun we'll have big fun on the bayou\\n\\n[Verse 3]\\nLater on, swap my mon, get me a pirogue\\nAnd I'll catch all the fish on the bayou\\nSwap my mon, to buy Yvonne what she need-oh\\nSon of a gun we'll have big fun on the bayou\\nJambalaya and a crawfish pie...\"], [\"[Verse 1]\\nI wandered so aimless life filled with sin\\nI wouldn't let my dear savior in\\nThen Jesus came like a stranger in the night\\nPraise the Lord I saw the light\\n\\n[Chorus]\\nI saw the light I saw the light\\nNo more darkness no more night\\nNow I'm so happy no sorrow in sight\\nPraise the Lord I saw the light\\n\\n[Verse 2]\\nJust like a blind man I wandered along\\nWorries and fears I claimed for my own\\nThen like the blind man that God gave back his sight\\nPraise the Lord I saw the light\\n\\n[Chorus]\\nI saw the light I saw the light\\nNo more darkness no more night\\nNow I'm so happy no sorrow in sight\\nPraise the Lord I saw the light\\n\\n[Verse 3]\\nI was a fool to wander and a-stray\\nStraight is the gate and narrow the way\\nNow I have traded the wrong for the right\\nPraise the Lord I saw the light\\n\\n[Chorus]\\nI saw the light I saw the light\\nNo more darkness no more night\\nNow I'm so happy no sorrow in sight\\nPraise the Lord I saw the light\"], [\"Death is an angel sent down from above sent for the buds of the flowers we love\\nBut every bud and each blossom some day\\nWill bloom as a flower in the Master's bouquet\\n\\nGathering flowers for the Master's bouquet beautiful flowers that will never decay\\nGathered by angels then carried away forever to bloom in the Master's bouquet\\n\\nLoved ones are passing each day and each hour passing away as the life of a flower\\nTaken and cared for in heaven's own way forever to bloom in the Master's bouquet\\n\\nGathering flowers for the Master's bouquet...beautiful flowers that will never decay\\nGathered by angels then carried away forever to bloom in the Master's bouquet\"], [\"In the great book of John\\nYou're warned of the day\\nWhen you'll be laid\\nBeneath the cold clay\\n\\nThe Angel of Death\\nWill come from the sky\\nAnd claim up your soul\\nWhen the time comes to die\\n\\nWhen the Angel of Death\\nComes down after you\\nCan you smile and say\\nThat you have been true\\n\\nCan you truthfully say\\nWith your dying breath\\nThat you're ready to meet\\nThe Angel of Death\\n\\nWhen the lights all grow dim\\nAnd the dark shadows creep\\nAnd then your lived ones\\nAre gathered to weep\\n\\nCan you face them and say\\nWith your dying breath\\nThat you're ready to meet\\nThe Angel of Death\\n\\nWhen the Angel of Death\\nComes down after you\\nCan you smile and say\\nThat you have been true\\n\\nCan you truthfully say\\nWith your dying breath\\nThat you're ready to meet\\nThe Angel of Death\"], [\"Came in last night at a half past ten\\nThat baby of mine wouldn't let me in\\nSo move it on over (move it on over)\\nMove it on over (move it on over)\\nMove over little dog cause a big dog's movin in\\n\\nShe's changed the lock on our front door\\nMy door key, don't fit no more\\nSo get it on over (move it on over)\\nScoot it on over (move it on over)\\nMove over skinny dog cause a fat dog's moving in\\n\\nThis dog house here is mighty small\\nBut it's sure better than no house at all\\nSo ease it on over (move it on over)\\nDrag it on over (move it on over)\\nMove over old dog cause a new dog's moving in\\n\\nShe told me not to play around\\nBut I done let the deal go down\\nSo pack it on over (move it on over)\\nTote it on over (move it on over)\\nMove over nice dog cause a mad dog's moving in\\n\\nShe warned me once, she warned me twice\\nBut I don't take no one's advice\\nSo scratch it on over (move it on over)\\nShake it on over (move it on over)\\nMove over short dog cause a tall dog's moving in\\n\\nShe'll crawl back to me on her knees\\nI'll be busy scratching fleas\\nSo slide it on over (move it on over)\\nSneak it on over (move it on over)\\nMove over good dog cause a mad dog's moving in\\n\\nRemember pup, before you whine\\nThat side's yours and this side's mine\\nSo shove it on over (move it on over)\\nSweep it on over (move it on over)\\nMove over cold dog cause a hot dog's moving in\"], [\"Today I passed you on the street\\nAnd my heart fell at your feet\\nI can't help it if I'm still in love with you\\nSomebody else stood by your side\\nAnd he looked so satisfied\\nI can't help it if I'm still in love with you\\nA picture from the past came slowly stealin'\\nAs I brushed your arm and walked so close to you\\nThen suddenly I got that old time feelin'\\nI can't help it if I'm still in love with you\\nIt's hard to know another's lips will kiss you\\nAnd hold you just the way I used to do\\nOh, Heaven only knows how much I miss you\\nI can't help it if I'm still in love with you\"], [\"Some glad morning when this life is over\\nI'll fly away\\nTo a land where joy shall never end\\nI'll, I'll fly away\\n\\nI'll fly away, oh, glory\\nI'll fly away\\nWhen I die, Hallelujah, bye and bye\\nI'll fly away\"], [\"I tried so hard, my dear, to show that you're my every dream\\nYet you're afraid each thing I do is just some evil scheme\\nA memory from your lonesome past keeps us so far apart\\nWhy can't I free your doubtful mind and melt your cold, cold heart?\\n\\nAnother love before my time made your heart sad and blue\\nAnd so my heart is paying now for things I didn't do\\nIn anger, unkind words are said that make the teardrops start\\nWhy can't I free your doubtful mind and melt your cold, cold heart?\\n\\nYou'll never know how much it hurts to see you sit and cry\\nYou know you need and want my love, yet you're afraid to try\\nWhy do you run and hide from life, to try it just ain't smart\\nWhy can't I free your doubtful mind and melt your cold, cold heart?\\n\\nThere was a time when I believed that you belonged to me\\nBut now I know your heart is shackled to a memory\\nThe more I learn to care for you, the more we drift apart\\nWhy can't I free your doubtful mind and melt your cold, cold heart?\"], [\"I heard my Saviour calling me\\nHe saved my soul, He set me free\\nI know He'll never let me fall\\nPraise out, I heard my Saviour call\\n\\nI was a sinner, traveling on a weary road\\nSo far from home\\nBut now sweet heaven is my all\\nPraise out, I heard my Saviour call\\n\\nI heard my Saviour calling me\\nHe saved my soul, He set me free\\nI know He'll never let me fall\\nPraise out, I heard my Saviour call\\n\\nI'm on my way to better land\\nAnd there I'll join that heavenly band\\nAll through the ages I will sing\\nHosanna is my heavenly King\\n\\nI heard my Saviour calling me\\nHe saved my soul, He set me free\\nI know He'll never let me fall\\nPraise out, I heard my Saviour call\"], [\"[Chorus 1]\\nSay hey, good lookin' - what ya got cookin'?\\nHow's about cookin' somethin' up with me?\\nHey, sweet baby - don't you think maybe\\nWe can find us a brand new recipe?\\n\\n[Verse 1]\\nI got a hot rod Ford, and a two dollar bill\\nAnd I know a spot right over the hill\\nThere's soda pop and the dancing's free\\nSo if you wanna have fun, come along with me\\n\\n[Chorus 1]\\nSay hey, good lookin' - what ya got cookin'?\\nHow's about cooking somethin' up with me?\\n\\n[Steel Guitar Solo]\\n[Fiddle Solo]\\n[Steel Guitar Solo]\\n\\n[Chorus 2]\\nI'm free and ready, so we can go steady\\nHow's about savin' all your time for me?\\nNo more lookin', I know I been tookin'\\nHows about keepin' steady company?\\n\\n[Verse 2]\\nI'm gonna throw my date book over the fence\\nAnd buy me one for five or ten cents\\nI'll keep it till it's covered with age\\nCause I'm writin' your name down on ever' page\\n\\n[Chorus 1]\\nSay hey, good lookin' - what ya got cookin'?\\nHow's about cookin' somethin' up with me?\"], [\"Hear that lonesome whippoorwill\\nHe sounds too blue to fly\\nThe midnight train is whining low\\nI'm so lonesome I could cry\\n\\nI've never seen a night so long\\nWhen time goes crawling by\\nThe moon just went behind the clouds\\nTo hide its face and cry\\n\\nDid you ever see a robin weep\\nWhen leaves begin to die?\\nLike me, he's lost the will to live\\nI'm so lonesome I could cry\\n\\nThe silence of a falling star\\nLights up a purple sky\\nAnd as I wonder where you are\\nI'm so lonesome I could cry\"], [\"I went down to the river to watch the fish swim by\\nBut I got to the river so lonesome I wanted to die, oh Lord\\nAnd then I jumped in the river, but the doggone river was dry\\nShe's long gone, and now I'm lonesome blue\\n\\nI had me a woman who couldn't be true\\nShe made me for my money and she made me blue\\nA man needs a woman that he can lean on\\nBut my leanin' post is done left and gone\\nShe's long gone, and now I'm lonesome blue\\n\\nI'm gonna find me a river, one that's cold as ice\\nAnd when I find me that river, Lord I'm gonna pay the price, oh Lord\\nI'm goin' down in it three times, but Lord I'm only comin' up twice\\nShe's long gone, and now I'm lonesome blue\\n\\nShe told me on Sunday she was checkin' me out\\nLong about Monday she was nowhere about\\nAnd here it is Tuesday, ain't had no news\\nI got them gone but not forgotten blues\\nShe's long gone, and now I'm lonesome blue\"], [\"[Verse 1]\\nWe met in the springtime\\nWhen blossoms unfold\\nThe pastures were green\\nAnd the meadows were gold\\n\\n[Verse 2]\\nOur love was in flower\\nAs summer grew on\\nHer love, like the leaves\\nNow has withered and gone\\n\\n[Verse 3]\\nThe roses have faded\\nThere's frost at my door\\nThe birds in the morning\\nDon't sing anymore\\n\\n[Verse 4]\\nThe grass in the valley\\nIs starting to die\\nAnd out in the darkness\\nThe whip-poor-wills cry\\n\\n[Chorus]\\nAlone and forsaken\\nBy fate and by man\\nOh, lord if you hear me\\nPlease hold my hand\\nOh, please understand\\n\\n[Verse 5]\\nOh, where has she gone to\\nOh, where can she be?\\nShe may have forsaken\\nSome other like me\\n\\n[Verse 6]\\nShe promised to honor\\nTo love and obey\\nEach vow was a plaything\\nThat she threw away\\n\\n[Verse 7]\\nThe darkness is falling\\nThe sky has turned gray\\nA hound in the distance\\nIs starting to bay\\n\\n[Verse 8]\\nI wonder, I wonder\\nWhat she's thinking of?\\nForsaken, forgotten\\nWithout any love\\n\\n[Chorus]\"], [\"[Verse 1]\\nTonight down here in the valley\\nI'm lonesome, and oh, how I feel\\nAs I sit here alone in my cabin\\nI can see your mansion on the hill\\n\\n[Steel Guitar Solo]\\n\\n[Verse 2]\\nDo you recall when we parted?\\nThe story to me you revealed\\nYou said you could live without love, dear\\nIn your loveless mansion on the hill\\n\\n[Fiddle Solo]\\n\\n[Verse 3]\\nI've waited all through the years, love\\nTo give you a heart true and real\\n'Cause I know you're living in sorrow\\nIn your loveless mansion on the hill\\n\\n[Verse 4]\\nThe light shine bright from your window\\nThe trees stand so silent and still\\nI know you're alone with your pride, dear\\nIn your loveless mansion on the hill\"], [\"[Verse 1]\\nWell, why don't you love me like you used to do\\nHow come you treat me like a worn out shoe\\nMy hair's still curly and my eyes are still blue\\nWhy don't you love me like you used to do\\n\\n[Bridge]\\nAin't had no lovin' like a huggin' and a kissin'\\nIn a long, long while\\nWe don't get nearer or further or closer\\nThan a country mile\\n\\n[Verse 2]\\nWhy don't you spark me like you used to do\\nAnd say sweet nothin's like you used to coo\\nI'm the same old trouble that you've always been through\\nSo, why don't you love me like you used to do\\n\\n[Verse 3]\\nWell, why don't you be just like you used to be\\nHow come you find so many faults with me\\nSomebody's changed so let me give you a clue\\nWhy don't you love me like you used to do\\n\\n[Bridge]\\nAin't had no lovin' like a huggin' and a kissin'\\nIn a long, long while\\nWe don't get nearer or further or closer\\nThan a country mile\\n\\n[Verse 4]\\nWhy don't you say the things you used to say\\nWhat makes you treat me like a piece of clay\\nMy hair's still curly and my eyes are still blue\\nWhy don't you love me like you used to do\"], ['[Verse 1]\\nKaw-Liga was a wooden Indian standing by the door\\nHe fell in love with an Indian maid over in the antique store\\nKaw-Liga\\nJust stood there and never let it show\\nSo she could never answer \"yes\" or \"no\"\\nHe always wore his Sunday feathers and held a tomahawk\\nThe maiden wore her beads and braids and hoped someday he\\'d talk\\n\\n[Pre-Chorus 1]\\nKaw-Liga\\nToo stubborn to ever show a sign\\nBecause his heart is made of knotty pine\\n\\n[Chorus]\\nPoor old Kaw-Liga, he never got a kiss\\nPoor old Kaw-Liga, he don\\'t know what he missed\\nIs it any wonder, that his face is red?\\nKaw-Liga, that poor old wooden head\\n\\n[Verse 2]\\nKaw-Liga was a lonely Indian never went nowhere\\nHis heart was set on the Indian maiden with the coal black hair\\nKaw-Liga\\nJust stood there and never let it show\\nSo she could never answer \"yes\" or \"no\"\\nAnd then one day, a wealthy customer bought the Indian maid\\nAnd took her, oh, so far away but old Kaw-Liga stayed\\n\\n[Pre-Chorus 2]\\nKaw-Liga\\nJust stands there as lonely as can be\\nAnd wishes he was still an old pine tree\\n\\n[Chorus]\\nPoor old Kaw-Liga, he never got a kiss\\nPoor old Kaw-Liga, he don\\'t know what he missed\\nIs it any wonder, that his face is red?\\nKaw-Liga, that poor old wooden head'], [\"[Verse 1]\\nNow you're lookin' at a man that's gettin' kind-a mad\\nI had lots of luck but it's all been bad\\n\\n[Chorus]\\nNo matter how I struggle and strive\\nI'll never get out of this world alive\\n\\n[Verse 2]\\nMy fishin' pole's broke the creek is full of sand\\nMy woman run away with another man\\n\\n[Chorus]\\n\\n[Verse 3]\\nA distant uncle passed away and left me quite a batch\\nAnd I was living high until that fatal day\\nA lawyer proved I wasn't born\\nI was only hatched\\nEvery thing's against me and it's got me down\\nIf I jumped in the river I would probably drown\\n\\n[Chorus]\\n\\n[Verse 4]\\nThese shabby shoes I'm wearin' all the time\\nIs full of holes and nails\\nAnd brother if I stepped on a worn out dime\\nI bet a nickel I could tell you if it was heads or tails\\nI'm not gonna worry wrinkles in my brow\\nCause nothin's ever gonna be alright no-how\\n\\n[Chorus]\"], [\"Comb your hair and paint and powder\\nYou act proud and I'll act prouder\\nYou sing loud and I'll sing louder; tonight we're settin' the woods on fire\\nYou're my gal and I'm your feller\\nDress up in your frock of yeller\\nI'll look swell but you'll look sweller; settin' the woods on fire\\nWe'll take in all the honky tonks, tonight we're having fun\\nWe'll show the folks a brand new dance, that never has been done\\nI don't care who thinks we're silly\\nYou'll be daffy I'll be dilly\\nWe'll order up two bowls of chili; settin' the woods on fire\\n\\nI'll gas up my hot rod stoker\\nWe'll get hotter than a poker\\nYou'll be broke but I'll be broker; tonight we're settin' the woods on fire\\nWe'll sit close to one another\\nUp one street and down the other\\nWe'll have a time, oh brother; settin' the woods on fire\\nWe'll put aside a little time to fix a flat or two\\nMy tires and tubes are doin' fine but the air is showin' through\\nYou clap hands and I'll start bowin'\\nWe'll do all the law's allowin'\\nTomorrow I'll be right back plowin'; settin' the woods on fire\"], [\"Well I left my home down on the rural route\\nI told my paw I'm going steppin out and get the\\nHonky tonk blues\\nYeah the honky tonk blues\\nWell Lord I got 'em\\nI got the ho-on-ky tonk blues\\n\\nWell I went to a dance and I wore out my shoes\\nWoke up this mornin wishin I could lose\\nThem jumpin honky tonk blues\\nYeah the honky tonk blues\\nWell Lord I got 'em\\nI got the ho-on-ky tonk blues\\n\\nWell I stopped into every place in town\\nThis city life has really got me down\\nI got the honky tonk blues\\nYeah the honky tonk blues\\nWell Lord I got em\\nGot the ho-on-ky tonk blues\\n\\nI'm gonna tuck my worries underneath my arm\\nAnd scat right back to my pappy's farm\\nAnd leave these honky tonk blues\\nYeah the honky tonk blues\\nWell Lord I got 'em\\nI got the ho-on-ky tonk blues\"], [\"Your cheatin' heart\\nWill make you weep\\nYou'll cry and cry\\nAnd try to sleep\\n\\nBut sleep won't come\\nThe whole night through\\nYour cheatin' heart\\nWill tell on you\\n\\nWhen tears come down\\nLike falling rain\\nYou'll toss around\\nAnd call my name\\n\\nYou'll walk the floor\\nThe way I do\\nYour cheatin' heart\\nWill tell on you\\n\\nYour cheatin' heart\\nWill pine some day\\nAnd crave the love\\nYou threw away\\n\\nThe time will come\\nWhen you'll be blue\\nYour cheatin' heart\\nWill tell on you\\n\\nWhen tears come down\\nLike falling rain\\nYou'll toss around\\nAnd call my name\\n\\nYou'll walk the floor\\nThe way I do\\nYour cheatin' heart\\nWill tell on you\\n\\nSongwriter:  Hank Williams Sr\"], [\"Take these chains from my heart and set me free\\nYou've grown cold and no longer care for me\\nAll my faith in you is gone but the heartaches linger on\\nTake these chains from my heart and set me free\\n\\nTake these tears from my eyes and let me see\\nJust a spark of the love that used to be\\nIf you love somebody new let me find a new love too\\nTake these chains from my heart and set me free\\n\\nGive my heart just a word of sympathy\\nBe as fair to my heart as you can be\\nThen if you no longer care\\nFor the love that's beating there\\nTake these chains from my heart and set me free\\n\\nTake these chains from my heart and set me free\\nYou've grown cold and no longer care for me\\nAll my faith in you is gone but the heartaches linger on\\nTake these chains from my heart and set me free\"], [\"I went into a home one day just to see some friends of mine\\nOf all their books and magazines, not a Bible could I find\\nI asked them for the Bible when they brought it, what a shame\\nFor the dust was covered o'er it, not a fingerprint was plain\\n\\nDust on the Bible, dust on the Holy Word\\nThe words of all the prophets and the sayings of our Lord\\nOf all the other books you'll find, there's none salvation holds\\nGet the dust off the Bible and redeem your poor soul\\n\\nOh, you can read your magazines of love and tragic things\\nBut not one word of Bible verse, not a scripture do you know\\nWhen it is the very truth and it's contents good for you\\nBut it's dust is covered o'er it\\nAnd it's sure to doom your poor soul\\n\\nDust on the Bible, dust on the Holy Word\\nThe word of all the prophets, and the sayings of our Lord\\nOf all the other books you'll find, there's none salvation holds\\nGet the dust off the Bible and redeem your poor soul\\n\\nOh, if you have a friend you'd like to help along life's way\\nJust tell him that the Good Book shows a mortal how to pray\\nThe best advice to give him that will make his burdens light\\nIs to dust the family bible trades the wrong way for the right\\n\\nDust on the Bible, dust on the Holy Word\\nThe word of all the prophets, and the sayings of our Lord\\nOf all the other books you'll find, there's none salvation holds\\nGet the dust off the Bible and redeem your poor soul\"], [\"When God dips His pen of love in my heart\\nAnd writes my soul the message He wants me to know\\nHis spirit all divine fills this sinful soul of mine\\nWhen God dips His love in my heart\\n\\nI said I wouldn't tell it to a living soul\\nHow He brought salvation when He made me whole\\nBut I found I couldn't hide\\nSuch love as Jesus did impart\\n\\nIt makes me laugh and it makes me cry\\nSets my sinful soul on fire\\nWhen God dips His love in my heart\\n\\nHe walked every step up Calvary's ragged way\\nAnd He gave His life completely to bring a better day\\nMy life was lost in sinned but in love He took me in\\nHis blood washed all my sins away\\n\\nI said I wouldn't tell it to a living soul\\nHow He brought salvation when He made me whole\\nBut I found I couldn't hide\\nSuch love as Jesus did impart\\n\\nIt makes me laugh and it makes me cry\\nSets my sinful soul on fire\\nWhen God dips His love in my heart\"], [\"I have the invitation that you sent me\\nYou wanted me to see you change your name\\nI couldn't stand to see you wed another\\nBut dear I hope you're happy just the same\\n\\nWedding bells are ringing in the chapel\\nThat should be ringing out for you and me\\nDown the aisle with someone else you're walking\\nThose wedding bell will never ring for me\\n\\nI planned a little cottage in the valley\\nI even bought a little band of gold\\nI thought some day I'd place it on your finger\\nBut now the future looks so dark and cold\\n\\nWedding bells are ringing in the chapel\\nI hear the children laughing out with glee\\nAt home alone I hang my head in sorrow\\nThose wedding bells will never ring for me\\n\\nI fancy that I see a bunch of roses\\nA blossom from an orange tree in your hair\\nAnd while the organ plays I love you truly\\nPlease let me pretend that I am there\\n\\nWedding bells are ringing in the chapel\\nEver since the day you set me free\\nI knew someday that you would wed another\\nBut wedding bells will never ring for me\"], ['A tongue can accuse and carry bad news\\nThe seeds of distrust it will sow\\nBut unless you\\'ve made no mistakes in your life\\nBe careful of stones that you throw\\n\\nA neighbor was passing my garden\\nOne time, she stopped and I knew right away\\nThat it was gossip not flowers she had on her mind\\nAnd this is what I heard my neighbor say\\n\\n\"That bad girl down the street should be run from our midst\\nShe drinks and she talks quite a lot\\nShe knows not to speak to me or my child\"\\nMy neighbor then smiled and I thought\\n\\nA tongue can accuse and carry bad news\\nThe seeds of distrust it will sow\\nBut unless you\\'ve made no mistakes in your life\\nBe careful of stones that you throw\\n\\nA car speeded by and the screaming of brakes\\nA sound that made my blood chill\\nFor my neighbor\\'s one child had been pulled from the path\\nAnd saved by a girl lying still\\n\\nThe child was unhurt and my neighbor cried out\\n\"Oh who was that brave girl so sweet?\"\\nI covered the crushed broken body and sad\\nThe bad girl who lived down the street\\n\\nA tongue can accuse and carry bad news\\nThe seeds of distrust it will sow\\nBut unless you\\'ve made no mistakes in your life\\nBe careful of stones that you throw'], [\"I know there's never been a man in the awful shape I'm in\\nI can't even spell my name, my heads in such a spin\\nTo-day I tried to eat a steak with a big old table-spoon\\nYou got me chasin' Rabbits, walkin' on my hands\\n...And Howlin' At The Moon\\n\\nWell, I took one look at you and it almost drove me mad\\nAnd then I even went and lost what little sense I had\\nNow I can't tell the day from night, I'm crazy as a loon\\nYou got me chasin' Rabbits, pullin' out my hair and Howlin' At The Moon\\n\\nSome friends of mine asked me to go out on a huntin' spree\\nCause there ain't a hound dog in this state that can hold a light to me\\nI eat three bones for dinner today, then tried to tree a 'Coon\\nYou got me chasin' Rabbits, scratchin' fleas and Howlin' At The Moon\\n\\nI rode my horse to town to day and a gas pump we did pass\\nI pulled 'im up and I hollered WHOA!, said fill 'im up with gas\\nThe man picked up a monkey wrench and WHAM!, he changed my tune\\nYou got me chasin' Rabbits, spittin' out teeth and Howlin' At The Moon\\n\\nI never thought in this old world a fool could fall so hard\\nBut honey baby, when I fell the whole world must have jarred\\nI think I'd quit my doggish ways if you'd take me for your groom\\nYou got me chasin Rabbits, pickin' out rings and Howlin' At The Moon\"], [\"The news is out - all over town\\nThat you've been seen - a-runnin' 'round\\nI know that I - should leave, but then\\nI just can't go - you win again\\n\\nThis heart of mine - could never see\\nWhat ev'rybod - y knew but me\\nJust trusting you - was my great sin\\nWhat can I do - you win again\\n\\nI'm sorry for - your victim now\\n'Cause soon his head - like mine will bow\\nHe'll give his heart - but all in vain\\nAnd someday say - you win again\\n\\nYou have no heart - you have no shame\\nYou take true love - and give the blame\\nI guess that I - should not complain\\nI love you still - you win again\"], [\"All day I've faced the barren waste\\nWith out the taste of water... cool, water\\nOle Dan and I, with throats burned dry\\nAnd souls that cry\\nFor water... cool, clear water\\n\\nThe nights are cool and I'm a fool\\nEach star's a pool of water... cool, clear water\\nAnd with the dawn I'll wake and yawn\\nAnd carry on\\nTo water... cool, clear water\\n\\nThe shadows sway and seem to say\\nTonight we pray for water.... cool, clear water\\nAnd way up there He'll hear our prayer\\nAnd show us where\\nThere's water... cool, clear water\\n\\nKeep a-movin' Dan. Don't you listen to him Dan\\nHe's the devil, not a man\\nHe spreads the burnin' sand with water\\nSay Dan can't you see that big green tree\\nWhere the water's runnin' free\\nIt's waiting there for you and me\\nAnd water.... cool, clear water\\n\\nDan's feet are sore he's yearnin' for\\nJust one thing more than water.... cool, clear water\\nLike me I guess he'd like to rest\\nWhere there's no quest\\nFor water... cool, clear water\"], [\"People steal, they cheat and lie\\nFor wealth and what it will buy\\nDon't they know on the judgement day\\nThat their gold and silver will melt away\\n\\nI'd rather be in a deep, dark grave\\nAnd know that my poor soul was saved\\nThan to live in this world in a house of gold\\nAnd deny my God and doon my soul\\n\\nJesus said ,come on to me\\nI'll break sin's chains and set you free\\nI´ll carry you to a home on high\\nWhere you´ll never, never die\\n\\nWhat good is gold and silver, too\\nWhen your heart's not good and true\\nSinner hear me when I say\\nFall down on your knees and pray\\n\\nJesus died there on the cross\\nSo this world would not be lost\\nSinner hear now what I say\\nFor someday you ´ll have to pay\\n\\nWhat good is gold and silver too\\nIf your heart's not good and true\\nSinner, hear me when I say\\nFall down on your knees and pray\"]]\n"
          ],
          "name": "stdout"
        }
      ]
    },
    {
      "cell_type": "code",
      "metadata": {
        "id": "KTEmKadzYM8W",
        "colab_type": "code",
        "colab": {}
      },
      "source": [
        "# Creating a dataframe object from list\n",
        "dfLyrics = pd.DataFrame(lyrics)"
      ],
      "execution_count": 0,
      "outputs": []
    },
    {
      "cell_type": "code",
      "metadata": {
        "id": "QihXRaH-Od7B",
        "colab_type": "code",
        "outputId": "10a9dd9b-48c0-4625-c7a9-c7d736f6419d",
        "colab": {
          "base_uri": "https://localhost:8080/",
          "height": 202
        }
      },
      "source": [
        "dfLyrics.head()"
      ],
      "execution_count": 0,
      "outputs": [
        {
          "output_type": "execute_result",
          "data": {
            "text/plain": [
              "                                                   0\n",
              "0  [Verse 1]\\nIf the wife and I are fussin', brot...\n",
              "1  I can settle down and be doin' just fine\\nTil'...\n",
              "2  On that resurrection morning\\nWhen all dead in...\n",
              "3  There's a place near to me, where I'm longing ...\n",
              "4  [Chorus]\\nI got a feeling called the blues, oh..."
            ],
            "text/html": [
              "<div>\n",
              "<style scoped>\n",
              "    .dataframe tbody tr th:only-of-type {\n",
              "        vertical-align: middle;\n",
              "    }\n",
              "\n",
              "    .dataframe tbody tr th {\n",
              "        vertical-align: top;\n",
              "    }\n",
              "\n",
              "    .dataframe thead th {\n",
              "        text-align: right;\n",
              "    }\n",
              "</style>\n",
              "<table border=\"1\" class=\"dataframe\">\n",
              "  <thead>\n",
              "    <tr style=\"text-align: right;\">\n",
              "      <th></th>\n",
              "      <th>0</th>\n",
              "    </tr>\n",
              "  </thead>\n",
              "  <tbody>\n",
              "    <tr>\n",
              "      <td>0</td>\n",
              "      <td>[Verse 1]\\nIf the wife and I are fussin', brot...</td>\n",
              "    </tr>\n",
              "    <tr>\n",
              "      <td>1</td>\n",
              "      <td>I can settle down and be doin' just fine\\nTil'...</td>\n",
              "    </tr>\n",
              "    <tr>\n",
              "      <td>2</td>\n",
              "      <td>On that resurrection morning\\nWhen all dead in...</td>\n",
              "    </tr>\n",
              "    <tr>\n",
              "      <td>3</td>\n",
              "      <td>There's a place near to me, where I'm longing ...</td>\n",
              "    </tr>\n",
              "    <tr>\n",
              "      <td>4</td>\n",
              "      <td>[Chorus]\\nI got a feeling called the blues, oh...</td>\n",
              "    </tr>\n",
              "  </tbody>\n",
              "</table>\n",
              "</div>"
            ]
          },
          "metadata": {
            "tags": []
          },
          "execution_count": 17
        }
      ]
    },
    {
      "cell_type": "code",
      "metadata": {
        "id": "zeZhfRosuRzq",
        "colab_type": "code",
        "colab": {}
      },
      "source": [
        "dfLyrics.to_csv(r'/Users/johnfields/hank.txt', header=None, index=None, sep=' ', mode='a')"
      ],
      "execution_count": 0,
      "outputs": []
    },
    {
      "cell_type": "code",
      "metadata": {
        "id": "BgFa61T95l1R",
        "colab_type": "code",
        "colab": {}
      },
      "source": [
        ""
      ],
      "execution_count": 0,
      "outputs": []
    },
    {
      "cell_type": "code",
      "metadata": {
        "id": "e6haFwBtuUkr",
        "colab_type": "code",
        "colab": {}
      },
      "source": [
        ""
      ],
      "execution_count": 0,
      "outputs": []
    },
    {
      "cell_type": "code",
      "metadata": {
        "id": "yYt6piEaub1-",
        "colab_type": "code",
        "colab": {}
      },
      "source": [
        ""
      ],
      "execution_count": 0,
      "outputs": []
    },
    {
      "cell_type": "code",
      "metadata": {
        "id": "Pk2Jjz-XueiE",
        "colab_type": "code",
        "colab": {}
      },
      "source": [
        ""
      ],
      "execution_count": 0,
      "outputs": []
    }
  ]
}