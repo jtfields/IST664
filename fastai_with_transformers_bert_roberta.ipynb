{
  "nbformat": 4,
  "nbformat_minor": 0,
  "metadata": {
    "kernelspec": {
      "name": "python3",
      "display_name": "Python 3"
    },
    "language_info": {
      "codemirror_mode": {
        "name": "ipython",
        "version": 3
      },
      "file_extension": ".py",
      "mimetype": "text/x-python",
      "name": "python",
      "nbconvert_exporter": "python",
      "pygments_lexer": "ipython3",
      "version": "3.6.6"
    },
    "colab": {
      "name": "fastai-with-transformers-bert-roberta.ipynb",
      "provenance": [],
      "collapsed_sections": []
    },
    "accelerator": "GPU"
  },
  "cells": [
    {
      "cell_type": "markdown",
      "metadata": {
        "id": "e9qWBUWhldMm",
        "colab_type": "text"
      },
      "source": [
        "# Fastai with HuggingFace 🤗Transformers (BERT, RoBERTa, XLNet, XLM, DistilBERT)\n",
        "\n",
        "![fastai + Transformers](https://i.ibb.co/qspmrcm/fastai-transformers-1.png)"
      ]
    },
    {
      "cell_type": "markdown",
      "metadata": {
        "id": "jHC7je2UldMp",
        "colab_type": "text"
      },
      "source": [
        "N.B. This implementation is a suplement of the Medium article [\"Fastai with 🤗Transformers (BERT, RoBERTa, XLNet, XLM, DistilBERT)\"](https://medium.com/p/fastai-with-transformers-bert-roberta-xlnet-xlm-distilbert-4f41ee18ecb2?source=email-29c8f5cf1dc4--writer.postDistributed&sk=119c3e5d748b2827af3ea863faae6376).\n",
        "\n",
        "**Also, remember the upvote button is next to the fork button, and it's free too!** 😉"
      ]
    },
    {
      "cell_type": "markdown",
      "metadata": {
        "id": "hZQzYHwJldMp",
        "colab_type": "text"
      },
      "source": [
        "## Introduction : Story of transfer learning in NLP\n",
        "In early 2018, Jeremy Howard (co-founder of fast.ai) and Sebastian Ruder introduced the  [Universal Language Model Fine-tuning for Text Classification](https://medium.com/r/?url=https%3A%2F%2Farxiv.org%2Fpdf%2F1801.06146.pdf) (ULMFiT) method. ULMFiT was the first **Transfer Learning** method applied to NLP. As a result, besides significantly outperforming many state-of-the-art tasks, it allowed, with only 100 labeled examples, to match performances equivalent to models trained on 100×  more data.\n",
        "\n",
        "The first time I heard about ULMFiT was during a [fast.ai course](https://course.fast.ai/videos/?lesson=4) given by Jeremy Howard. He demonstrated how it was easy  -  thanks to the ``fastai`` library  -  to implement the complete ULMFit method with only a few lines of codes. In his demo, he used an AWD-LSTM neural network pre-trained on Wikitext-103 and get rapidly state-of-the-art results. He also explained key techniques - also demonstrated in ULMFiT - to fine-tune the models like **Discriminate Learning Rate**, **Gradual Unfreezing** or **Slanted Triangular Learning Rates**.\n",
        "\n",
        "Since the introduction of ULMFiT, **Transfer Learning** became very popular in NLP and yet Google (BERT, Transformer-XL, XLNet), Facebook (RoBERTa, XLM) or even OpenAI (GPT, GPT-2) begin to pre-train their own model on very large corpora. This time, instead of using the AWD-LSTM neural network, they all used a more powerful architecture based on the Transformer (cf. [Attention is all you need](https://arxiv.org/abs/1706.03762)).\n",
        "\n",
        "Although these models are powerful, ``fastai`` do not integrate all of them. Fortunately, [HuggingFace](https://huggingface.co/) 🤗 created the well know [transformers library](https://github.com/huggingface/transformers). Formerly knew as ``pytorch-transformers`` or ``pytorch-pretrained-bert``, this library brings together over 40 state-of-the-art pre-trained NLP models (BERT, GPT-2, RoBERTa, CTRL…). The implementation gives interesting additional utilities like tokenizer, optimizer or scheduler.\n",
        "\n",
        "The ``transformers`` library can be self-sufficient but incorporating it within the ``fastai`` library provides simpler implementation compatible with powerful fastai tools like  **Discriminate Learning Rate**, **Gradual Unfreezing** or **Slanted Triangular Learning Rates**. The point here is to allow non-NLP-experts to get easily state-of-the-art results and therefore \"make NLP uncool again\".\n",
        "\n",
        "It worth noting that the integration of the HuggingFace ``transformers`` library in ``fastai`` has already been demonstrated in:\n",
        "* Keita Kurita's article [A Tutorial to Fine-Tuning BERT with Fast AI](https://mlexplained.com/2019/05/13/a-tutorial-to-fine-tuning-bert-with-fast-ai/) which makes ``pytorch_pretrained_bert`` library compatible with ``fastai``.\n",
        "* Dev Sharma's article [Using RoBERTa with Fastai for NLP](https://medium.com/analytics-vidhya/using-roberta-with-fastai-for-nlp-7ed3fed21f6c) which makes ``pytorch_transformers`` library compatible with ``fastai``.\n",
        "\n",
        "Although these articles are of high quality, note that their demonstration is not compatible anymore with the last version of ``transformers``.\n"
      ]
    },
    {
      "cell_type": "markdown",
      "metadata": {
        "id": "hzMlNsW2ldMq",
        "colab_type": "text"
      },
      "source": [
        "## 🛠 Integrating transformers with fastai for multiclass classification\n",
        "Before beginning the implementation, note that integrating ``transformers`` within ``fastai`` can be done in multiple different ways. For that reason, I decided to bring simple solutions, that are the most generic and flexible. More precisely, I try to make the minimum of modification in both libraries while making them compatible with the maximum amount of transformer architectures.\n",
        "\n",
        "Note that in addition to this NoteBook and the [Medium article](https://medium.com/p/fastai-with-transformers-bert-roberta-xlnet-xlm-distilbert-4f41ee18ecb2?source=email-29c8f5cf1dc4--writer.postDistributed&sk=119c3e5d748b2827af3ea863faae6376), I made another version available on my GitHub(TODO add link)."
      ]
    },
    {
      "cell_type": "markdown",
      "metadata": {
        "id": "_pQtpOG_ldMr",
        "colab_type": "text"
      },
      "source": [
        "### Libraries Installation\n",
        "Before starting the implementation, you will need to install the ``fastai`` and ``transformers`` libraries. To do so, just follow the instructions [here](https://github.com/fastai/fastai/blob/master/README.md#installation) and [here](https://github.com/huggingface/transformers#installation).\n",
        "\n",
        "In Kaggle, the ``fastai`` library is already installed. So you just have to instal ``transformers`` with :"
      ]
    },
    {
      "cell_type": "code",
      "metadata": {
        "id": "Kf3s4AVlldMs",
        "colab_type": "code",
        "outputId": "02acb33d-0467-4056-920e-e89e4396fb19",
        "colab": {
          "base_uri": "https://localhost:8080/",
          "height": 384
        }
      },
      "source": [
        "%%bash\n",
        "pip install transformers"
      ],
      "execution_count": 59,
      "outputs": [
        {
          "output_type": "stream",
          "text": [
            "Requirement already satisfied: transformers in /usr/local/lib/python3.6/dist-packages (2.2.1)\n",
            "Requirement already satisfied: numpy in /usr/local/lib/python3.6/dist-packages (from transformers) (1.17.4)\n",
            "Requirement already satisfied: tqdm in /usr/local/lib/python3.6/dist-packages (from transformers) (4.28.1)\n",
            "Requirement already satisfied: regex in /usr/local/lib/python3.6/dist-packages (from transformers) (2019.11.1)\n",
            "Requirement already satisfied: sentencepiece in /usr/local/lib/python3.6/dist-packages (from transformers) (0.1.83)\n",
            "Requirement already satisfied: requests in /usr/local/lib/python3.6/dist-packages (from transformers) (2.21.0)\n",
            "Requirement already satisfied: sacremoses in /usr/local/lib/python3.6/dist-packages (from transformers) (0.0.35)\n",
            "Requirement already satisfied: boto3 in /usr/local/lib/python3.6/dist-packages (from transformers) (1.10.18)\n",
            "Requirement already satisfied: idna<2.9,>=2.5 in /usr/local/lib/python3.6/dist-packages (from requests->transformers) (2.8)\n",
            "Requirement already satisfied: certifi>=2017.4.17 in /usr/local/lib/python3.6/dist-packages (from requests->transformers) (2019.9.11)\n",
            "Requirement already satisfied: urllib3<1.25,>=1.21.1 in /usr/local/lib/python3.6/dist-packages (from requests->transformers) (1.24.3)\n",
            "Requirement already satisfied: chardet<3.1.0,>=3.0.2 in /usr/local/lib/python3.6/dist-packages (from requests->transformers) (3.0.4)\n",
            "Requirement already satisfied: six in /usr/local/lib/python3.6/dist-packages (from sacremoses->transformers) (1.12.0)\n",
            "Requirement already satisfied: click in /usr/local/lib/python3.6/dist-packages (from sacremoses->transformers) (7.0)\n",
            "Requirement already satisfied: joblib in /usr/local/lib/python3.6/dist-packages (from sacremoses->transformers) (0.14.0)\n",
            "Requirement already satisfied: botocore<1.14.0,>=1.13.18 in /usr/local/lib/python3.6/dist-packages (from boto3->transformers) (1.13.18)\n",
            "Requirement already satisfied: jmespath<1.0.0,>=0.7.1 in /usr/local/lib/python3.6/dist-packages (from boto3->transformers) (0.9.4)\n",
            "Requirement already satisfied: s3transfer<0.3.0,>=0.2.0 in /usr/local/lib/python3.6/dist-packages (from boto3->transformers) (0.2.1)\n",
            "Requirement already satisfied: docutils<0.16,>=0.10 in /usr/local/lib/python3.6/dist-packages (from botocore<1.14.0,>=1.13.18->boto3->transformers) (0.15.2)\n",
            "Requirement already satisfied: python-dateutil<2.8.1,>=2.1; python_version >= \"2.7\" in /usr/local/lib/python3.6/dist-packages (from botocore<1.14.0,>=1.13.18->boto3->transformers) (2.6.1)\n"
          ],
          "name": "stdout"
        }
      ]
    },
    {
      "cell_type": "code",
      "metadata": {
        "_cell_guid": "b1076dfc-b9ad-4769-8c92-a6c4dae69d19",
        "_uuid": "8f2839f25d086af736a60e9eeb907d3b93b6e0e5",
        "id": "t_F_Ca2KldMw",
        "colab_type": "code",
        "colab": {}
      },
      "source": [
        "import numpy as np # linear algebra\n",
        "import pandas as pd # data processing, CSV file I/O (e.g. pd.read_csv)\n",
        "from pathlib import Path \n",
        "\n",
        "import os\n",
        "\n",
        "import torch\n",
        "import torch.optim as optim\n",
        "\n",
        "import random \n",
        "\n",
        "# fastai\n",
        "from fastai import *\n",
        "from fastai.text import *\n",
        "from fastai.callbacks import *\n",
        "\n",
        "# transformers\n",
        "from transformers import PreTrainedModel, PreTrainedTokenizer, PretrainedConfig\n",
        "\n",
        "from transformers import BertForSequenceClassification, BertTokenizer, BertConfig\n",
        "from transformers import RobertaForSequenceClassification, RobertaTokenizer, RobertaConfig\n",
        "from transformers import XLNetForSequenceClassification, XLNetTokenizer, XLNetConfig\n",
        "from transformers import XLMForSequenceClassification, XLMTokenizer, XLMConfig\n",
        "from transformers import DistilBertForSequenceClassification, DistilBertTokenizer, DistilBertConfig"
      ],
      "execution_count": 0,
      "outputs": []
    },
    {
      "cell_type": "markdown",
      "metadata": {
        "id": "a68EXVO3ldMy",
        "colab_type": "text"
      },
      "source": [
        "The current versions of the fastai and transformers libraries are respectively 1.0.58 and 2.1.1."
      ]
    },
    {
      "cell_type": "code",
      "metadata": {
        "id": "n8bFy0dildMy",
        "colab_type": "code",
        "outputId": "c681a356-ca37-4141-b1ec-5e342061d8a8",
        "colab": {
          "base_uri": "https://localhost:8080/",
          "height": 52
        }
      },
      "source": [
        "import fastai\n",
        "import transformers\n",
        "print('fastai version :', fastai.__version__)\n",
        "print('transformers version :', transformers.__version__)"
      ],
      "execution_count": 61,
      "outputs": [
        {
          "output_type": "stream",
          "text": [
            "fastai version : 1.0.59\n",
            "transformers version : 2.2.1\n"
          ],
          "name": "stdout"
        }
      ]
    },
    {
      "cell_type": "markdown",
      "metadata": {
        "id": "ziSE2-OyldM0",
        "colab_type": "text"
      },
      "source": [
        "### 🎬 The example task\n",
        "The chosen task is a multi-class text classification on [Movie Reviews](https://www.kaggle.com/c/sentiment-analysis-on-movie-reviews/overview).\n",
        "\n",
        "For each text movie review, the model has to predict a label for the sentiment. We evaluate the outputs of the model on classification accuracy. The sentiment labels are:\n",
        "* 0 → Negative\n",
        "* 1 → Somewhat negative\n",
        "* 2 → Neutral\n",
        "* 3 → Somewhat positive\n",
        "* 4 → Positive\n",
        "\n",
        "The data is loaded into a ``DataFrame`` using ``pandas``."
      ]
    },
    {
      "cell_type": "code",
      "metadata": {
        "_cell_guid": "79c7e3d0-c299-4dcb-8224-4455121ee9b0",
        "_uuid": "d629ff2d2480ee46fbb7e2d37f6b5fab8052498a",
        "id": "G1rDrWu9ldM1",
        "colab_type": "code",
        "outputId": "d64e5170-0b0d-422f-fbec-45269717addb",
        "colab": {
          "base_uri": "https://localhost:8080/",
          "height": 219
        }
      },
      "source": [
        "#DATA_ROOT = Path(\"/content/\") / \"input/sentiment-analysis-on-movie-reviews\"\n",
        "train = pd.read_csv(\"/content/train.tsv\", sep=\"\\t\")\n",
        "test = pd.read_csv(\"/content/test.tsv\", sep=\"\\t\")\n",
        "print(train.shape,test.shape)\n",
        "train.head()"
      ],
      "execution_count": 62,
      "outputs": [
        {
          "output_type": "stream",
          "text": [
            "(156060, 4) (66292, 3)\n"
          ],
          "name": "stdout"
        },
        {
          "output_type": "execute_result",
          "data": {
            "text/html": [
              "<div>\n",
              "<style scoped>\n",
              "    .dataframe tbody tr th:only-of-type {\n",
              "        vertical-align: middle;\n",
              "    }\n",
              "\n",
              "    .dataframe tbody tr th {\n",
              "        vertical-align: top;\n",
              "    }\n",
              "\n",
              "    .dataframe thead th {\n",
              "        text-align: right;\n",
              "    }\n",
              "</style>\n",
              "<table border=\"1\" class=\"dataframe\">\n",
              "  <thead>\n",
              "    <tr style=\"text-align: right;\">\n",
              "      <th></th>\n",
              "      <th>PhraseId</th>\n",
              "      <th>SentenceId</th>\n",
              "      <th>Phrase</th>\n",
              "      <th>Sentiment</th>\n",
              "    </tr>\n",
              "  </thead>\n",
              "  <tbody>\n",
              "    <tr>\n",
              "      <th>0</th>\n",
              "      <td>1</td>\n",
              "      <td>1</td>\n",
              "      <td>A series of escapades demonstrating the adage ...</td>\n",
              "      <td>1</td>\n",
              "    </tr>\n",
              "    <tr>\n",
              "      <th>1</th>\n",
              "      <td>2</td>\n",
              "      <td>1</td>\n",
              "      <td>A series of escapades demonstrating the adage ...</td>\n",
              "      <td>2</td>\n",
              "    </tr>\n",
              "    <tr>\n",
              "      <th>2</th>\n",
              "      <td>3</td>\n",
              "      <td>1</td>\n",
              "      <td>A series</td>\n",
              "      <td>2</td>\n",
              "    </tr>\n",
              "    <tr>\n",
              "      <th>3</th>\n",
              "      <td>4</td>\n",
              "      <td>1</td>\n",
              "      <td>A</td>\n",
              "      <td>2</td>\n",
              "    </tr>\n",
              "    <tr>\n",
              "      <th>4</th>\n",
              "      <td>5</td>\n",
              "      <td>1</td>\n",
              "      <td>series</td>\n",
              "      <td>2</td>\n",
              "    </tr>\n",
              "  </tbody>\n",
              "</table>\n",
              "</div>"
            ],
            "text/plain": [
              "   PhraseId  ...  Sentiment\n",
              "0         1  ...          1\n",
              "1         2  ...          2\n",
              "2         3  ...          2\n",
              "3         4  ...          2\n",
              "4         5  ...          2\n",
              "\n",
              "[5 rows x 4 columns]"
            ]
          },
          "metadata": {
            "tags": []
          },
          "execution_count": 62
        }
      ]
    },
    {
      "cell_type": "markdown",
      "metadata": {
        "id": "creyQVXIldM3",
        "colab_type": "text"
      },
      "source": [
        "It is worth noting that in the dataset there are no individual movie reviews but rather phrases taken out of context and split into smaller parts, each with an assigned sentiment label."
      ]
    },
    {
      "cell_type": "markdown",
      "metadata": {
        "id": "ptJKuS5HldM4",
        "colab_type": "text"
      },
      "source": [
        "### Main transformers classes\n",
        "In ``transformers``, each model architecture is associated with 3 main types of classes:\n",
        "* A **model class** to load/store a particular pre-train model.\n",
        "* A **tokenizer class** to pre-process the data and make it compatible with a particular model.\n",
        "* A **configuration class** to load/store the configuration of a particular model.\n",
        "\n",
        "For example, if you want to use the Bert architecture for text classification, you would use [``BertForSequenceClassification``](https://huggingface.co/transformers/model_doc/bert.html#bertforsequenceclassification) for the **model class**, [``BertTokenizer``](https://huggingface.co/transformers/model_doc/bert.html#berttokenizer) for the **tokenizer class** and [``BertConfig``](https://huggingface.co/transformers/model_doc/bert.html#bertconfig) for the **configuration class**. \n",
        "\n",
        "In order to switch easily between classes  -  each related to a specific model type  -  I created a dictionary that allows loading the correct classes by just specifying the correct model type name."
      ]
    },
    {
      "cell_type": "code",
      "metadata": {
        "id": "XuBZckI0ldM4",
        "colab_type": "code",
        "colab": {}
      },
      "source": [
        "MODEL_CLASSES = {\n",
        "    'bert': (BertForSequenceClassification, BertTokenizer, BertConfig),\n",
        "    'xlnet': (XLNetForSequenceClassification, XLNetTokenizer, XLNetConfig),\n",
        "    'xlm': (XLMForSequenceClassification, XLMTokenizer, XLMConfig),\n",
        "    'roberta': (RobertaForSequenceClassification, RobertaTokenizer, RobertaConfig),\n",
        "    'distilbert': (DistilBertForSequenceClassification, DistilBertTokenizer, DistilBertConfig)\n",
        "}"
      ],
      "execution_count": 0,
      "outputs": []
    },
    {
      "cell_type": "markdown",
      "metadata": {
        "id": "2b6Euyx9ldM6",
        "colab_type": "text"
      },
      "source": [
        "You will see later, that those classes share a common class method ``from_pretrained(pretrained_model_name, ...)``. In our case, the parameter ``pretrained_model_name`` is a string with the shortcut name of a pre-trained model/tokenizer/configuration to load, e.g ``'bert-base-uncased'``. We can find all the shortcut names in the transformers documentation [here](https://huggingface.co/transformers/pretrained_models.html#pretrained-models)."
      ]
    },
    {
      "cell_type": "code",
      "metadata": {
        "id": "8-NVzNwoldM7",
        "colab_type": "code",
        "colab": {}
      },
      "source": [
        "# Parameters\n",
        "seed = 42\n",
        "use_fp16 = False\n",
        "bs = 16\n",
        "\n",
        "model_type = 'roberta'\n",
        "pretrained_model_name = 'roberta-base' # 'roberta-base-openai-detector'\n",
        "\n",
        "# model_type = 'bert'\n",
        "# pretrained_model_name='bert-base-uncased'\n",
        "\n",
        "# model_type = 'distilbert'\n",
        "# pretrained_model_name = 'distilbert-base-uncased-distilled-squad'#'distilbert-base-uncased'#'distilbert-base-uncased'\n",
        "\n",
        "#model_type = 'xlm'\n",
        "#pretrained_model_name = 'xlm-clm-enfr-1024'\n",
        "\n",
        "#model_type = 'xlnet'\n",
        "#pretrained_model_name = 'xlnet-base-cased'"
      ],
      "execution_count": 0,
      "outputs": []
    },
    {
      "cell_type": "code",
      "metadata": {
        "id": "QoSCPGRbldM9",
        "colab_type": "code",
        "colab": {}
      },
      "source": [
        "model_class, tokenizer_class, config_class = MODEL_CLASSES[model_type]"
      ],
      "execution_count": 0,
      "outputs": []
    },
    {
      "cell_type": "code",
      "metadata": {
        "id": "DVuB787JldM-",
        "colab_type": "code",
        "outputId": "b42db868-8f2b-4a83-d4a3-b5086b76d019",
        "colab": {
          "base_uri": "https://localhost:8080/",
          "height": 55
        }
      },
      "source": [
        "model_class.pretrained_model_archive_map.keys()"
      ],
      "execution_count": 66,
      "outputs": [
        {
          "output_type": "execute_result",
          "data": {
            "text/plain": [
              "dict_keys(['roberta-base', 'roberta-large', 'roberta-large-mnli', 'distilroberta-base', 'roberta-base-openai-detector', 'roberta-large-openai-detector'])"
            ]
          },
          "metadata": {
            "tags": []
          },
          "execution_count": 66
        }
      ]
    },
    {
      "cell_type": "markdown",
      "metadata": {
        "id": "zaxGyIP7ldNB",
        "colab_type": "text"
      },
      "source": [
        "It is worth noting that in this case, we use the ``transformers`` library only for a multi-class text classification task. For that reason, this tutorial integrates only the transformer architectures that have a model for sequence classification implemented. These model types are :\n",
        "* BERT (from Google)\n",
        "* XLNet (from Google/CMU)\n",
        "* XLM (from Facebook)\n",
        "* RoBERTa (from Facebook)\n",
        "* DistilBERT (from HuggingFace)\n",
        "\n",
        "However, if you want to go further - by implementing another type of model or NLP task - this tutorial still an excellent starter."
      ]
    },
    {
      "cell_type": "markdown",
      "metadata": {
        "id": "5dqprtoxldNB",
        "colab_type": "text"
      },
      "source": [
        "### Util function"
      ]
    },
    {
      "cell_type": "markdown",
      "metadata": {
        "id": "b9wLAjDxldNC",
        "colab_type": "text"
      },
      "source": [
        "Function to set the seed for generating random numbers."
      ]
    },
    {
      "cell_type": "code",
      "metadata": {
        "id": "qPY6c8kcldNC",
        "colab_type": "code",
        "colab": {}
      },
      "source": [
        "def seed_all(seed_value):\n",
        "    random.seed(seed_value) # Python\n",
        "    np.random.seed(seed_value) # cpu vars\n",
        "    torch.manual_seed(seed_value) # cpu  vars\n",
        "    \n",
        "    if torch.cuda.is_available(): \n",
        "        torch.cuda.manual_seed(seed_value)\n",
        "        torch.cuda.manual_seed_all(seed_value) # gpu vars\n",
        "        torch.backends.cudnn.deterministic = True  #needed\n",
        "        torch.backends.cudnn.benchmark = False"
      ],
      "execution_count": 0,
      "outputs": []
    },
    {
      "cell_type": "code",
      "metadata": {
        "id": "LlTKseArldNE",
        "colab_type": "code",
        "colab": {}
      },
      "source": [
        "seed_all(seed)"
      ],
      "execution_count": 0,
      "outputs": []
    },
    {
      "cell_type": "markdown",
      "metadata": {
        "id": "L4k7ZXZgldNG",
        "colab_type": "text"
      },
      "source": [
        "### Data pre-processing\n",
        "\n",
        "To match pre-training, we have to format the model input sequence in a specific format.\n",
        "To do so, you have to first **tokenize** and then **numericalize** the texts correctly.\n",
        "The difficulty here is that each pre-trained model, that we will fine-tune, requires exactly the same specific pre-process - **tokenization** & **numericalization** - than the pre-process used during the pre-train part.\n",
        "Fortunately, the **tokenizer class** from ``transformers`` provides the correct pre-process tools that correspond to each pre-trained model.\n",
        "\n",
        "In the ``fastai`` library, data pre-processing is done automatically during the creation of the ``DataBunch``. \n",
        "As you will see in the ``DataBunch`` implementation, the **tokenizer** and **numericalizer** are passed in the processor argument under the following format :\n",
        "\n",
        "``processor = [TokenizeProcessor(tokenizer=tokenizer,...), NumericalizeProcessor(vocab=vocab,...)]``\n",
        "\n",
        "Let's first analyse how we can integrate the ``transformers`` **tokenizer** within the ``TokenizeProcessor`` function.\n",
        "\n",
        "#### Custom Tokenizer\n",
        "This part can be a little bit confusing because a lot of classes are wrapped in each other and with similar names.\n",
        "To resume, if we look attentively at the ``fastai`` implementation, we notice that :\n",
        "1. The [``TokenizeProcessor`` object](https://docs.fast.ai/text.data.html#TokenizeProcessor) takes as ``tokenizer`` argument a ``Tokenizer`` object.\n",
        "2. The [``Tokenizer`` object](https://docs.fast.ai/text.transform.html#Tokenizer) takes as ``tok_func`` argument a ``BaseTokenizer`` object.\n",
        "3. The [``BaseTokenizer`` object](https://docs.fast.ai/text.transform.html#BaseTokenizer) implement the function ``tokenizer(t:str) → List[str]`` that take a text ``t`` and returns the list of its tokens.\n",
        "\n",
        "Therefore, we can simply create a new class ``TransformersBaseTokenizer`` that inherits from ``BaseTokenizer`` and overwrite a new ``tokenizer`` function.\n"
      ]
    },
    {
      "cell_type": "code",
      "metadata": {
        "id": "EBAxbm1UldNG",
        "colab_type": "code",
        "colab": {}
      },
      "source": [
        "class TransformersBaseTokenizer(BaseTokenizer):\n",
        "    \"\"\"Wrapper around PreTrainedTokenizer to be compatible with fast.ai\"\"\"\n",
        "    def __init__(self, pretrained_tokenizer: PreTrainedTokenizer, model_type = 'bert', **kwargs):\n",
        "        self._pretrained_tokenizer = pretrained_tokenizer\n",
        "        self.max_seq_len = pretrained_tokenizer.max_len\n",
        "        self.model_type = model_type\n",
        "\n",
        "    def __call__(self, *args, **kwargs): \n",
        "        return self\n",
        "\n",
        "    def tokenizer(self, t:str) -> List[str]:\n",
        "        \"\"\"Limits the maximum sequence length and add the spesial tokens\"\"\"\n",
        "        CLS = self._pretrained_tokenizer.cls_token\n",
        "        SEP = self._pretrained_tokenizer.sep_token\n",
        "        if self.model_type in ['roberta']:\n",
        "            tokens = self._pretrained_tokenizer.tokenize(t, add_prefix_space=True)[:self.max_seq_len - 2]\n",
        "        else:\n",
        "            tokens = self._pretrained_tokenizer.tokenize(t)[:self.max_seq_len - 2]\n",
        "        return [CLS] + tokens + [SEP]"
      ],
      "execution_count": 0,
      "outputs": []
    },
    {
      "cell_type": "code",
      "metadata": {
        "id": "hp-TBHMNldNI",
        "colab_type": "code",
        "colab": {}
      },
      "source": [
        "transformer_tokenizer = tokenizer_class.from_pretrained(pretrained_model_name)\n",
        "transformer_base_tokenizer = TransformersBaseTokenizer(pretrained_tokenizer = transformer_tokenizer, model_type = model_type)\n",
        "fastai_tokenizer = Tokenizer(tok_func = transformer_base_tokenizer, pre_rules=[], post_rules=[])"
      ],
      "execution_count": 0,
      "outputs": []
    },
    {
      "cell_type": "code",
      "metadata": {
        "id": "EJtQORD6ldNK",
        "colab_type": "code",
        "outputId": "23193fed-c301-4ef5-ef74-482b032ae106",
        "colab": {
          "base_uri": "https://localhost:8080/",
          "height": 245
        }
      },
      "source": [
        "tokenizer_class.pretrained_vocab_files_map"
      ],
      "execution_count": 71,
      "outputs": [
        {
          "output_type": "execute_result",
          "data": {
            "text/plain": [
              "{'merges_file': {'distilroberta-base': 'https://s3.amazonaws.com/models.huggingface.co/bert/distilroberta-base-merges.txt',\n",
              "  'roberta-base': 'https://s3.amazonaws.com/models.huggingface.co/bert/roberta-base-merges.txt',\n",
              "  'roberta-base-openai-detector': 'https://s3.amazonaws.com/models.huggingface.co/bert/roberta-base-merges.txt',\n",
              "  'roberta-large': 'https://s3.amazonaws.com/models.huggingface.co/bert/roberta-large-merges.txt',\n",
              "  'roberta-large-mnli': 'https://s3.amazonaws.com/models.huggingface.co/bert/roberta-large-mnli-merges.txt',\n",
              "  'roberta-large-openai-detector': 'https://s3.amazonaws.com/models.huggingface.co/bert/roberta-large-merges.txt'},\n",
              " 'vocab_file': {'distilroberta-base': 'https://s3.amazonaws.com/models.huggingface.co/bert/distilroberta-base-vocab.json',\n",
              "  'roberta-base': 'https://s3.amazonaws.com/models.huggingface.co/bert/roberta-base-vocab.json',\n",
              "  'roberta-base-openai-detector': 'https://s3.amazonaws.com/models.huggingface.co/bert/roberta-base-vocab.json',\n",
              "  'roberta-large': 'https://s3.amazonaws.com/models.huggingface.co/bert/roberta-large-vocab.json',\n",
              "  'roberta-large-mnli': 'https://s3.amazonaws.com/models.huggingface.co/bert/roberta-large-mnli-vocab.json',\n",
              "  'roberta-large-openai-detector': 'https://s3.amazonaws.com/models.huggingface.co/bert/roberta-large-vocab.json'}}"
            ]
          },
          "metadata": {
            "tags": []
          },
          "execution_count": 71
        }
      ]
    },
    {
      "cell_type": "markdown",
      "metadata": {
        "id": "byfco-3dldNM",
        "colab_type": "text"
      },
      "source": [
        "In this implementation, be carefull about 3 things :\n",
        "1. As we are not using RNN, we have to limit the sequence length to the model input size.\n",
        "2. Most of the models require special tokens placed at the beginning and end of the sequences.\n",
        "3. Some models like RoBERTa require a space to start the input string. For those models, the encoding methods should be called with ``add_prefix_space`` set to ``True``.\n",
        "\n",
        "Below, you can find the resume of each pre-process requirement for the 5 model types used in this tutorial. You can also find this information on the [HuggingFace documentation](https://huggingface.co/transformers/) in each model section.\n",
        "\n",
        "    bert:    [CLS] + tokens + [SEP] + padding\n",
        "\n",
        "    roberta: [CLS] + prefix_space + tokens + [SEP] + padding\n",
        "\n",
        "    xlm:     [CLS] + tokens + [SEP] + padding\n",
        "\n",
        "    xlnet:   padding + [CLS] + tokens + [SEP]\n",
        "    \n",
        "It is worth noting that we don't add padding in this part of the implementation. \n",
        "As we will see later, ``fastai`` manage it automatically during the creation of the ``DataBunch``."
      ]
    },
    {
      "cell_type": "markdown",
      "metadata": {
        "id": "KbMHSng2ldNM",
        "colab_type": "text"
      },
      "source": [
        "#### Custom Numericalizer\n",
        "\n",
        "In ``fastai``, [``NumericalizeProcessor``  object](https://docs.fast.ai/text.data.html#NumericalizeProcessor) takes as ``vocab`` argument a [``Vocab`` object](https://docs.fast.ai/text.transform.html#Vocab). \n",
        "From this analyse, we suggest two ways to adapt the fastai numericalizer:\n",
        "1. You can, like decribed in the [Dev Sharma's article](https://medium.com/analytics-vidhya/using-roberta-with-fastai-for-nlp-7ed3fed21f6c) (Section *1. Setting Up the Tokenizer*), retreive the list of tokens and create a ``Vocab`` object.\n",
        "2. Create a new class ``TransformersVocab`` that inherits from ``Vocab`` and overwrite ``numericalize`` and ``textify`` functions.\n",
        "\n",
        "Even if the first solution seems to be simpler, ``Transformers`` does not provide, for all models, a straightforward way to retreive his list of tokens. \n",
        "Therefore, I implemented the second solution, which runs for each model type.\n",
        "It consists of using the functions ``convert_tokens_to_ids`` and ``convert_ids_to_tokens`` in respectively ``numericalize`` and ``textify``."
      ]
    },
    {
      "cell_type": "code",
      "metadata": {
        "id": "ZIieullHldNN",
        "colab_type": "code",
        "colab": {}
      },
      "source": [
        "class TransformersVocab(Vocab):\n",
        "    def __init__(self, tokenizer: PreTrainedTokenizer):\n",
        "        super(TransformersVocab, self).__init__(itos = [])\n",
        "        self.tokenizer = tokenizer\n",
        "    \n",
        "    def numericalize(self, t:Collection[str]) -> List[int]:\n",
        "        \"Convert a list of tokens `t` to their ids.\"\n",
        "        return self.tokenizer.convert_tokens_to_ids(t)\n",
        "        #return self.tokenizer.encode(t)\n",
        "\n",
        "    def textify(self, nums:Collection[int], sep=' ') -> List[str]:\n",
        "        \"Convert a list of `nums` to their tokens.\"\n",
        "        nums = np.array(nums).tolist()\n",
        "        return sep.join(self.tokenizer.convert_ids_to_tokens(nums)) if sep is not None else self.tokenizer.convert_ids_to_tokens(nums)"
      ],
      "execution_count": 0,
      "outputs": []
    },
    {
      "cell_type": "markdown",
      "metadata": {
        "id": "0dncZyHbldNO",
        "colab_type": "text"
      },
      "source": [
        "#### Custom processor\n",
        "Now that we have our custom **tokenizer** and **numericalizer**, we can create the custom **processor**. Notice we are passing the ``include_bos = False`` and ``include_eos = False`` options. This is because ``fastai`` adds its own special tokens by default which interferes with the ``[CLS]`` and ``[SEP]`` tokens added by our custom tokenizer."
      ]
    },
    {
      "cell_type": "code",
      "metadata": {
        "id": "JmgcgWTqldNP",
        "colab_type": "code",
        "colab": {}
      },
      "source": [
        "transformer_vocab =  TransformersVocab(tokenizer = transformer_tokenizer)\n",
        "numericalize_processor = NumericalizeProcessor(vocab=transformer_vocab)\n",
        "\n",
        "tokenize_processor = TokenizeProcessor(tokenizer=fastai_tokenizer, include_bos=False, include_eos=False)\n",
        "\n",
        "transformer_processor = [tokenize_processor, numericalize_processor]"
      ],
      "execution_count": 0,
      "outputs": []
    },
    {
      "cell_type": "markdown",
      "metadata": {
        "id": "mX7RV5aMldNR",
        "colab_type": "text"
      },
      "source": [
        "### Setting up the Databunch\n",
        "For the DataBunch creation, you have to pay attention to set the processor argument to our new custom processor ``transformer_processor`` and manage correctly the padding.\n",
        "\n",
        "As mentioned in the HuggingFace documentation, BERT, RoBERTa, XLM, and DistilBERT are models with absolute position embeddings, so it's usually advised to pad the inputs on the right rather than the left. Regarding XLNET, it is a model with relative position embeddings, therefore, you can either pad the inputs on the right or on the left."
      ]
    },
    {
      "cell_type": "code",
      "metadata": {
        "id": "zXua4aF-ldNR",
        "colab_type": "code",
        "colab": {}
      },
      "source": [
        "pad_first = bool(model_type in ['xlnet'])\n",
        "pad_idx = transformer_tokenizer.pad_token_id"
      ],
      "execution_count": 0,
      "outputs": []
    },
    {
      "cell_type": "markdown",
      "metadata": {
        "id": "N1JL5meQldNV",
        "colab_type": "text"
      },
      "source": [
        "There is multible ways to create a DataBunch, in our implementation, we use [the data block API](https://docs.fast.ai/data_block.html#The-data-block-API), which gives more flexibility."
      ]
    },
    {
      "cell_type": "code",
      "metadata": {
        "id": "3hBdX7jNldNV",
        "colab_type": "code",
        "colab": {}
      },
      "source": [
        "databunch = (TextList.from_df(train, cols='Phrase', processor=transformer_processor)\n",
        "             .split_by_rand_pct(0.1,seed=seed)\n",
        "             .label_from_df(cols= 'Sentiment')\n",
        "             .add_test(test)\n",
        "             .databunch(bs=bs, pad_first=pad_first, pad_idx=pad_idx))"
      ],
      "execution_count": 0,
      "outputs": []
    },
    {
      "cell_type": "markdown",
      "metadata": {
        "id": "ViFqI5S1ldNX",
        "colab_type": "text"
      },
      "source": [
        "Check batch and tokenizer :"
      ]
    },
    {
      "cell_type": "code",
      "metadata": {
        "id": "bjaEP9uwldNX",
        "colab_type": "code",
        "outputId": "d59fa5e8-01e1-4d7e-b5e9-d96eef28256e",
        "colab": {
          "base_uri": "https://localhost:8080/",
          "height": 479
        }
      },
      "source": [
        "print('[CLS] token :', transformer_tokenizer.cls_token)\n",
        "print('[SEP] token :', transformer_tokenizer.sep_token)\n",
        "print('[PAD] token :', transformer_tokenizer.pad_token)\n",
        "databunch.show_batch()"
      ],
      "execution_count": 76,
      "outputs": [
        {
          "output_type": "stream",
          "text": [
            "[CLS] token : <s>\n",
            "[SEP] token : </s>\n",
            "[PAD] token : <pad>\n"
          ],
          "name": "stdout"
        },
        {
          "output_type": "display_data",
          "data": {
            "text/html": [
              "<table border=\"1\" class=\"dataframe\">\n",
              "  <thead>\n",
              "    <tr style=\"text-align: right;\">\n",
              "      <th>text</th>\n",
              "      <th>target</th>\n",
              "    </tr>\n",
              "  </thead>\n",
              "  <tbody>\n",
              "    <tr>\n",
              "      <td>&lt;s&gt; Ġ- L RB - ĠCity Ġ- RR B - Ġreminds Ġus Ġhow Ġrealistically Ġnuanced Ġa ĠRobert ĠDe ĠN iro Ġperformance Ġcan Ġbe Ġwhen Ġhe Ġis Ġnot Ġmore Ġluc r atively Ġengaged Ġin Ġthe Ġshameless Ġself - car ic ature Ġof Ġ` ĠAnaly ze ĠThis Ġ' Ġ- L RB - Ġ1999 Ġ- RR B - Ġand Ġ` ĠAnaly ze ĠThat Ġ, Ġ' Ġpromised Ġ- L RB - Ġor Ġthreatened Ġ-</td>\n",
              "      <td>3</td>\n",
              "    </tr>\n",
              "    <tr>\n",
              "      <td>&lt;s&gt; ĠThe Ġreal Ġtriumph s Ġin ĠIg by Ġcome Ġfrom ĠPhilippe Ġ, Ġwho Ġmakes ĠOliver Ġfar Ġmore Ġinteresting Ġthan Ġthe Ġcharacter Ġ' s Ġlines Ġwould Ġsuggest Ġ, Ġand ĠSar andon Ġ, Ġwho Ġcould Ġn 't Ġbe Ġbetter Ġas Ġa Ġcruel Ġbut Ġweird ly Ġlik able ĠWAS P Ġmat ron Ġ. &lt;/s&gt;</td>\n",
              "      <td>3</td>\n",
              "    </tr>\n",
              "    <tr>\n",
              "      <td>&lt;s&gt; ĠParker Ġshould Ġbe Ġcomm ended Ġfor Ġtaking Ġa Ġfresh Ġapproach Ġto Ġfamiliar Ġmaterial Ġ, Ġbut Ġhis Ġdetermination Ġto Ġremain Ġtrue Ġto Ġthe Ġoriginal Ġtext Ġleads Ġhim Ġto Ġadopt Ġa Ġsomewhat Ġman nered Ġtone Ġ... Ġthat Ġultimately Ġdull s Ġthe Ġhuman Ġtragedy Ġat Ġthe Ġstory Ġ' s Ġcore &lt;/s&gt;</td>\n",
              "      <td>2</td>\n",
              "    </tr>\n",
              "    <tr>\n",
              "      <td>&lt;s&gt; ĠIt Ġ' s Ġa Ġlong Ġway Ġfrom ĠOrwell Ġ' s Ġdark Ġ, Ġintelligent Ġwarning Ġcry Ġ- L RB - Ġ1984 Ġ- RR B - Ġto Ġthe Ġempty Ġstud Ġknock about Ġof ĠEqu ilibrium Ġ, Ġand Ġwhat Ġonce Ġwas Ġconviction Ġis Ġnow Ġaffect ation Ġ. &lt;/s&gt;</td>\n",
              "      <td>1</td>\n",
              "    </tr>\n",
              "    <tr>\n",
              "      <td>&lt;s&gt; ĠA Ġdifferent Ġand Ġemotionally Ġreserved Ġtype Ġof Ġsurvival Ġstory Ġ-- Ġa Ġfilm Ġless Ġabout Ġref ract ing Ġall Ġof ĠWorld ĠWar ĠII Ġthrough Ġthe Ġspecific Ġconditions Ġof Ġone Ġman Ġ, Ġand Ġmore Ġabout Ġthat Ġman Ġlost Ġin Ġits Ġmidst Ġ. &lt;/s&gt;</td>\n",
              "      <td>3</td>\n",
              "    </tr>\n",
              "  </tbody>\n",
              "</table>"
            ],
            "text/plain": [
              "<IPython.core.display.HTML object>"
            ]
          },
          "metadata": {
            "tags": []
          }
        }
      ]
    },
    {
      "cell_type": "markdown",
      "metadata": {
        "id": "0tFvN953ldNZ",
        "colab_type": "text"
      },
      "source": [
        "Check batch and numericalizer :"
      ]
    },
    {
      "cell_type": "code",
      "metadata": {
        "id": "WebYH0dnldNZ",
        "colab_type": "code",
        "outputId": "aeb0b029-1afa-419d-8393-dae5a16b78ea",
        "colab": {
          "base_uri": "https://localhost:8080/",
          "height": 208
        }
      },
      "source": [
        "print('[CLS] id :', transformer_tokenizer.cls_token_id)\n",
        "print('[SEP] id :', transformer_tokenizer.sep_token_id)\n",
        "print('[PAD] id :', pad_idx)\n",
        "test_one_batch = databunch.one_batch()[0]\n",
        "print('Batch shape : ',test_one_batch.shape)\n",
        "print(test_one_batch)"
      ],
      "execution_count": 77,
      "outputs": [
        {
          "output_type": "stream",
          "text": [
            "[CLS] id : 0\n",
            "[SEP] id : 2\n",
            "[PAD] id : 1\n",
            "Batch shape :  torch.Size([16, 79])\n",
            "tensor([[    0,   111,   574,  ...,    76,   479,     2],\n",
            "        [    0,    33,     7,  ...,     1,     1,     1],\n",
            "        [    0,   318,    47,  ...,     1,     1,     1],\n",
            "        ...,\n",
            "        [    0,     5,  2156,  ...,     1,     1,     1],\n",
            "        [    0,    33, 30291,  ...,     1,     1,     1],\n",
            "        [    0, 45518, 10730,  ...,     1,     1,     1]])\n"
          ],
          "name": "stdout"
        }
      ]
    },
    {
      "cell_type": "markdown",
      "metadata": {
        "id": "zRZfiHNQldNb",
        "colab_type": "text"
      },
      "source": [
        "### Custom model\n",
        "As mentioned [here](https://github.com/huggingface/transformers#models-always-output-tuples), every model's forward method always outputs a ``tuple`` with various elements depending on the model and the configuration parameters. In our case, we are interested to access only to the logits. \n",
        "One way to access them is to create a custom model."
      ]
    },
    {
      "cell_type": "code",
      "metadata": {
        "id": "ZEeOV4wmldNb",
        "colab_type": "code",
        "colab": {}
      },
      "source": [
        "# defining our model architecture \n",
        "class CustomTransformerModel(nn.Module):\n",
        "    def __init__(self, transformer_model: PreTrainedModel):\n",
        "        super(CustomTransformerModel,self).__init__()\n",
        "        self.transformer = transformer_model\n",
        "        \n",
        "    def forward(self, input_ids, attention_mask=None):\n",
        "        \n",
        "        #attention_mask = (input_ids!=1).type(input_ids.type()) # Test attention_mask for RoBERTa\n",
        "        \n",
        "        logits = self.transformer(input_ids,\n",
        "                                attention_mask = attention_mask)[0]   \n",
        "        return logits"
      ],
      "execution_count": 0,
      "outputs": []
    },
    {
      "cell_type": "markdown",
      "metadata": {
        "id": "kAY2hSruldNc",
        "colab_type": "text"
      },
      "source": [
        "To make our transformers adapted to multiclass classification, before loading the pre-trained model, we need to precise the number of labels. To do so, you can modify the config instance or either modify like in [Keita Kurita's article](https://mlexplained.com/2019/05/13/a-tutorial-to-fine-tuning-bert-with-fast-ai/) (Section: *Initializing the Learner*) the ``num_labels`` argument."
      ]
    },
    {
      "cell_type": "code",
      "metadata": {
        "id": "QXGvsVdQldNd",
        "colab_type": "code",
        "outputId": "b007e5e5-248a-4abe-c4a8-18a1199d8f4b",
        "colab": {
          "base_uri": "https://localhost:8080/",
          "height": 433
        }
      },
      "source": [
        "config = config_class.from_pretrained(pretrained_model_name)\n",
        "config.num_labels = 5\n",
        "config.use_bfloat16 = use_fp16\n",
        "print(config)"
      ],
      "execution_count": 79,
      "outputs": [
        {
          "output_type": "stream",
          "text": [
            "{\n",
            "  \"attention_probs_dropout_prob\": 0.1,\n",
            "  \"finetuning_task\": null,\n",
            "  \"hidden_act\": \"gelu\",\n",
            "  \"hidden_dropout_prob\": 0.1,\n",
            "  \"hidden_size\": 768,\n",
            "  \"initializer_range\": 0.02,\n",
            "  \"intermediate_size\": 3072,\n",
            "  \"is_decoder\": false,\n",
            "  \"layer_norm_eps\": 1e-05,\n",
            "  \"max_position_embeddings\": 514,\n",
            "  \"num_attention_heads\": 12,\n",
            "  \"num_hidden_layers\": 12,\n",
            "  \"num_labels\": 5,\n",
            "  \"output_attentions\": false,\n",
            "  \"output_hidden_states\": false,\n",
            "  \"output_past\": true,\n",
            "  \"pruned_heads\": {},\n",
            "  \"torchscript\": false,\n",
            "  \"type_vocab_size\": 1,\n",
            "  \"use_bfloat16\": false,\n",
            "  \"vocab_size\": 50265\n",
            "}\n",
            "\n"
          ],
          "name": "stdout"
        }
      ]
    },
    {
      "cell_type": "code",
      "metadata": {
        "id": "5yL4wCCpldNe",
        "colab_type": "code",
        "colab": {}
      },
      "source": [
        "transformer_model = model_class.from_pretrained(pretrained_model_name, config = config)\n",
        "# transformer_model = model_class.from_pretrained(pretrained_model_name, num_labels = 5)\n",
        "\n",
        "custom_transformer_model = CustomTransformerModel(transformer_model = transformer_model)"
      ],
      "execution_count": 0,
      "outputs": []
    },
    {
      "cell_type": "markdown",
      "metadata": {
        "id": "oxbOFSDMldNh",
        "colab_type": "text"
      },
      "source": [
        "### Learner : Custom Optimizer / Custom Metric\n",
        "In ``pytorch-transformers``, HuggingFace had implemented two specific optimizers  -  BertAdam and OpenAIAdam  -  that have been replaced by a single AdamW optimizer.\n",
        "This optimizer matches Pytorch Adam optimizer Api, therefore, it becomes straightforward to integrate it within ``fastai``.\n",
        "It is worth noting that for reproducing BertAdam specific behavior, you have to set ``correct_bias = False``.\n"
      ]
    },
    {
      "cell_type": "code",
      "metadata": {
        "id": "Rmi9f2wmldNh",
        "colab_type": "code",
        "colab": {}
      },
      "source": [
        "from fastai.callbacks import *\n",
        "from transformers import AdamW\n",
        "\n",
        "learner = Learner(databunch, \n",
        "                  custom_transformer_model, \n",
        "                  opt_func = lambda input: AdamW(input,correct_bias=False), \n",
        "                  metrics=[accuracy])\n",
        "\n",
        "# Show graph of learner stats and metrics after each epoch.\n",
        "learner.callbacks.append(ShowGraph(learner))\n",
        "\n",
        "# Put learn in FP16 precision mode. --> Seems to not working\n",
        "if use_fp16: learner = learner.to_fp16()"
      ],
      "execution_count": 0,
      "outputs": []
    },
    {
      "cell_type": "markdown",
      "metadata": {
        "id": "Vlesiwb5ldNj",
        "colab_type": "text"
      },
      "source": [
        "### Discriminative Fine-tuning and Gradual unfreezing (Optional)\n",
        "To use **discriminative layer training** and **gradual unfreezing**, ``fastai`` provides one tool that allows to \"split\" the structure model into groups. An instruction to perform that \"split\" is described in the fastai documentation [here](https://docs.fast.ai/basic_train.html#Discriminative-layer-training).\n",
        "\n",
        "Unfortunately,  the model architectures are too different to create a unique generic function that can \"split\" all the model types in a convenient way. Thereby, you will have to implement a custom \"split\" for each different model architecture.\n",
        "\n",
        "For example, if we use the RobBERTa model and that we observe his architecture by making ``print(learner.model)``."
      ]
    },
    {
      "cell_type": "code",
      "metadata": {
        "id": "_BOgl9skldNk",
        "colab_type": "code",
        "outputId": "d66fb6e5-5c3d-48f4-c36e-d23912616fd9",
        "colab": {
          "base_uri": "https://localhost:8080/",
          "height": 1000
        }
      },
      "source": [
        "print(learner.model)"
      ],
      "execution_count": 82,
      "outputs": [
        {
          "output_type": "stream",
          "text": [
            "CustomTransformerModel(\n",
            "  (transformer): RobertaForSequenceClassification(\n",
            "    (roberta): RobertaModel(\n",
            "      (embeddings): RobertaEmbeddings(\n",
            "        (word_embeddings): Embedding(50265, 768, padding_idx=1)\n",
            "        (position_embeddings): Embedding(514, 768, padding_idx=1)\n",
            "        (token_type_embeddings): Embedding(1, 768)\n",
            "        (LayerNorm): LayerNorm((768,), eps=1e-05, elementwise_affine=True)\n",
            "        (dropout): Dropout(p=0.1, inplace=False)\n",
            "      )\n",
            "      (encoder): BertEncoder(\n",
            "        (layer): ModuleList(\n",
            "          (0): BertLayer(\n",
            "            (attention): BertAttention(\n",
            "              (self): BertSelfAttention(\n",
            "                (query): Linear(in_features=768, out_features=768, bias=True)\n",
            "                (key): Linear(in_features=768, out_features=768, bias=True)\n",
            "                (value): Linear(in_features=768, out_features=768, bias=True)\n",
            "                (dropout): Dropout(p=0.1, inplace=False)\n",
            "              )\n",
            "              (output): BertSelfOutput(\n",
            "                (dense): Linear(in_features=768, out_features=768, bias=True)\n",
            "                (LayerNorm): LayerNorm((768,), eps=1e-05, elementwise_affine=True)\n",
            "                (dropout): Dropout(p=0.1, inplace=False)\n",
            "              )\n",
            "            )\n",
            "            (intermediate): BertIntermediate(\n",
            "              (dense): Linear(in_features=768, out_features=3072, bias=True)\n",
            "            )\n",
            "            (output): BertOutput(\n",
            "              (dense): Linear(in_features=3072, out_features=768, bias=True)\n",
            "              (LayerNorm): LayerNorm((768,), eps=1e-05, elementwise_affine=True)\n",
            "              (dropout): Dropout(p=0.1, inplace=False)\n",
            "            )\n",
            "          )\n",
            "          (1): BertLayer(\n",
            "            (attention): BertAttention(\n",
            "              (self): BertSelfAttention(\n",
            "                (query): Linear(in_features=768, out_features=768, bias=True)\n",
            "                (key): Linear(in_features=768, out_features=768, bias=True)\n",
            "                (value): Linear(in_features=768, out_features=768, bias=True)\n",
            "                (dropout): Dropout(p=0.1, inplace=False)\n",
            "              )\n",
            "              (output): BertSelfOutput(\n",
            "                (dense): Linear(in_features=768, out_features=768, bias=True)\n",
            "                (LayerNorm): LayerNorm((768,), eps=1e-05, elementwise_affine=True)\n",
            "                (dropout): Dropout(p=0.1, inplace=False)\n",
            "              )\n",
            "            )\n",
            "            (intermediate): BertIntermediate(\n",
            "              (dense): Linear(in_features=768, out_features=3072, bias=True)\n",
            "            )\n",
            "            (output): BertOutput(\n",
            "              (dense): Linear(in_features=3072, out_features=768, bias=True)\n",
            "              (LayerNorm): LayerNorm((768,), eps=1e-05, elementwise_affine=True)\n",
            "              (dropout): Dropout(p=0.1, inplace=False)\n",
            "            )\n",
            "          )\n",
            "          (2): BertLayer(\n",
            "            (attention): BertAttention(\n",
            "              (self): BertSelfAttention(\n",
            "                (query): Linear(in_features=768, out_features=768, bias=True)\n",
            "                (key): Linear(in_features=768, out_features=768, bias=True)\n",
            "                (value): Linear(in_features=768, out_features=768, bias=True)\n",
            "                (dropout): Dropout(p=0.1, inplace=False)\n",
            "              )\n",
            "              (output): BertSelfOutput(\n",
            "                (dense): Linear(in_features=768, out_features=768, bias=True)\n",
            "                (LayerNorm): LayerNorm((768,), eps=1e-05, elementwise_affine=True)\n",
            "                (dropout): Dropout(p=0.1, inplace=False)\n",
            "              )\n",
            "            )\n",
            "            (intermediate): BertIntermediate(\n",
            "              (dense): Linear(in_features=768, out_features=3072, bias=True)\n",
            "            )\n",
            "            (output): BertOutput(\n",
            "              (dense): Linear(in_features=3072, out_features=768, bias=True)\n",
            "              (LayerNorm): LayerNorm((768,), eps=1e-05, elementwise_affine=True)\n",
            "              (dropout): Dropout(p=0.1, inplace=False)\n",
            "            )\n",
            "          )\n",
            "          (3): BertLayer(\n",
            "            (attention): BertAttention(\n",
            "              (self): BertSelfAttention(\n",
            "                (query): Linear(in_features=768, out_features=768, bias=True)\n",
            "                (key): Linear(in_features=768, out_features=768, bias=True)\n",
            "                (value): Linear(in_features=768, out_features=768, bias=True)\n",
            "                (dropout): Dropout(p=0.1, inplace=False)\n",
            "              )\n",
            "              (output): BertSelfOutput(\n",
            "                (dense): Linear(in_features=768, out_features=768, bias=True)\n",
            "                (LayerNorm): LayerNorm((768,), eps=1e-05, elementwise_affine=True)\n",
            "                (dropout): Dropout(p=0.1, inplace=False)\n",
            "              )\n",
            "            )\n",
            "            (intermediate): BertIntermediate(\n",
            "              (dense): Linear(in_features=768, out_features=3072, bias=True)\n",
            "            )\n",
            "            (output): BertOutput(\n",
            "              (dense): Linear(in_features=3072, out_features=768, bias=True)\n",
            "              (LayerNorm): LayerNorm((768,), eps=1e-05, elementwise_affine=True)\n",
            "              (dropout): Dropout(p=0.1, inplace=False)\n",
            "            )\n",
            "          )\n",
            "          (4): BertLayer(\n",
            "            (attention): BertAttention(\n",
            "              (self): BertSelfAttention(\n",
            "                (query): Linear(in_features=768, out_features=768, bias=True)\n",
            "                (key): Linear(in_features=768, out_features=768, bias=True)\n",
            "                (value): Linear(in_features=768, out_features=768, bias=True)\n",
            "                (dropout): Dropout(p=0.1, inplace=False)\n",
            "              )\n",
            "              (output): BertSelfOutput(\n",
            "                (dense): Linear(in_features=768, out_features=768, bias=True)\n",
            "                (LayerNorm): LayerNorm((768,), eps=1e-05, elementwise_affine=True)\n",
            "                (dropout): Dropout(p=0.1, inplace=False)\n",
            "              )\n",
            "            )\n",
            "            (intermediate): BertIntermediate(\n",
            "              (dense): Linear(in_features=768, out_features=3072, bias=True)\n",
            "            )\n",
            "            (output): BertOutput(\n",
            "              (dense): Linear(in_features=3072, out_features=768, bias=True)\n",
            "              (LayerNorm): LayerNorm((768,), eps=1e-05, elementwise_affine=True)\n",
            "              (dropout): Dropout(p=0.1, inplace=False)\n",
            "            )\n",
            "          )\n",
            "          (5): BertLayer(\n",
            "            (attention): BertAttention(\n",
            "              (self): BertSelfAttention(\n",
            "                (query): Linear(in_features=768, out_features=768, bias=True)\n",
            "                (key): Linear(in_features=768, out_features=768, bias=True)\n",
            "                (value): Linear(in_features=768, out_features=768, bias=True)\n",
            "                (dropout): Dropout(p=0.1, inplace=False)\n",
            "              )\n",
            "              (output): BertSelfOutput(\n",
            "                (dense): Linear(in_features=768, out_features=768, bias=True)\n",
            "                (LayerNorm): LayerNorm((768,), eps=1e-05, elementwise_affine=True)\n",
            "                (dropout): Dropout(p=0.1, inplace=False)\n",
            "              )\n",
            "            )\n",
            "            (intermediate): BertIntermediate(\n",
            "              (dense): Linear(in_features=768, out_features=3072, bias=True)\n",
            "            )\n",
            "            (output): BertOutput(\n",
            "              (dense): Linear(in_features=3072, out_features=768, bias=True)\n",
            "              (LayerNorm): LayerNorm((768,), eps=1e-05, elementwise_affine=True)\n",
            "              (dropout): Dropout(p=0.1, inplace=False)\n",
            "            )\n",
            "          )\n",
            "          (6): BertLayer(\n",
            "            (attention): BertAttention(\n",
            "              (self): BertSelfAttention(\n",
            "                (query): Linear(in_features=768, out_features=768, bias=True)\n",
            "                (key): Linear(in_features=768, out_features=768, bias=True)\n",
            "                (value): Linear(in_features=768, out_features=768, bias=True)\n",
            "                (dropout): Dropout(p=0.1, inplace=False)\n",
            "              )\n",
            "              (output): BertSelfOutput(\n",
            "                (dense): Linear(in_features=768, out_features=768, bias=True)\n",
            "                (LayerNorm): LayerNorm((768,), eps=1e-05, elementwise_affine=True)\n",
            "                (dropout): Dropout(p=0.1, inplace=False)\n",
            "              )\n",
            "            )\n",
            "            (intermediate): BertIntermediate(\n",
            "              (dense): Linear(in_features=768, out_features=3072, bias=True)\n",
            "            )\n",
            "            (output): BertOutput(\n",
            "              (dense): Linear(in_features=3072, out_features=768, bias=True)\n",
            "              (LayerNorm): LayerNorm((768,), eps=1e-05, elementwise_affine=True)\n",
            "              (dropout): Dropout(p=0.1, inplace=False)\n",
            "            )\n",
            "          )\n",
            "          (7): BertLayer(\n",
            "            (attention): BertAttention(\n",
            "              (self): BertSelfAttention(\n",
            "                (query): Linear(in_features=768, out_features=768, bias=True)\n",
            "                (key): Linear(in_features=768, out_features=768, bias=True)\n",
            "                (value): Linear(in_features=768, out_features=768, bias=True)\n",
            "                (dropout): Dropout(p=0.1, inplace=False)\n",
            "              )\n",
            "              (output): BertSelfOutput(\n",
            "                (dense): Linear(in_features=768, out_features=768, bias=True)\n",
            "                (LayerNorm): LayerNorm((768,), eps=1e-05, elementwise_affine=True)\n",
            "                (dropout): Dropout(p=0.1, inplace=False)\n",
            "              )\n",
            "            )\n",
            "            (intermediate): BertIntermediate(\n",
            "              (dense): Linear(in_features=768, out_features=3072, bias=True)\n",
            "            )\n",
            "            (output): BertOutput(\n",
            "              (dense): Linear(in_features=3072, out_features=768, bias=True)\n",
            "              (LayerNorm): LayerNorm((768,), eps=1e-05, elementwise_affine=True)\n",
            "              (dropout): Dropout(p=0.1, inplace=False)\n",
            "            )\n",
            "          )\n",
            "          (8): BertLayer(\n",
            "            (attention): BertAttention(\n",
            "              (self): BertSelfAttention(\n",
            "                (query): Linear(in_features=768, out_features=768, bias=True)\n",
            "                (key): Linear(in_features=768, out_features=768, bias=True)\n",
            "                (value): Linear(in_features=768, out_features=768, bias=True)\n",
            "                (dropout): Dropout(p=0.1, inplace=False)\n",
            "              )\n",
            "              (output): BertSelfOutput(\n",
            "                (dense): Linear(in_features=768, out_features=768, bias=True)\n",
            "                (LayerNorm): LayerNorm((768,), eps=1e-05, elementwise_affine=True)\n",
            "                (dropout): Dropout(p=0.1, inplace=False)\n",
            "              )\n",
            "            )\n",
            "            (intermediate): BertIntermediate(\n",
            "              (dense): Linear(in_features=768, out_features=3072, bias=True)\n",
            "            )\n",
            "            (output): BertOutput(\n",
            "              (dense): Linear(in_features=3072, out_features=768, bias=True)\n",
            "              (LayerNorm): LayerNorm((768,), eps=1e-05, elementwise_affine=True)\n",
            "              (dropout): Dropout(p=0.1, inplace=False)\n",
            "            )\n",
            "          )\n",
            "          (9): BertLayer(\n",
            "            (attention): BertAttention(\n",
            "              (self): BertSelfAttention(\n",
            "                (query): Linear(in_features=768, out_features=768, bias=True)\n",
            "                (key): Linear(in_features=768, out_features=768, bias=True)\n",
            "                (value): Linear(in_features=768, out_features=768, bias=True)\n",
            "                (dropout): Dropout(p=0.1, inplace=False)\n",
            "              )\n",
            "              (output): BertSelfOutput(\n",
            "                (dense): Linear(in_features=768, out_features=768, bias=True)\n",
            "                (LayerNorm): LayerNorm((768,), eps=1e-05, elementwise_affine=True)\n",
            "                (dropout): Dropout(p=0.1, inplace=False)\n",
            "              )\n",
            "            )\n",
            "            (intermediate): BertIntermediate(\n",
            "              (dense): Linear(in_features=768, out_features=3072, bias=True)\n",
            "            )\n",
            "            (output): BertOutput(\n",
            "              (dense): Linear(in_features=3072, out_features=768, bias=True)\n",
            "              (LayerNorm): LayerNorm((768,), eps=1e-05, elementwise_affine=True)\n",
            "              (dropout): Dropout(p=0.1, inplace=False)\n",
            "            )\n",
            "          )\n",
            "          (10): BertLayer(\n",
            "            (attention): BertAttention(\n",
            "              (self): BertSelfAttention(\n",
            "                (query): Linear(in_features=768, out_features=768, bias=True)\n",
            "                (key): Linear(in_features=768, out_features=768, bias=True)\n",
            "                (value): Linear(in_features=768, out_features=768, bias=True)\n",
            "                (dropout): Dropout(p=0.1, inplace=False)\n",
            "              )\n",
            "              (output): BertSelfOutput(\n",
            "                (dense): Linear(in_features=768, out_features=768, bias=True)\n",
            "                (LayerNorm): LayerNorm((768,), eps=1e-05, elementwise_affine=True)\n",
            "                (dropout): Dropout(p=0.1, inplace=False)\n",
            "              )\n",
            "            )\n",
            "            (intermediate): BertIntermediate(\n",
            "              (dense): Linear(in_features=768, out_features=3072, bias=True)\n",
            "            )\n",
            "            (output): BertOutput(\n",
            "              (dense): Linear(in_features=3072, out_features=768, bias=True)\n",
            "              (LayerNorm): LayerNorm((768,), eps=1e-05, elementwise_affine=True)\n",
            "              (dropout): Dropout(p=0.1, inplace=False)\n",
            "            )\n",
            "          )\n",
            "          (11): BertLayer(\n",
            "            (attention): BertAttention(\n",
            "              (self): BertSelfAttention(\n",
            "                (query): Linear(in_features=768, out_features=768, bias=True)\n",
            "                (key): Linear(in_features=768, out_features=768, bias=True)\n",
            "                (value): Linear(in_features=768, out_features=768, bias=True)\n",
            "                (dropout): Dropout(p=0.1, inplace=False)\n",
            "              )\n",
            "              (output): BertSelfOutput(\n",
            "                (dense): Linear(in_features=768, out_features=768, bias=True)\n",
            "                (LayerNorm): LayerNorm((768,), eps=1e-05, elementwise_affine=True)\n",
            "                (dropout): Dropout(p=0.1, inplace=False)\n",
            "              )\n",
            "            )\n",
            "            (intermediate): BertIntermediate(\n",
            "              (dense): Linear(in_features=768, out_features=3072, bias=True)\n",
            "            )\n",
            "            (output): BertOutput(\n",
            "              (dense): Linear(in_features=3072, out_features=768, bias=True)\n",
            "              (LayerNorm): LayerNorm((768,), eps=1e-05, elementwise_affine=True)\n",
            "              (dropout): Dropout(p=0.1, inplace=False)\n",
            "            )\n",
            "          )\n",
            "        )\n",
            "      )\n",
            "      (pooler): BertPooler(\n",
            "        (dense): Linear(in_features=768, out_features=768, bias=True)\n",
            "        (activation): Tanh()\n",
            "      )\n",
            "    )\n",
            "    (classifier): RobertaClassificationHead(\n",
            "      (dense): Linear(in_features=768, out_features=768, bias=True)\n",
            "      (dropout): Dropout(p=0.1, inplace=False)\n",
            "      (out_proj): Linear(in_features=768, out_features=5, bias=True)\n",
            "    )\n",
            "  )\n",
            ")\n"
          ],
          "name": "stdout"
        }
      ]
    },
    {
      "cell_type": "markdown",
      "metadata": {
        "id": "LeBD3nEwldNm",
        "colab_type": "text"
      },
      "source": [
        "We can decide to divide the model in 14 blocks :\n",
        "* 1 Embedding\n",
        "* 12 transformer\n",
        "* 1 classifier\n",
        "\n",
        "In this case, we can split our model in this way :"
      ]
    },
    {
      "cell_type": "code",
      "metadata": {
        "id": "b3_v839ildNn",
        "colab_type": "code",
        "colab": {}
      },
      "source": [
        "# For DistilBERT\n",
        "# list_layers = [learner.model.transformer.distilbert.embeddings,\n",
        "#                learner.model.transformer.distilbert.transformer.layer[0],\n",
        "#                learner.model.transformer.distilbert.transformer.layer[1],\n",
        "#                learner.model.transformer.distilbert.transformer.layer[2],\n",
        "#                learner.model.transformer.distilbert.transformer.layer[3],\n",
        "#                learner.model.transformer.distilbert.transformer.layer[4],\n",
        "#                learner.model.transformer.distilbert.transformer.layer[5],\n",
        "#                learner.model.transformer.pre_classifier]\n",
        "\n",
        "# For roberta-base\n",
        "list_layers = [learner.model.transformer.roberta.embeddings,\n",
        "              learner.model.transformer.roberta.encoder.layer[0],\n",
        "              learner.model.transformer.roberta.encoder.layer[1],\n",
        "              learner.model.transformer.roberta.encoder.layer[2],\n",
        "              learner.model.transformer.roberta.encoder.layer[3],\n",
        "              learner.model.transformer.roberta.encoder.layer[4],\n",
        "              learner.model.transformer.roberta.encoder.layer[5],\n",
        "              learner.model.transformer.roberta.encoder.layer[6],\n",
        "              learner.model.transformer.roberta.encoder.layer[7],\n",
        "              learner.model.transformer.roberta.encoder.layer[8],\n",
        "              learner.model.transformer.roberta.encoder.layer[9],\n",
        "              learner.model.transformer.roberta.encoder.layer[10],\n",
        "              learner.model.transformer.roberta.encoder.layer[11],\n",
        "              learner.model.transformer.roberta.pooler]"
      ],
      "execution_count": 0,
      "outputs": []
    },
    {
      "cell_type": "markdown",
      "metadata": {
        "id": "HafpXhNxldNp",
        "colab_type": "text"
      },
      "source": [
        "Check groups : "
      ]
    },
    {
      "cell_type": "code",
      "metadata": {
        "id": "-WqyN_QJldNp",
        "colab_type": "code",
        "outputId": "acf251df-ca6f-45b6-dc2f-51a47d68f3d7",
        "colab": {
          "base_uri": "https://localhost:8080/",
          "height": 1000
        }
      },
      "source": [
        "learner.split(list_layers)\n",
        "num_groups = len(learner.layer_groups)\n",
        "print('Learner split in',num_groups,'groups')\n",
        "print(learner.layer_groups)\n"
      ],
      "execution_count": 84,
      "outputs": [
        {
          "output_type": "stream",
          "text": [
            "Learner split in 14 groups\n",
            "[Sequential(\n",
            "  (0): Embedding(50265, 768, padding_idx=1)\n",
            "  (1): Embedding(514, 768, padding_idx=1)\n",
            "  (2): Embedding(1, 768)\n",
            "  (3): LayerNorm((768,), eps=1e-05, elementwise_affine=True)\n",
            "  (4): Dropout(p=0.1, inplace=False)\n",
            "), Sequential(\n",
            "  (0): Linear(in_features=768, out_features=768, bias=True)\n",
            "  (1): Linear(in_features=768, out_features=768, bias=True)\n",
            "  (2): Linear(in_features=768, out_features=768, bias=True)\n",
            "  (3): Dropout(p=0.1, inplace=False)\n",
            "  (4): Linear(in_features=768, out_features=768, bias=True)\n",
            "  (5): LayerNorm((768,), eps=1e-05, elementwise_affine=True)\n",
            "  (6): Dropout(p=0.1, inplace=False)\n",
            "  (7): Linear(in_features=768, out_features=3072, bias=True)\n",
            "  (8): Linear(in_features=3072, out_features=768, bias=True)\n",
            "  (9): LayerNorm((768,), eps=1e-05, elementwise_affine=True)\n",
            "  (10): Dropout(p=0.1, inplace=False)\n",
            "), Sequential(\n",
            "  (0): Linear(in_features=768, out_features=768, bias=True)\n",
            "  (1): Linear(in_features=768, out_features=768, bias=True)\n",
            "  (2): Linear(in_features=768, out_features=768, bias=True)\n",
            "  (3): Dropout(p=0.1, inplace=False)\n",
            "  (4): Linear(in_features=768, out_features=768, bias=True)\n",
            "  (5): LayerNorm((768,), eps=1e-05, elementwise_affine=True)\n",
            "  (6): Dropout(p=0.1, inplace=False)\n",
            "  (7): Linear(in_features=768, out_features=3072, bias=True)\n",
            "  (8): Linear(in_features=3072, out_features=768, bias=True)\n",
            "  (9): LayerNorm((768,), eps=1e-05, elementwise_affine=True)\n",
            "  (10): Dropout(p=0.1, inplace=False)\n",
            "), Sequential(\n",
            "  (0): Linear(in_features=768, out_features=768, bias=True)\n",
            "  (1): Linear(in_features=768, out_features=768, bias=True)\n",
            "  (2): Linear(in_features=768, out_features=768, bias=True)\n",
            "  (3): Dropout(p=0.1, inplace=False)\n",
            "  (4): Linear(in_features=768, out_features=768, bias=True)\n",
            "  (5): LayerNorm((768,), eps=1e-05, elementwise_affine=True)\n",
            "  (6): Dropout(p=0.1, inplace=False)\n",
            "  (7): Linear(in_features=768, out_features=3072, bias=True)\n",
            "  (8): Linear(in_features=3072, out_features=768, bias=True)\n",
            "  (9): LayerNorm((768,), eps=1e-05, elementwise_affine=True)\n",
            "  (10): Dropout(p=0.1, inplace=False)\n",
            "), Sequential(\n",
            "  (0): Linear(in_features=768, out_features=768, bias=True)\n",
            "  (1): Linear(in_features=768, out_features=768, bias=True)\n",
            "  (2): Linear(in_features=768, out_features=768, bias=True)\n",
            "  (3): Dropout(p=0.1, inplace=False)\n",
            "  (4): Linear(in_features=768, out_features=768, bias=True)\n",
            "  (5): LayerNorm((768,), eps=1e-05, elementwise_affine=True)\n",
            "  (6): Dropout(p=0.1, inplace=False)\n",
            "  (7): Linear(in_features=768, out_features=3072, bias=True)\n",
            "  (8): Linear(in_features=3072, out_features=768, bias=True)\n",
            "  (9): LayerNorm((768,), eps=1e-05, elementwise_affine=True)\n",
            "  (10): Dropout(p=0.1, inplace=False)\n",
            "), Sequential(\n",
            "  (0): Linear(in_features=768, out_features=768, bias=True)\n",
            "  (1): Linear(in_features=768, out_features=768, bias=True)\n",
            "  (2): Linear(in_features=768, out_features=768, bias=True)\n",
            "  (3): Dropout(p=0.1, inplace=False)\n",
            "  (4): Linear(in_features=768, out_features=768, bias=True)\n",
            "  (5): LayerNorm((768,), eps=1e-05, elementwise_affine=True)\n",
            "  (6): Dropout(p=0.1, inplace=False)\n",
            "  (7): Linear(in_features=768, out_features=3072, bias=True)\n",
            "  (8): Linear(in_features=3072, out_features=768, bias=True)\n",
            "  (9): LayerNorm((768,), eps=1e-05, elementwise_affine=True)\n",
            "  (10): Dropout(p=0.1, inplace=False)\n",
            "), Sequential(\n",
            "  (0): Linear(in_features=768, out_features=768, bias=True)\n",
            "  (1): Linear(in_features=768, out_features=768, bias=True)\n",
            "  (2): Linear(in_features=768, out_features=768, bias=True)\n",
            "  (3): Dropout(p=0.1, inplace=False)\n",
            "  (4): Linear(in_features=768, out_features=768, bias=True)\n",
            "  (5): LayerNorm((768,), eps=1e-05, elementwise_affine=True)\n",
            "  (6): Dropout(p=0.1, inplace=False)\n",
            "  (7): Linear(in_features=768, out_features=3072, bias=True)\n",
            "  (8): Linear(in_features=3072, out_features=768, bias=True)\n",
            "  (9): LayerNorm((768,), eps=1e-05, elementwise_affine=True)\n",
            "  (10): Dropout(p=0.1, inplace=False)\n",
            "), Sequential(\n",
            "  (0): Linear(in_features=768, out_features=768, bias=True)\n",
            "  (1): Linear(in_features=768, out_features=768, bias=True)\n",
            "  (2): Linear(in_features=768, out_features=768, bias=True)\n",
            "  (3): Dropout(p=0.1, inplace=False)\n",
            "  (4): Linear(in_features=768, out_features=768, bias=True)\n",
            "  (5): LayerNorm((768,), eps=1e-05, elementwise_affine=True)\n",
            "  (6): Dropout(p=0.1, inplace=False)\n",
            "  (7): Linear(in_features=768, out_features=3072, bias=True)\n",
            "  (8): Linear(in_features=3072, out_features=768, bias=True)\n",
            "  (9): LayerNorm((768,), eps=1e-05, elementwise_affine=True)\n",
            "  (10): Dropout(p=0.1, inplace=False)\n",
            "), Sequential(\n",
            "  (0): Linear(in_features=768, out_features=768, bias=True)\n",
            "  (1): Linear(in_features=768, out_features=768, bias=True)\n",
            "  (2): Linear(in_features=768, out_features=768, bias=True)\n",
            "  (3): Dropout(p=0.1, inplace=False)\n",
            "  (4): Linear(in_features=768, out_features=768, bias=True)\n",
            "  (5): LayerNorm((768,), eps=1e-05, elementwise_affine=True)\n",
            "  (6): Dropout(p=0.1, inplace=False)\n",
            "  (7): Linear(in_features=768, out_features=3072, bias=True)\n",
            "  (8): Linear(in_features=3072, out_features=768, bias=True)\n",
            "  (9): LayerNorm((768,), eps=1e-05, elementwise_affine=True)\n",
            "  (10): Dropout(p=0.1, inplace=False)\n",
            "), Sequential(\n",
            "  (0): Linear(in_features=768, out_features=768, bias=True)\n",
            "  (1): Linear(in_features=768, out_features=768, bias=True)\n",
            "  (2): Linear(in_features=768, out_features=768, bias=True)\n",
            "  (3): Dropout(p=0.1, inplace=False)\n",
            "  (4): Linear(in_features=768, out_features=768, bias=True)\n",
            "  (5): LayerNorm((768,), eps=1e-05, elementwise_affine=True)\n",
            "  (6): Dropout(p=0.1, inplace=False)\n",
            "  (7): Linear(in_features=768, out_features=3072, bias=True)\n",
            "  (8): Linear(in_features=3072, out_features=768, bias=True)\n",
            "  (9): LayerNorm((768,), eps=1e-05, elementwise_affine=True)\n",
            "  (10): Dropout(p=0.1, inplace=False)\n",
            "), Sequential(\n",
            "  (0): Linear(in_features=768, out_features=768, bias=True)\n",
            "  (1): Linear(in_features=768, out_features=768, bias=True)\n",
            "  (2): Linear(in_features=768, out_features=768, bias=True)\n",
            "  (3): Dropout(p=0.1, inplace=False)\n",
            "  (4): Linear(in_features=768, out_features=768, bias=True)\n",
            "  (5): LayerNorm((768,), eps=1e-05, elementwise_affine=True)\n",
            "  (6): Dropout(p=0.1, inplace=False)\n",
            "  (7): Linear(in_features=768, out_features=3072, bias=True)\n",
            "  (8): Linear(in_features=3072, out_features=768, bias=True)\n",
            "  (9): LayerNorm((768,), eps=1e-05, elementwise_affine=True)\n",
            "  (10): Dropout(p=0.1, inplace=False)\n",
            "), Sequential(\n",
            "  (0): Linear(in_features=768, out_features=768, bias=True)\n",
            "  (1): Linear(in_features=768, out_features=768, bias=True)\n",
            "  (2): Linear(in_features=768, out_features=768, bias=True)\n",
            "  (3): Dropout(p=0.1, inplace=False)\n",
            "  (4): Linear(in_features=768, out_features=768, bias=True)\n",
            "  (5): LayerNorm((768,), eps=1e-05, elementwise_affine=True)\n",
            "  (6): Dropout(p=0.1, inplace=False)\n",
            "  (7): Linear(in_features=768, out_features=3072, bias=True)\n",
            "  (8): Linear(in_features=3072, out_features=768, bias=True)\n",
            "  (9): LayerNorm((768,), eps=1e-05, elementwise_affine=True)\n",
            "  (10): Dropout(p=0.1, inplace=False)\n",
            "), Sequential(\n",
            "  (0): Linear(in_features=768, out_features=768, bias=True)\n",
            "  (1): Linear(in_features=768, out_features=768, bias=True)\n",
            "  (2): Linear(in_features=768, out_features=768, bias=True)\n",
            "  (3): Dropout(p=0.1, inplace=False)\n",
            "  (4): Linear(in_features=768, out_features=768, bias=True)\n",
            "  (5): LayerNorm((768,), eps=1e-05, elementwise_affine=True)\n",
            "  (6): Dropout(p=0.1, inplace=False)\n",
            "  (7): Linear(in_features=768, out_features=3072, bias=True)\n",
            "  (8): Linear(in_features=3072, out_features=768, bias=True)\n",
            "  (9): LayerNorm((768,), eps=1e-05, elementwise_affine=True)\n",
            "  (10): Dropout(p=0.1, inplace=False)\n",
            "), Sequential(\n",
            "  (0): Linear(in_features=768, out_features=768, bias=True)\n",
            "  (1): Tanh()\n",
            "  (2): Linear(in_features=768, out_features=768, bias=True)\n",
            "  (3): Dropout(p=0.1, inplace=False)\n",
            "  (4): Linear(in_features=768, out_features=5, bias=True)\n",
            ")]\n"
          ],
          "name": "stdout"
        }
      ]
    },
    {
      "cell_type": "markdown",
      "metadata": {
        "id": "-VuXoM3mldNq",
        "colab_type": "text"
      },
      "source": [
        "Note that I didn't found any document that has studied the influence of **Discriminative Fine-tuning** and **Gradual unfreezing** or even **Slanted Triangular Learning Rates** with transformers. Therefore, using these tools does not guarantee better results. If you found any interesting documents, please let us know in the comment."
      ]
    },
    {
      "cell_type": "markdown",
      "metadata": {
        "id": "Efhc7s0jldNr",
        "colab_type": "text"
      },
      "source": [
        "### Train\n",
        "Now we can finally use all the fastai build-in features to train our model. Like the ULMFiT method, we will use **Slanted Triangular Learning Rates**, **Discriminate Learning Rate** and **gradually unfreeze the model**."
      ]
    },
    {
      "cell_type": "code",
      "metadata": {
        "id": "7Qt65gAhldNr",
        "colab_type": "code",
        "colab": {}
      },
      "source": [
        "learner.save('untrain')"
      ],
      "execution_count": 0,
      "outputs": []
    },
    {
      "cell_type": "code",
      "metadata": {
        "id": "ZQ31uhVqldNt",
        "colab_type": "code",
        "colab": {}
      },
      "source": [
        "seed_all(seed)\n",
        "learner.load('untrain');"
      ],
      "execution_count": 0,
      "outputs": []
    },
    {
      "cell_type": "markdown",
      "metadata": {
        "id": "z0aZGzOpldNu",
        "colab_type": "text"
      },
      "source": [
        "Therefore, we first freeze all the groups but the classifier with :"
      ]
    },
    {
      "cell_type": "code",
      "metadata": {
        "id": "lF5cN5GOldNu",
        "colab_type": "code",
        "colab": {}
      },
      "source": [
        "learner.freeze_to(-1)"
      ],
      "execution_count": 0,
      "outputs": []
    },
    {
      "cell_type": "markdown",
      "metadata": {
        "id": "BKGHyd0mldNw",
        "colab_type": "text"
      },
      "source": [
        "We check which layer are trainable"
      ]
    },
    {
      "cell_type": "code",
      "metadata": {
        "id": "4fQSJ0qcldNw",
        "colab_type": "code",
        "outputId": "bb088f61-2e18-4f9b-dff9-5014ce7f029a",
        "colab": {
          "base_uri": "https://localhost:8080/",
          "height": 1000
        }
      },
      "source": [
        "learner.summary()"
      ],
      "execution_count": 88,
      "outputs": [
        {
          "output_type": "execute_result",
          "data": {
            "text/plain": [
              "CustomTransformerModel\n",
              "======================================================================\n",
              "Layer (type)         Output Shape         Param #    Trainable \n",
              "======================================================================\n",
              "Embedding            [79, 768]            38,603,520 False     \n",
              "______________________________________________________________________\n",
              "Embedding            [79, 768]            394,752    False     \n",
              "______________________________________________________________________\n",
              "Embedding            [79, 768]            768        False     \n",
              "______________________________________________________________________\n",
              "LayerNorm            [79, 768]            1,536      False     \n",
              "______________________________________________________________________\n",
              "Dropout              [79, 768]            0          False     \n",
              "______________________________________________________________________\n",
              "Linear               [79, 768]            590,592    False     \n",
              "______________________________________________________________________\n",
              "Linear               [79, 768]            590,592    False     \n",
              "______________________________________________________________________\n",
              "Linear               [79, 768]            590,592    False     \n",
              "______________________________________________________________________\n",
              "Dropout              [12, 79, 79]         0          False     \n",
              "______________________________________________________________________\n",
              "Linear               [79, 768]            590,592    False     \n",
              "______________________________________________________________________\n",
              "LayerNorm            [79, 768]            1,536      False     \n",
              "______________________________________________________________________\n",
              "Dropout              [79, 768]            0          False     \n",
              "______________________________________________________________________\n",
              "Linear               [79, 3072]           2,362,368  False     \n",
              "______________________________________________________________________\n",
              "Linear               [79, 768]            2,360,064  False     \n",
              "______________________________________________________________________\n",
              "LayerNorm            [79, 768]            1,536      False     \n",
              "______________________________________________________________________\n",
              "Dropout              [79, 768]            0          False     \n",
              "______________________________________________________________________\n",
              "Linear               [79, 768]            590,592    False     \n",
              "______________________________________________________________________\n",
              "Linear               [79, 768]            590,592    False     \n",
              "______________________________________________________________________\n",
              "Linear               [79, 768]            590,592    False     \n",
              "______________________________________________________________________\n",
              "Dropout              [12, 79, 79]         0          False     \n",
              "______________________________________________________________________\n",
              "Linear               [79, 768]            590,592    False     \n",
              "______________________________________________________________________\n",
              "LayerNorm            [79, 768]            1,536      False     \n",
              "______________________________________________________________________\n",
              "Dropout              [79, 768]            0          False     \n",
              "______________________________________________________________________\n",
              "Linear               [79, 3072]           2,362,368  False     \n",
              "______________________________________________________________________\n",
              "Linear               [79, 768]            2,360,064  False     \n",
              "______________________________________________________________________\n",
              "LayerNorm            [79, 768]            1,536      False     \n",
              "______________________________________________________________________\n",
              "Dropout              [79, 768]            0          False     \n",
              "______________________________________________________________________\n",
              "Linear               [79, 768]            590,592    False     \n",
              "______________________________________________________________________\n",
              "Linear               [79, 768]            590,592    False     \n",
              "______________________________________________________________________\n",
              "Linear               [79, 768]            590,592    False     \n",
              "______________________________________________________________________\n",
              "Dropout              [12, 79, 79]         0          False     \n",
              "______________________________________________________________________\n",
              "Linear               [79, 768]            590,592    False     \n",
              "______________________________________________________________________\n",
              "LayerNorm            [79, 768]            1,536      False     \n",
              "______________________________________________________________________\n",
              "Dropout              [79, 768]            0          False     \n",
              "______________________________________________________________________\n",
              "Linear               [79, 3072]           2,362,368  False     \n",
              "______________________________________________________________________\n",
              "Linear               [79, 768]            2,360,064  False     \n",
              "______________________________________________________________________\n",
              "LayerNorm            [79, 768]            1,536      False     \n",
              "______________________________________________________________________\n",
              "Dropout              [79, 768]            0          False     \n",
              "______________________________________________________________________\n",
              "Linear               [79, 768]            590,592    False     \n",
              "______________________________________________________________________\n",
              "Linear               [79, 768]            590,592    False     \n",
              "______________________________________________________________________\n",
              "Linear               [79, 768]            590,592    False     \n",
              "______________________________________________________________________\n",
              "Dropout              [12, 79, 79]         0          False     \n",
              "______________________________________________________________________\n",
              "Linear               [79, 768]            590,592    False     \n",
              "______________________________________________________________________\n",
              "LayerNorm            [79, 768]            1,536      False     \n",
              "______________________________________________________________________\n",
              "Dropout              [79, 768]            0          False     \n",
              "______________________________________________________________________\n",
              "Linear               [79, 3072]           2,362,368  False     \n",
              "______________________________________________________________________\n",
              "Linear               [79, 768]            2,360,064  False     \n",
              "______________________________________________________________________\n",
              "LayerNorm            [79, 768]            1,536      False     \n",
              "______________________________________________________________________\n",
              "Dropout              [79, 768]            0          False     \n",
              "______________________________________________________________________\n",
              "Linear               [79, 768]            590,592    False     \n",
              "______________________________________________________________________\n",
              "Linear               [79, 768]            590,592    False     \n",
              "______________________________________________________________________\n",
              "Linear               [79, 768]            590,592    False     \n",
              "______________________________________________________________________\n",
              "Dropout              [12, 79, 79]         0          False     \n",
              "______________________________________________________________________\n",
              "Linear               [79, 768]            590,592    False     \n",
              "______________________________________________________________________\n",
              "LayerNorm            [79, 768]            1,536      False     \n",
              "______________________________________________________________________\n",
              "Dropout              [79, 768]            0          False     \n",
              "______________________________________________________________________\n",
              "Linear               [79, 3072]           2,362,368  False     \n",
              "______________________________________________________________________\n",
              "Linear               [79, 768]            2,360,064  False     \n",
              "______________________________________________________________________\n",
              "LayerNorm            [79, 768]            1,536      False     \n",
              "______________________________________________________________________\n",
              "Dropout              [79, 768]            0          False     \n",
              "______________________________________________________________________\n",
              "Linear               [79, 768]            590,592    False     \n",
              "______________________________________________________________________\n",
              "Linear               [79, 768]            590,592    False     \n",
              "______________________________________________________________________\n",
              "Linear               [79, 768]            590,592    False     \n",
              "______________________________________________________________________\n",
              "Dropout              [12, 79, 79]         0          False     \n",
              "______________________________________________________________________\n",
              "Linear               [79, 768]            590,592    False     \n",
              "______________________________________________________________________\n",
              "LayerNorm            [79, 768]            1,536      False     \n",
              "______________________________________________________________________\n",
              "Dropout              [79, 768]            0          False     \n",
              "______________________________________________________________________\n",
              "Linear               [79, 3072]           2,362,368  False     \n",
              "______________________________________________________________________\n",
              "Linear               [79, 768]            2,360,064  False     \n",
              "______________________________________________________________________\n",
              "LayerNorm            [79, 768]            1,536      False     \n",
              "______________________________________________________________________\n",
              "Dropout              [79, 768]            0          False     \n",
              "______________________________________________________________________\n",
              "Linear               [79, 768]            590,592    False     \n",
              "______________________________________________________________________\n",
              "Linear               [79, 768]            590,592    False     \n",
              "______________________________________________________________________\n",
              "Linear               [79, 768]            590,592    False     \n",
              "______________________________________________________________________\n",
              "Dropout              [12, 79, 79]         0          False     \n",
              "______________________________________________________________________\n",
              "Linear               [79, 768]            590,592    False     \n",
              "______________________________________________________________________\n",
              "LayerNorm            [79, 768]            1,536      False     \n",
              "______________________________________________________________________\n",
              "Dropout              [79, 768]            0          False     \n",
              "______________________________________________________________________\n",
              "Linear               [79, 3072]           2,362,368  False     \n",
              "______________________________________________________________________\n",
              "Linear               [79, 768]            2,360,064  False     \n",
              "______________________________________________________________________\n",
              "LayerNorm            [79, 768]            1,536      False     \n",
              "______________________________________________________________________\n",
              "Dropout              [79, 768]            0          False     \n",
              "______________________________________________________________________\n",
              "Linear               [79, 768]            590,592    False     \n",
              "______________________________________________________________________\n",
              "Linear               [79, 768]            590,592    False     \n",
              "______________________________________________________________________\n",
              "Linear               [79, 768]            590,592    False     \n",
              "______________________________________________________________________\n",
              "Dropout              [12, 79, 79]         0          False     \n",
              "______________________________________________________________________\n",
              "Linear               [79, 768]            590,592    False     \n",
              "______________________________________________________________________\n",
              "LayerNorm            [79, 768]            1,536      False     \n",
              "______________________________________________________________________\n",
              "Dropout              [79, 768]            0          False     \n",
              "______________________________________________________________________\n",
              "Linear               [79, 3072]           2,362,368  False     \n",
              "______________________________________________________________________\n",
              "Linear               [79, 768]            2,360,064  False     \n",
              "______________________________________________________________________\n",
              "LayerNorm            [79, 768]            1,536      False     \n",
              "______________________________________________________________________\n",
              "Dropout              [79, 768]            0          False     \n",
              "______________________________________________________________________\n",
              "Linear               [79, 768]            590,592    False     \n",
              "______________________________________________________________________\n",
              "Linear               [79, 768]            590,592    False     \n",
              "______________________________________________________________________\n",
              "Linear               [79, 768]            590,592    False     \n",
              "______________________________________________________________________\n",
              "Dropout              [12, 79, 79]         0          False     \n",
              "______________________________________________________________________\n",
              "Linear               [79, 768]            590,592    False     \n",
              "______________________________________________________________________\n",
              "LayerNorm            [79, 768]            1,536      False     \n",
              "______________________________________________________________________\n",
              "Dropout              [79, 768]            0          False     \n",
              "______________________________________________________________________\n",
              "Linear               [79, 3072]           2,362,368  False     \n",
              "______________________________________________________________________\n",
              "Linear               [79, 768]            2,360,064  False     \n",
              "______________________________________________________________________\n",
              "LayerNorm            [79, 768]            1,536      False     \n",
              "______________________________________________________________________\n",
              "Dropout              [79, 768]            0          False     \n",
              "______________________________________________________________________\n",
              "Linear               [79, 768]            590,592    False     \n",
              "______________________________________________________________________\n",
              "Linear               [79, 768]            590,592    False     \n",
              "______________________________________________________________________\n",
              "Linear               [79, 768]            590,592    False     \n",
              "______________________________________________________________________\n",
              "Dropout              [12, 79, 79]         0          False     \n",
              "______________________________________________________________________\n",
              "Linear               [79, 768]            590,592    False     \n",
              "______________________________________________________________________\n",
              "LayerNorm            [79, 768]            1,536      False     \n",
              "______________________________________________________________________\n",
              "Dropout              [79, 768]            0          False     \n",
              "______________________________________________________________________\n",
              "Linear               [79, 3072]           2,362,368  False     \n",
              "______________________________________________________________________\n",
              "Linear               [79, 768]            2,360,064  False     \n",
              "______________________________________________________________________\n",
              "LayerNorm            [79, 768]            1,536      False     \n",
              "______________________________________________________________________\n",
              "Dropout              [79, 768]            0          False     \n",
              "______________________________________________________________________\n",
              "Linear               [79, 768]            590,592    False     \n",
              "______________________________________________________________________\n",
              "Linear               [79, 768]            590,592    False     \n",
              "______________________________________________________________________\n",
              "Linear               [79, 768]            590,592    False     \n",
              "______________________________________________________________________\n",
              "Dropout              [12, 79, 79]         0          False     \n",
              "______________________________________________________________________\n",
              "Linear               [79, 768]            590,592    False     \n",
              "______________________________________________________________________\n",
              "LayerNorm            [79, 768]            1,536      False     \n",
              "______________________________________________________________________\n",
              "Dropout              [79, 768]            0          False     \n",
              "______________________________________________________________________\n",
              "Linear               [79, 3072]           2,362,368  False     \n",
              "______________________________________________________________________\n",
              "Linear               [79, 768]            2,360,064  False     \n",
              "______________________________________________________________________\n",
              "LayerNorm            [79, 768]            1,536      False     \n",
              "______________________________________________________________________\n",
              "Dropout              [79, 768]            0          False     \n",
              "______________________________________________________________________\n",
              "Linear               [79, 768]            590,592    False     \n",
              "______________________________________________________________________\n",
              "Linear               [79, 768]            590,592    False     \n",
              "______________________________________________________________________\n",
              "Linear               [79, 768]            590,592    False     \n",
              "______________________________________________________________________\n",
              "Dropout              [12, 79, 79]         0          False     \n",
              "______________________________________________________________________\n",
              "Linear               [79, 768]            590,592    False     \n",
              "______________________________________________________________________\n",
              "LayerNorm            [79, 768]            1,536      False     \n",
              "______________________________________________________________________\n",
              "Dropout              [79, 768]            0          False     \n",
              "______________________________________________________________________\n",
              "Linear               [79, 3072]           2,362,368  False     \n",
              "______________________________________________________________________\n",
              "Linear               [79, 768]            2,360,064  False     \n",
              "______________________________________________________________________\n",
              "LayerNorm            [79, 768]            1,536      False     \n",
              "______________________________________________________________________\n",
              "Dropout              [79, 768]            0          False     \n",
              "______________________________________________________________________\n",
              "Linear               [768]                590,592    True      \n",
              "______________________________________________________________________\n",
              "Tanh                 [768]                0          False     \n",
              "______________________________________________________________________\n",
              "Linear               [768]                590,592    True      \n",
              "______________________________________________________________________\n",
              "Dropout              [768]                0          False     \n",
              "______________________________________________________________________\n",
              "Linear               [5]                  3,845      True      \n",
              "______________________________________________________________________\n",
              "\n",
              "Total params: 125,240,069\n",
              "Total trainable params: 1,185,029\n",
              "Total non-trainable params: 124,055,040\n",
              "Optimized with f02666b5e18\n",
              "Using true weight decay as discussed in https://www.fast.ai/2018/07/02/adam-weight-decay/ \n",
              "Loss function : FlattenedLoss\n",
              "======================================================================\n",
              "Callbacks functions applied \n",
              "    ShowGraph"
            ]
          },
          "metadata": {
            "tags": []
          },
          "execution_count": 88
        }
      ]
    },
    {
      "cell_type": "markdown",
      "metadata": {
        "id": "6DfEfDPKldNy",
        "colab_type": "text"
      },
      "source": [
        "For **Slanted Triangular Learning Rates** you have to use the function ``one_cycle``. For more information please check the fastai documentation [here](https://docs.fast.ai/callbacks.one_cycle.html). \n",
        "\n",
        "To use our ``one_cycle`` we will need an optimum learning rate. We can find this learning rate by using a learning rate finder which can be called by using ``lr_find``."
      ]
    },
    {
      "cell_type": "code",
      "metadata": {
        "id": "Z512ncHFldNy",
        "colab_type": "code",
        "outputId": "4526ede0-dc31-4aef-d161-62ed627383aa",
        "colab": {
          "base_uri": "https://localhost:8080/",
          "height": 35
        }
      },
      "source": [
        "learner.lr_find()"
      ],
      "execution_count": 89,
      "outputs": [
        {
          "output_type": "display_data",
          "data": {
            "text/html": [
              ""
            ],
            "text/plain": [
              "<IPython.core.display.HTML object>"
            ]
          },
          "metadata": {
            "tags": []
          }
        },
        {
          "output_type": "stream",
          "text": [
            "LR Finder is complete, type {learner_name}.recorder.plot() to see the graph.\n"
          ],
          "name": "stdout"
        }
      ]
    },
    {
      "cell_type": "code",
      "metadata": {
        "id": "jNAcM_WEldN0",
        "colab_type": "code",
        "outputId": "c73ce611-d79d-403c-fa31-b16e4cef73c3",
        "colab": {
          "base_uri": "https://localhost:8080/",
          "height": 314
        }
      },
      "source": [
        "learner.recorder.plot(skip_end=7,suggestion=True)"
      ],
      "execution_count": 90,
      "outputs": [
        {
          "output_type": "stream",
          "text": [
            "Min numerical gradient: 3.63E-03\n",
            "Min loss divided by 10: 4.37E-04\n"
          ],
          "name": "stdout"
        },
        {
          "output_type": "display_data",
          "data": {
            "image/png": "[encoded data removed]",
            "text/plain": [
              "<Figure size 432x288 with 1 Axes>"
            ]
          },
          "metadata": {
            "tags": []
          }
        }
      ]
    },
    {
      "cell_type": "markdown",
      "metadata": {
        "id": "SnzY0__aldN1",
        "colab_type": "text"
      },
      "source": [
        "We will pick a value a bit before the minimum, where the loss still improves. Here 2x10^-3 seems to be a good value.\n",
        "\n",
        "Next we will use ``fit_one_cycle`` with the chosen learning rate as the maximum learning rate. "
      ]
    },
    {
      "cell_type": "code",
      "metadata": {
        "id": "mRlbtAm7ldN2",
        "colab_type": "code",
        "outputId": "be30b553-10ec-40a0-9462-303d7e209180",
        "colab": {
          "base_uri": "https://localhost:8080/",
          "height": 328
        }
      },
      "source": [
        "learner.fit_one_cycle(1,max_lr=2e-03,moms=(0.8,0.7))"
      ],
      "execution_count": 91,
      "outputs": [
        {
          "output_type": "display_data",
          "data": {
            "text/html": [
              "<table border=\"1\" class=\"dataframe\">\n",
              "  <thead>\n",
              "    <tr style=\"text-align: left;\">\n",
              "      <th>epoch</th>\n",
              "      <th>train_loss</th>\n",
              "      <th>valid_loss</th>\n",
              "      <th>accuracy</th>\n",
              "      <th>time</th>\n",
              "    </tr>\n",
              "  </thead>\n",
              "  <tbody>\n",
              "    <tr>\n",
              "      <td>0</td>\n",
              "      <td>1.072603</td>\n",
              "      <td>0.992165</td>\n",
              "      <td>0.598744</td>\n",
              "      <td>07:02</td>\n",
              "    </tr>\n",
              "  </tbody>\n",
              "</table>"
            ],
            "text/plain": [
              "<IPython.core.display.HTML object>"
            ]
          },
          "metadata": {
            "tags": []
          }
        },
        {
          "output_type": "display_data",
          "data": {
            "image/png": "[encoded data removed]",
            "text/plain": [
              "<Figure size 432x288 with 1 Axes>"
            ]
          },
          "metadata": {
            "tags": []
          }
        }
      ]
    },
    {
      "cell_type": "code",
      "metadata": {
        "id": "MoyBhox0ldN4",
        "colab_type": "code",
        "colab": {}
      },
      "source": [
        "learner.save('first_cycle')"
      ],
      "execution_count": 0,
      "outputs": []
    },
    {
      "cell_type": "code",
      "metadata": {
        "id": "geX98dA7ldN6",
        "colab_type": "code",
        "colab": {}
      },
      "source": [
        "seed_all(seed)\n",
        "learner.load('first_cycle');"
      ],
      "execution_count": 0,
      "outputs": []
    },
    {
      "cell_type": "markdown",
      "metadata": {
        "id": "MgrEyMvVldN7",
        "colab_type": "text"
      },
      "source": [
        "We then unfreeze the second group of layers and repeat the operations."
      ]
    },
    {
      "cell_type": "code",
      "metadata": {
        "id": "KK9I6xldldN7",
        "colab_type": "code",
        "colab": {}
      },
      "source": [
        "learner.freeze_to(-2)"
      ],
      "execution_count": 0,
      "outputs": []
    },
    {
      "cell_type": "code",
      "metadata": {
        "id": "b-eaONEZldN8",
        "colab_type": "code",
        "colab": {}
      },
      "source": [
        "lr = 1e-5"
      ],
      "execution_count": 0,
      "outputs": []
    },
    {
      "cell_type": "markdown",
      "metadata": {
        "id": "ZPUZJgMYldN-",
        "colab_type": "text"
      },
      "source": [
        "Note here that we use slice to create separate learning rate for each group."
      ]
    },
    {
      "cell_type": "code",
      "metadata": {
        "id": "R1ODVcIGldN-",
        "colab_type": "code",
        "outputId": "436b9190-9101-4e18-ce25-a913ef1fe819",
        "colab": {
          "base_uri": "https://localhost:8080/",
          "height": 327
        }
      },
      "source": [
        "learner.fit_one_cycle(1, max_lr=slice(lr*0.95**num_groups, lr), moms=(0.8, 0.9))"
      ],
      "execution_count": 96,
      "outputs": [
        {
          "output_type": "display_data",
          "data": {
            "text/html": [
              "<table border=\"1\" class=\"dataframe\">\n",
              "  <thead>\n",
              "    <tr style=\"text-align: left;\">\n",
              "      <th>epoch</th>\n",
              "      <th>train_loss</th>\n",
              "      <th>valid_loss</th>\n",
              "      <th>accuracy</th>\n",
              "      <th>time</th>\n",
              "    </tr>\n",
              "  </thead>\n",
              "  <tbody>\n",
              "    <tr>\n",
              "      <td>0</td>\n",
              "      <td>0.914303</td>\n",
              "      <td>0.907117</td>\n",
              "      <td>0.633282</td>\n",
              "      <td>09:03</td>\n",
              "    </tr>\n",
              "  </tbody>\n",
              "</table>"
            ],
            "text/plain": [
              "<IPython.core.display.HTML object>"
            ]
          },
          "metadata": {
            "tags": []
          }
        },
        {
          "output_type": "display_data",
          "data": {
            "image/png": "[encoded data removed]",
            "text/plain": [
              "<Figure size 432x288 with 1 Axes>"
            ]
          },
          "metadata": {
            "tags": []
          }
        }
      ]
    },
    {
      "cell_type": "code",
      "metadata": {
        "id": "bmIQe8gJldOA",
        "colab_type": "code",
        "colab": {}
      },
      "source": [
        "learner.save('second_cycle')"
      ],
      "execution_count": 0,
      "outputs": []
    },
    {
      "cell_type": "code",
      "metadata": {
        "id": "Pp-MrexXldOC",
        "colab_type": "code",
        "colab": {}
      },
      "source": [
        "seed_all(seed)\n",
        "learner.load('second_cycle');"
      ],
      "execution_count": 0,
      "outputs": []
    },
    {
      "cell_type": "code",
      "metadata": {
        "id": "ppEwVXLDldOD",
        "colab_type": "code",
        "colab": {}
      },
      "source": [
        "learner.freeze_to(-3)"
      ],
      "execution_count": 0,
      "outputs": []
    },
    {
      "cell_type": "code",
      "metadata": {
        "id": "QqIpR0WpldOE",
        "colab_type": "code",
        "outputId": "091fbb96-5c42-4f52-c897-adb335b72146",
        "colab": {
          "base_uri": "https://localhost:8080/",
          "height": 327
        }
      },
      "source": [
        "learner.fit_one_cycle(1, max_lr=slice(lr*0.95**num_groups, lr), moms=(0.8, 0.9))"
      ],
      "execution_count": 100,
      "outputs": [
        {
          "output_type": "display_data",
          "data": {
            "text/html": [
              "<table border=\"1\" class=\"dataframe\">\n",
              "  <thead>\n",
              "    <tr style=\"text-align: left;\">\n",
              "      <th>epoch</th>\n",
              "      <th>train_loss</th>\n",
              "      <th>valid_loss</th>\n",
              "      <th>accuracy</th>\n",
              "      <th>time</th>\n",
              "    </tr>\n",
              "  </thead>\n",
              "  <tbody>\n",
              "    <tr>\n",
              "      <td>0</td>\n",
              "      <td>0.860208</td>\n",
              "      <td>0.872932</td>\n",
              "      <td>0.646034</td>\n",
              "      <td>10:39</td>\n",
              "    </tr>\n",
              "  </tbody>\n",
              "</table>"
            ],
            "text/plain": [
              "<IPython.core.display.HTML object>"
            ]
          },
          "metadata": {
            "tags": []
          }
        },
        {
          "output_type": "display_data",
          "data": {
            "image/png": "[encoded data removed]",
            "text/plain": [
              "<Figure size 432x288 with 1 Axes>"
            ]
          },
          "metadata": {
            "tags": []
          }
        }
      ]
    },
    {
      "cell_type": "code",
      "metadata": {
        "id": "yagg6SZgldOF",
        "colab_type": "code",
        "colab": {}
      },
      "source": [
        "learner.save('third_cycle')"
      ],
      "execution_count": 0,
      "outputs": []
    },
    {
      "cell_type": "code",
      "metadata": {
        "id": "kMRaik4GldOG",
        "colab_type": "code",
        "colab": {}
      },
      "source": [
        "seed_all(seed)\n",
        "learner.load('third_cycle');"
      ],
      "execution_count": 0,
      "outputs": []
    },
    {
      "cell_type": "markdown",
      "metadata": {
        "id": "0P9h-45TldOH",
        "colab_type": "text"
      },
      "source": [
        "Here, we unfreeze all the groups."
      ]
    },
    {
      "cell_type": "code",
      "metadata": {
        "id": "3e0mYmC8ldOI",
        "colab_type": "code",
        "colab": {}
      },
      "source": [
        "learner.unfreeze()"
      ],
      "execution_count": 0,
      "outputs": []
    },
    {
      "cell_type": "code",
      "metadata": {
        "id": "41wvnAIkldOJ",
        "colab_type": "code",
        "colab": {
          "base_uri": "https://localhost:8080/",
          "height": 361
        },
        "outputId": "47df918e-68c5-4bb2-cf34-2d5aac36fed2"
      },
      "source": [
        "learner.fit_one_cycle(2, max_lr=slice(lr*0.95**num_groups, lr), moms=(0.8, 0.9))"
      ],
      "execution_count": 104,
      "outputs": [
        {
          "output_type": "display_data",
          "data": {
            "text/html": [
              "<table border=\"1\" class=\"dataframe\">\n",
              "  <thead>\n",
              "    <tr style=\"text-align: left;\">\n",
              "      <th>epoch</th>\n",
              "      <th>train_loss</th>\n",
              "      <th>valid_loss</th>\n",
              "      <th>accuracy</th>\n",
              "      <th>time</th>\n",
              "    </tr>\n",
              "  </thead>\n",
              "  <tbody>\n",
              "    <tr>\n",
              "      <td>0</td>\n",
              "      <td>0.709644</td>\n",
              "      <td>0.714858</td>\n",
              "      <td>0.699795</td>\n",
              "      <td>30:28</td>\n",
              "    </tr>\n",
              "    <tr>\n",
              "      <td>1</td>\n",
              "      <td>0.668368</td>\n",
              "      <td>0.696342</td>\n",
              "      <td>0.706908</td>\n",
              "      <td>28:58</td>\n",
              "    </tr>\n",
              "  </tbody>\n",
              "</table>"
            ],
            "text/plain": [
              "<IPython.core.display.HTML object>"
            ]
          },
          "metadata": {
            "tags": []
          }
        },
        {
          "output_type": "display_data",
          "data": {
            "image/png": "[encoded data removed]",
            "text/plain": [
              "<Figure size 432x288 with 1 Axes>"
            ]
          },
          "metadata": {
            "tags": []
          }
        }
      ]
    },
    {
      "cell_type": "markdown",
      "metadata": {
        "id": "Y78ubItcldOL",
        "colab_type": "text"
      },
      "source": [
        "### Creating prediction\n",
        "Now that the model is trained, we want to generate predictions from the test dataset.\n",
        "\n",
        "As specified in *Keita Kurita's* [article](https://mlexplained.com/2019/05/13/a-tutorial-to-fine-tuning-bert-with-fast-ai/), as the function ``get_preds`` does not return elements in order by default, you will have to resort the elements into their correct order."
      ]
    },
    {
      "cell_type": "code",
      "metadata": {
        "id": "Bvxl1RBTldOL",
        "colab_type": "code",
        "colab": {}
      },
      "source": [
        "def get_preds_as_nparray(ds_type) -> np.ndarray:\n",
        "    \"\"\"\n",
        "    the get_preds method does not yield the elements in order by default\n",
        "    we borrow the code from the RNNLearner to resort the elements into their correct order\n",
        "    \"\"\"\n",
        "    preds = learner.get_preds(ds_type)[0].detach().cpu().numpy()\n",
        "    sampler = [i for i in databunch.dl(ds_type).sampler]\n",
        "    reverse_sampler = np.argsort(sampler)\n",
        "    return preds[reverse_sampler, :]\n",
        "\n",
        "test_preds = get_preds_as_nparray(DatasetType.Test)"
      ],
      "execution_count": 0,
      "outputs": []
    },
    {
      "cell_type": "code",
      "metadata": {
        "id": "pcOgzu7HJ7Mz",
        "colab_type": "code",
        "colab": {}
      },
      "source": [
        "sample_submission = pd.read_csv(\"/content/sampleSubmission.csv\")"
      ],
      "execution_count": 0,
      "outputs": []
    },
    {
      "cell_type": "code",
      "metadata": {
        "id": "f9HcZtC6cp1c",
        "colab_type": "code",
        "colab": {
          "base_uri": "https://localhost:8080/",
          "height": 35
        },
        "outputId": "1a28f1b7-9a29-4763-80a5-336262f4c9f2"
      },
      "source": [
        "len(test_preds)"
      ],
      "execution_count": 107,
      "outputs": [
        {
          "output_type": "execute_result",
          "data": {
            "text/plain": [
              "66292"
            ]
          },
          "metadata": {
            "tags": []
          },
          "execution_count": 107
        }
      ]
    },
    {
      "cell_type": "code",
      "metadata": {
        "id": "7i9FomheUrz5",
        "colab_type": "code",
        "colab": {}
      },
      "source": [
        "sample_submission['Sentiment'] = np.argmax(test_preds,axis=1)"
      ],
      "execution_count": 0,
      "outputs": []
    },
    {
      "cell_type": "code",
      "metadata": {
        "id": "CH-gXSm9W0g4",
        "colab_type": "code",
        "colab": {}
      },
      "source": [
        "sample_submission.to_csv(\"/content/predictions.csv\", index=False)"
      ],
      "execution_count": 0,
      "outputs": []
    },
    {
      "cell_type": "markdown",
      "metadata": {
        "id": "q0zmAh-UldON",
        "colab_type": "text"
      },
      "source": [
        "We check the order"
      ]
    },
    {
      "cell_type": "code",
      "metadata": {
        "id": "byrEu7j5ldON",
        "colab_type": "code",
        "colab": {
          "base_uri": "https://localhost:8080/",
          "height": 202
        },
        "outputId": "fe358900-e404-49ec-b53f-53c2095e1be9"
      },
      "source": [
        "test.head()"
      ],
      "execution_count": 110,
      "outputs": [
        {
          "output_type": "execute_result",
          "data": {
            "text/html": [
              "<div>\n",
              "<style scoped>\n",
              "    .dataframe tbody tr th:only-of-type {\n",
              "        vertical-align: middle;\n",
              "    }\n",
              "\n",
              "    .dataframe tbody tr th {\n",
              "        vertical-align: top;\n",
              "    }\n",
              "\n",
              "    .dataframe thead th {\n",
              "        text-align: right;\n",
              "    }\n",
              "</style>\n",
              "<table border=\"1\" class=\"dataframe\">\n",
              "  <thead>\n",
              "    <tr style=\"text-align: right;\">\n",
              "      <th></th>\n",
              "      <th>PhraseId</th>\n",
              "      <th>SentenceId</th>\n",
              "      <th>Phrase</th>\n",
              "    </tr>\n",
              "  </thead>\n",
              "  <tbody>\n",
              "    <tr>\n",
              "      <th>0</th>\n",
              "      <td>156061</td>\n",
              "      <td>8545</td>\n",
              "      <td>An intermittently pleasing but mostly routine ...</td>\n",
              "    </tr>\n",
              "    <tr>\n",
              "      <th>1</th>\n",
              "      <td>156062</td>\n",
              "      <td>8545</td>\n",
              "      <td>An intermittently pleasing but mostly routine ...</td>\n",
              "    </tr>\n",
              "    <tr>\n",
              "      <th>2</th>\n",
              "      <td>156063</td>\n",
              "      <td>8545</td>\n",
              "      <td>An</td>\n",
              "    </tr>\n",
              "    <tr>\n",
              "      <th>3</th>\n",
              "      <td>156064</td>\n",
              "      <td>8545</td>\n",
              "      <td>intermittently pleasing but mostly routine effort</td>\n",
              "    </tr>\n",
              "    <tr>\n",
              "      <th>4</th>\n",
              "      <td>156065</td>\n",
              "      <td>8545</td>\n",
              "      <td>intermittently pleasing but mostly routine</td>\n",
              "    </tr>\n",
              "  </tbody>\n",
              "</table>\n",
              "</div>"
            ],
            "text/plain": [
              "   PhraseId  SentenceId                                             Phrase\n",
              "0    156061        8545  An intermittently pleasing but mostly routine ...\n",
              "1    156062        8545  An intermittently pleasing but mostly routine ...\n",
              "2    156063        8545                                                 An\n",
              "3    156064        8545  intermittently pleasing but mostly routine effort\n",
              "4    156065        8545         intermittently pleasing but mostly routine"
            ]
          },
          "metadata": {
            "tags": []
          },
          "execution_count": 110
        }
      ]
    },
    {
      "cell_type": "code",
      "metadata": {
        "id": "JRG9Wq05ldOO",
        "colab_type": "code",
        "colab": {
          "base_uri": "https://localhost:8080/",
          "height": 202
        },
        "outputId": "7f92cb9d-3200-40ee-a0f2-06ed99649247"
      },
      "source": [
        "sample_submission.head()"
      ],
      "execution_count": 111,
      "outputs": [
        {
          "output_type": "execute_result",
          "data": {
            "text/html": [
              "<div>\n",
              "<style scoped>\n",
              "    .dataframe tbody tr th:only-of-type {\n",
              "        vertical-align: middle;\n",
              "    }\n",
              "\n",
              "    .dataframe tbody tr th {\n",
              "        vertical-align: top;\n",
              "    }\n",
              "\n",
              "    .dataframe thead th {\n",
              "        text-align: right;\n",
              "    }\n",
              "</style>\n",
              "<table border=\"1\" class=\"dataframe\">\n",
              "  <thead>\n",
              "    <tr style=\"text-align: right;\">\n",
              "      <th></th>\n",
              "      <th>PhraseId</th>\n",
              "      <th>Sentiment</th>\n",
              "    </tr>\n",
              "  </thead>\n",
              "  <tbody>\n",
              "    <tr>\n",
              "      <th>0</th>\n",
              "      <td>156061</td>\n",
              "      <td>2</td>\n",
              "    </tr>\n",
              "    <tr>\n",
              "      <th>1</th>\n",
              "      <td>156062</td>\n",
              "      <td>2</td>\n",
              "    </tr>\n",
              "    <tr>\n",
              "      <th>2</th>\n",
              "      <td>156063</td>\n",
              "      <td>2</td>\n",
              "    </tr>\n",
              "    <tr>\n",
              "      <th>3</th>\n",
              "      <td>156064</td>\n",
              "      <td>2</td>\n",
              "    </tr>\n",
              "    <tr>\n",
              "      <th>4</th>\n",
              "      <td>156065</td>\n",
              "      <td>2</td>\n",
              "    </tr>\n",
              "  </tbody>\n",
              "</table>\n",
              "</div>"
            ],
            "text/plain": [
              "   PhraseId  Sentiment\n",
              "0    156061          2\n",
              "1    156062          2\n",
              "2    156063          2\n",
              "3    156064          2\n",
              "4    156065          2"
            ]
          },
          "metadata": {
            "tags": []
          },
          "execution_count": 111
        }
      ]
    },
    {
      "cell_type": "markdown",
      "metadata": {
        "id": "ns9flKGEldOS",
        "colab_type": "text"
      },
      "source": [
        "We can now submit our predictions to Kaggle !  In our example, without playing too much with the parameters, we get a score of ..., which leads us to the X position on the leaderboard! "
      ]
    },
    {
      "cell_type": "markdown",
      "metadata": {
        "id": "xGBcFpTMldOS",
        "colab_type": "text"
      },
      "source": [
        "## Conclusion\n",
        "\n",
        "In this NoteBook, I explain how to combine the ``transformers`` library with the beloved ``fastai`` library. It aims to make you understand where to look and modify both libraries to make them work together. Likely, it allows you to use **Slanted Triangular Learning Rates**, **Discriminate Learning Rate** and even **Gradual Unfreezing**. As a result, without even tunning the parameters, you can obtain rapidly state-of-the-art results.\n",
        "\n",
        "This year, the transformers became an essential tool to NLP. Because of that, I think that pre-trained transformers architectures will be integrated soon to future versions of fastai. Meanwhile, this tutorial is a good starter.\n",
        "\n",
        "I hope you enjoyed this first article and found it useful. \n",
        "Thanks for reading and don't hesitate in leaving questions or suggestions.\n"
      ]
    },
    {
      "cell_type": "markdown",
      "metadata": {
        "id": "bJxRbLAKldOS",
        "colab_type": "text"
      },
      "source": [
        "## References\n",
        "* Hugging Face, Transformers GitHub (Nov 2019), [https://github.com/huggingface/transformers](https://github.com/huggingface/transformers)\n",
        "* Fast.ai, Fastai documentation (Nov 2019), [https://docs.fast.ai/text.html](https://docs.fast.ai/text.html)\n",
        "* Jeremy Howard & Sebastian Ruder, Universal Language Model Fine-tuning for Text Classification (May 2018), [https://arxiv.org/abs/1801.06146](https://arxiv.org/abs/1801.06146)\n",
        "* Keita Kurita's article : [A Tutorial to Fine-Tuning BERT with Fast AI](https://mlexplained.com/2019/05/13/a-tutorial-to-fine-tuning-bert-with-fast-ai/) (May 2019)\n",
        "* Dev Sharma's article : [Using RoBERTa with Fastai for NLP](https://medium.com/analytics-vidhya/using-roberta-with-fastai-for-nlp-7ed3fed21f6c) (Sep 2019)"
      ]
    }
  ]
}